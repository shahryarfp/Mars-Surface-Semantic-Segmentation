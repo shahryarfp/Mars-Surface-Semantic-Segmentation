{
 "cells": [
  {
   "cell_type": "markdown",
   "id": "6a03e04f",
   "metadata": {
    "papermill": {
     "duration": 0.007919,
     "end_time": "2024-12-14T14:30:45.227641",
     "exception": false,
     "start_time": "2024-12-14T14:30:45.219722",
     "status": "completed"
    },
    "tags": []
   },
   "source": [
    "# Refining Semantic Segmentation Predictions Using a Second Model\r\n",
    "\r\n",
    "This notebook takes predictions from a previously trained semantic segmentation model (the \"first model\") and uses a \"second model\" to refine and improve those predictions. The second model attempts to correct misclassifications and produce more accurate segmentation masks.\r\n",
    "\r\n",
    "**Key Steps in this Notebook:**\r\n",
    "1. Load the first model and generate its predictions on the training dataset.\r\n",
    "2. Apply morphological operations and corrections to the first model's predictions.\r\n",
    "3. Prepare data for the second model by combining the raw images and refined first-model predictions.\r\n",
    "4. Train and evaluate the second model using a custom U-Net architecture with deep supervision.\r\n",
    "5. Predict on the test set and create a submission file.\r\n"
   ]
  },
  {
   "cell_type": "markdown",
   "id": "b76c4b49",
   "metadata": {
    "papermill": {
     "duration": 0.006733,
     "end_time": "2024-12-14T14:30:45.242509",
     "exception": false,
     "start_time": "2024-12-14T14:30:45.235776",
     "status": "completed"
    },
    "tags": []
   },
   "source": [
    "## Installation of Required Libraries\r\n",
    "\r\n",
    "We first ensure that all necessary packages, including `albumentations`, `segmentation-models`, and `pydensecrf` are installed.\r\n"
   ]
  },
  {
   "cell_type": "code",
   "execution_count": 1,
   "id": "093eb4d3",
   "metadata": {
    "execution": {
     "iopub.execute_input": "2024-12-14T14:30:45.258242Z",
     "iopub.status.busy": "2024-12-14T14:30:45.257514Z",
     "iopub.status.idle": "2024-12-14T14:31:57.497131Z",
     "shell.execute_reply": "2024-12-14T14:31:57.496082Z"
    },
    "papermill": {
     "duration": 72.250344,
     "end_time": "2024-12-14T14:31:57.499772",
     "exception": false,
     "start_time": "2024-12-14T14:30:45.249428",
     "status": "completed"
    },
    "tags": []
   },
   "outputs": [
    {
     "name": "stdout",
     "output_type": "stream",
     "text": [
      "Requirement already satisfied: albumentations in /opt/conda/lib/python3.10/site-packages (1.4.21)\r\n",
      "Requirement already satisfied: numpy>=1.24.4 in /opt/conda/lib/python3.10/site-packages (from albumentations) (1.26.4)\r\n",
      "Requirement already satisfied: scipy>=1.10.0 in /opt/conda/lib/python3.10/site-packages (from albumentations) (1.14.1)\r\n",
      "Requirement already satisfied: PyYAML in /opt/conda/lib/python3.10/site-packages (from albumentations) (6.0.2)\r\n",
      "Requirement already satisfied: pydantic>=2.7.0 in /opt/conda/lib/python3.10/site-packages (from albumentations) (2.10.1)\r\n",
      "Requirement already satisfied: albucore==0.0.20 in /opt/conda/lib/python3.10/site-packages (from albumentations) (0.0.20)\r\n",
      "Requirement already satisfied: eval-type-backport in /opt/conda/lib/python3.10/site-packages (from albumentations) (0.2.0)\r\n",
      "Requirement already satisfied: opencv-python-headless>=4.9.0.80 in /opt/conda/lib/python3.10/site-packages (from albumentations) (4.10.0.84)\r\n",
      "Requirement already satisfied: stringzilla>=3.10.4 in /opt/conda/lib/python3.10/site-packages (from albucore==0.0.20->albumentations) (3.10.10)\r\n",
      "Requirement already satisfied: simsimd>=5.9.2 in /opt/conda/lib/python3.10/site-packages (from albucore==0.0.20->albumentations) (6.2.0)\r\n",
      "Requirement already satisfied: annotated-types>=0.6.0 in /opt/conda/lib/python3.10/site-packages (from pydantic>=2.7.0->albumentations) (0.7.0)\r\n",
      "Requirement already satisfied: pydantic-core==2.27.1 in /opt/conda/lib/python3.10/site-packages (from pydantic>=2.7.0->albumentations) (2.27.1)\r\n",
      "Requirement already satisfied: typing-extensions>=4.12.2 in /opt/conda/lib/python3.10/site-packages (from pydantic>=2.7.0->albumentations) (4.12.2)\r\n",
      "Collecting segmentation-models\r\n",
      "  Downloading segmentation_models-1.0.1-py3-none-any.whl.metadata (938 bytes)\r\n",
      "Collecting keras-applications<=1.0.8,>=1.0.7 (from segmentation-models)\r\n",
      "  Downloading Keras_Applications-1.0.8-py3-none-any.whl.metadata (1.7 kB)\r\n",
      "Collecting image-classifiers==1.0.0 (from segmentation-models)\r\n",
      "  Downloading image_classifiers-1.0.0-py3-none-any.whl.metadata (8.6 kB)\r\n",
      "Collecting efficientnet==1.0.0 (from segmentation-models)\r\n",
      "  Downloading efficientnet-1.0.0-py3-none-any.whl.metadata (6.1 kB)\r\n",
      "Requirement already satisfied: scikit-image in /opt/conda/lib/python3.10/site-packages (from efficientnet==1.0.0->segmentation-models) (0.23.2)\r\n",
      "Requirement already satisfied: numpy>=1.9.1 in /opt/conda/lib/python3.10/site-packages (from keras-applications<=1.0.8,>=1.0.7->segmentation-models) (1.26.4)\r\n",
      "Requirement already satisfied: h5py in /opt/conda/lib/python3.10/site-packages (from keras-applications<=1.0.8,>=1.0.7->segmentation-models) (3.11.0)\r\n",
      "Requirement already satisfied: scipy>=1.9 in /opt/conda/lib/python3.10/site-packages (from scikit-image->efficientnet==1.0.0->segmentation-models) (1.14.1)\r\n",
      "Requirement already satisfied: networkx>=2.8 in /opt/conda/lib/python3.10/site-packages (from scikit-image->efficientnet==1.0.0->segmentation-models) (3.3)\r\n",
      "Requirement already satisfied: pillow>=9.1 in /opt/conda/lib/python3.10/site-packages (from scikit-image->efficientnet==1.0.0->segmentation-models) (10.3.0)\r\n",
      "Requirement already satisfied: imageio>=2.33 in /opt/conda/lib/python3.10/site-packages (from scikit-image->efficientnet==1.0.0->segmentation-models) (2.34.1)\r\n",
      "Requirement already satisfied: tifffile>=2022.8.12 in /opt/conda/lib/python3.10/site-packages (from scikit-image->efficientnet==1.0.0->segmentation-models) (2024.5.22)\r\n",
      "Requirement already satisfied: packaging>=21 in /opt/conda/lib/python3.10/site-packages (from scikit-image->efficientnet==1.0.0->segmentation-models) (21.3)\r\n",
      "Requirement already satisfied: lazy-loader>=0.4 in /opt/conda/lib/python3.10/site-packages (from scikit-image->efficientnet==1.0.0->segmentation-models) (0.4)\r\n",
      "Requirement already satisfied: pyparsing!=3.0.5,>=2.0.2 in /opt/conda/lib/python3.10/site-packages (from packaging>=21->scikit-image->efficientnet==1.0.0->segmentation-models) (3.1.2)\r\n",
      "Downloading segmentation_models-1.0.1-py3-none-any.whl (33 kB)\r\n",
      "Downloading efficientnet-1.0.0-py3-none-any.whl (17 kB)\r\n",
      "Downloading image_classifiers-1.0.0-py3-none-any.whl (19 kB)\r\n",
      "Downloading Keras_Applications-1.0.8-py3-none-any.whl (50 kB)\r\n",
      "\u001b[2K   \u001b[90m━━━━━━━━━━━━━━━━━━━━━━━━━━━━━━━━━━━━━━━━\u001b[0m \u001b[32m50.7/50.7 kB\u001b[0m \u001b[31m3.2 MB/s\u001b[0m eta \u001b[36m0:00:00\u001b[0m\r\n",
      "\u001b[?25hInstalling collected packages: keras-applications, image-classifiers, efficientnet, segmentation-models\r\n",
      "Successfully installed efficientnet-1.0.0 image-classifiers-1.0.0 keras-applications-1.0.8 segmentation-models-1.0.1\r\n",
      "Requirement already satisfied: cython in /opt/conda/lib/python3.10/site-packages (3.0.10)\r\n",
      "Collecting git+https://github.com/lucasb-eyer/pydensecrf.git\r\n",
      "  Cloning https://github.com/lucasb-eyer/pydensecrf.git to /tmp/pip-req-build-ibh40da8\r\n",
      "  Running command git clone --filter=blob:none --quiet https://github.com/lucasb-eyer/pydensecrf.git /tmp/pip-req-build-ibh40da8\r\n",
      "  Resolved https://github.com/lucasb-eyer/pydensecrf.git to commit 2723c7fa4f2ead16ae1ce3d8afe977724bb8f87f\r\n",
      "  Installing build dependencies ... \u001b[?25l-\b \b\\\b \b|\b \b/\b \b-\b \b\\\b \bdone\r\n",
      "\u001b[?25h  Getting requirements to build wheel ... \u001b[?25l-\b \b\\\b \b|\b \b/\b \bdone\r\n",
      "\u001b[?25h  Preparing metadata (pyproject.toml) ... \u001b[?25l-\b \bdone\r\n",
      "\u001b[?25hBuilding wheels for collected packages: pydensecrf\r\n",
      "  Building wheel for pydensecrf (pyproject.toml) ... \u001b[?25l-\b \b\\\b \b|\b \b/\b \b-\b \b\\\b \b|\b \b/\b \b-\b \b\\\b \b|\b \b/\b \b-\b \b\\\b \b|\b \b/\b \b-\b \b\\\b \bdone\r\n",
      "\u001b[?25h  Created wheel for pydensecrf: filename=pydensecrf-1.0-cp310-cp310-linux_x86_64.whl size=270354 sha256=b515997a1968ff5c0352f064db79a6106c8dfe72b9dbf305c517dbcd0d235f03\r\n",
      "  Stored in directory: /tmp/pip-ephem-wheel-cache-ntno2_e2/wheels/01/5b/61/87443ed3bf03dd2940375cf2f8b6fba88efece935465e490b0\r\n",
      "Successfully built pydensecrf\r\n",
      "Installing collected packages: pydensecrf\r\n",
      "Successfully installed pydensecrf-1.0\r\n"
     ]
    }
   ],
   "source": [
    "!pip install albumentations\n",
    "!pip install segmentation-models\n",
    "!pip install cython\n",
    "!pip install git+https://github.com/lucasb-eyer/pydensecrf.git"
   ]
  },
  {
   "cell_type": "markdown",
   "id": "fa924770",
   "metadata": {
    "papermill": {
     "duration": 0.009281,
     "end_time": "2024-12-14T14:31:57.518787",
     "exception": false,
     "start_time": "2024-12-14T14:31:57.509506",
     "status": "completed"
    },
    "tags": []
   },
   "source": [
    "## Import Libraries\r\n",
    "\r\n",
    "Here we import the libraries for data handling, modeling, and image processing:\r\n",
    "- TensorFlow/Keras for deep learning\r\n",
    "- Albumentations for augmentation\r\n",
    "- Segmentation Models for segmentation backbones and utilities\r\n",
    "- CV2 for image processing\r\n",
    "- Seaborn and Matplotlib for visualization\r\n"
   ]
  },
  {
   "cell_type": "code",
   "execution_count": 2,
   "id": "ca3713ef",
   "metadata": {
    "_cell_guid": "b1076dfc-b9ad-4769-8c92-a6c4dae69d19",
    "_uuid": "8f2839f25d086af736a60e9eeb907d3b93b6e0e5",
    "execution": {
     "iopub.execute_input": "2024-12-14T14:31:57.539319Z",
     "iopub.status.busy": "2024-12-14T14:31:57.538687Z",
     "iopub.status.idle": "2024-12-14T14:32:21.817854Z",
     "shell.execute_reply": "2024-12-14T14:32:21.816935Z"
    },
    "papermill": {
     "duration": 24.291765,
     "end_time": "2024-12-14T14:32:21.819905",
     "exception": false,
     "start_time": "2024-12-14T14:31:57.528140",
     "status": "completed"
    },
    "tags": []
   },
   "outputs": [
    {
     "name": "stderr",
     "output_type": "stream",
     "text": [
      "/opt/conda/lib/python3.10/site-packages/albumentations/__init__.py:24: UserWarning: A new version of Albumentations is available: 1.4.22 (you have 1.4.21). Upgrade using: pip install -U albumentations. To disable automatic update checks, set the environment variable NO_ALBUMENTATIONS_UPDATE to 1.\n",
      "  check_for_updates()\n"
     ]
    },
    {
     "name": "stdout",
     "output_type": "stream",
     "text": [
      "Segmentation Models: using `tf.keras` framework.\n"
     ]
    }
   ],
   "source": [
    "import tensorflow as tf\n",
    "import pandas as pd\n",
    "from tensorflow.keras.preprocessing.image import ImageDataGenerator\n",
    "from tensorflow.keras.callbacks import ReduceLROnPlateau, EarlyStopping\n",
    "from tensorflow.keras.optimizers import Adam\n",
    "from tensorflow.keras import layers, models, Input\n",
    "from tensorflow.keras.models import Model\n",
    "from tensorflow.keras.layers import (Conv2D, Conv2DTranspose, BatchNormalization,\n",
    "                                     Activation, Add, Concatenate, GlobalAveragePooling2D, Dense, Multiply, MaxPooling2D, Reshape)\n",
    "import numpy as np\n",
    "from sklearn.model_selection import train_test_split\n",
    "from keras_cv.layers import RandomFlip, RandomRotation, RandomZoom\n",
    "import tensorflow_probability as tfp\n",
    "import keras_cv\n",
    "import matplotlib.pyplot as plt\n",
    "import albumentations as A\n",
    "from albumentations.pytorch import ToTensorV2\n",
    "from tensorflow.keras.utils import Sequence\n",
    "import tensorflow.keras.backend as K\n",
    "from tensorflow.keras.applications import ResNet50\n",
    "from tensorflow.keras.applications import EfficientNetB3\n",
    "\n",
    "import os\n",
    "from datetime import datetime\n",
    "os.environ[\"SM_FRAMEWORK\"] = \"tf.keras\"\n",
    "import segmentation_models as sm\n",
    "from sklearn.metrics import confusion_matrix, classification_report\n",
    "import seaborn as sns\n",
    "from sklearn.utils.class_weight import compute_class_weight\n",
    "import cv2\n",
    "import pydensecrf.densecrf as dcrf\n",
    "from pydensecrf.utils import unary_from_softmax\n",
    "from tqdm import tqdm"
   ]
  },
  {
   "cell_type": "code",
   "execution_count": 3,
   "id": "3fcedcc4",
   "metadata": {
    "execution": {
     "iopub.execute_input": "2024-12-14T14:32:21.840993Z",
     "iopub.status.busy": "2024-12-14T14:32:21.840529Z",
     "iopub.status.idle": "2024-12-14T14:32:21.845125Z",
     "shell.execute_reply": "2024-12-14T14:32:21.844277Z"
    },
    "papermill": {
     "duration": 0.01676,
     "end_time": "2024-12-14T14:32:21.846715",
     "exception": false,
     "start_time": "2024-12-14T14:32:21.829955",
     "status": "completed"
    },
    "tags": []
   },
   "outputs": [],
   "source": [
    "# Set random seeds for reproducibility\n",
    "np.random.seed(42)\n",
    "tf.random.set_seed(42)"
   ]
  },
  {
   "cell_type": "markdown",
   "id": "d30dd4fb",
   "metadata": {
    "papermill": {
     "duration": 0.009181,
     "end_time": "2024-12-14T14:32:21.865734",
     "exception": false,
     "start_time": "2024-12-14T14:32:21.856553",
     "status": "completed"
    },
    "tags": []
   },
   "source": [
    "## Dataset Description\r\n",
    "\r\n",
    "We are dealing with Mars surface images of size 64x128 pixels. Each pixel is annotated with one of the following classes:\r\n",
    "- Class 0: Background\r\n",
    "- Class 1: Soil\r\n",
    "- Class 2: Bedrock\r\n",
    "- Class 3: Sand\r\n",
    "- Class 4: Big Rock\r\n",
    "\r\n",
    "We will load our training and test sets and later refine them for the second model.\r\n"
   ]
  },
  {
   "cell_type": "markdown",
   "id": "6c29229a",
   "metadata": {
    "papermill": {
     "duration": 0.009274,
     "end_time": "2024-12-14T14:32:21.884482",
     "exception": false,
     "start_time": "2024-12-14T14:32:21.875208",
     "status": "completed"
    },
    "tags": []
   },
   "source": [
    "## Import Data"
   ]
  },
  {
   "cell_type": "markdown",
   "id": "f8df6723",
   "metadata": {
    "papermill": {
     "duration": 0.009367,
     "end_time": "2024-12-14T14:32:21.903219",
     "exception": false,
     "start_time": "2024-12-14T14:32:21.893852",
     "status": "completed"
    },
    "tags": []
   },
   "source": [
    "### Load Cleaned Training Data\r\n",
    "\r\n",
    "We load a pre-processed (cleaned) training set that has been prepared beforehand. This dataset includes images and their corresponding labels.\r\n"
   ]
  },
  {
   "cell_type": "code",
   "execution_count": 4,
   "id": "3cb15845",
   "metadata": {
    "execution": {
     "iopub.execute_input": "2024-12-14T14:32:21.923345Z",
     "iopub.status.busy": "2024-12-14T14:32:21.923063Z",
     "iopub.status.idle": "2024-12-14T14:32:22.281311Z",
     "shell.execute_reply": "2024-12-14T14:32:22.280391Z"
    },
    "papermill": {
     "duration": 0.370538,
     "end_time": "2024-12-14T14:32:22.283129",
     "exception": false,
     "start_time": "2024-12-14T14:32:21.912591",
     "status": "completed"
    },
    "tags": []
   },
   "outputs": [
    {
     "data": {
      "text/plain": [
       "((2505, 64, 128), (2505, 64, 128), 254)"
      ]
     },
     "execution_count": 4,
     "metadata": {},
     "output_type": "execute_result"
    }
   ],
   "source": [
    "data_main = np.load(\"/kaggle/input/mars-dataset/cleaned_training_set.npz\")\n",
    "train_images, train_labels = data_main['images'], data_main['labels']\n",
    "\n",
    "train_images.shape, train_labels.shape, train_images.max()"
   ]
  },
  {
   "cell_type": "markdown",
   "id": "484418df",
   "metadata": {
    "papermill": {
     "duration": 0.009757,
     "end_time": "2024-12-14T14:32:22.303180",
     "exception": false,
     "start_time": "2024-12-14T14:32:22.293423",
     "status": "completed"
    },
    "tags": []
   },
   "source": [
    "### Load Test Data\r\n",
    "\r\n",
    "We also load the test data on which we will ultimately submit predictions. No labels are provided for the test set; we will apply our final model to generate segmentation masks.\r\n"
   ]
  },
  {
   "cell_type": "code",
   "execution_count": 5,
   "id": "8e7180ee",
   "metadata": {
    "execution": {
     "iopub.execute_input": "2024-12-14T14:32:22.323477Z",
     "iopub.status.busy": "2024-12-14T14:32:22.323203Z",
     "iopub.status.idle": "2024-12-14T14:32:24.366869Z",
     "shell.execute_reply": "2024-12-14T14:32:24.366013Z"
    },
    "papermill": {
     "duration": 2.055831,
     "end_time": "2024-12-14T14:32:24.368558",
     "exception": false,
     "start_time": "2024-12-14T14:32:22.312727",
     "status": "completed"
    },
    "tags": []
   },
   "outputs": [
    {
     "data": {
      "text/plain": [
       "((10022, 64, 128), 255, 254.0)"
      ]
     },
     "execution_count": 5,
     "metadata": {},
     "output_type": "execute_result"
    }
   ],
   "source": [
    "# Load and clean data from the kaggle input\n",
    "data = np.load(\"/kaggle/input/mars-dataset/mars_for_students.npz\")\n",
    "test = data['test_set']\n",
    "image_ratio = test.shape[1] / test.shape[2]\n",
    "test.shape, test.max(), data['training_set'].max()"
   ]
  },
  {
   "cell_type": "markdown",
   "id": "fef8309f",
   "metadata": {
    "papermill": {
     "duration": 0.009687,
     "end_time": "2024-12-14T14:32:24.388643",
     "exception": false,
     "start_time": "2024-12-14T14:32:24.378956",
     "status": "completed"
    },
    "tags": []
   },
   "source": [
    "## Load the First Model\r\n",
    "\r\n",
    "The first model is a pre-trained semantic segmentation model. We will use its predictions as a starting point. Our second model will then refine these predictions to produce improved segmentation maps.\r\n"
   ]
  },
  {
   "cell_type": "code",
   "execution_count": 6,
   "id": "56608b1f",
   "metadata": {
    "execution": {
     "iopub.execute_input": "2024-12-14T14:32:24.409006Z",
     "iopub.status.busy": "2024-12-14T14:32:24.408729Z",
     "iopub.status.idle": "2024-12-14T14:32:43.314660Z",
     "shell.execute_reply": "2024-12-14T14:32:43.313798Z"
    },
    "papermill": {
     "duration": 18.917974,
     "end_time": "2024-12-14T14:32:43.316330",
     "exception": false,
     "start_time": "2024-12-14T14:32:24.398356",
     "status": "completed"
    },
    "tags": []
   },
   "outputs": [
    {
     "name": "stdout",
     "output_type": "stream",
     "text": [
      "First model is loaded!\n"
     ]
    }
   ],
   "source": [
    "def mean_IoU_model1(y_true, y_pred, num_classes=5):\n",
    "    y_pred = K.argmax(y_pred, axis=-1)\n",
    "    y_pred = K.cast(y_pred, 'int32')\n",
    "    y_true = K.cast(y_true, 'int32')\n",
    "    iou = 0.0\n",
    "    for c in range(num_classes):\n",
    "        y_true_c = K.cast(K.equal(y_true, c), 'float32')\n",
    "        y_pred_c = K.cast(K.equal(y_pred, c), 'float32')\n",
    "        intersection = K.sum(y_true_c * y_pred_c)\n",
    "        union = K.sum(y_true_c) + K.sum(y_pred_c) - intersection\n",
    "        iou_class = (intersection + 1e-6) / (union + 1e-6)\n",
    "        iou += iou_class\n",
    "    mean_iou_value = iou / num_classes\n",
    "    return mean_iou_value\n",
    "\n",
    "\n",
    "def focal_loss_model1(gamma=2., alpha=.25):\n",
    "    def focal_loss_fixed(y_true, y_pred):\n",
    "        y_true = tf.cast(y_true, tf.int32)\n",
    "        y_true_one_hot = tf.one_hot(y_true, depth=tf.shape(y_pred)[-1])\n",
    "        epsilon = K.epsilon()\n",
    "        y_pred = K.clip(y_pred, epsilon, 1. - epsilon)\n",
    "        cross_entropy = -y_true_one_hot * K.log(y_pred)\n",
    "        weight = alpha * K.pow(1 - y_pred, gamma)\n",
    "        loss = weight * cross_entropy\n",
    "        loss = K.sum(loss, axis=-1)\n",
    "        return loss\n",
    "\n",
    "    return focal_loss_fixed\n",
    "    \n",
    "first_model = tf.keras.models.load_model(\n",
    "    \"/kaggle/input/mars-dataset/model_241213_130709.keras\", \n",
    "    custom_objects={'mean_IoU': mean_IoU_model1, 'focal_loss_fixed': focal_loss_model1}\n",
    ")\n",
    "print(\"First model is loaded!\")"
   ]
  },
  {
   "cell_type": "markdown",
   "id": "ab062beb",
   "metadata": {
    "papermill": {
     "duration": 0.009669,
     "end_time": "2024-12-14T14:32:43.336310",
     "exception": false,
     "start_time": "2024-12-14T14:32:43.326641",
     "status": "completed"
    },
    "tags": []
   },
   "source": [
    "## Generate Predictions from the First Model\r\n",
    "\r\n",
    "We run the first model on the training images to get initial segmentation predictions. We then apply morphological operations to clean up these predictions.\r\n"
   ]
  },
  {
   "cell_type": "code",
   "execution_count": 7,
   "id": "98a3bb2b",
   "metadata": {
    "execution": {
     "iopub.execute_input": "2024-12-14T14:32:43.356862Z",
     "iopub.status.busy": "2024-12-14T14:32:43.356586Z",
     "iopub.status.idle": "2024-12-14T14:33:05.993855Z",
     "shell.execute_reply": "2024-12-14T14:33:05.992917Z"
    },
    "papermill": {
     "duration": 22.649641,
     "end_time": "2024-12-14T14:33:05.995631",
     "exception": false,
     "start_time": "2024-12-14T14:32:43.345990",
     "status": "completed"
    },
    "tags": []
   },
   "outputs": [
    {
     "name": "stderr",
     "output_type": "stream",
     "text": [
      "WARNING: All log messages before absl::InitializeLog() is called are written to STDERR\n",
      "I0000 00:00:1734186764.555235     160 service.cc:145] XLA service 0x7ef720002400 initialized for platform CUDA (this does not guarantee that XLA will be used). Devices:\n",
      "I0000 00:00:1734186764.555286     160 service.cc:153]   StreamExecutor device (0): Tesla T4, Compute Capability 7.5\n",
      "I0000 00:00:1734186764.555290     160 service.cc:153]   StreamExecutor device (1): Tesla T4, Compute Capability 7.5\n"
     ]
    },
    {
     "name": "stdout",
     "output_type": "stream",
     "text": [
      "\u001b[1m 3/79\u001b[0m \u001b[37m━━━━━━━━━━━━━━━━━━━━\u001b[0m \u001b[1m4s\u001b[0m 63ms/step  "
     ]
    },
    {
     "name": "stderr",
     "output_type": "stream",
     "text": [
      "I0000 00:00:1734186774.133786     160 device_compiler.h:188] Compiled cluster using XLA!  This line is logged at most once for the lifetime of the process.\n"
     ]
    },
    {
     "name": "stdout",
     "output_type": "stream",
     "text": [
      "\u001b[1m79/79\u001b[0m \u001b[32m━━━━━━━━━━━━━━━━━━━━\u001b[0m\u001b[37m\u001b[0m \u001b[1m21s\u001b[0m 137ms/step\n",
      "Predictions shape: (2505, 64, 128)\n"
     ]
    }
   ],
   "source": [
    "X_train = np.expand_dims(train_images, axis=-1)\n",
    "X_train = X_train.astype(np.float32) / 255.0\n",
    "\n",
    "first_model_preds_temp = first_model.predict(X_train)[-1]\n",
    "first_model_preds_temp = np.argmax(first_model_preds_temp, axis=-1)\n",
    "print(f\"Predictions shape: {first_model_preds_temp.shape}\")"
   ]
  },
  {
   "cell_type": "code",
   "execution_count": 8,
   "id": "a98b2ff3",
   "metadata": {
    "execution": {
     "iopub.execute_input": "2024-12-14T14:33:06.024380Z",
     "iopub.status.busy": "2024-12-14T14:33:06.024085Z",
     "iopub.status.idle": "2024-12-14T14:33:06.284078Z",
     "shell.execute_reply": "2024-12-14T14:33:06.283186Z"
    },
    "papermill": {
     "duration": 0.276141,
     "end_time": "2024-12-14T14:33:06.285769",
     "exception": false,
     "start_time": "2024-12-14T14:33:06.009628",
     "status": "completed"
    },
    "tags": []
   },
   "outputs": [
    {
     "data": {
      "text/plain": [
       "<matplotlib.image.AxesImage at 0x7ef787f435e0>"
      ]
     },
     "execution_count": 8,
     "metadata": {},
     "output_type": "execute_result"
    },
    {
     "data": {
      "image/png": "[encoded data removed]",
      "text/plain": [
       "<Figure size 640x480 with 1 Axes>"
      ]
     },
     "metadata": {},
     "output_type": "display_data"
    }
   ],
   "source": [
    "plt.imshow(first_model_preds_temp[24])"
   ]
  },
  {
   "cell_type": "markdown",
   "id": "3b88108c",
   "metadata": {
    "papermill": {
     "duration": 0.013658,
     "end_time": "2024-12-14T14:33:06.313253",
     "exception": false,
     "start_time": "2024-12-14T14:33:06.299595",
     "status": "completed"
    },
    "tags": []
   },
   "source": [
    "### Morphological Cleaning\r\n",
    "\r\n",
    "We apply opening and closing operations to the predicted masks to remove small noise and fill small holes, improving the quality of the first model's predictions.\r\n"
   ]
  },
  {
   "cell_type": "code",
   "execution_count": 9,
   "id": "c05aa235",
   "metadata": {
    "execution": {
     "iopub.execute_input": "2024-12-14T14:33:06.341679Z",
     "iopub.status.busy": "2024-12-14T14:33:06.341423Z",
     "iopub.status.idle": "2024-12-14T14:33:06.499663Z",
     "shell.execute_reply": "2024-12-14T14:33:06.498824Z"
    },
    "papermill": {
     "duration": 0.174326,
     "end_time": "2024-12-14T14:33:06.501638",
     "exception": false,
     "start_time": "2024-12-14T14:33:06.327312",
     "status": "completed"
    },
    "tags": []
   },
   "outputs": [
    {
     "name": "stderr",
     "output_type": "stream",
     "text": [
      "Processing Masks: 100%|██████████| 2505/2505 [00:00<00:00, 16815.53it/s]\n"
     ]
    }
   ],
   "source": [
    "def apply_morphology(mask):\n",
    "    kernel = np.ones((3,3), np.uint8)\n",
    "    # Opening to remove small objects\n",
    "    mask_clean = cv2.morphologyEx(mask.astype(np.uint8), cv2.MORPH_OPEN, kernel)\n",
    "    # Closing to fill small holes\n",
    "    mask_clean = cv2.morphologyEx(mask_clean, cv2.MORPH_CLOSE, kernel)\n",
    "    return mask_clean\n",
    "\n",
    "first_model_preds = np.empty_like(first_model_preds_temp)\n",
    "\n",
    "# Iterate over each mask with a progress bar\n",
    "for i in tqdm(range(first_model_preds_temp.shape[0]), desc=\"Processing Masks\"):\n",
    "    mask = first_model_preds_temp[i]\n",
    "    first_model_pred = apply_morphology(mask)\n",
    "    first_model_preds[i] = first_model_pred"
   ]
  },
  {
   "cell_type": "code",
   "execution_count": 10,
   "id": "d37a9382",
   "metadata": {
    "execution": {
     "iopub.execute_input": "2024-12-14T14:33:06.532410Z",
     "iopub.status.busy": "2024-12-14T14:33:06.532122Z",
     "iopub.status.idle": "2024-12-14T14:33:06.758960Z",
     "shell.execute_reply": "2024-12-14T14:33:06.758000Z"
    },
    "papermill": {
     "duration": 0.244246,
     "end_time": "2024-12-14T14:33:06.760629",
     "exception": false,
     "start_time": "2024-12-14T14:33:06.516383",
     "status": "completed"
    },
    "tags": []
   },
   "outputs": [
    {
     "data": {
      "text/plain": [
       "<matplotlib.image.AxesImage at 0x7ef76843cdf0>"
      ]
     },
     "execution_count": 10,
     "metadata": {},
     "output_type": "execute_result"
    },
    {
     "data": {
      "image/png": "[encoded data removed]",
      "text/plain": [
       "<Figure size 640x480 with 1 Axes>"
      ]
     },
     "metadata": {},
     "output_type": "display_data"
    }
   ],
   "source": [
    "plt.imshow(first_model_preds[24])"
   ]
  },
  {
   "cell_type": "markdown",
   "id": "d0133ae5",
   "metadata": {
    "papermill": {
     "duration": 0.013793,
     "end_time": "2024-12-14T14:33:06.788844",
     "exception": false,
     "start_time": "2024-12-14T14:33:06.775051",
     "status": "completed"
    },
    "tags": []
   },
   "source": [
    "# Preprocessing\n",
    "making data ready for the second model"
   ]
  },
  {
   "cell_type": "markdown",
   "id": "0a106560",
   "metadata": {
    "papermill": {
     "duration": 0.013719,
     "end_time": "2024-12-14T14:33:06.816760",
     "exception": false,
     "start_time": "2024-12-14T14:33:06.803041",
     "status": "completed"
    },
    "tags": []
   },
   "source": [
    "### Keeping Background classes only\n",
    "because the first model was biased on this class"
   ]
  },
  {
   "cell_type": "code",
   "execution_count": 11,
   "id": "e623ce24",
   "metadata": {
    "execution": {
     "iopub.execute_input": "2024-12-14T14:33:06.846519Z",
     "iopub.status.busy": "2024-12-14T14:33:06.846225Z",
     "iopub.status.idle": "2024-12-14T14:33:08.326491Z",
     "shell.execute_reply": "2024-12-14T14:33:08.325650Z"
    },
    "papermill": {
     "duration": 1.497816,
     "end_time": "2024-12-14T14:33:08.328424",
     "exception": false,
     "start_time": "2024-12-14T14:33:06.830608",
     "status": "completed"
    },
    "tags": []
   },
   "outputs": [
    {
     "name": "stdout",
     "output_type": "stream",
     "text": [
      "(2505, 64, 128)\n",
      "Unique values in first_model_preds_background: [-1  0]\n"
     ]
    }
   ],
   "source": [
    "first_model_preds_signed = first_model_preds.astype(np.int16)\n",
    "first_model_preds_background = np.where(first_model_preds_signed == 0, 0, -1)\n",
    "print(first_model_preds_background.shape)\n",
    "print(f\"Unique values in first_model_preds_background: {np.unique(first_model_preds_background)}\")"
   ]
  },
  {
   "cell_type": "markdown",
   "id": "7b414070",
   "metadata": {
    "papermill": {
     "duration": 0.013917,
     "end_time": "2024-12-14T14:33:08.357289",
     "exception": false,
     "start_time": "2024-12-14T14:33:08.343372",
     "status": "completed"
    },
    "tags": []
   },
   "source": [
    "### Correcting Background Classes\r\n",
    "\r\n",
    "If the first model incorrectly assigned the background class (0) where there should be another class, we fix this by using the ground-truth labels.\r\n"
   ]
  },
  {
   "cell_type": "code",
   "execution_count": 12,
   "id": "5bd390c8",
   "metadata": {
    "execution": {
     "iopub.execute_input": "2024-12-14T14:33:08.388683Z",
     "iopub.status.busy": "2024-12-14T14:33:08.388392Z",
     "iopub.status.idle": "2024-12-14T14:33:09.904848Z",
     "shell.execute_reply": "2024-12-14T14:33:09.903809Z"
    },
    "papermill": {
     "duration": 1.534499,
     "end_time": "2024-12-14T14:33:09.906973",
     "exception": false,
     "start_time": "2024-12-14T14:33:08.372474",
     "status": "completed"
    },
    "tags": []
   },
   "outputs": [
    {
     "name": "stdout",
     "output_type": "stream",
     "text": [
      "Unique values in corrected masks: [-1  0  1  2  3  4]\n"
     ]
    }
   ],
   "source": [
    "assert first_model_preds_background.shape == train_labels.shape, \\\n",
    "    f\"Shape mismatch: first_model_preds_background.shape = {first_model_preds_background.shape}, train_labels.shape = {train_labels.shape}\"\n",
    "\n",
    "first_model_preds_background_corrected = first_model_preds_background.copy()\n",
    "mask = (first_model_preds_background == 0) & (train_labels != 0)\n",
    "first_model_preds_background_corrected[mask] = train_labels[mask]\n",
    "\n",
    "print(f\"Unique values in corrected masks: {np.unique(first_model_preds_background_corrected)}\")"
   ]
  },
  {
   "cell_type": "code",
   "execution_count": 13,
   "id": "af6e8352",
   "metadata": {
    "execution": {
     "iopub.execute_input": "2024-12-14T14:33:09.938421Z",
     "iopub.status.busy": "2024-12-14T14:33:09.938134Z",
     "iopub.status.idle": "2024-12-14T14:33:10.526042Z",
     "shell.execute_reply": "2024-12-14T14:33:10.525173Z"
    },
    "papermill": {
     "duration": 0.606057,
     "end_time": "2024-12-14T14:33:10.528511",
     "exception": false,
     "start_time": "2024-12-14T14:33:09.922454",
     "status": "completed"
    },
    "tags": []
   },
   "outputs": [
    {
     "data": {
      "image/png": "[encoded data removed]",
      "text/plain": [
       "<Figure size 1800x600 with 6 Axes>"
      ]
     },
     "metadata": {},
     "output_type": "display_data"
    },
    {
     "name": "stdout",
     "output_type": "stream",
     "text": [
      "(2505, 64, 128)\n"
     ]
    }
   ],
   "source": [
    "def visualize_correction(index=0, \n",
    "                         first_model_preds_background=None, \n",
    "                         train_labels=None, \n",
    "                         corrected_masks=None):\n",
    "\n",
    "    # Extract the masks for the given index\n",
    "    original_mask = first_model_preds_background[index]\n",
    "    label_mask = train_labels[index]\n",
    "    corrected_mask = corrected_masks[index]\n",
    "    \n",
    "    # Compute unique values for each mask\n",
    "    unique_original = np.unique(original_mask)\n",
    "    unique_labels = np.unique(label_mask)\n",
    "    unique_corrected = np.unique(corrected_mask)\n",
    "    \n",
    "    # Prepare titles with unique values\n",
    "    title_original = f'First model\\'s original predicted Mask {index}\\nUnique: {unique_original}'\n",
    "    title_labels = f'Correct Labels {index}\\nUnique: {unique_labels}'\n",
    "    title_corrected = f'Corrected Mask {index}\\nUnique: {unique_corrected}'\n",
    "    \n",
    "    # Create subplots\n",
    "    fig, axes = plt.subplots(1, 3, figsize=(18, 6))\n",
    "    \n",
    "    # Display Original Mask\n",
    "    im0 = axes[0].imshow(original_mask, cmap='gray', interpolation='none')\n",
    "    axes[0].set_title(title_original)\n",
    "    axes[0].axis('off')\n",
    "    plt.colorbar(im0, ax=axes[0], fraction=0.046, pad=0.04)\n",
    "    \n",
    "    # Display Train Labels\n",
    "    im1 = axes[1].imshow(label_mask, cmap='jet', interpolation='none')\n",
    "    axes[1].set_title(title_labels)\n",
    "    axes[1].axis('off')\n",
    "    plt.colorbar(im1, ax=axes[1], fraction=0.046, pad=0.04)\n",
    "    \n",
    "    # Display Corrected Mask\n",
    "    im2 = axes[2].imshow(corrected_mask, cmap='jet', interpolation='none')\n",
    "    axes[2].set_title(title_corrected)\n",
    "    axes[2].axis('off')\n",
    "    plt.colorbar(im2, ax=axes[2], fraction=0.046, pad=0.04)\n",
    "    \n",
    "    plt.tight_layout()\n",
    "    plt.show()\n",
    "\n",
    "visualize_correction(index=88, \n",
    "                     first_model_preds_background=first_model_preds_background, \n",
    "                     train_labels=train_labels, \n",
    "                     corrected_masks=first_model_preds_background_corrected)\n",
    "\n",
    "print(first_model_preds_background_corrected.shape)"
   ]
  },
  {
   "cell_type": "markdown",
   "id": "c8bbf924",
   "metadata": {
    "papermill": {
     "duration": 0.01488,
     "end_time": "2024-12-14T14:33:10.558938",
     "exception": false,
     "start_time": "2024-12-14T14:33:10.544058",
     "status": "completed"
    },
    "tags": []
   },
   "source": [
    "## Data splitting and Preparation for the Second Model\r\n",
    "\r\n",
    "We now combine:\r\n",
    "- The original grayscale image (normalized)\r\n",
    "- The cleaned background predictions from the first model\r\n",
    "\r\n",
    "This gives us a two-channel input for the second model: one channel for the original image and one for the refined background. We then split the data into training and validatio. sets.\r\n"
   ]
  },
  {
   "cell_type": "code",
   "execution_count": 14,
   "id": "de698ac2",
   "metadata": {
    "execution": {
     "iopub.execute_input": "2024-12-14T14:33:10.590234Z",
     "iopub.status.busy": "2024-12-14T14:33:10.589929Z",
     "iopub.status.idle": "2024-12-14T14:33:11.367096Z",
     "shell.execute_reply": "2024-12-14T14:33:11.366253Z"
    },
    "papermill": {
     "duration": 0.794625,
     "end_time": "2024-12-14T14:33:11.368765",
     "exception": false,
     "start_time": "2024-12-14T14:33:10.574140",
     "status": "completed"
    },
    "tags": []
   },
   "outputs": [
    {
     "name": "stdout",
     "output_type": "stream",
     "text": [
      "X_train Shape: (2129, 64, 128, 2)\n",
      "X_valid Shape: (376, 64, 128, 2)\n",
      "y_train Shape: (2129, 64, 128)\n",
      "y_valid Shape: (376, 64, 128)\n",
      "Class distributions in the training set:\n"
     ]
    },
    {
     "data": {
      "image/png": "[encoded data removed]",
      "text/plain": [
       "<Figure size 800x600 with 1 Axes>"
      ]
     },
     "metadata": {},
     "output_type": "display_data"
    },
    {
     "name": "stdout",
     "output_type": "stream",
     "text": [
      "Class distributions in the validation set:\n"
     ]
    },
    {
     "data": {
      "image/png": "[encoded data removed]",
      "text/plain": [
       "<Figure size 800x600 with 1 Axes>"
      ]
     },
     "metadata": {},
     "output_type": "display_data"
    }
   ],
   "source": [
    "import numpy as np\n",
    "import matplotlib.pyplot as plt\n",
    "from sklearn.model_selection import train_test_split\n",
    "\n",
    "def calculate_class_distributions(labels):\n",
    "    distributions = []\n",
    "    for label in labels:\n",
    "        valid_pixels = label[label >= 0]\n",
    "        dist = np.bincount(valid_pixels.ravel(), minlength=5)\n",
    "        distributions.append(dist)\n",
    "    return np.array(distributions)\n",
    "\n",
    "def plot_class_distribution(labels, title):\n",
    "    distributions = np.sum(calculate_class_distributions(labels), axis=0)\n",
    "    plt.figure(figsize=(8, 6))\n",
    "    plt.bar(range(len(distributions)), distributions)\n",
    "    plt.title(title)\n",
    "    plt.xlabel(\"Class\")\n",
    "    plt.ylabel(\"Pixel Count\")\n",
    "    plt.xticks(range(len(distributions)))\n",
    "    plt.show()\n",
    "    \n",
    "train_images_temp = train_images.astype('float32') / 255.0\n",
    "X = np.stack([train_images_temp, first_model_preds_background], axis=-1)\n",
    "y = first_model_preds_background_corrected\n",
    "\n",
    "# Split into training and validation sets\n",
    "X_train, X_valid, y_train, y_valid = train_test_split(X, y, test_size=0.15, random_state=42)\n",
    "\n",
    "# Print shapes\n",
    "print(\"X_train Shape:\", X_train.shape)\n",
    "print(\"X_valid Shape:\", X_valid.shape)\n",
    "print(\"y_train Shape:\", y_train.shape)\n",
    "print(\"y_valid Shape:\", y_valid.shape)\n",
    "\n",
    "# Plot class distributions for sanity check\n",
    "print(\"Class distributions in the training set:\")\n",
    "plot_class_distribution(y_train, \"Training Set Class Distribution\")\n",
    "\n",
    "print(\"Class distributions in the validation set:\")\n",
    "plot_class_distribution(y_valid, \"Validation Set Class Distribution\")\n"
   ]
  },
  {
   "cell_type": "markdown",
   "id": "8565df48",
   "metadata": {
    "papermill": {
     "duration": 0.016637,
     "end_time": "2024-12-14T14:33:11.402447",
     "exception": false,
     "start_time": "2024-12-14T14:33:11.385810",
     "status": "completed"
    },
    "tags": []
   },
   "source": [
    "## Augmentation\r\n",
    "\r\n",
    "We apply data augmentation (flips, rotations, brightness/contrast changes) to increase the robustness of the second model. Validation data will not be augmented.\r\n"
   ]
  },
  {
   "cell_type": "markdown",
   "id": "47c0a654",
   "metadata": {
    "papermill": {
     "duration": 0.015512,
     "end_time": "2024-12-14T14:33:11.433459",
     "exception": false,
     "start_time": "2024-12-14T14:33:11.417947",
     "status": "completed"
    },
    "tags": []
   },
   "source": [
    "### Data Generator for the Second Model\r\n",
    "\r\n",
    "We use a custom `Sequence` class (`MarsDataset`) that:\r\n",
    "- Applies augmentations\r\n",
    "- Prepares multi-level targets for deep supervision\r\n",
    "- Supports batch-wise loading of data\r\n"
   ]
  },
  {
   "cell_type": "code",
   "execution_count": 15,
   "id": "efab502f",
   "metadata": {
    "execution": {
     "iopub.execute_input": "2024-12-14T14:33:11.465974Z",
     "iopub.status.busy": "2024-12-14T14:33:11.465713Z",
     "iopub.status.idle": "2024-12-14T14:33:11.479282Z",
     "shell.execute_reply": "2024-12-14T14:33:11.478344Z"
    },
    "papermill": {
     "duration": 0.031958,
     "end_time": "2024-12-14T14:33:11.480836",
     "exception": false,
     "start_time": "2024-12-14T14:33:11.448878",
     "status": "completed"
    },
    "tags": []
   },
   "outputs": [
    {
     "name": "stdout",
     "output_type": "stream",
     "text": [
      "(376, 64, 128)\n"
     ]
    }
   ],
   "source": [
    "class MarsDataset(Sequence):\n",
    "    def __init__(self, images, masks, batch_size=16, augmentations=None, output_names=None, **kwargs):\n",
    "        super().__init__(**kwargs)\n",
    "        self.images = images\n",
    "        self.masks = masks\n",
    "        self.batch_size = batch_size\n",
    "        self.augment = augmentations if augmentations is not None else self.default_augment\n",
    "        self.output_names = output_names if output_names is not None else ['final_output']\n",
    "\n",
    "        # Define target sizes\n",
    "        self.output_sizes = {\n",
    "            'output_3': (16, 8),\n",
    "            'output_2': (32, 16),\n",
    "            'output_1': (64, 32),\n",
    "            'final_output': (128, 64)\n",
    "        }\n",
    "\n",
    "    def __len__(self):\n",
    "        return int(np.ceil(len(self.images) / self.batch_size))\n",
    "\n",
    "    def default_augment(self, image, mask):\n",
    "        return {'image': image, 'mask': mask}\n",
    "\n",
    "    def resize_mask(self, mask, size):\n",
    "        resized_mask = cv2.resize(mask, size, interpolation=cv2.INTER_NEAREST)\n",
    "        return resized_mask\n",
    "\n",
    "    def __getitem__(self, idx):\n",
    "        batch_x = self.images[idx * self.batch_size:(idx + 1) * self.batch_size]\n",
    "        batch_y = self.masks[idx * self.batch_size:(idx + 1) * self.batch_size]\n",
    "\n",
    "        augmented = []\n",
    "        for img, mask in zip(batch_x, batch_y):\n",
    "            # img shape: (64,128,2), mask: (64,128)\n",
    "            augmented_sample = self.augment(image=img, mask=mask)\n",
    "            augmented.append((augmented_sample['image'], augmented_sample['mask']))\n",
    "\n",
    "        # Now augmented images retain shape (64,128,2)\n",
    "        batch_x_aug = np.array([item[0] for item in augmented])  # shape: (batch_size, 64,128,2)\n",
    "\n",
    "        # Prepare targets for deep supervision outputs\n",
    "        targets = {}\n",
    "        for output_name in self.output_names:\n",
    "            target_size = self.output_sizes.get(output_name, (64, 128))\n",
    "            resized_masks = np.array([self.resize_mask(item[1], target_size) for item in augmented])\n",
    "            targets[output_name] = resized_masks\n",
    "\n",
    "        return batch_x_aug, targets\n",
    "\n",
    "\n",
    "# Define augmentation pipeline (as before)\n",
    "train_transform = A.Compose([\n",
    "    A.HorizontalFlip(p=0.5),\n",
    "    A.VerticalFlip(p=0.5),\n",
    "    A.ShiftScaleRotate(shift_limit=0.2, scale_limit=0.2, rotate_limit=60, p=0.5),\n",
    "    A.RandomBrightnessContrast(p=0.5),\n",
    "])\n",
    "\n",
    "output_names = ['output_3', 'output_2', 'output_1', 'final_output']\n",
    "# Create Dataset instances with the class weights\n",
    "train_dataset = MarsDataset(X_train, y_train, batch_size=32, augmentations=train_transform, output_names=output_names)\n",
    "valid_dataset = MarsDataset(X_valid, y_valid, batch_size=32, augmentations=None, output_names=output_names)  # No augmentation for validation\n",
    "print(y_valid.shape)"
   ]
  },
  {
   "cell_type": "markdown",
   "id": "8b415689",
   "metadata": {
    "papermill": {
     "duration": 0.015841,
     "end_time": "2024-12-14T14:33:11.512424",
     "exception": false,
     "start_time": "2024-12-14T14:33:11.496583",
     "status": "completed"
    },
    "tags": []
   },
   "source": [
    "# Second Model: Custom U-Net with Deep Supervision and Gated Skip Connections\r\n",
    "\r\n",
    "This model builds upon a U-Net architecture with the following enhancements:\r\n",
    "- **Gated skip connections** to control the flow of encoder features.\r\n",
    "- **Deep supervision** for improved gradient flow.\r\n",
    "- **Focal loss** to handle class imbalance.\r\n",
    "\r\n",
    "The input to this model is a 2-channel image (original + refined background).\r\n"
   ]
  },
  {
   "cell_type": "markdown",
   "id": "7df51d6c",
   "metadata": {
    "papermill": {
     "duration": 0.015427,
     "end_time": "2024-12-14T14:33:11.543405",
     "exception": false,
     "start_time": "2024-12-14T14:33:11.527978",
     "status": "completed"
    },
    "tags": []
   },
   "source": [
    "## Create Model"
   ]
  },
  {
   "cell_type": "code",
   "execution_count": 16,
   "id": "ac33b6cf",
   "metadata": {
    "execution": {
     "iopub.execute_input": "2024-12-14T14:33:11.576209Z",
     "iopub.status.busy": "2024-12-14T14:33:11.575914Z",
     "iopub.status.idle": "2024-12-14T14:33:11.960996Z",
     "shell.execute_reply": "2024-12-14T14:33:11.960069Z"
    },
    "papermill": {
     "duration": 0.403902,
     "end_time": "2024-12-14T14:33:11.962830",
     "exception": false,
     "start_time": "2024-12-14T14:33:11.558928",
     "status": "completed"
    },
    "tags": []
   },
   "outputs": [
    {
     "name": "stdout",
     "output_type": "stream",
     "text": [
      "Total number of parameters: 31409560\n",
      "Trainable parameters: 31397784\n",
      "Non-trainable parameters: 11776\n"
     ]
    }
   ],
   "source": [
    "# Building Blocks\n",
    "def conv_block(inputs, filters, kernel_size=3, activation='relu', padding='same'):\n",
    "    x = Conv2D(filters, kernel_size, padding=padding)(inputs)\n",
    "    x = BatchNormalization()(x)\n",
    "    x = Activation(activation)(x)\n",
    "    x = Conv2D(filters, kernel_size, padding=padding)(x)\n",
    "    x = BatchNormalization()(x)\n",
    "    x = Activation(activation)(x)\n",
    "    return x\n",
    "\n",
    "def encoder_block(inputs, filters, pool=True):\n",
    "    x = conv_block(inputs, filters)\n",
    "    p = MaxPooling2D((2, 2))(x) if pool else x\n",
    "    return x, p\n",
    "\n",
    "# Gated Skip Connection\n",
    "def gated_skip_connection_block(encoder_features, decoder_features, filters):\n",
    "    # 1x1 Convolution to reduce channels for gating\n",
    "    gate = Conv2D(1, (1,1), padding='same', activation='sigmoid')(encoder_features)\n",
    "    # Multiply gate with encoder features\n",
    "    gated_encoder = Multiply()([gate, encoder_features])\n",
    "    # Optionally, process decoder features\n",
    "    processed_decoder = Conv2D(filters, (1,1), padding='same', activation='relu')(decoder_features)\n",
    "    # Combine gated encoder and processed decoder\n",
    "    combined = Concatenate()([gated_encoder, processed_decoder])\n",
    "    return combined\n",
    "\n",
    "# Learnable Fusion Block\n",
    "def learnable_fusion(encoder_features, decoder_features, filters):\n",
    "    # Concatenate encoder and decoder features\n",
    "    concat = Concatenate()([encoder_features, decoder_features])\n",
    "    # Apply convolutional layers to learn the fusion\n",
    "    fused = Conv2D(filters, (1,1), activation='relu')(concat)\n",
    "    fused = Conv2D(filters, (3,3), padding='same', activation='relu')(fused)\n",
    "    return fused\n",
    "\n",
    "# Decoder Blocks\n",
    "def decoder_block(inputs, skip_features, filters, skip_connection_type='concat'):\n",
    "    x = Conv2DTranspose(filters, (2, 2), strides=(2, 2), padding='same')(inputs)\n",
    "    \n",
    "    if skip_connection_type == 'concat':\n",
    "        x = Concatenate()([x, skip_features])\n",
    "    elif skip_connection_type == 'add':\n",
    "        x = Add()([x, skip_features])\n",
    "    elif skip_connection_type == 'gated':\n",
    "        x = gated_skip_connection_block(skip_features, x, filters)\n",
    "    elif skip_connection_type == 'fusion':\n",
    "        fused = learnable_fusion(skip_features, x, filters)\n",
    "        x = Concatenate()([x, fused])\n",
    "    else:\n",
    "        raise ValueError(\"Unsupported skip connection type\")\n",
    "    \n",
    "    x = conv_block(x, filters)\n",
    "    return x\n",
    "\n",
    "# Custom U-Net Model with Deep Supervision\n",
    "def CustomUNet(input_shape=(64, 128, 1), num_classes=5, \n",
    "              skip_connection_type='gated', \n",
    "              backbone_filters=[64, 128, 256, 512],\n",
    "              deep_supervision_levels=3):\n",
    "    \n",
    "    inputs = Input(input_shape)\n",
    "    \n",
    "    # Encoder\n",
    "    skips = []\n",
    "    x = inputs\n",
    "    for f in backbone_filters:\n",
    "        x, p = encoder_block(x, f)\n",
    "        skips.append(x)\n",
    "        x = p\n",
    "    # Bottleneck\n",
    "    x = conv_block(x, backbone_filters[-1]*2)\n",
    "    \n",
    "    # Decoder with Deep Supervision\n",
    "    intermediate_outputs = []\n",
    "    total_decoder_blocks = len(backbone_filters)\n",
    "    for i, f in reversed(list(enumerate(backbone_filters))):\n",
    "        x = decoder_block(x, skips[i], f, skip_connection_type=skip_connection_type)\n",
    "        \n",
    "        # Determine if this decoder block should have an intermediate output\n",
    "        # For example, collect outputs from the last 'deep_supervision_levels' decoder blocks\n",
    "        if (total_decoder_blocks - i) <= deep_supervision_levels:\n",
    "            intermediate_output = Conv2D(num_classes, (1,1), activation='softmax', name=f'output_{i}')(x)\n",
    "            intermediate_outputs.append(intermediate_output)\n",
    "    \n",
    "    # Final Output\n",
    "    final_output = Conv2D(num_classes, (1, 1), activation='softmax', name='final_output')(x)\n",
    "    \n",
    "    # Combine all outputs\n",
    "    outputs = intermediate_outputs + [final_output]\n",
    "    \n",
    "    model = Model(inputs, outputs)\n",
    "    return model\n",
    "\n",
    "# Instantiate the Custom U-Net Model with Deep Supervision\n",
    "def efficientunet_custom(input_shape=(64, 128, 1), num_classes=5, skip_connection_type='gated', deep_supervision_levels=3):\n",
    "    model = CustomUNet(input_shape=input_shape, \n",
    "                      num_classes=num_classes, \n",
    "                      skip_connection_type=skip_connection_type,\n",
    "                      deep_supervision_levels=deep_supervision_levels)\n",
    "    return model\n",
    "\n",
    "# Configuration\n",
    "SKIP_CONNECTION_TYPE = 'gated'  # Options: 'concat', 'add', 'gated', 'fusion'\n",
    "# Instantiate the model\n",
    "model = efficientunet_custom(input_shape=(64,128,2),\n",
    "                             num_classes=5,\n",
    "                             skip_connection_type=SKIP_CONNECTION_TYPE,\n",
    "                             deep_supervision_levels=3)\n",
    "\n",
    "num_params = model.count_params()\n",
    "trainable_params = sum([tf.reduce_prod(var.shape).numpy() for var in model.trainable_variables])\n",
    "non_trainable_params = sum([tf.reduce_prod(var.shape).numpy() for var in model.non_trainable_variables])\n",
    "print(f\"Total number of parameters: {num_params}\")\n",
    "print(f\"Trainable parameters: {trainable_params}\")\n",
    "print(f\"Non-trainable parameters: {non_trainable_params}\")"
   ]
  },
  {
   "cell_type": "code",
   "execution_count": 17,
   "id": "be9b17d3",
   "metadata": {
    "execution": {
     "iopub.execute_input": "2024-12-14T14:33:11.996159Z",
     "iopub.status.busy": "2024-12-14T14:33:11.995842Z",
     "iopub.status.idle": "2024-12-14T14:33:12.085933Z",
     "shell.execute_reply": "2024-12-14T14:33:12.085071Z"
    },
    "papermill": {
     "duration": 0.110408,
     "end_time": "2024-12-14T14:33:12.089524",
     "exception": false,
     "start_time": "2024-12-14T14:33:11.979116",
     "status": "completed"
    },
    "tags": []
   },
   "outputs": [
    {
     "data": {
      "text/html": [
       "<pre style=\"white-space:pre;overflow-x:auto;line-height:normal;font-family:Menlo,'DejaVu Sans Mono',consolas,'Courier New',monospace\"><span style=\"font-weight: bold\">Model: \"functional_1\"</span>\n",
       "</pre>\n"
      ],
      "text/plain": [
       "\u001b[1mModel: \"functional_1\"\u001b[0m\n"
      ]
     },
     "metadata": {},
     "output_type": "display_data"
    },
    {
     "data": {
      "text/html": [
       "<pre style=\"white-space:pre;overflow-x:auto;line-height:normal;font-family:Menlo,'DejaVu Sans Mono',consolas,'Courier New',monospace\">┏━━━━━━━━━━━━━━━━━━━━━┳━━━━━━━━━━━━━━━━━━━┳━━━━━━━━━━━━┳━━━━━━━━━━━━━━━━━━━┓\n",
       "┃<span style=\"font-weight: bold\"> Layer (type)        </span>┃<span style=\"font-weight: bold\"> Output Shape      </span>┃<span style=\"font-weight: bold\">    Param # </span>┃<span style=\"font-weight: bold\"> Connected to      </span>┃\n",
       "┡━━━━━━━━━━━━━━━━━━━━━╇━━━━━━━━━━━━━━━━━━━╇━━━━━━━━━━━━╇━━━━━━━━━━━━━━━━━━━┩\n",
       "│ input_layer         │ (<span style=\"color: #00d7ff; text-decoration-color: #00d7ff\">None</span>, <span style=\"color: #00af00; text-decoration-color: #00af00\">64</span>, <span style=\"color: #00af00; text-decoration-color: #00af00\">128</span>,   │          <span style=\"color: #00af00; text-decoration-color: #00af00\">0</span> │ -                 │\n",
       "│ (<span style=\"color: #0087ff; text-decoration-color: #0087ff\">InputLayer</span>)        │ <span style=\"color: #00af00; text-decoration-color: #00af00\">2</span>)                │            │                   │\n",
       "├─────────────────────┼───────────────────┼────────────┼───────────────────┤\n",
       "│ conv2d (<span style=\"color: #0087ff; text-decoration-color: #0087ff\">Conv2D</span>)     │ (<span style=\"color: #00d7ff; text-decoration-color: #00d7ff\">None</span>, <span style=\"color: #00af00; text-decoration-color: #00af00\">64</span>, <span style=\"color: #00af00; text-decoration-color: #00af00\">128</span>,   │      <span style=\"color: #00af00; text-decoration-color: #00af00\">1,216</span> │ input_layer[<span style=\"color: #00af00; text-decoration-color: #00af00\">0</span>][<span style=\"color: #00af00; text-decoration-color: #00af00\">0</span>] │\n",
       "│                     │ <span style=\"color: #00af00; text-decoration-color: #00af00\">64</span>)               │            │                   │\n",
       "├─────────────────────┼───────────────────┼────────────┼───────────────────┤\n",
       "│ batch_normalization │ (<span style=\"color: #00d7ff; text-decoration-color: #00d7ff\">None</span>, <span style=\"color: #00af00; text-decoration-color: #00af00\">64</span>, <span style=\"color: #00af00; text-decoration-color: #00af00\">128</span>,   │        <span style=\"color: #00af00; text-decoration-color: #00af00\">256</span> │ conv2d[<span style=\"color: #00af00; text-decoration-color: #00af00\">0</span>][<span style=\"color: #00af00; text-decoration-color: #00af00\">0</span>]      │\n",
       "│ (<span style=\"color: #0087ff; text-decoration-color: #0087ff\">BatchNormalizatio…</span> │ <span style=\"color: #00af00; text-decoration-color: #00af00\">64</span>)               │            │                   │\n",
       "├─────────────────────┼───────────────────┼────────────┼───────────────────┤\n",
       "│ activation          │ (<span style=\"color: #00d7ff; text-decoration-color: #00d7ff\">None</span>, <span style=\"color: #00af00; text-decoration-color: #00af00\">64</span>, <span style=\"color: #00af00; text-decoration-color: #00af00\">128</span>,   │          <span style=\"color: #00af00; text-decoration-color: #00af00\">0</span> │ batch_normalizat… │\n",
       "│ (<span style=\"color: #0087ff; text-decoration-color: #0087ff\">Activation</span>)        │ <span style=\"color: #00af00; text-decoration-color: #00af00\">64</span>)               │            │                   │\n",
       "├─────────────────────┼───────────────────┼────────────┼───────────────────┤\n",
       "│ conv2d_1 (<span style=\"color: #0087ff; text-decoration-color: #0087ff\">Conv2D</span>)   │ (<span style=\"color: #00d7ff; text-decoration-color: #00d7ff\">None</span>, <span style=\"color: #00af00; text-decoration-color: #00af00\">64</span>, <span style=\"color: #00af00; text-decoration-color: #00af00\">128</span>,   │     <span style=\"color: #00af00; text-decoration-color: #00af00\">36,928</span> │ activation[<span style=\"color: #00af00; text-decoration-color: #00af00\">0</span>][<span style=\"color: #00af00; text-decoration-color: #00af00\">0</span>]  │\n",
       "│                     │ <span style=\"color: #00af00; text-decoration-color: #00af00\">64</span>)               │            │                   │\n",
       "├─────────────────────┼───────────────────┼────────────┼───────────────────┤\n",
       "│ batch_normalizatio… │ (<span style=\"color: #00d7ff; text-decoration-color: #00d7ff\">None</span>, <span style=\"color: #00af00; text-decoration-color: #00af00\">64</span>, <span style=\"color: #00af00; text-decoration-color: #00af00\">128</span>,   │        <span style=\"color: #00af00; text-decoration-color: #00af00\">256</span> │ conv2d_1[<span style=\"color: #00af00; text-decoration-color: #00af00\">0</span>][<span style=\"color: #00af00; text-decoration-color: #00af00\">0</span>]    │\n",
       "│ (<span style=\"color: #0087ff; text-decoration-color: #0087ff\">BatchNormalizatio…</span> │ <span style=\"color: #00af00; text-decoration-color: #00af00\">64</span>)               │            │                   │\n",
       "├─────────────────────┼───────────────────┼────────────┼───────────────────┤\n",
       "│ activation_1        │ (<span style=\"color: #00d7ff; text-decoration-color: #00d7ff\">None</span>, <span style=\"color: #00af00; text-decoration-color: #00af00\">64</span>, <span style=\"color: #00af00; text-decoration-color: #00af00\">128</span>,   │          <span style=\"color: #00af00; text-decoration-color: #00af00\">0</span> │ batch_normalizat… │\n",
       "│ (<span style=\"color: #0087ff; text-decoration-color: #0087ff\">Activation</span>)        │ <span style=\"color: #00af00; text-decoration-color: #00af00\">64</span>)               │            │                   │\n",
       "├─────────────────────┼───────────────────┼────────────┼───────────────────┤\n",
       "│ max_pooling2d       │ (<span style=\"color: #00d7ff; text-decoration-color: #00d7ff\">None</span>, <span style=\"color: #00af00; text-decoration-color: #00af00\">32</span>, <span style=\"color: #00af00; text-decoration-color: #00af00\">64</span>,    │          <span style=\"color: #00af00; text-decoration-color: #00af00\">0</span> │ activation_1[<span style=\"color: #00af00; text-decoration-color: #00af00\">0</span>][<span style=\"color: #00af00; text-decoration-color: #00af00\">…</span> │\n",
       "│ (<span style=\"color: #0087ff; text-decoration-color: #0087ff\">MaxPooling2D</span>)      │ <span style=\"color: #00af00; text-decoration-color: #00af00\">64</span>)               │            │                   │\n",
       "├─────────────────────┼───────────────────┼────────────┼───────────────────┤\n",
       "│ conv2d_2 (<span style=\"color: #0087ff; text-decoration-color: #0087ff\">Conv2D</span>)   │ (<span style=\"color: #00d7ff; text-decoration-color: #00d7ff\">None</span>, <span style=\"color: #00af00; text-decoration-color: #00af00\">32</span>, <span style=\"color: #00af00; text-decoration-color: #00af00\">64</span>,    │     <span style=\"color: #00af00; text-decoration-color: #00af00\">73,856</span> │ max_pooling2d[<span style=\"color: #00af00; text-decoration-color: #00af00\">0</span>]… │\n",
       "│                     │ <span style=\"color: #00af00; text-decoration-color: #00af00\">128</span>)              │            │                   │\n",
       "├─────────────────────┼───────────────────┼────────────┼───────────────────┤\n",
       "│ batch_normalizatio… │ (<span style=\"color: #00d7ff; text-decoration-color: #00d7ff\">None</span>, <span style=\"color: #00af00; text-decoration-color: #00af00\">32</span>, <span style=\"color: #00af00; text-decoration-color: #00af00\">64</span>,    │        <span style=\"color: #00af00; text-decoration-color: #00af00\">512</span> │ conv2d_2[<span style=\"color: #00af00; text-decoration-color: #00af00\">0</span>][<span style=\"color: #00af00; text-decoration-color: #00af00\">0</span>]    │\n",
       "│ (<span style=\"color: #0087ff; text-decoration-color: #0087ff\">BatchNormalizatio…</span> │ <span style=\"color: #00af00; text-decoration-color: #00af00\">128</span>)              │            │                   │\n",
       "├─────────────────────┼───────────────────┼────────────┼───────────────────┤\n",
       "│ activation_2        │ (<span style=\"color: #00d7ff; text-decoration-color: #00d7ff\">None</span>, <span style=\"color: #00af00; text-decoration-color: #00af00\">32</span>, <span style=\"color: #00af00; text-decoration-color: #00af00\">64</span>,    │          <span style=\"color: #00af00; text-decoration-color: #00af00\">0</span> │ batch_normalizat… │\n",
       "│ (<span style=\"color: #0087ff; text-decoration-color: #0087ff\">Activation</span>)        │ <span style=\"color: #00af00; text-decoration-color: #00af00\">128</span>)              │            │                   │\n",
       "├─────────────────────┼───────────────────┼────────────┼───────────────────┤\n",
       "│ conv2d_3 (<span style=\"color: #0087ff; text-decoration-color: #0087ff\">Conv2D</span>)   │ (<span style=\"color: #00d7ff; text-decoration-color: #00d7ff\">None</span>, <span style=\"color: #00af00; text-decoration-color: #00af00\">32</span>, <span style=\"color: #00af00; text-decoration-color: #00af00\">64</span>,    │    <span style=\"color: #00af00; text-decoration-color: #00af00\">147,584</span> │ activation_2[<span style=\"color: #00af00; text-decoration-color: #00af00\">0</span>][<span style=\"color: #00af00; text-decoration-color: #00af00\">…</span> │\n",
       "│                     │ <span style=\"color: #00af00; text-decoration-color: #00af00\">128</span>)              │            │                   │\n",
       "├─────────────────────┼───────────────────┼────────────┼───────────────────┤\n",
       "│ batch_normalizatio… │ (<span style=\"color: #00d7ff; text-decoration-color: #00d7ff\">None</span>, <span style=\"color: #00af00; text-decoration-color: #00af00\">32</span>, <span style=\"color: #00af00; text-decoration-color: #00af00\">64</span>,    │        <span style=\"color: #00af00; text-decoration-color: #00af00\">512</span> │ conv2d_3[<span style=\"color: #00af00; text-decoration-color: #00af00\">0</span>][<span style=\"color: #00af00; text-decoration-color: #00af00\">0</span>]    │\n",
       "│ (<span style=\"color: #0087ff; text-decoration-color: #0087ff\">BatchNormalizatio…</span> │ <span style=\"color: #00af00; text-decoration-color: #00af00\">128</span>)              │            │                   │\n",
       "├─────────────────────┼───────────────────┼────────────┼───────────────────┤\n",
       "│ activation_3        │ (<span style=\"color: #00d7ff; text-decoration-color: #00d7ff\">None</span>, <span style=\"color: #00af00; text-decoration-color: #00af00\">32</span>, <span style=\"color: #00af00; text-decoration-color: #00af00\">64</span>,    │          <span style=\"color: #00af00; text-decoration-color: #00af00\">0</span> │ batch_normalizat… │\n",
       "│ (<span style=\"color: #0087ff; text-decoration-color: #0087ff\">Activation</span>)        │ <span style=\"color: #00af00; text-decoration-color: #00af00\">128</span>)              │            │                   │\n",
       "├─────────────────────┼───────────────────┼────────────┼───────────────────┤\n",
       "│ max_pooling2d_1     │ (<span style=\"color: #00d7ff; text-decoration-color: #00d7ff\">None</span>, <span style=\"color: #00af00; text-decoration-color: #00af00\">16</span>, <span style=\"color: #00af00; text-decoration-color: #00af00\">32</span>,    │          <span style=\"color: #00af00; text-decoration-color: #00af00\">0</span> │ activation_3[<span style=\"color: #00af00; text-decoration-color: #00af00\">0</span>][<span style=\"color: #00af00; text-decoration-color: #00af00\">…</span> │\n",
       "│ (<span style=\"color: #0087ff; text-decoration-color: #0087ff\">MaxPooling2D</span>)      │ <span style=\"color: #00af00; text-decoration-color: #00af00\">128</span>)              │            │                   │\n",
       "├─────────────────────┼───────────────────┼────────────┼───────────────────┤\n",
       "│ conv2d_4 (<span style=\"color: #0087ff; text-decoration-color: #0087ff\">Conv2D</span>)   │ (<span style=\"color: #00d7ff; text-decoration-color: #00d7ff\">None</span>, <span style=\"color: #00af00; text-decoration-color: #00af00\">16</span>, <span style=\"color: #00af00; text-decoration-color: #00af00\">32</span>,    │    <span style=\"color: #00af00; text-decoration-color: #00af00\">295,168</span> │ max_pooling2d_1[<span style=\"color: #00af00; text-decoration-color: #00af00\">…</span> │\n",
       "│                     │ <span style=\"color: #00af00; text-decoration-color: #00af00\">256</span>)              │            │                   │\n",
       "├─────────────────────┼───────────────────┼────────────┼───────────────────┤\n",
       "│ batch_normalizatio… │ (<span style=\"color: #00d7ff; text-decoration-color: #00d7ff\">None</span>, <span style=\"color: #00af00; text-decoration-color: #00af00\">16</span>, <span style=\"color: #00af00; text-decoration-color: #00af00\">32</span>,    │      <span style=\"color: #00af00; text-decoration-color: #00af00\">1,024</span> │ conv2d_4[<span style=\"color: #00af00; text-decoration-color: #00af00\">0</span>][<span style=\"color: #00af00; text-decoration-color: #00af00\">0</span>]    │\n",
       "│ (<span style=\"color: #0087ff; text-decoration-color: #0087ff\">BatchNormalizatio…</span> │ <span style=\"color: #00af00; text-decoration-color: #00af00\">256</span>)              │            │                   │\n",
       "├─────────────────────┼───────────────────┼────────────┼───────────────────┤\n",
       "│ activation_4        │ (<span style=\"color: #00d7ff; text-decoration-color: #00d7ff\">None</span>, <span style=\"color: #00af00; text-decoration-color: #00af00\">16</span>, <span style=\"color: #00af00; text-decoration-color: #00af00\">32</span>,    │          <span style=\"color: #00af00; text-decoration-color: #00af00\">0</span> │ batch_normalizat… │\n",
       "│ (<span style=\"color: #0087ff; text-decoration-color: #0087ff\">Activation</span>)        │ <span style=\"color: #00af00; text-decoration-color: #00af00\">256</span>)              │            │                   │\n",
       "├─────────────────────┼───────────────────┼────────────┼───────────────────┤\n",
       "│ conv2d_5 (<span style=\"color: #0087ff; text-decoration-color: #0087ff\">Conv2D</span>)   │ (<span style=\"color: #00d7ff; text-decoration-color: #00d7ff\">None</span>, <span style=\"color: #00af00; text-decoration-color: #00af00\">16</span>, <span style=\"color: #00af00; text-decoration-color: #00af00\">32</span>,    │    <span style=\"color: #00af00; text-decoration-color: #00af00\">590,080</span> │ activation_4[<span style=\"color: #00af00; text-decoration-color: #00af00\">0</span>][<span style=\"color: #00af00; text-decoration-color: #00af00\">…</span> │\n",
       "│                     │ <span style=\"color: #00af00; text-decoration-color: #00af00\">256</span>)              │            │                   │\n",
       "├─────────────────────┼───────────────────┼────────────┼───────────────────┤\n",
       "│ batch_normalizatio… │ (<span style=\"color: #00d7ff; text-decoration-color: #00d7ff\">None</span>, <span style=\"color: #00af00; text-decoration-color: #00af00\">16</span>, <span style=\"color: #00af00; text-decoration-color: #00af00\">32</span>,    │      <span style=\"color: #00af00; text-decoration-color: #00af00\">1,024</span> │ conv2d_5[<span style=\"color: #00af00; text-decoration-color: #00af00\">0</span>][<span style=\"color: #00af00; text-decoration-color: #00af00\">0</span>]    │\n",
       "│ (<span style=\"color: #0087ff; text-decoration-color: #0087ff\">BatchNormalizatio…</span> │ <span style=\"color: #00af00; text-decoration-color: #00af00\">256</span>)              │            │                   │\n",
       "├─────────────────────┼───────────────────┼────────────┼───────────────────┤\n",
       "│ activation_5        │ (<span style=\"color: #00d7ff; text-decoration-color: #00d7ff\">None</span>, <span style=\"color: #00af00; text-decoration-color: #00af00\">16</span>, <span style=\"color: #00af00; text-decoration-color: #00af00\">32</span>,    │          <span style=\"color: #00af00; text-decoration-color: #00af00\">0</span> │ batch_normalizat… │\n",
       "│ (<span style=\"color: #0087ff; text-decoration-color: #0087ff\">Activation</span>)        │ <span style=\"color: #00af00; text-decoration-color: #00af00\">256</span>)              │            │                   │\n",
       "├─────────────────────┼───────────────────┼────────────┼───────────────────┤\n",
       "│ max_pooling2d_2     │ (<span style=\"color: #00d7ff; text-decoration-color: #00d7ff\">None</span>, <span style=\"color: #00af00; text-decoration-color: #00af00\">8</span>, <span style=\"color: #00af00; text-decoration-color: #00af00\">16</span>,     │          <span style=\"color: #00af00; text-decoration-color: #00af00\">0</span> │ activation_5[<span style=\"color: #00af00; text-decoration-color: #00af00\">0</span>][<span style=\"color: #00af00; text-decoration-color: #00af00\">…</span> │\n",
       "│ (<span style=\"color: #0087ff; text-decoration-color: #0087ff\">MaxPooling2D</span>)      │ <span style=\"color: #00af00; text-decoration-color: #00af00\">256</span>)              │            │                   │\n",
       "├─────────────────────┼───────────────────┼────────────┼───────────────────┤\n",
       "│ conv2d_6 (<span style=\"color: #0087ff; text-decoration-color: #0087ff\">Conv2D</span>)   │ (<span style=\"color: #00d7ff; text-decoration-color: #00d7ff\">None</span>, <span style=\"color: #00af00; text-decoration-color: #00af00\">8</span>, <span style=\"color: #00af00; text-decoration-color: #00af00\">16</span>,     │  <span style=\"color: #00af00; text-decoration-color: #00af00\">1,180,160</span> │ max_pooling2d_2[<span style=\"color: #00af00; text-decoration-color: #00af00\">…</span> │\n",
       "│                     │ <span style=\"color: #00af00; text-decoration-color: #00af00\">512</span>)              │            │                   │\n",
       "├─────────────────────┼───────────────────┼────────────┼───────────────────┤\n",
       "│ batch_normalizatio… │ (<span style=\"color: #00d7ff; text-decoration-color: #00d7ff\">None</span>, <span style=\"color: #00af00; text-decoration-color: #00af00\">8</span>, <span style=\"color: #00af00; text-decoration-color: #00af00\">16</span>,     │      <span style=\"color: #00af00; text-decoration-color: #00af00\">2,048</span> │ conv2d_6[<span style=\"color: #00af00; text-decoration-color: #00af00\">0</span>][<span style=\"color: #00af00; text-decoration-color: #00af00\">0</span>]    │\n",
       "│ (<span style=\"color: #0087ff; text-decoration-color: #0087ff\">BatchNormalizatio…</span> │ <span style=\"color: #00af00; text-decoration-color: #00af00\">512</span>)              │            │                   │\n",
       "├─────────────────────┼───────────────────┼────────────┼───────────────────┤\n",
       "│ activation_6        │ (<span style=\"color: #00d7ff; text-decoration-color: #00d7ff\">None</span>, <span style=\"color: #00af00; text-decoration-color: #00af00\">8</span>, <span style=\"color: #00af00; text-decoration-color: #00af00\">16</span>,     │          <span style=\"color: #00af00; text-decoration-color: #00af00\">0</span> │ batch_normalizat… │\n",
       "│ (<span style=\"color: #0087ff; text-decoration-color: #0087ff\">Activation</span>)        │ <span style=\"color: #00af00; text-decoration-color: #00af00\">512</span>)              │            │                   │\n",
       "├─────────────────────┼───────────────────┼────────────┼───────────────────┤\n",
       "│ conv2d_7 (<span style=\"color: #0087ff; text-decoration-color: #0087ff\">Conv2D</span>)   │ (<span style=\"color: #00d7ff; text-decoration-color: #00d7ff\">None</span>, <span style=\"color: #00af00; text-decoration-color: #00af00\">8</span>, <span style=\"color: #00af00; text-decoration-color: #00af00\">16</span>,     │  <span style=\"color: #00af00; text-decoration-color: #00af00\">2,359,808</span> │ activation_6[<span style=\"color: #00af00; text-decoration-color: #00af00\">0</span>][<span style=\"color: #00af00; text-decoration-color: #00af00\">…</span> │\n",
       "│                     │ <span style=\"color: #00af00; text-decoration-color: #00af00\">512</span>)              │            │                   │\n",
       "├─────────────────────┼───────────────────┼────────────┼───────────────────┤\n",
       "│ batch_normalizatio… │ (<span style=\"color: #00d7ff; text-decoration-color: #00d7ff\">None</span>, <span style=\"color: #00af00; text-decoration-color: #00af00\">8</span>, <span style=\"color: #00af00; text-decoration-color: #00af00\">16</span>,     │      <span style=\"color: #00af00; text-decoration-color: #00af00\">2,048</span> │ conv2d_7[<span style=\"color: #00af00; text-decoration-color: #00af00\">0</span>][<span style=\"color: #00af00; text-decoration-color: #00af00\">0</span>]    │\n",
       "│ (<span style=\"color: #0087ff; text-decoration-color: #0087ff\">BatchNormalizatio…</span> │ <span style=\"color: #00af00; text-decoration-color: #00af00\">512</span>)              │            │                   │\n",
       "├─────────────────────┼───────────────────┼────────────┼───────────────────┤\n",
       "│ activation_7        │ (<span style=\"color: #00d7ff; text-decoration-color: #00d7ff\">None</span>, <span style=\"color: #00af00; text-decoration-color: #00af00\">8</span>, <span style=\"color: #00af00; text-decoration-color: #00af00\">16</span>,     │          <span style=\"color: #00af00; text-decoration-color: #00af00\">0</span> │ batch_normalizat… │\n",
       "│ (<span style=\"color: #0087ff; text-decoration-color: #0087ff\">Activation</span>)        │ <span style=\"color: #00af00; text-decoration-color: #00af00\">512</span>)              │            │                   │\n",
       "├─────────────────────┼───────────────────┼────────────┼───────────────────┤\n",
       "│ max_pooling2d_3     │ (<span style=\"color: #00d7ff; text-decoration-color: #00d7ff\">None</span>, <span style=\"color: #00af00; text-decoration-color: #00af00\">4</span>, <span style=\"color: #00af00; text-decoration-color: #00af00\">8</span>, <span style=\"color: #00af00; text-decoration-color: #00af00\">512</span>) │          <span style=\"color: #00af00; text-decoration-color: #00af00\">0</span> │ activation_7[<span style=\"color: #00af00; text-decoration-color: #00af00\">0</span>][<span style=\"color: #00af00; text-decoration-color: #00af00\">…</span> │\n",
       "│ (<span style=\"color: #0087ff; text-decoration-color: #0087ff\">MaxPooling2D</span>)      │                   │            │                   │\n",
       "├─────────────────────┼───────────────────┼────────────┼───────────────────┤\n",
       "│ conv2d_8 (<span style=\"color: #0087ff; text-decoration-color: #0087ff\">Conv2D</span>)   │ (<span style=\"color: #00d7ff; text-decoration-color: #00d7ff\">None</span>, <span style=\"color: #00af00; text-decoration-color: #00af00\">4</span>, <span style=\"color: #00af00; text-decoration-color: #00af00\">8</span>,      │  <span style=\"color: #00af00; text-decoration-color: #00af00\">4,719,616</span> │ max_pooling2d_3[<span style=\"color: #00af00; text-decoration-color: #00af00\">…</span> │\n",
       "│                     │ <span style=\"color: #00af00; text-decoration-color: #00af00\">1024</span>)             │            │                   │\n",
       "├─────────────────────┼───────────────────┼────────────┼───────────────────┤\n",
       "│ batch_normalizatio… │ (<span style=\"color: #00d7ff; text-decoration-color: #00d7ff\">None</span>, <span style=\"color: #00af00; text-decoration-color: #00af00\">4</span>, <span style=\"color: #00af00; text-decoration-color: #00af00\">8</span>,      │      <span style=\"color: #00af00; text-decoration-color: #00af00\">4,096</span> │ conv2d_8[<span style=\"color: #00af00; text-decoration-color: #00af00\">0</span>][<span style=\"color: #00af00; text-decoration-color: #00af00\">0</span>]    │\n",
       "│ (<span style=\"color: #0087ff; text-decoration-color: #0087ff\">BatchNormalizatio…</span> │ <span style=\"color: #00af00; text-decoration-color: #00af00\">1024</span>)             │            │                   │\n",
       "├─────────────────────┼───────────────────┼────────────┼───────────────────┤\n",
       "│ activation_8        │ (<span style=\"color: #00d7ff; text-decoration-color: #00d7ff\">None</span>, <span style=\"color: #00af00; text-decoration-color: #00af00\">4</span>, <span style=\"color: #00af00; text-decoration-color: #00af00\">8</span>,      │          <span style=\"color: #00af00; text-decoration-color: #00af00\">0</span> │ batch_normalizat… │\n",
       "│ (<span style=\"color: #0087ff; text-decoration-color: #0087ff\">Activation</span>)        │ <span style=\"color: #00af00; text-decoration-color: #00af00\">1024</span>)             │            │                   │\n",
       "├─────────────────────┼───────────────────┼────────────┼───────────────────┤\n",
       "│ conv2d_9 (<span style=\"color: #0087ff; text-decoration-color: #0087ff\">Conv2D</span>)   │ (<span style=\"color: #00d7ff; text-decoration-color: #00d7ff\">None</span>, <span style=\"color: #00af00; text-decoration-color: #00af00\">4</span>, <span style=\"color: #00af00; text-decoration-color: #00af00\">8</span>,      │  <span style=\"color: #00af00; text-decoration-color: #00af00\">9,438,208</span> │ activation_8[<span style=\"color: #00af00; text-decoration-color: #00af00\">0</span>][<span style=\"color: #00af00; text-decoration-color: #00af00\">…</span> │\n",
       "│                     │ <span style=\"color: #00af00; text-decoration-color: #00af00\">1024</span>)             │            │                   │\n",
       "├─────────────────────┼───────────────────┼────────────┼───────────────────┤\n",
       "│ batch_normalizatio… │ (<span style=\"color: #00d7ff; text-decoration-color: #00d7ff\">None</span>, <span style=\"color: #00af00; text-decoration-color: #00af00\">4</span>, <span style=\"color: #00af00; text-decoration-color: #00af00\">8</span>,      │      <span style=\"color: #00af00; text-decoration-color: #00af00\">4,096</span> │ conv2d_9[<span style=\"color: #00af00; text-decoration-color: #00af00\">0</span>][<span style=\"color: #00af00; text-decoration-color: #00af00\">0</span>]    │\n",
       "│ (<span style=\"color: #0087ff; text-decoration-color: #0087ff\">BatchNormalizatio…</span> │ <span style=\"color: #00af00; text-decoration-color: #00af00\">1024</span>)             │            │                   │\n",
       "├─────────────────────┼───────────────────┼────────────┼───────────────────┤\n",
       "│ activation_9        │ (<span style=\"color: #00d7ff; text-decoration-color: #00d7ff\">None</span>, <span style=\"color: #00af00; text-decoration-color: #00af00\">4</span>, <span style=\"color: #00af00; text-decoration-color: #00af00\">8</span>,      │          <span style=\"color: #00af00; text-decoration-color: #00af00\">0</span> │ batch_normalizat… │\n",
       "│ (<span style=\"color: #0087ff; text-decoration-color: #0087ff\">Activation</span>)        │ <span style=\"color: #00af00; text-decoration-color: #00af00\">1024</span>)             │            │                   │\n",
       "├─────────────────────┼───────────────────┼────────────┼───────────────────┤\n",
       "│ conv2d_10 (<span style=\"color: #0087ff; text-decoration-color: #0087ff\">Conv2D</span>)  │ (<span style=\"color: #00d7ff; text-decoration-color: #00d7ff\">None</span>, <span style=\"color: #00af00; text-decoration-color: #00af00\">8</span>, <span style=\"color: #00af00; text-decoration-color: #00af00\">16</span>, <span style=\"color: #00af00; text-decoration-color: #00af00\">1</span>)  │        <span style=\"color: #00af00; text-decoration-color: #00af00\">513</span> │ activation_7[<span style=\"color: #00af00; text-decoration-color: #00af00\">0</span>][<span style=\"color: #00af00; text-decoration-color: #00af00\">…</span> │\n",
       "├─────────────────────┼───────────────────┼────────────┼───────────────────┤\n",
       "│ conv2d_transpose    │ (<span style=\"color: #00d7ff; text-decoration-color: #00d7ff\">None</span>, <span style=\"color: #00af00; text-decoration-color: #00af00\">8</span>, <span style=\"color: #00af00; text-decoration-color: #00af00\">16</span>,     │  <span style=\"color: #00af00; text-decoration-color: #00af00\">2,097,664</span> │ activation_9[<span style=\"color: #00af00; text-decoration-color: #00af00\">0</span>][<span style=\"color: #00af00; text-decoration-color: #00af00\">…</span> │\n",
       "│ (<span style=\"color: #0087ff; text-decoration-color: #0087ff\">Conv2DTranspose</span>)   │ <span style=\"color: #00af00; text-decoration-color: #00af00\">512</span>)              │            │                   │\n",
       "├─────────────────────┼───────────────────┼────────────┼───────────────────┤\n",
       "│ multiply (<span style=\"color: #0087ff; text-decoration-color: #0087ff\">Multiply</span>) │ (<span style=\"color: #00d7ff; text-decoration-color: #00d7ff\">None</span>, <span style=\"color: #00af00; text-decoration-color: #00af00\">8</span>, <span style=\"color: #00af00; text-decoration-color: #00af00\">16</span>,     │          <span style=\"color: #00af00; text-decoration-color: #00af00\">0</span> │ conv2d_10[<span style=\"color: #00af00; text-decoration-color: #00af00\">0</span>][<span style=\"color: #00af00; text-decoration-color: #00af00\">0</span>],  │\n",
       "│                     │ <span style=\"color: #00af00; text-decoration-color: #00af00\">512</span>)              │            │ activation_7[<span style=\"color: #00af00; text-decoration-color: #00af00\">0</span>][<span style=\"color: #00af00; text-decoration-color: #00af00\">…</span> │\n",
       "├─────────────────────┼───────────────────┼────────────┼───────────────────┤\n",
       "│ conv2d_11 (<span style=\"color: #0087ff; text-decoration-color: #0087ff\">Conv2D</span>)  │ (<span style=\"color: #00d7ff; text-decoration-color: #00d7ff\">None</span>, <span style=\"color: #00af00; text-decoration-color: #00af00\">8</span>, <span style=\"color: #00af00; text-decoration-color: #00af00\">16</span>,     │    <span style=\"color: #00af00; text-decoration-color: #00af00\">262,656</span> │ conv2d_transpose… │\n",
       "│                     │ <span style=\"color: #00af00; text-decoration-color: #00af00\">512</span>)              │            │                   │\n",
       "├─────────────────────┼───────────────────┼────────────┼───────────────────┤\n",
       "│ concatenate         │ (<span style=\"color: #00d7ff; text-decoration-color: #00d7ff\">None</span>, <span style=\"color: #00af00; text-decoration-color: #00af00\">8</span>, <span style=\"color: #00af00; text-decoration-color: #00af00\">16</span>,     │          <span style=\"color: #00af00; text-decoration-color: #00af00\">0</span> │ multiply[<span style=\"color: #00af00; text-decoration-color: #00af00\">0</span>][<span style=\"color: #00af00; text-decoration-color: #00af00\">0</span>],   │\n",
       "│ (<span style=\"color: #0087ff; text-decoration-color: #0087ff\">Concatenate</span>)       │ <span style=\"color: #00af00; text-decoration-color: #00af00\">1024</span>)             │            │ conv2d_11[<span style=\"color: #00af00; text-decoration-color: #00af00\">0</span>][<span style=\"color: #00af00; text-decoration-color: #00af00\">0</span>]   │\n",
       "├─────────────────────┼───────────────────┼────────────┼───────────────────┤\n",
       "│ conv2d_12 (<span style=\"color: #0087ff; text-decoration-color: #0087ff\">Conv2D</span>)  │ (<span style=\"color: #00d7ff; text-decoration-color: #00d7ff\">None</span>, <span style=\"color: #00af00; text-decoration-color: #00af00\">8</span>, <span style=\"color: #00af00; text-decoration-color: #00af00\">16</span>,     │  <span style=\"color: #00af00; text-decoration-color: #00af00\">4,719,104</span> │ concatenate[<span style=\"color: #00af00; text-decoration-color: #00af00\">0</span>][<span style=\"color: #00af00; text-decoration-color: #00af00\">0</span>] │\n",
       "│                     │ <span style=\"color: #00af00; text-decoration-color: #00af00\">512</span>)              │            │                   │\n",
       "├─────────────────────┼───────────────────┼────────────┼───────────────────┤\n",
       "│ batch_normalizatio… │ (<span style=\"color: #00d7ff; text-decoration-color: #00d7ff\">None</span>, <span style=\"color: #00af00; text-decoration-color: #00af00\">8</span>, <span style=\"color: #00af00; text-decoration-color: #00af00\">16</span>,     │      <span style=\"color: #00af00; text-decoration-color: #00af00\">2,048</span> │ conv2d_12[<span style=\"color: #00af00; text-decoration-color: #00af00\">0</span>][<span style=\"color: #00af00; text-decoration-color: #00af00\">0</span>]   │\n",
       "│ (<span style=\"color: #0087ff; text-decoration-color: #0087ff\">BatchNormalizatio…</span> │ <span style=\"color: #00af00; text-decoration-color: #00af00\">512</span>)              │            │                   │\n",
       "├─────────────────────┼───────────────────┼────────────┼───────────────────┤\n",
       "│ activation_10       │ (<span style=\"color: #00d7ff; text-decoration-color: #00d7ff\">None</span>, <span style=\"color: #00af00; text-decoration-color: #00af00\">8</span>, <span style=\"color: #00af00; text-decoration-color: #00af00\">16</span>,     │          <span style=\"color: #00af00; text-decoration-color: #00af00\">0</span> │ batch_normalizat… │\n",
       "│ (<span style=\"color: #0087ff; text-decoration-color: #0087ff\">Activation</span>)        │ <span style=\"color: #00af00; text-decoration-color: #00af00\">512</span>)              │            │                   │\n",
       "├─────────────────────┼───────────────────┼────────────┼───────────────────┤\n",
       "│ conv2d_13 (<span style=\"color: #0087ff; text-decoration-color: #0087ff\">Conv2D</span>)  │ (<span style=\"color: #00d7ff; text-decoration-color: #00d7ff\">None</span>, <span style=\"color: #00af00; text-decoration-color: #00af00\">8</span>, <span style=\"color: #00af00; text-decoration-color: #00af00\">16</span>,     │  <span style=\"color: #00af00; text-decoration-color: #00af00\">2,359,808</span> │ activation_10[<span style=\"color: #00af00; text-decoration-color: #00af00\">0</span>]… │\n",
       "│                     │ <span style=\"color: #00af00; text-decoration-color: #00af00\">512</span>)              │            │                   │\n",
       "├─────────────────────┼───────────────────┼────────────┼───────────────────┤\n",
       "│ batch_normalizatio… │ (<span style=\"color: #00d7ff; text-decoration-color: #00d7ff\">None</span>, <span style=\"color: #00af00; text-decoration-color: #00af00\">8</span>, <span style=\"color: #00af00; text-decoration-color: #00af00\">16</span>,     │      <span style=\"color: #00af00; text-decoration-color: #00af00\">2,048</span> │ conv2d_13[<span style=\"color: #00af00; text-decoration-color: #00af00\">0</span>][<span style=\"color: #00af00; text-decoration-color: #00af00\">0</span>]   │\n",
       "│ (<span style=\"color: #0087ff; text-decoration-color: #0087ff\">BatchNormalizatio…</span> │ <span style=\"color: #00af00; text-decoration-color: #00af00\">512</span>)              │            │                   │\n",
       "├─────────────────────┼───────────────────┼────────────┼───────────────────┤\n",
       "│ activation_11       │ (<span style=\"color: #00d7ff; text-decoration-color: #00d7ff\">None</span>, <span style=\"color: #00af00; text-decoration-color: #00af00\">8</span>, <span style=\"color: #00af00; text-decoration-color: #00af00\">16</span>,     │          <span style=\"color: #00af00; text-decoration-color: #00af00\">0</span> │ batch_normalizat… │\n",
       "│ (<span style=\"color: #0087ff; text-decoration-color: #0087ff\">Activation</span>)        │ <span style=\"color: #00af00; text-decoration-color: #00af00\">512</span>)              │            │                   │\n",
       "├─────────────────────┼───────────────────┼────────────┼───────────────────┤\n",
       "│ conv2d_14 (<span style=\"color: #0087ff; text-decoration-color: #0087ff\">Conv2D</span>)  │ (<span style=\"color: #00d7ff; text-decoration-color: #00d7ff\">None</span>, <span style=\"color: #00af00; text-decoration-color: #00af00\">16</span>, <span style=\"color: #00af00; text-decoration-color: #00af00\">32</span>, <span style=\"color: #00af00; text-decoration-color: #00af00\">1</span>) │        <span style=\"color: #00af00; text-decoration-color: #00af00\">257</span> │ activation_5[<span style=\"color: #00af00; text-decoration-color: #00af00\">0</span>][<span style=\"color: #00af00; text-decoration-color: #00af00\">…</span> │\n",
       "├─────────────────────┼───────────────────┼────────────┼───────────────────┤\n",
       "│ conv2d_transpose_1  │ (<span style=\"color: #00d7ff; text-decoration-color: #00d7ff\">None</span>, <span style=\"color: #00af00; text-decoration-color: #00af00\">16</span>, <span style=\"color: #00af00; text-decoration-color: #00af00\">32</span>,    │    <span style=\"color: #00af00; text-decoration-color: #00af00\">524,544</span> │ activation_11[<span style=\"color: #00af00; text-decoration-color: #00af00\">0</span>]… │\n",
       "│ (<span style=\"color: #0087ff; text-decoration-color: #0087ff\">Conv2DTranspose</span>)   │ <span style=\"color: #00af00; text-decoration-color: #00af00\">256</span>)              │            │                   │\n",
       "├─────────────────────┼───────────────────┼────────────┼───────────────────┤\n",
       "│ multiply_1          │ (<span style=\"color: #00d7ff; text-decoration-color: #00d7ff\">None</span>, <span style=\"color: #00af00; text-decoration-color: #00af00\">16</span>, <span style=\"color: #00af00; text-decoration-color: #00af00\">32</span>,    │          <span style=\"color: #00af00; text-decoration-color: #00af00\">0</span> │ conv2d_14[<span style=\"color: #00af00; text-decoration-color: #00af00\">0</span>][<span style=\"color: #00af00; text-decoration-color: #00af00\">0</span>],  │\n",
       "│ (<span style=\"color: #0087ff; text-decoration-color: #0087ff\">Multiply</span>)          │ <span style=\"color: #00af00; text-decoration-color: #00af00\">256</span>)              │            │ activation_5[<span style=\"color: #00af00; text-decoration-color: #00af00\">0</span>][<span style=\"color: #00af00; text-decoration-color: #00af00\">…</span> │\n",
       "├─────────────────────┼───────────────────┼────────────┼───────────────────┤\n",
       "│ conv2d_15 (<span style=\"color: #0087ff; text-decoration-color: #0087ff\">Conv2D</span>)  │ (<span style=\"color: #00d7ff; text-decoration-color: #00d7ff\">None</span>, <span style=\"color: #00af00; text-decoration-color: #00af00\">16</span>, <span style=\"color: #00af00; text-decoration-color: #00af00\">32</span>,    │     <span style=\"color: #00af00; text-decoration-color: #00af00\">65,792</span> │ conv2d_transpose… │\n",
       "│                     │ <span style=\"color: #00af00; text-decoration-color: #00af00\">256</span>)              │            │                   │\n",
       "├─────────────────────┼───────────────────┼────────────┼───────────────────┤\n",
       "│ concatenate_1       │ (<span style=\"color: #00d7ff; text-decoration-color: #00d7ff\">None</span>, <span style=\"color: #00af00; text-decoration-color: #00af00\">16</span>, <span style=\"color: #00af00; text-decoration-color: #00af00\">32</span>,    │          <span style=\"color: #00af00; text-decoration-color: #00af00\">0</span> │ multiply_1[<span style=\"color: #00af00; text-decoration-color: #00af00\">0</span>][<span style=\"color: #00af00; text-decoration-color: #00af00\">0</span>], │\n",
       "│ (<span style=\"color: #0087ff; text-decoration-color: #0087ff\">Concatenate</span>)       │ <span style=\"color: #00af00; text-decoration-color: #00af00\">512</span>)              │            │ conv2d_15[<span style=\"color: #00af00; text-decoration-color: #00af00\">0</span>][<span style=\"color: #00af00; text-decoration-color: #00af00\">0</span>]   │\n",
       "├─────────────────────┼───────────────────┼────────────┼───────────────────┤\n",
       "│ conv2d_16 (<span style=\"color: #0087ff; text-decoration-color: #0087ff\">Conv2D</span>)  │ (<span style=\"color: #00d7ff; text-decoration-color: #00d7ff\">None</span>, <span style=\"color: #00af00; text-decoration-color: #00af00\">16</span>, <span style=\"color: #00af00; text-decoration-color: #00af00\">32</span>,    │  <span style=\"color: #00af00; text-decoration-color: #00af00\">1,179,904</span> │ concatenate_1[<span style=\"color: #00af00; text-decoration-color: #00af00\">0</span>]… │\n",
       "│                     │ <span style=\"color: #00af00; text-decoration-color: #00af00\">256</span>)              │            │                   │\n",
       "├─────────────────────┼───────────────────┼────────────┼───────────────────┤\n",
       "│ batch_normalizatio… │ (<span style=\"color: #00d7ff; text-decoration-color: #00d7ff\">None</span>, <span style=\"color: #00af00; text-decoration-color: #00af00\">16</span>, <span style=\"color: #00af00; text-decoration-color: #00af00\">32</span>,    │      <span style=\"color: #00af00; text-decoration-color: #00af00\">1,024</span> │ conv2d_16[<span style=\"color: #00af00; text-decoration-color: #00af00\">0</span>][<span style=\"color: #00af00; text-decoration-color: #00af00\">0</span>]   │\n",
       "│ (<span style=\"color: #0087ff; text-decoration-color: #0087ff\">BatchNormalizatio…</span> │ <span style=\"color: #00af00; text-decoration-color: #00af00\">256</span>)              │            │                   │\n",
       "├─────────────────────┼───────────────────┼────────────┼───────────────────┤\n",
       "│ activation_12       │ (<span style=\"color: #00d7ff; text-decoration-color: #00d7ff\">None</span>, <span style=\"color: #00af00; text-decoration-color: #00af00\">16</span>, <span style=\"color: #00af00; text-decoration-color: #00af00\">32</span>,    │          <span style=\"color: #00af00; text-decoration-color: #00af00\">0</span> │ batch_normalizat… │\n",
       "│ (<span style=\"color: #0087ff; text-decoration-color: #0087ff\">Activation</span>)        │ <span style=\"color: #00af00; text-decoration-color: #00af00\">256</span>)              │            │                   │\n",
       "├─────────────────────┼───────────────────┼────────────┼───────────────────┤\n",
       "│ conv2d_17 (<span style=\"color: #0087ff; text-decoration-color: #0087ff\">Conv2D</span>)  │ (<span style=\"color: #00d7ff; text-decoration-color: #00d7ff\">None</span>, <span style=\"color: #00af00; text-decoration-color: #00af00\">16</span>, <span style=\"color: #00af00; text-decoration-color: #00af00\">32</span>,    │    <span style=\"color: #00af00; text-decoration-color: #00af00\">590,080</span> │ activation_12[<span style=\"color: #00af00; text-decoration-color: #00af00\">0</span>]… │\n",
       "│                     │ <span style=\"color: #00af00; text-decoration-color: #00af00\">256</span>)              │            │                   │\n",
       "├─────────────────────┼───────────────────┼────────────┼───────────────────┤\n",
       "│ batch_normalizatio… │ (<span style=\"color: #00d7ff; text-decoration-color: #00d7ff\">None</span>, <span style=\"color: #00af00; text-decoration-color: #00af00\">16</span>, <span style=\"color: #00af00; text-decoration-color: #00af00\">32</span>,    │      <span style=\"color: #00af00; text-decoration-color: #00af00\">1,024</span> │ conv2d_17[<span style=\"color: #00af00; text-decoration-color: #00af00\">0</span>][<span style=\"color: #00af00; text-decoration-color: #00af00\">0</span>]   │\n",
       "│ (<span style=\"color: #0087ff; text-decoration-color: #0087ff\">BatchNormalizatio…</span> │ <span style=\"color: #00af00; text-decoration-color: #00af00\">256</span>)              │            │                   │\n",
       "├─────────────────────┼───────────────────┼────────────┼───────────────────┤\n",
       "│ activation_13       │ (<span style=\"color: #00d7ff; text-decoration-color: #00d7ff\">None</span>, <span style=\"color: #00af00; text-decoration-color: #00af00\">16</span>, <span style=\"color: #00af00; text-decoration-color: #00af00\">32</span>,    │          <span style=\"color: #00af00; text-decoration-color: #00af00\">0</span> │ batch_normalizat… │\n",
       "│ (<span style=\"color: #0087ff; text-decoration-color: #0087ff\">Activation</span>)        │ <span style=\"color: #00af00; text-decoration-color: #00af00\">256</span>)              │            │                   │\n",
       "├─────────────────────┼───────────────────┼────────────┼───────────────────┤\n",
       "│ conv2d_18 (<span style=\"color: #0087ff; text-decoration-color: #0087ff\">Conv2D</span>)  │ (<span style=\"color: #00d7ff; text-decoration-color: #00d7ff\">None</span>, <span style=\"color: #00af00; text-decoration-color: #00af00\">32</span>, <span style=\"color: #00af00; text-decoration-color: #00af00\">64</span>, <span style=\"color: #00af00; text-decoration-color: #00af00\">1</span>) │        <span style=\"color: #00af00; text-decoration-color: #00af00\">129</span> │ activation_3[<span style=\"color: #00af00; text-decoration-color: #00af00\">0</span>][<span style=\"color: #00af00; text-decoration-color: #00af00\">…</span> │\n",
       "├─────────────────────┼───────────────────┼────────────┼───────────────────┤\n",
       "│ conv2d_transpose_2  │ (<span style=\"color: #00d7ff; text-decoration-color: #00d7ff\">None</span>, <span style=\"color: #00af00; text-decoration-color: #00af00\">32</span>, <span style=\"color: #00af00; text-decoration-color: #00af00\">64</span>,    │    <span style=\"color: #00af00; text-decoration-color: #00af00\">131,200</span> │ activation_13[<span style=\"color: #00af00; text-decoration-color: #00af00\">0</span>]… │\n",
       "│ (<span style=\"color: #0087ff; text-decoration-color: #0087ff\">Conv2DTranspose</span>)   │ <span style=\"color: #00af00; text-decoration-color: #00af00\">128</span>)              │            │                   │\n",
       "├─────────────────────┼───────────────────┼────────────┼───────────────────┤\n",
       "│ multiply_2          │ (<span style=\"color: #00d7ff; text-decoration-color: #00d7ff\">None</span>, <span style=\"color: #00af00; text-decoration-color: #00af00\">32</span>, <span style=\"color: #00af00; text-decoration-color: #00af00\">64</span>,    │          <span style=\"color: #00af00; text-decoration-color: #00af00\">0</span> │ conv2d_18[<span style=\"color: #00af00; text-decoration-color: #00af00\">0</span>][<span style=\"color: #00af00; text-decoration-color: #00af00\">0</span>],  │\n",
       "│ (<span style=\"color: #0087ff; text-decoration-color: #0087ff\">Multiply</span>)          │ <span style=\"color: #00af00; text-decoration-color: #00af00\">128</span>)              │            │ activation_3[<span style=\"color: #00af00; text-decoration-color: #00af00\">0</span>][<span style=\"color: #00af00; text-decoration-color: #00af00\">…</span> │\n",
       "├─────────────────────┼───────────────────┼────────────┼───────────────────┤\n",
       "│ conv2d_19 (<span style=\"color: #0087ff; text-decoration-color: #0087ff\">Conv2D</span>)  │ (<span style=\"color: #00d7ff; text-decoration-color: #00d7ff\">None</span>, <span style=\"color: #00af00; text-decoration-color: #00af00\">32</span>, <span style=\"color: #00af00; text-decoration-color: #00af00\">64</span>,    │     <span style=\"color: #00af00; text-decoration-color: #00af00\">16,512</span> │ conv2d_transpose… │\n",
       "│                     │ <span style=\"color: #00af00; text-decoration-color: #00af00\">128</span>)              │            │                   │\n",
       "├─────────────────────┼───────────────────┼────────────┼───────────────────┤\n",
       "│ concatenate_2       │ (<span style=\"color: #00d7ff; text-decoration-color: #00d7ff\">None</span>, <span style=\"color: #00af00; text-decoration-color: #00af00\">32</span>, <span style=\"color: #00af00; text-decoration-color: #00af00\">64</span>,    │          <span style=\"color: #00af00; text-decoration-color: #00af00\">0</span> │ multiply_2[<span style=\"color: #00af00; text-decoration-color: #00af00\">0</span>][<span style=\"color: #00af00; text-decoration-color: #00af00\">0</span>], │\n",
       "│ (<span style=\"color: #0087ff; text-decoration-color: #0087ff\">Concatenate</span>)       │ <span style=\"color: #00af00; text-decoration-color: #00af00\">256</span>)              │            │ conv2d_19[<span style=\"color: #00af00; text-decoration-color: #00af00\">0</span>][<span style=\"color: #00af00; text-decoration-color: #00af00\">0</span>]   │\n",
       "├─────────────────────┼───────────────────┼────────────┼───────────────────┤\n",
       "│ conv2d_20 (<span style=\"color: #0087ff; text-decoration-color: #0087ff\">Conv2D</span>)  │ (<span style=\"color: #00d7ff; text-decoration-color: #00d7ff\">None</span>, <span style=\"color: #00af00; text-decoration-color: #00af00\">32</span>, <span style=\"color: #00af00; text-decoration-color: #00af00\">64</span>,    │    <span style=\"color: #00af00; text-decoration-color: #00af00\">295,040</span> │ concatenate_2[<span style=\"color: #00af00; text-decoration-color: #00af00\">0</span>]… │\n",
       "│                     │ <span style=\"color: #00af00; text-decoration-color: #00af00\">128</span>)              │            │                   │\n",
       "├─────────────────────┼───────────────────┼────────────┼───────────────────┤\n",
       "│ batch_normalizatio… │ (<span style=\"color: #00d7ff; text-decoration-color: #00d7ff\">None</span>, <span style=\"color: #00af00; text-decoration-color: #00af00\">32</span>, <span style=\"color: #00af00; text-decoration-color: #00af00\">64</span>,    │        <span style=\"color: #00af00; text-decoration-color: #00af00\">512</span> │ conv2d_20[<span style=\"color: #00af00; text-decoration-color: #00af00\">0</span>][<span style=\"color: #00af00; text-decoration-color: #00af00\">0</span>]   │\n",
       "│ (<span style=\"color: #0087ff; text-decoration-color: #0087ff\">BatchNormalizatio…</span> │ <span style=\"color: #00af00; text-decoration-color: #00af00\">128</span>)              │            │                   │\n",
       "├─────────────────────┼───────────────────┼────────────┼───────────────────┤\n",
       "│ activation_14       │ (<span style=\"color: #00d7ff; text-decoration-color: #00d7ff\">None</span>, <span style=\"color: #00af00; text-decoration-color: #00af00\">32</span>, <span style=\"color: #00af00; text-decoration-color: #00af00\">64</span>,    │          <span style=\"color: #00af00; text-decoration-color: #00af00\">0</span> │ batch_normalizat… │\n",
       "│ (<span style=\"color: #0087ff; text-decoration-color: #0087ff\">Activation</span>)        │ <span style=\"color: #00af00; text-decoration-color: #00af00\">128</span>)              │            │                   │\n",
       "├─────────────────────┼───────────────────┼────────────┼───────────────────┤\n",
       "│ conv2d_21 (<span style=\"color: #0087ff; text-decoration-color: #0087ff\">Conv2D</span>)  │ (<span style=\"color: #00d7ff; text-decoration-color: #00d7ff\">None</span>, <span style=\"color: #00af00; text-decoration-color: #00af00\">32</span>, <span style=\"color: #00af00; text-decoration-color: #00af00\">64</span>,    │    <span style=\"color: #00af00; text-decoration-color: #00af00\">147,584</span> │ activation_14[<span style=\"color: #00af00; text-decoration-color: #00af00\">0</span>]… │\n",
       "│                     │ <span style=\"color: #00af00; text-decoration-color: #00af00\">128</span>)              │            │                   │\n",
       "├─────────────────────┼───────────────────┼────────────┼───────────────────┤\n",
       "│ batch_normalizatio… │ (<span style=\"color: #00d7ff; text-decoration-color: #00d7ff\">None</span>, <span style=\"color: #00af00; text-decoration-color: #00af00\">32</span>, <span style=\"color: #00af00; text-decoration-color: #00af00\">64</span>,    │        <span style=\"color: #00af00; text-decoration-color: #00af00\">512</span> │ conv2d_21[<span style=\"color: #00af00; text-decoration-color: #00af00\">0</span>][<span style=\"color: #00af00; text-decoration-color: #00af00\">0</span>]   │\n",
       "│ (<span style=\"color: #0087ff; text-decoration-color: #0087ff\">BatchNormalizatio…</span> │ <span style=\"color: #00af00; text-decoration-color: #00af00\">128</span>)              │            │                   │\n",
       "├─────────────────────┼───────────────────┼────────────┼───────────────────┤\n",
       "│ activation_15       │ (<span style=\"color: #00d7ff; text-decoration-color: #00d7ff\">None</span>, <span style=\"color: #00af00; text-decoration-color: #00af00\">32</span>, <span style=\"color: #00af00; text-decoration-color: #00af00\">64</span>,    │          <span style=\"color: #00af00; text-decoration-color: #00af00\">0</span> │ batch_normalizat… │\n",
       "│ (<span style=\"color: #0087ff; text-decoration-color: #0087ff\">Activation</span>)        │ <span style=\"color: #00af00; text-decoration-color: #00af00\">128</span>)              │            │                   │\n",
       "├─────────────────────┼───────────────────┼────────────┼───────────────────┤\n",
       "│ conv2d_22 (<span style=\"color: #0087ff; text-decoration-color: #0087ff\">Conv2D</span>)  │ (<span style=\"color: #00d7ff; text-decoration-color: #00d7ff\">None</span>, <span style=\"color: #00af00; text-decoration-color: #00af00\">64</span>, <span style=\"color: #00af00; text-decoration-color: #00af00\">128</span>,   │         <span style=\"color: #00af00; text-decoration-color: #00af00\">65</span> │ activation_1[<span style=\"color: #00af00; text-decoration-color: #00af00\">0</span>][<span style=\"color: #00af00; text-decoration-color: #00af00\">…</span> │\n",
       "│                     │ <span style=\"color: #00af00; text-decoration-color: #00af00\">1</span>)                │            │                   │\n",
       "├─────────────────────┼───────────────────┼────────────┼───────────────────┤\n",
       "│ conv2d_transpose_3  │ (<span style=\"color: #00d7ff; text-decoration-color: #00d7ff\">None</span>, <span style=\"color: #00af00; text-decoration-color: #00af00\">64</span>, <span style=\"color: #00af00; text-decoration-color: #00af00\">128</span>,   │     <span style=\"color: #00af00; text-decoration-color: #00af00\">32,832</span> │ activation_15[<span style=\"color: #00af00; text-decoration-color: #00af00\">0</span>]… │\n",
       "│ (<span style=\"color: #0087ff; text-decoration-color: #0087ff\">Conv2DTranspose</span>)   │ <span style=\"color: #00af00; text-decoration-color: #00af00\">64</span>)               │            │                   │\n",
       "├─────────────────────┼───────────────────┼────────────┼───────────────────┤\n",
       "│ multiply_3          │ (<span style=\"color: #00d7ff; text-decoration-color: #00d7ff\">None</span>, <span style=\"color: #00af00; text-decoration-color: #00af00\">64</span>, <span style=\"color: #00af00; text-decoration-color: #00af00\">128</span>,   │          <span style=\"color: #00af00; text-decoration-color: #00af00\">0</span> │ conv2d_22[<span style=\"color: #00af00; text-decoration-color: #00af00\">0</span>][<span style=\"color: #00af00; text-decoration-color: #00af00\">0</span>],  │\n",
       "│ (<span style=\"color: #0087ff; text-decoration-color: #0087ff\">Multiply</span>)          │ <span style=\"color: #00af00; text-decoration-color: #00af00\">64</span>)               │            │ activation_1[<span style=\"color: #00af00; text-decoration-color: #00af00\">0</span>][<span style=\"color: #00af00; text-decoration-color: #00af00\">…</span> │\n",
       "├─────────────────────┼───────────────────┼────────────┼───────────────────┤\n",
       "│ conv2d_23 (<span style=\"color: #0087ff; text-decoration-color: #0087ff\">Conv2D</span>)  │ (<span style=\"color: #00d7ff; text-decoration-color: #00d7ff\">None</span>, <span style=\"color: #00af00; text-decoration-color: #00af00\">64</span>, <span style=\"color: #00af00; text-decoration-color: #00af00\">128</span>,   │      <span style=\"color: #00af00; text-decoration-color: #00af00\">4,160</span> │ conv2d_transpose… │\n",
       "│                     │ <span style=\"color: #00af00; text-decoration-color: #00af00\">64</span>)               │            │                   │\n",
       "├─────────────────────┼───────────────────┼────────────┼───────────────────┤\n",
       "│ concatenate_3       │ (<span style=\"color: #00d7ff; text-decoration-color: #00d7ff\">None</span>, <span style=\"color: #00af00; text-decoration-color: #00af00\">64</span>, <span style=\"color: #00af00; text-decoration-color: #00af00\">128</span>,   │          <span style=\"color: #00af00; text-decoration-color: #00af00\">0</span> │ multiply_3[<span style=\"color: #00af00; text-decoration-color: #00af00\">0</span>][<span style=\"color: #00af00; text-decoration-color: #00af00\">0</span>], │\n",
       "│ (<span style=\"color: #0087ff; text-decoration-color: #0087ff\">Concatenate</span>)       │ <span style=\"color: #00af00; text-decoration-color: #00af00\">128</span>)              │            │ conv2d_23[<span style=\"color: #00af00; text-decoration-color: #00af00\">0</span>][<span style=\"color: #00af00; text-decoration-color: #00af00\">0</span>]   │\n",
       "├─────────────────────┼───────────────────┼────────────┼───────────────────┤\n",
       "│ conv2d_24 (<span style=\"color: #0087ff; text-decoration-color: #0087ff\">Conv2D</span>)  │ (<span style=\"color: #00d7ff; text-decoration-color: #00d7ff\">None</span>, <span style=\"color: #00af00; text-decoration-color: #00af00\">64</span>, <span style=\"color: #00af00; text-decoration-color: #00af00\">128</span>,   │     <span style=\"color: #00af00; text-decoration-color: #00af00\">73,792</span> │ concatenate_3[<span style=\"color: #00af00; text-decoration-color: #00af00\">0</span>]… │\n",
       "│                     │ <span style=\"color: #00af00; text-decoration-color: #00af00\">64</span>)               │            │                   │\n",
       "├─────────────────────┼───────────────────┼────────────┼───────────────────┤\n",
       "│ batch_normalizatio… │ (<span style=\"color: #00d7ff; text-decoration-color: #00d7ff\">None</span>, <span style=\"color: #00af00; text-decoration-color: #00af00\">64</span>, <span style=\"color: #00af00; text-decoration-color: #00af00\">128</span>,   │        <span style=\"color: #00af00; text-decoration-color: #00af00\">256</span> │ conv2d_24[<span style=\"color: #00af00; text-decoration-color: #00af00\">0</span>][<span style=\"color: #00af00; text-decoration-color: #00af00\">0</span>]   │\n",
       "│ (<span style=\"color: #0087ff; text-decoration-color: #0087ff\">BatchNormalizatio…</span> │ <span style=\"color: #00af00; text-decoration-color: #00af00\">64</span>)               │            │                   │\n",
       "├─────────────────────┼───────────────────┼────────────┼───────────────────┤\n",
       "│ activation_16       │ (<span style=\"color: #00d7ff; text-decoration-color: #00d7ff\">None</span>, <span style=\"color: #00af00; text-decoration-color: #00af00\">64</span>, <span style=\"color: #00af00; text-decoration-color: #00af00\">128</span>,   │          <span style=\"color: #00af00; text-decoration-color: #00af00\">0</span> │ batch_normalizat… │\n",
       "│ (<span style=\"color: #0087ff; text-decoration-color: #0087ff\">Activation</span>)        │ <span style=\"color: #00af00; text-decoration-color: #00af00\">64</span>)               │            │                   │\n",
       "├─────────────────────┼───────────────────┼────────────┼───────────────────┤\n",
       "│ conv2d_25 (<span style=\"color: #0087ff; text-decoration-color: #0087ff\">Conv2D</span>)  │ (<span style=\"color: #00d7ff; text-decoration-color: #00d7ff\">None</span>, <span style=\"color: #00af00; text-decoration-color: #00af00\">64</span>, <span style=\"color: #00af00; text-decoration-color: #00af00\">128</span>,   │     <span style=\"color: #00af00; text-decoration-color: #00af00\">36,928</span> │ activation_16[<span style=\"color: #00af00; text-decoration-color: #00af00\">0</span>]… │\n",
       "│                     │ <span style=\"color: #00af00; text-decoration-color: #00af00\">64</span>)               │            │                   │\n",
       "├─────────────────────┼───────────────────┼────────────┼───────────────────┤\n",
       "│ batch_normalizatio… │ (<span style=\"color: #00d7ff; text-decoration-color: #00d7ff\">None</span>, <span style=\"color: #00af00; text-decoration-color: #00af00\">64</span>, <span style=\"color: #00af00; text-decoration-color: #00af00\">128</span>,   │        <span style=\"color: #00af00; text-decoration-color: #00af00\">256</span> │ conv2d_25[<span style=\"color: #00af00; text-decoration-color: #00af00\">0</span>][<span style=\"color: #00af00; text-decoration-color: #00af00\">0</span>]   │\n",
       "│ (<span style=\"color: #0087ff; text-decoration-color: #0087ff\">BatchNormalizatio…</span> │ <span style=\"color: #00af00; text-decoration-color: #00af00\">64</span>)               │            │                   │\n",
       "├─────────────────────┼───────────────────┼────────────┼───────────────────┤\n",
       "│ activation_17       │ (<span style=\"color: #00d7ff; text-decoration-color: #00d7ff\">None</span>, <span style=\"color: #00af00; text-decoration-color: #00af00\">64</span>, <span style=\"color: #00af00; text-decoration-color: #00af00\">128</span>,   │          <span style=\"color: #00af00; text-decoration-color: #00af00\">0</span> │ batch_normalizat… │\n",
       "│ (<span style=\"color: #0087ff; text-decoration-color: #0087ff\">Activation</span>)        │ <span style=\"color: #00af00; text-decoration-color: #00af00\">64</span>)               │            │                   │\n",
       "├─────────────────────┼───────────────────┼────────────┼───────────────────┤\n",
       "│ output_3 (<span style=\"color: #0087ff; text-decoration-color: #0087ff\">Conv2D</span>)   │ (<span style=\"color: #00d7ff; text-decoration-color: #00d7ff\">None</span>, <span style=\"color: #00af00; text-decoration-color: #00af00\">8</span>, <span style=\"color: #00af00; text-decoration-color: #00af00\">16</span>, <span style=\"color: #00af00; text-decoration-color: #00af00\">5</span>)  │      <span style=\"color: #00af00; text-decoration-color: #00af00\">2,565</span> │ activation_11[<span style=\"color: #00af00; text-decoration-color: #00af00\">0</span>]… │\n",
       "├─────────────────────┼───────────────────┼────────────┼───────────────────┤\n",
       "│ output_2 (<span style=\"color: #0087ff; text-decoration-color: #0087ff\">Conv2D</span>)   │ (<span style=\"color: #00d7ff; text-decoration-color: #00d7ff\">None</span>, <span style=\"color: #00af00; text-decoration-color: #00af00\">16</span>, <span style=\"color: #00af00; text-decoration-color: #00af00\">32</span>, <span style=\"color: #00af00; text-decoration-color: #00af00\">5</span>) │      <span style=\"color: #00af00; text-decoration-color: #00af00\">1,285</span> │ activation_13[<span style=\"color: #00af00; text-decoration-color: #00af00\">0</span>]… │\n",
       "├─────────────────────┼───────────────────┼────────────┼───────────────────┤\n",
       "│ output_1 (<span style=\"color: #0087ff; text-decoration-color: #0087ff\">Conv2D</span>)   │ (<span style=\"color: #00d7ff; text-decoration-color: #00d7ff\">None</span>, <span style=\"color: #00af00; text-decoration-color: #00af00\">32</span>, <span style=\"color: #00af00; text-decoration-color: #00af00\">64</span>, <span style=\"color: #00af00; text-decoration-color: #00af00\">5</span>) │        <span style=\"color: #00af00; text-decoration-color: #00af00\">645</span> │ activation_15[<span style=\"color: #00af00; text-decoration-color: #00af00\">0</span>]… │\n",
       "├─────────────────────┼───────────────────┼────────────┼───────────────────┤\n",
       "│ final_output        │ (<span style=\"color: #00d7ff; text-decoration-color: #00d7ff\">None</span>, <span style=\"color: #00af00; text-decoration-color: #00af00\">64</span>, <span style=\"color: #00af00; text-decoration-color: #00af00\">128</span>,   │        <span style=\"color: #00af00; text-decoration-color: #00af00\">325</span> │ activation_17[<span style=\"color: #00af00; text-decoration-color: #00af00\">0</span>]… │\n",
       "│ (<span style=\"color: #0087ff; text-decoration-color: #0087ff\">Conv2D</span>)            │ <span style=\"color: #00af00; text-decoration-color: #00af00\">5</span>)                │            │                   │\n",
       "└─────────────────────┴───────────────────┴────────────┴───────────────────┘\n",
       "</pre>\n"
      ],
      "text/plain": [
       "┏━━━━━━━━━━━━━━━━━━━━━┳━━━━━━━━━━━━━━━━━━━┳━━━━━━━━━━━━┳━━━━━━━━━━━━━━━━━━━┓\n",
       "┃\u001b[1m \u001b[0m\u001b[1mLayer (type)       \u001b[0m\u001b[1m \u001b[0m┃\u001b[1m \u001b[0m\u001b[1mOutput Shape     \u001b[0m\u001b[1m \u001b[0m┃\u001b[1m \u001b[0m\u001b[1m   Param #\u001b[0m\u001b[1m \u001b[0m┃\u001b[1m \u001b[0m\u001b[1mConnected to     \u001b[0m\u001b[1m \u001b[0m┃\n",
       "┡━━━━━━━━━━━━━━━━━━━━━╇━━━━━━━━━━━━━━━━━━━╇━━━━━━━━━━━━╇━━━━━━━━━━━━━━━━━━━┩\n",
       "│ input_layer         │ (\u001b[38;5;45mNone\u001b[0m, \u001b[38;5;34m64\u001b[0m, \u001b[38;5;34m128\u001b[0m,   │          \u001b[38;5;34m0\u001b[0m │ -                 │\n",
       "│ (\u001b[38;5;33mInputLayer\u001b[0m)        │ \u001b[38;5;34m2\u001b[0m)                │            │                   │\n",
       "├─────────────────────┼───────────────────┼────────────┼───────────────────┤\n",
       "│ conv2d (\u001b[38;5;33mConv2D\u001b[0m)     │ (\u001b[38;5;45mNone\u001b[0m, \u001b[38;5;34m64\u001b[0m, \u001b[38;5;34m128\u001b[0m,   │      \u001b[38;5;34m1,216\u001b[0m │ input_layer[\u001b[38;5;34m0\u001b[0m][\u001b[38;5;34m0\u001b[0m] │\n",
       "│                     │ \u001b[38;5;34m64\u001b[0m)               │            │                   │\n",
       "├─────────────────────┼───────────────────┼────────────┼───────────────────┤\n",
       "│ batch_normalization │ (\u001b[38;5;45mNone\u001b[0m, \u001b[38;5;34m64\u001b[0m, \u001b[38;5;34m128\u001b[0m,   │        \u001b[38;5;34m256\u001b[0m │ conv2d[\u001b[38;5;34m0\u001b[0m][\u001b[38;5;34m0\u001b[0m]      │\n",
       "│ (\u001b[38;5;33mBatchNormalizatio…\u001b[0m │ \u001b[38;5;34m64\u001b[0m)               │            │                   │\n",
       "├─────────────────────┼───────────────────┼────────────┼───────────────────┤\n",
       "│ activation          │ (\u001b[38;5;45mNone\u001b[0m, \u001b[38;5;34m64\u001b[0m, \u001b[38;5;34m128\u001b[0m,   │          \u001b[38;5;34m0\u001b[0m │ batch_normalizat… │\n",
       "│ (\u001b[38;5;33mActivation\u001b[0m)        │ \u001b[38;5;34m64\u001b[0m)               │            │                   │\n",
       "├─────────────────────┼───────────────────┼────────────┼───────────────────┤\n",
       "│ conv2d_1 (\u001b[38;5;33mConv2D\u001b[0m)   │ (\u001b[38;5;45mNone\u001b[0m, \u001b[38;5;34m64\u001b[0m, \u001b[38;5;34m128\u001b[0m,   │     \u001b[38;5;34m36,928\u001b[0m │ activation[\u001b[38;5;34m0\u001b[0m][\u001b[38;5;34m0\u001b[0m]  │\n",
       "│                     │ \u001b[38;5;34m64\u001b[0m)               │            │                   │\n",
       "├─────────────────────┼───────────────────┼────────────┼───────────────────┤\n",
       "│ batch_normalizatio… │ (\u001b[38;5;45mNone\u001b[0m, \u001b[38;5;34m64\u001b[0m, \u001b[38;5;34m128\u001b[0m,   │        \u001b[38;5;34m256\u001b[0m │ conv2d_1[\u001b[38;5;34m0\u001b[0m][\u001b[38;5;34m0\u001b[0m]    │\n",
       "│ (\u001b[38;5;33mBatchNormalizatio…\u001b[0m │ \u001b[38;5;34m64\u001b[0m)               │            │                   │\n",
       "├─────────────────────┼───────────────────┼────────────┼───────────────────┤\n",
       "│ activation_1        │ (\u001b[38;5;45mNone\u001b[0m, \u001b[38;5;34m64\u001b[0m, \u001b[38;5;34m128\u001b[0m,   │          \u001b[38;5;34m0\u001b[0m │ batch_normalizat… │\n",
       "│ (\u001b[38;5;33mActivation\u001b[0m)        │ \u001b[38;5;34m64\u001b[0m)               │            │                   │\n",
       "├─────────────────────┼───────────────────┼────────────┼───────────────────┤\n",
       "│ max_pooling2d       │ (\u001b[38;5;45mNone\u001b[0m, \u001b[38;5;34m32\u001b[0m, \u001b[38;5;34m64\u001b[0m,    │          \u001b[38;5;34m0\u001b[0m │ activation_1[\u001b[38;5;34m0\u001b[0m][\u001b[38;5;34m…\u001b[0m │\n",
       "│ (\u001b[38;5;33mMaxPooling2D\u001b[0m)      │ \u001b[38;5;34m64\u001b[0m)               │            │                   │\n",
       "├─────────────────────┼───────────────────┼────────────┼───────────────────┤\n",
       "│ conv2d_2 (\u001b[38;5;33mConv2D\u001b[0m)   │ (\u001b[38;5;45mNone\u001b[0m, \u001b[38;5;34m32\u001b[0m, \u001b[38;5;34m64\u001b[0m,    │     \u001b[38;5;34m73,856\u001b[0m │ max_pooling2d[\u001b[38;5;34m0\u001b[0m]… │\n",
       "│                     │ \u001b[38;5;34m128\u001b[0m)              │            │                   │\n",
       "├─────────────────────┼───────────────────┼────────────┼───────────────────┤\n",
       "│ batch_normalizatio… │ (\u001b[38;5;45mNone\u001b[0m, \u001b[38;5;34m32\u001b[0m, \u001b[38;5;34m64\u001b[0m,    │        \u001b[38;5;34m512\u001b[0m │ conv2d_2[\u001b[38;5;34m0\u001b[0m][\u001b[38;5;34m0\u001b[0m]    │\n",
       "│ (\u001b[38;5;33mBatchNormalizatio…\u001b[0m │ \u001b[38;5;34m128\u001b[0m)              │            │                   │\n",
       "├─────────────────────┼───────────────────┼────────────┼───────────────────┤\n",
       "│ activation_2        │ (\u001b[38;5;45mNone\u001b[0m, \u001b[38;5;34m32\u001b[0m, \u001b[38;5;34m64\u001b[0m,    │          \u001b[38;5;34m0\u001b[0m │ batch_normalizat… │\n",
       "│ (\u001b[38;5;33mActivation\u001b[0m)        │ \u001b[38;5;34m128\u001b[0m)              │            │                   │\n",
       "├─────────────────────┼───────────────────┼────────────┼───────────────────┤\n",
       "│ conv2d_3 (\u001b[38;5;33mConv2D\u001b[0m)   │ (\u001b[38;5;45mNone\u001b[0m, \u001b[38;5;34m32\u001b[0m, \u001b[38;5;34m64\u001b[0m,    │    \u001b[38;5;34m147,584\u001b[0m │ activation_2[\u001b[38;5;34m0\u001b[0m][\u001b[38;5;34m…\u001b[0m │\n",
       "│                     │ \u001b[38;5;34m128\u001b[0m)              │            │                   │\n",
       "├─────────────────────┼───────────────────┼────────────┼───────────────────┤\n",
       "│ batch_normalizatio… │ (\u001b[38;5;45mNone\u001b[0m, \u001b[38;5;34m32\u001b[0m, \u001b[38;5;34m64\u001b[0m,    │        \u001b[38;5;34m512\u001b[0m │ conv2d_3[\u001b[38;5;34m0\u001b[0m][\u001b[38;5;34m0\u001b[0m]    │\n",
       "│ (\u001b[38;5;33mBatchNormalizatio…\u001b[0m │ \u001b[38;5;34m128\u001b[0m)              │            │                   │\n",
       "├─────────────────────┼───────────────────┼────────────┼───────────────────┤\n",
       "│ activation_3        │ (\u001b[38;5;45mNone\u001b[0m, \u001b[38;5;34m32\u001b[0m, \u001b[38;5;34m64\u001b[0m,    │          \u001b[38;5;34m0\u001b[0m │ batch_normalizat… │\n",
       "│ (\u001b[38;5;33mActivation\u001b[0m)        │ \u001b[38;5;34m128\u001b[0m)              │            │                   │\n",
       "├─────────────────────┼───────────────────┼────────────┼───────────────────┤\n",
       "│ max_pooling2d_1     │ (\u001b[38;5;45mNone\u001b[0m, \u001b[38;5;34m16\u001b[0m, \u001b[38;5;34m32\u001b[0m,    │          \u001b[38;5;34m0\u001b[0m │ activation_3[\u001b[38;5;34m0\u001b[0m][\u001b[38;5;34m…\u001b[0m │\n",
       "│ (\u001b[38;5;33mMaxPooling2D\u001b[0m)      │ \u001b[38;5;34m128\u001b[0m)              │            │                   │\n",
       "├─────────────────────┼───────────────────┼────────────┼───────────────────┤\n",
       "│ conv2d_4 (\u001b[38;5;33mConv2D\u001b[0m)   │ (\u001b[38;5;45mNone\u001b[0m, \u001b[38;5;34m16\u001b[0m, \u001b[38;5;34m32\u001b[0m,    │    \u001b[38;5;34m295,168\u001b[0m │ max_pooling2d_1[\u001b[38;5;34m…\u001b[0m │\n",
       "│                     │ \u001b[38;5;34m256\u001b[0m)              │            │                   │\n",
       "├─────────────────────┼───────────────────┼────────────┼───────────────────┤\n",
       "│ batch_normalizatio… │ (\u001b[38;5;45mNone\u001b[0m, \u001b[38;5;34m16\u001b[0m, \u001b[38;5;34m32\u001b[0m,    │      \u001b[38;5;34m1,024\u001b[0m │ conv2d_4[\u001b[38;5;34m0\u001b[0m][\u001b[38;5;34m0\u001b[0m]    │\n",
       "│ (\u001b[38;5;33mBatchNormalizatio…\u001b[0m │ \u001b[38;5;34m256\u001b[0m)              │            │                   │\n",
       "├─────────────────────┼───────────────────┼────────────┼───────────────────┤\n",
       "│ activation_4        │ (\u001b[38;5;45mNone\u001b[0m, \u001b[38;5;34m16\u001b[0m, \u001b[38;5;34m32\u001b[0m,    │          \u001b[38;5;34m0\u001b[0m │ batch_normalizat… │\n",
       "│ (\u001b[38;5;33mActivation\u001b[0m)        │ \u001b[38;5;34m256\u001b[0m)              │            │                   │\n",
       "├─────────────────────┼───────────────────┼────────────┼───────────────────┤\n",
       "│ conv2d_5 (\u001b[38;5;33mConv2D\u001b[0m)   │ (\u001b[38;5;45mNone\u001b[0m, \u001b[38;5;34m16\u001b[0m, \u001b[38;5;34m32\u001b[0m,    │    \u001b[38;5;34m590,080\u001b[0m │ activation_4[\u001b[38;5;34m0\u001b[0m][\u001b[38;5;34m…\u001b[0m │\n",
       "│                     │ \u001b[38;5;34m256\u001b[0m)              │            │                   │\n",
       "├─────────────────────┼───────────────────┼────────────┼───────────────────┤\n",
       "│ batch_normalizatio… │ (\u001b[38;5;45mNone\u001b[0m, \u001b[38;5;34m16\u001b[0m, \u001b[38;5;34m32\u001b[0m,    │      \u001b[38;5;34m1,024\u001b[0m │ conv2d_5[\u001b[38;5;34m0\u001b[0m][\u001b[38;5;34m0\u001b[0m]    │\n",
       "│ (\u001b[38;5;33mBatchNormalizatio…\u001b[0m │ \u001b[38;5;34m256\u001b[0m)              │            │                   │\n",
       "├─────────────────────┼───────────────────┼────────────┼───────────────────┤\n",
       "│ activation_5        │ (\u001b[38;5;45mNone\u001b[0m, \u001b[38;5;34m16\u001b[0m, \u001b[38;5;34m32\u001b[0m,    │          \u001b[38;5;34m0\u001b[0m │ batch_normalizat… │\n",
       "│ (\u001b[38;5;33mActivation\u001b[0m)        │ \u001b[38;5;34m256\u001b[0m)              │            │                   │\n",
       "├─────────────────────┼───────────────────┼────────────┼───────────────────┤\n",
       "│ max_pooling2d_2     │ (\u001b[38;5;45mNone\u001b[0m, \u001b[38;5;34m8\u001b[0m, \u001b[38;5;34m16\u001b[0m,     │          \u001b[38;5;34m0\u001b[0m │ activation_5[\u001b[38;5;34m0\u001b[0m][\u001b[38;5;34m…\u001b[0m │\n",
       "│ (\u001b[38;5;33mMaxPooling2D\u001b[0m)      │ \u001b[38;5;34m256\u001b[0m)              │            │                   │\n",
       "├─────────────────────┼───────────────────┼────────────┼───────────────────┤\n",
       "│ conv2d_6 (\u001b[38;5;33mConv2D\u001b[0m)   │ (\u001b[38;5;45mNone\u001b[0m, \u001b[38;5;34m8\u001b[0m, \u001b[38;5;34m16\u001b[0m,     │  \u001b[38;5;34m1,180,160\u001b[0m │ max_pooling2d_2[\u001b[38;5;34m…\u001b[0m │\n",
       "│                     │ \u001b[38;5;34m512\u001b[0m)              │            │                   │\n",
       "├─────────────────────┼───────────────────┼────────────┼───────────────────┤\n",
       "│ batch_normalizatio… │ (\u001b[38;5;45mNone\u001b[0m, \u001b[38;5;34m8\u001b[0m, \u001b[38;5;34m16\u001b[0m,     │      \u001b[38;5;34m2,048\u001b[0m │ conv2d_6[\u001b[38;5;34m0\u001b[0m][\u001b[38;5;34m0\u001b[0m]    │\n",
       "│ (\u001b[38;5;33mBatchNormalizatio…\u001b[0m │ \u001b[38;5;34m512\u001b[0m)              │            │                   │\n",
       "├─────────────────────┼───────────────────┼────────────┼───────────────────┤\n",
       "│ activation_6        │ (\u001b[38;5;45mNone\u001b[0m, \u001b[38;5;34m8\u001b[0m, \u001b[38;5;34m16\u001b[0m,     │          \u001b[38;5;34m0\u001b[0m │ batch_normalizat… │\n",
       "│ (\u001b[38;5;33mActivation\u001b[0m)        │ \u001b[38;5;34m512\u001b[0m)              │            │                   │\n",
       "├─────────────────────┼───────────────────┼────────────┼───────────────────┤\n",
       "│ conv2d_7 (\u001b[38;5;33mConv2D\u001b[0m)   │ (\u001b[38;5;45mNone\u001b[0m, \u001b[38;5;34m8\u001b[0m, \u001b[38;5;34m16\u001b[0m,     │  \u001b[38;5;34m2,359,808\u001b[0m │ activation_6[\u001b[38;5;34m0\u001b[0m][\u001b[38;5;34m…\u001b[0m │\n",
       "│                     │ \u001b[38;5;34m512\u001b[0m)              │            │                   │\n",
       "├─────────────────────┼───────────────────┼────────────┼───────────────────┤\n",
       "│ batch_normalizatio… │ (\u001b[38;5;45mNone\u001b[0m, \u001b[38;5;34m8\u001b[0m, \u001b[38;5;34m16\u001b[0m,     │      \u001b[38;5;34m2,048\u001b[0m │ conv2d_7[\u001b[38;5;34m0\u001b[0m][\u001b[38;5;34m0\u001b[0m]    │\n",
       "│ (\u001b[38;5;33mBatchNormalizatio…\u001b[0m │ \u001b[38;5;34m512\u001b[0m)              │            │                   │\n",
       "├─────────────────────┼───────────────────┼────────────┼───────────────────┤\n",
       "│ activation_7        │ (\u001b[38;5;45mNone\u001b[0m, \u001b[38;5;34m8\u001b[0m, \u001b[38;5;34m16\u001b[0m,     │          \u001b[38;5;34m0\u001b[0m │ batch_normalizat… │\n",
       "│ (\u001b[38;5;33mActivation\u001b[0m)        │ \u001b[38;5;34m512\u001b[0m)              │            │                   │\n",
       "├─────────────────────┼───────────────────┼────────────┼───────────────────┤\n",
       "│ max_pooling2d_3     │ (\u001b[38;5;45mNone\u001b[0m, \u001b[38;5;34m4\u001b[0m, \u001b[38;5;34m8\u001b[0m, \u001b[38;5;34m512\u001b[0m) │          \u001b[38;5;34m0\u001b[0m │ activation_7[\u001b[38;5;34m0\u001b[0m][\u001b[38;5;34m…\u001b[0m │\n",
       "│ (\u001b[38;5;33mMaxPooling2D\u001b[0m)      │                   │            │                   │\n",
       "├─────────────────────┼───────────────────┼────────────┼───────────────────┤\n",
       "│ conv2d_8 (\u001b[38;5;33mConv2D\u001b[0m)   │ (\u001b[38;5;45mNone\u001b[0m, \u001b[38;5;34m4\u001b[0m, \u001b[38;5;34m8\u001b[0m,      │  \u001b[38;5;34m4,719,616\u001b[0m │ max_pooling2d_3[\u001b[38;5;34m…\u001b[0m │\n",
       "│                     │ \u001b[38;5;34m1024\u001b[0m)             │            │                   │\n",
       "├─────────────────────┼───────────────────┼────────────┼───────────────────┤\n",
       "│ batch_normalizatio… │ (\u001b[38;5;45mNone\u001b[0m, \u001b[38;5;34m4\u001b[0m, \u001b[38;5;34m8\u001b[0m,      │      \u001b[38;5;34m4,096\u001b[0m │ conv2d_8[\u001b[38;5;34m0\u001b[0m][\u001b[38;5;34m0\u001b[0m]    │\n",
       "│ (\u001b[38;5;33mBatchNormalizatio…\u001b[0m │ \u001b[38;5;34m1024\u001b[0m)             │            │                   │\n",
       "├─────────────────────┼───────────────────┼────────────┼───────────────────┤\n",
       "│ activation_8        │ (\u001b[38;5;45mNone\u001b[0m, \u001b[38;5;34m4\u001b[0m, \u001b[38;5;34m8\u001b[0m,      │          \u001b[38;5;34m0\u001b[0m │ batch_normalizat… │\n",
       "│ (\u001b[38;5;33mActivation\u001b[0m)        │ \u001b[38;5;34m1024\u001b[0m)             │            │                   │\n",
       "├─────────────────────┼───────────────────┼────────────┼───────────────────┤\n",
       "│ conv2d_9 (\u001b[38;5;33mConv2D\u001b[0m)   │ (\u001b[38;5;45mNone\u001b[0m, \u001b[38;5;34m4\u001b[0m, \u001b[38;5;34m8\u001b[0m,      │  \u001b[38;5;34m9,438,208\u001b[0m │ activation_8[\u001b[38;5;34m0\u001b[0m][\u001b[38;5;34m…\u001b[0m │\n",
       "│                     │ \u001b[38;5;34m1024\u001b[0m)             │            │                   │\n",
       "├─────────────────────┼───────────────────┼────────────┼───────────────────┤\n",
       "│ batch_normalizatio… │ (\u001b[38;5;45mNone\u001b[0m, \u001b[38;5;34m4\u001b[0m, \u001b[38;5;34m8\u001b[0m,      │      \u001b[38;5;34m4,096\u001b[0m │ conv2d_9[\u001b[38;5;34m0\u001b[0m][\u001b[38;5;34m0\u001b[0m]    │\n",
       "│ (\u001b[38;5;33mBatchNormalizatio…\u001b[0m │ \u001b[38;5;34m1024\u001b[0m)             │            │                   │\n",
       "├─────────────────────┼───────────────────┼────────────┼───────────────────┤\n",
       "│ activation_9        │ (\u001b[38;5;45mNone\u001b[0m, \u001b[38;5;34m4\u001b[0m, \u001b[38;5;34m8\u001b[0m,      │          \u001b[38;5;34m0\u001b[0m │ batch_normalizat… │\n",
       "│ (\u001b[38;5;33mActivation\u001b[0m)        │ \u001b[38;5;34m1024\u001b[0m)             │            │                   │\n",
       "├─────────────────────┼───────────────────┼────────────┼───────────────────┤\n",
       "│ conv2d_10 (\u001b[38;5;33mConv2D\u001b[0m)  │ (\u001b[38;5;45mNone\u001b[0m, \u001b[38;5;34m8\u001b[0m, \u001b[38;5;34m16\u001b[0m, \u001b[38;5;34m1\u001b[0m)  │        \u001b[38;5;34m513\u001b[0m │ activation_7[\u001b[38;5;34m0\u001b[0m][\u001b[38;5;34m…\u001b[0m │\n",
       "├─────────────────────┼───────────────────┼────────────┼───────────────────┤\n",
       "│ conv2d_transpose    │ (\u001b[38;5;45mNone\u001b[0m, \u001b[38;5;34m8\u001b[0m, \u001b[38;5;34m16\u001b[0m,     │  \u001b[38;5;34m2,097,664\u001b[0m │ activation_9[\u001b[38;5;34m0\u001b[0m][\u001b[38;5;34m…\u001b[0m │\n",
       "│ (\u001b[38;5;33mConv2DTranspose\u001b[0m)   │ \u001b[38;5;34m512\u001b[0m)              │            │                   │\n",
       "├─────────────────────┼───────────────────┼────────────┼───────────────────┤\n",
       "│ multiply (\u001b[38;5;33mMultiply\u001b[0m) │ (\u001b[38;5;45mNone\u001b[0m, \u001b[38;5;34m8\u001b[0m, \u001b[38;5;34m16\u001b[0m,     │          \u001b[38;5;34m0\u001b[0m │ conv2d_10[\u001b[38;5;34m0\u001b[0m][\u001b[38;5;34m0\u001b[0m],  │\n",
       "│                     │ \u001b[38;5;34m512\u001b[0m)              │            │ activation_7[\u001b[38;5;34m0\u001b[0m][\u001b[38;5;34m…\u001b[0m │\n",
       "├─────────────────────┼───────────────────┼────────────┼───────────────────┤\n",
       "│ conv2d_11 (\u001b[38;5;33mConv2D\u001b[0m)  │ (\u001b[38;5;45mNone\u001b[0m, \u001b[38;5;34m8\u001b[0m, \u001b[38;5;34m16\u001b[0m,     │    \u001b[38;5;34m262,656\u001b[0m │ conv2d_transpose… │\n",
       "│                     │ \u001b[38;5;34m512\u001b[0m)              │            │                   │\n",
       "├─────────────────────┼───────────────────┼────────────┼───────────────────┤\n",
       "│ concatenate         │ (\u001b[38;5;45mNone\u001b[0m, \u001b[38;5;34m8\u001b[0m, \u001b[38;5;34m16\u001b[0m,     │          \u001b[38;5;34m0\u001b[0m │ multiply[\u001b[38;5;34m0\u001b[0m][\u001b[38;5;34m0\u001b[0m],   │\n",
       "│ (\u001b[38;5;33mConcatenate\u001b[0m)       │ \u001b[38;5;34m1024\u001b[0m)             │            │ conv2d_11[\u001b[38;5;34m0\u001b[0m][\u001b[38;5;34m0\u001b[0m]   │\n",
       "├─────────────────────┼───────────────────┼────────────┼───────────────────┤\n",
       "│ conv2d_12 (\u001b[38;5;33mConv2D\u001b[0m)  │ (\u001b[38;5;45mNone\u001b[0m, \u001b[38;5;34m8\u001b[0m, \u001b[38;5;34m16\u001b[0m,     │  \u001b[38;5;34m4,719,104\u001b[0m │ concatenate[\u001b[38;5;34m0\u001b[0m][\u001b[38;5;34m0\u001b[0m] │\n",
       "│                     │ \u001b[38;5;34m512\u001b[0m)              │            │                   │\n",
       "├─────────────────────┼───────────────────┼────────────┼───────────────────┤\n",
       "│ batch_normalizatio… │ (\u001b[38;5;45mNone\u001b[0m, \u001b[38;5;34m8\u001b[0m, \u001b[38;5;34m16\u001b[0m,     │      \u001b[38;5;34m2,048\u001b[0m │ conv2d_12[\u001b[38;5;34m0\u001b[0m][\u001b[38;5;34m0\u001b[0m]   │\n",
       "│ (\u001b[38;5;33mBatchNormalizatio…\u001b[0m │ \u001b[38;5;34m512\u001b[0m)              │            │                   │\n",
       "├─────────────────────┼───────────────────┼────────────┼───────────────────┤\n",
       "│ activation_10       │ (\u001b[38;5;45mNone\u001b[0m, \u001b[38;5;34m8\u001b[0m, \u001b[38;5;34m16\u001b[0m,     │          \u001b[38;5;34m0\u001b[0m │ batch_normalizat… │\n",
       "│ (\u001b[38;5;33mActivation\u001b[0m)        │ \u001b[38;5;34m512\u001b[0m)              │            │                   │\n",
       "├─────────────────────┼───────────────────┼────────────┼───────────────────┤\n",
       "│ conv2d_13 (\u001b[38;5;33mConv2D\u001b[0m)  │ (\u001b[38;5;45mNone\u001b[0m, \u001b[38;5;34m8\u001b[0m, \u001b[38;5;34m16\u001b[0m,     │  \u001b[38;5;34m2,359,808\u001b[0m │ activation_10[\u001b[38;5;34m0\u001b[0m]… │\n",
       "│                     │ \u001b[38;5;34m512\u001b[0m)              │            │                   │\n",
       "├─────────────────────┼───────────────────┼────────────┼───────────────────┤\n",
       "│ batch_normalizatio… │ (\u001b[38;5;45mNone\u001b[0m, \u001b[38;5;34m8\u001b[0m, \u001b[38;5;34m16\u001b[0m,     │      \u001b[38;5;34m2,048\u001b[0m │ conv2d_13[\u001b[38;5;34m0\u001b[0m][\u001b[38;5;34m0\u001b[0m]   │\n",
       "│ (\u001b[38;5;33mBatchNormalizatio…\u001b[0m │ \u001b[38;5;34m512\u001b[0m)              │            │                   │\n",
       "├─────────────────────┼───────────────────┼────────────┼───────────────────┤\n",
       "│ activation_11       │ (\u001b[38;5;45mNone\u001b[0m, \u001b[38;5;34m8\u001b[0m, \u001b[38;5;34m16\u001b[0m,     │          \u001b[38;5;34m0\u001b[0m │ batch_normalizat… │\n",
       "│ (\u001b[38;5;33mActivation\u001b[0m)        │ \u001b[38;5;34m512\u001b[0m)              │            │                   │\n",
       "├─────────────────────┼───────────────────┼────────────┼───────────────────┤\n",
       "│ conv2d_14 (\u001b[38;5;33mConv2D\u001b[0m)  │ (\u001b[38;5;45mNone\u001b[0m, \u001b[38;5;34m16\u001b[0m, \u001b[38;5;34m32\u001b[0m, \u001b[38;5;34m1\u001b[0m) │        \u001b[38;5;34m257\u001b[0m │ activation_5[\u001b[38;5;34m0\u001b[0m][\u001b[38;5;34m…\u001b[0m │\n",
       "├─────────────────────┼───────────────────┼────────────┼───────────────────┤\n",
       "│ conv2d_transpose_1  │ (\u001b[38;5;45mNone\u001b[0m, \u001b[38;5;34m16\u001b[0m, \u001b[38;5;34m32\u001b[0m,    │    \u001b[38;5;34m524,544\u001b[0m │ activation_11[\u001b[38;5;34m0\u001b[0m]… │\n",
       "│ (\u001b[38;5;33mConv2DTranspose\u001b[0m)   │ \u001b[38;5;34m256\u001b[0m)              │            │                   │\n",
       "├─────────────────────┼───────────────────┼────────────┼───────────────────┤\n",
       "│ multiply_1          │ (\u001b[38;5;45mNone\u001b[0m, \u001b[38;5;34m16\u001b[0m, \u001b[38;5;34m32\u001b[0m,    │          \u001b[38;5;34m0\u001b[0m │ conv2d_14[\u001b[38;5;34m0\u001b[0m][\u001b[38;5;34m0\u001b[0m],  │\n",
       "│ (\u001b[38;5;33mMultiply\u001b[0m)          │ \u001b[38;5;34m256\u001b[0m)              │            │ activation_5[\u001b[38;5;34m0\u001b[0m][\u001b[38;5;34m…\u001b[0m │\n",
       "├─────────────────────┼───────────────────┼────────────┼───────────────────┤\n",
       "│ conv2d_15 (\u001b[38;5;33mConv2D\u001b[0m)  │ (\u001b[38;5;45mNone\u001b[0m, \u001b[38;5;34m16\u001b[0m, \u001b[38;5;34m32\u001b[0m,    │     \u001b[38;5;34m65,792\u001b[0m │ conv2d_transpose… │\n",
       "│                     │ \u001b[38;5;34m256\u001b[0m)              │            │                   │\n",
       "├─────────────────────┼───────────────────┼────────────┼───────────────────┤\n",
       "│ concatenate_1       │ (\u001b[38;5;45mNone\u001b[0m, \u001b[38;5;34m16\u001b[0m, \u001b[38;5;34m32\u001b[0m,    │          \u001b[38;5;34m0\u001b[0m │ multiply_1[\u001b[38;5;34m0\u001b[0m][\u001b[38;5;34m0\u001b[0m], │\n",
       "│ (\u001b[38;5;33mConcatenate\u001b[0m)       │ \u001b[38;5;34m512\u001b[0m)              │            │ conv2d_15[\u001b[38;5;34m0\u001b[0m][\u001b[38;5;34m0\u001b[0m]   │\n",
       "├─────────────────────┼───────────────────┼────────────┼───────────────────┤\n",
       "│ conv2d_16 (\u001b[38;5;33mConv2D\u001b[0m)  │ (\u001b[38;5;45mNone\u001b[0m, \u001b[38;5;34m16\u001b[0m, \u001b[38;5;34m32\u001b[0m,    │  \u001b[38;5;34m1,179,904\u001b[0m │ concatenate_1[\u001b[38;5;34m0\u001b[0m]… │\n",
       "│                     │ \u001b[38;5;34m256\u001b[0m)              │            │                   │\n",
       "├─────────────────────┼───────────────────┼────────────┼───────────────────┤\n",
       "│ batch_normalizatio… │ (\u001b[38;5;45mNone\u001b[0m, \u001b[38;5;34m16\u001b[0m, \u001b[38;5;34m32\u001b[0m,    │      \u001b[38;5;34m1,024\u001b[0m │ conv2d_16[\u001b[38;5;34m0\u001b[0m][\u001b[38;5;34m0\u001b[0m]   │\n",
       "│ (\u001b[38;5;33mBatchNormalizatio…\u001b[0m │ \u001b[38;5;34m256\u001b[0m)              │            │                   │\n",
       "├─────────────────────┼───────────────────┼────────────┼───────────────────┤\n",
       "│ activation_12       │ (\u001b[38;5;45mNone\u001b[0m, \u001b[38;5;34m16\u001b[0m, \u001b[38;5;34m32\u001b[0m,    │          \u001b[38;5;34m0\u001b[0m │ batch_normalizat… │\n",
       "│ (\u001b[38;5;33mActivation\u001b[0m)        │ \u001b[38;5;34m256\u001b[0m)              │            │                   │\n",
       "├─────────────────────┼───────────────────┼────────────┼───────────────────┤\n",
       "│ conv2d_17 (\u001b[38;5;33mConv2D\u001b[0m)  │ (\u001b[38;5;45mNone\u001b[0m, \u001b[38;5;34m16\u001b[0m, \u001b[38;5;34m32\u001b[0m,    │    \u001b[38;5;34m590,080\u001b[0m │ activation_12[\u001b[38;5;34m0\u001b[0m]… │\n",
       "│                     │ \u001b[38;5;34m256\u001b[0m)              │            │                   │\n",
       "├─────────────────────┼───────────────────┼────────────┼───────────────────┤\n",
       "│ batch_normalizatio… │ (\u001b[38;5;45mNone\u001b[0m, \u001b[38;5;34m16\u001b[0m, \u001b[38;5;34m32\u001b[0m,    │      \u001b[38;5;34m1,024\u001b[0m │ conv2d_17[\u001b[38;5;34m0\u001b[0m][\u001b[38;5;34m0\u001b[0m]   │\n",
       "│ (\u001b[38;5;33mBatchNormalizatio…\u001b[0m │ \u001b[38;5;34m256\u001b[0m)              │            │                   │\n",
       "├─────────────────────┼───────────────────┼────────────┼───────────────────┤\n",
       "│ activation_13       │ (\u001b[38;5;45mNone\u001b[0m, \u001b[38;5;34m16\u001b[0m, \u001b[38;5;34m32\u001b[0m,    │          \u001b[38;5;34m0\u001b[0m │ batch_normalizat… │\n",
       "│ (\u001b[38;5;33mActivation\u001b[0m)        │ \u001b[38;5;34m256\u001b[0m)              │            │                   │\n",
       "├─────────────────────┼───────────────────┼────────────┼───────────────────┤\n",
       "│ conv2d_18 (\u001b[38;5;33mConv2D\u001b[0m)  │ (\u001b[38;5;45mNone\u001b[0m, \u001b[38;5;34m32\u001b[0m, \u001b[38;5;34m64\u001b[0m, \u001b[38;5;34m1\u001b[0m) │        \u001b[38;5;34m129\u001b[0m │ activation_3[\u001b[38;5;34m0\u001b[0m][\u001b[38;5;34m…\u001b[0m │\n",
       "├─────────────────────┼───────────────────┼────────────┼───────────────────┤\n",
       "│ conv2d_transpose_2  │ (\u001b[38;5;45mNone\u001b[0m, \u001b[38;5;34m32\u001b[0m, \u001b[38;5;34m64\u001b[0m,    │    \u001b[38;5;34m131,200\u001b[0m │ activation_13[\u001b[38;5;34m0\u001b[0m]… │\n",
       "│ (\u001b[38;5;33mConv2DTranspose\u001b[0m)   │ \u001b[38;5;34m128\u001b[0m)              │            │                   │\n",
       "├─────────────────────┼───────────────────┼────────────┼───────────────────┤\n",
       "│ multiply_2          │ (\u001b[38;5;45mNone\u001b[0m, \u001b[38;5;34m32\u001b[0m, \u001b[38;5;34m64\u001b[0m,    │          \u001b[38;5;34m0\u001b[0m │ conv2d_18[\u001b[38;5;34m0\u001b[0m][\u001b[38;5;34m0\u001b[0m],  │\n",
       "│ (\u001b[38;5;33mMultiply\u001b[0m)          │ \u001b[38;5;34m128\u001b[0m)              │            │ activation_3[\u001b[38;5;34m0\u001b[0m][\u001b[38;5;34m…\u001b[0m │\n",
       "├─────────────────────┼───────────────────┼────────────┼───────────────────┤\n",
       "│ conv2d_19 (\u001b[38;5;33mConv2D\u001b[0m)  │ (\u001b[38;5;45mNone\u001b[0m, \u001b[38;5;34m32\u001b[0m, \u001b[38;5;34m64\u001b[0m,    │     \u001b[38;5;34m16,512\u001b[0m │ conv2d_transpose… │\n",
       "│                     │ \u001b[38;5;34m128\u001b[0m)              │            │                   │\n",
       "├─────────────────────┼───────────────────┼────────────┼───────────────────┤\n",
       "│ concatenate_2       │ (\u001b[38;5;45mNone\u001b[0m, \u001b[38;5;34m32\u001b[0m, \u001b[38;5;34m64\u001b[0m,    │          \u001b[38;5;34m0\u001b[0m │ multiply_2[\u001b[38;5;34m0\u001b[0m][\u001b[38;5;34m0\u001b[0m], │\n",
       "│ (\u001b[38;5;33mConcatenate\u001b[0m)       │ \u001b[38;5;34m256\u001b[0m)              │            │ conv2d_19[\u001b[38;5;34m0\u001b[0m][\u001b[38;5;34m0\u001b[0m]   │\n",
       "├─────────────────────┼───────────────────┼────────────┼───────────────────┤\n",
       "│ conv2d_20 (\u001b[38;5;33mConv2D\u001b[0m)  │ (\u001b[38;5;45mNone\u001b[0m, \u001b[38;5;34m32\u001b[0m, \u001b[38;5;34m64\u001b[0m,    │    \u001b[38;5;34m295,040\u001b[0m │ concatenate_2[\u001b[38;5;34m0\u001b[0m]… │\n",
       "│                     │ \u001b[38;5;34m128\u001b[0m)              │            │                   │\n",
       "├─────────────────────┼───────────────────┼────────────┼───────────────────┤\n",
       "│ batch_normalizatio… │ (\u001b[38;5;45mNone\u001b[0m, \u001b[38;5;34m32\u001b[0m, \u001b[38;5;34m64\u001b[0m,    │        \u001b[38;5;34m512\u001b[0m │ conv2d_20[\u001b[38;5;34m0\u001b[0m][\u001b[38;5;34m0\u001b[0m]   │\n",
       "│ (\u001b[38;5;33mBatchNormalizatio…\u001b[0m │ \u001b[38;5;34m128\u001b[0m)              │            │                   │\n",
       "├─────────────────────┼───────────────────┼────────────┼───────────────────┤\n",
       "│ activation_14       │ (\u001b[38;5;45mNone\u001b[0m, \u001b[38;5;34m32\u001b[0m, \u001b[38;5;34m64\u001b[0m,    │          \u001b[38;5;34m0\u001b[0m │ batch_normalizat… │\n",
       "│ (\u001b[38;5;33mActivation\u001b[0m)        │ \u001b[38;5;34m128\u001b[0m)              │            │                   │\n",
       "├─────────────────────┼───────────────────┼────────────┼───────────────────┤\n",
       "│ conv2d_21 (\u001b[38;5;33mConv2D\u001b[0m)  │ (\u001b[38;5;45mNone\u001b[0m, \u001b[38;5;34m32\u001b[0m, \u001b[38;5;34m64\u001b[0m,    │    \u001b[38;5;34m147,584\u001b[0m │ activation_14[\u001b[38;5;34m0\u001b[0m]… │\n",
       "│                     │ \u001b[38;5;34m128\u001b[0m)              │            │                   │\n",
       "├─────────────────────┼───────────────────┼────────────┼───────────────────┤\n",
       "│ batch_normalizatio… │ (\u001b[38;5;45mNone\u001b[0m, \u001b[38;5;34m32\u001b[0m, \u001b[38;5;34m64\u001b[0m,    │        \u001b[38;5;34m512\u001b[0m │ conv2d_21[\u001b[38;5;34m0\u001b[0m][\u001b[38;5;34m0\u001b[0m]   │\n",
       "│ (\u001b[38;5;33mBatchNormalizatio…\u001b[0m │ \u001b[38;5;34m128\u001b[0m)              │            │                   │\n",
       "├─────────────────────┼───────────────────┼────────────┼───────────────────┤\n",
       "│ activation_15       │ (\u001b[38;5;45mNone\u001b[0m, \u001b[38;5;34m32\u001b[0m, \u001b[38;5;34m64\u001b[0m,    │          \u001b[38;5;34m0\u001b[0m │ batch_normalizat… │\n",
       "│ (\u001b[38;5;33mActivation\u001b[0m)        │ \u001b[38;5;34m128\u001b[0m)              │            │                   │\n",
       "├─────────────────────┼───────────────────┼────────────┼───────────────────┤\n",
       "│ conv2d_22 (\u001b[38;5;33mConv2D\u001b[0m)  │ (\u001b[38;5;45mNone\u001b[0m, \u001b[38;5;34m64\u001b[0m, \u001b[38;5;34m128\u001b[0m,   │         \u001b[38;5;34m65\u001b[0m │ activation_1[\u001b[38;5;34m0\u001b[0m][\u001b[38;5;34m…\u001b[0m │\n",
       "│                     │ \u001b[38;5;34m1\u001b[0m)                │            │                   │\n",
       "├─────────────────────┼───────────────────┼────────────┼───────────────────┤\n",
       "│ conv2d_transpose_3  │ (\u001b[38;5;45mNone\u001b[0m, \u001b[38;5;34m64\u001b[0m, \u001b[38;5;34m128\u001b[0m,   │     \u001b[38;5;34m32,832\u001b[0m │ activation_15[\u001b[38;5;34m0\u001b[0m]… │\n",
       "│ (\u001b[38;5;33mConv2DTranspose\u001b[0m)   │ \u001b[38;5;34m64\u001b[0m)               │            │                   │\n",
       "├─────────────────────┼───────────────────┼────────────┼───────────────────┤\n",
       "│ multiply_3          │ (\u001b[38;5;45mNone\u001b[0m, \u001b[38;5;34m64\u001b[0m, \u001b[38;5;34m128\u001b[0m,   │          \u001b[38;5;34m0\u001b[0m │ conv2d_22[\u001b[38;5;34m0\u001b[0m][\u001b[38;5;34m0\u001b[0m],  │\n",
       "│ (\u001b[38;5;33mMultiply\u001b[0m)          │ \u001b[38;5;34m64\u001b[0m)               │            │ activation_1[\u001b[38;5;34m0\u001b[0m][\u001b[38;5;34m…\u001b[0m │\n",
       "├─────────────────────┼───────────────────┼────────────┼───────────────────┤\n",
       "│ conv2d_23 (\u001b[38;5;33mConv2D\u001b[0m)  │ (\u001b[38;5;45mNone\u001b[0m, \u001b[38;5;34m64\u001b[0m, \u001b[38;5;34m128\u001b[0m,   │      \u001b[38;5;34m4,160\u001b[0m │ conv2d_transpose… │\n",
       "│                     │ \u001b[38;5;34m64\u001b[0m)               │            │                   │\n",
       "├─────────────────────┼───────────────────┼────────────┼───────────────────┤\n",
       "│ concatenate_3       │ (\u001b[38;5;45mNone\u001b[0m, \u001b[38;5;34m64\u001b[0m, \u001b[38;5;34m128\u001b[0m,   │          \u001b[38;5;34m0\u001b[0m │ multiply_3[\u001b[38;5;34m0\u001b[0m][\u001b[38;5;34m0\u001b[0m], │\n",
       "│ (\u001b[38;5;33mConcatenate\u001b[0m)       │ \u001b[38;5;34m128\u001b[0m)              │            │ conv2d_23[\u001b[38;5;34m0\u001b[0m][\u001b[38;5;34m0\u001b[0m]   │\n",
       "├─────────────────────┼───────────────────┼────────────┼───────────────────┤\n",
       "│ conv2d_24 (\u001b[38;5;33mConv2D\u001b[0m)  │ (\u001b[38;5;45mNone\u001b[0m, \u001b[38;5;34m64\u001b[0m, \u001b[38;5;34m128\u001b[0m,   │     \u001b[38;5;34m73,792\u001b[0m │ concatenate_3[\u001b[38;5;34m0\u001b[0m]… │\n",
       "│                     │ \u001b[38;5;34m64\u001b[0m)               │            │                   │\n",
       "├─────────────────────┼───────────────────┼────────────┼───────────────────┤\n",
       "│ batch_normalizatio… │ (\u001b[38;5;45mNone\u001b[0m, \u001b[38;5;34m64\u001b[0m, \u001b[38;5;34m128\u001b[0m,   │        \u001b[38;5;34m256\u001b[0m │ conv2d_24[\u001b[38;5;34m0\u001b[0m][\u001b[38;5;34m0\u001b[0m]   │\n",
       "│ (\u001b[38;5;33mBatchNormalizatio…\u001b[0m │ \u001b[38;5;34m64\u001b[0m)               │            │                   │\n",
       "├─────────────────────┼───────────────────┼────────────┼───────────────────┤\n",
       "│ activation_16       │ (\u001b[38;5;45mNone\u001b[0m, \u001b[38;5;34m64\u001b[0m, \u001b[38;5;34m128\u001b[0m,   │          \u001b[38;5;34m0\u001b[0m │ batch_normalizat… │\n",
       "│ (\u001b[38;5;33mActivation\u001b[0m)        │ \u001b[38;5;34m64\u001b[0m)               │            │                   │\n",
       "├─────────────────────┼───────────────────┼────────────┼───────────────────┤\n",
       "│ conv2d_25 (\u001b[38;5;33mConv2D\u001b[0m)  │ (\u001b[38;5;45mNone\u001b[0m, \u001b[38;5;34m64\u001b[0m, \u001b[38;5;34m128\u001b[0m,   │     \u001b[38;5;34m36,928\u001b[0m │ activation_16[\u001b[38;5;34m0\u001b[0m]… │\n",
       "│                     │ \u001b[38;5;34m64\u001b[0m)               │            │                   │\n",
       "├─────────────────────┼───────────────────┼────────────┼───────────────────┤\n",
       "│ batch_normalizatio… │ (\u001b[38;5;45mNone\u001b[0m, \u001b[38;5;34m64\u001b[0m, \u001b[38;5;34m128\u001b[0m,   │        \u001b[38;5;34m256\u001b[0m │ conv2d_25[\u001b[38;5;34m0\u001b[0m][\u001b[38;5;34m0\u001b[0m]   │\n",
       "│ (\u001b[38;5;33mBatchNormalizatio…\u001b[0m │ \u001b[38;5;34m64\u001b[0m)               │            │                   │\n",
       "├─────────────────────┼───────────────────┼────────────┼───────────────────┤\n",
       "│ activation_17       │ (\u001b[38;5;45mNone\u001b[0m, \u001b[38;5;34m64\u001b[0m, \u001b[38;5;34m128\u001b[0m,   │          \u001b[38;5;34m0\u001b[0m │ batch_normalizat… │\n",
       "│ (\u001b[38;5;33mActivation\u001b[0m)        │ \u001b[38;5;34m64\u001b[0m)               │            │                   │\n",
       "├─────────────────────┼───────────────────┼────────────┼───────────────────┤\n",
       "│ output_3 (\u001b[38;5;33mConv2D\u001b[0m)   │ (\u001b[38;5;45mNone\u001b[0m, \u001b[38;5;34m8\u001b[0m, \u001b[38;5;34m16\u001b[0m, \u001b[38;5;34m5\u001b[0m)  │      \u001b[38;5;34m2,565\u001b[0m │ activation_11[\u001b[38;5;34m0\u001b[0m]… │\n",
       "├─────────────────────┼───────────────────┼────────────┼───────────────────┤\n",
       "│ output_2 (\u001b[38;5;33mConv2D\u001b[0m)   │ (\u001b[38;5;45mNone\u001b[0m, \u001b[38;5;34m16\u001b[0m, \u001b[38;5;34m32\u001b[0m, \u001b[38;5;34m5\u001b[0m) │      \u001b[38;5;34m1,285\u001b[0m │ activation_13[\u001b[38;5;34m0\u001b[0m]… │\n",
       "├─────────────────────┼───────────────────┼────────────┼───────────────────┤\n",
       "│ output_1 (\u001b[38;5;33mConv2D\u001b[0m)   │ (\u001b[38;5;45mNone\u001b[0m, \u001b[38;5;34m32\u001b[0m, \u001b[38;5;34m64\u001b[0m, \u001b[38;5;34m5\u001b[0m) │        \u001b[38;5;34m645\u001b[0m │ activation_15[\u001b[38;5;34m0\u001b[0m]… │\n",
       "├─────────────────────┼───────────────────┼────────────┼───────────────────┤\n",
       "│ final_output        │ (\u001b[38;5;45mNone\u001b[0m, \u001b[38;5;34m64\u001b[0m, \u001b[38;5;34m128\u001b[0m,   │        \u001b[38;5;34m325\u001b[0m │ activation_17[\u001b[38;5;34m0\u001b[0m]… │\n",
       "│ (\u001b[38;5;33mConv2D\u001b[0m)            │ \u001b[38;5;34m5\u001b[0m)                │            │                   │\n",
       "└─────────────────────┴───────────────────┴────────────┴───────────────────┘\n"
      ]
     },
     "metadata": {},
     "output_type": "display_data"
    },
    {
     "data": {
      "text/html": [
       "<pre style=\"white-space:pre;overflow-x:auto;line-height:normal;font-family:Menlo,'DejaVu Sans Mono',consolas,'Courier New',monospace\"><span style=\"font-weight: bold\"> Total params: </span><span style=\"color: #00af00; text-decoration-color: #00af00\">31,409,560</span> (119.82 MB)\n",
       "</pre>\n"
      ],
      "text/plain": [
       "\u001b[1m Total params: \u001b[0m\u001b[38;5;34m31,409,560\u001b[0m (119.82 MB)\n"
      ]
     },
     "metadata": {},
     "output_type": "display_data"
    },
    {
     "data": {
      "text/html": [
       "<pre style=\"white-space:pre;overflow-x:auto;line-height:normal;font-family:Menlo,'DejaVu Sans Mono',consolas,'Courier New',monospace\"><span style=\"font-weight: bold\"> Trainable params: </span><span style=\"color: #00af00; text-decoration-color: #00af00\">31,397,784</span> (119.77 MB)\n",
       "</pre>\n"
      ],
      "text/plain": [
       "\u001b[1m Trainable params: \u001b[0m\u001b[38;5;34m31,397,784\u001b[0m (119.77 MB)\n"
      ]
     },
     "metadata": {},
     "output_type": "display_data"
    },
    {
     "data": {
      "text/html": [
       "<pre style=\"white-space:pre;overflow-x:auto;line-height:normal;font-family:Menlo,'DejaVu Sans Mono',consolas,'Courier New',monospace\"><span style=\"font-weight: bold\"> Non-trainable params: </span><span style=\"color: #00af00; text-decoration-color: #00af00\">11,776</span> (46.00 KB)\n",
       "</pre>\n"
      ],
      "text/plain": [
       "\u001b[1m Non-trainable params: \u001b[0m\u001b[38;5;34m11,776\u001b[0m (46.00 KB)\n"
      ]
     },
     "metadata": {},
     "output_type": "display_data"
    }
   ],
   "source": [
    "model.summary()"
   ]
  },
  {
   "cell_type": "markdown",
   "id": "fb2b1f68",
   "metadata": {
    "papermill": {
     "duration": 0.017379,
     "end_time": "2024-12-14T14:33:12.125434",
     "exception": false,
     "start_time": "2024-12-14T14:33:12.108055",
     "status": "completed"
    },
    "tags": []
   },
   "source": [
    "## Compile the Model\r\n",
    "\r\n",
    "We compile the model with:\r\n",
    "- Focal loss for each output\r\n",
    "- Weighted losses for deep supervision outputs\r\n",
    "- Mean IoU as a metric\r\n",
    "- Adam optimizer with a chosen learning rate\r\n",
    "\r\n",
    "Callbacks for early stopping and learning rate reduction are also employed.\r\n"
   ]
  },
  {
   "cell_type": "code",
   "execution_count": 18,
   "id": "73affa7c",
   "metadata": {
    "execution": {
     "iopub.execute_input": "2024-12-14T14:33:12.161595Z",
     "iopub.status.busy": "2024-12-14T14:33:12.161300Z",
     "iopub.status.idle": "2024-12-14T14:33:12.176517Z",
     "shell.execute_reply": "2024-12-14T14:33:12.175862Z"
    },
    "papermill": {
     "duration": 0.0354,
     "end_time": "2024-12-14T14:33:12.178120",
     "exception": false,
     "start_time": "2024-12-14T14:33:12.142720",
     "status": "completed"
    },
    "tags": []
   },
   "outputs": [],
   "source": [
    "# Learning Rate Reduction callback\n",
    "lr_reducer = ReduceLROnPlateau(\n",
    "    monitor='val_loss', \n",
    "    factor=0.6, \n",
    "    patience=7, \n",
    "    verbose=1, \n",
    "    min_lr=1e-6\n",
    ")\n",
    "\n",
    "# Early Stopping callback\n",
    "early_stopping = EarlyStopping(\n",
    "    monitor='val_loss', \n",
    "    patience=25, \n",
    "    verbose=1, \n",
    "    restore_best_weights=True\n",
    ")\n",
    "\n",
    "# Multi-Class IoU metric\n",
    "def mean_IoU(y_true, y_pred, num_classes=5):\n",
    "    # y_pred: probabilities; first get predicted class\n",
    "    y_pred = K.argmax(y_pred, axis=-1)\n",
    "    y_pred = K.cast(y_pred, 'int32')\n",
    "    y_true = K.cast(y_true, 'int32')\n",
    "    \n",
    "    valid_mask = tf.not_equal(y_true, -1)\n",
    "    valid_mask = tf.cast(valid_mask, 'float32')\n",
    "\n",
    "    iou = 0.0\n",
    "    for c in range(num_classes):\n",
    "        y_true_c = K.cast(K.equal(y_true, c), 'float32')\n",
    "        y_pred_c = K.cast(K.equal(y_pred, c), 'float32')\n",
    "        \n",
    "        intersection = K.sum(y_true_c * y_pred_c * valid_mask)\n",
    "        union = (K.sum(y_true_c * valid_mask) + K.sum(y_pred_c * valid_mask) - intersection) + 1e-6\n",
    "        iou_class = (intersection + 1e-6) / union\n",
    "        iou += iou_class\n",
    "    \n",
    "    mean_iou_value = iou / num_classes\n",
    "    return mean_iou_value\n",
    "\n",
    "\n",
    "\n",
    "def focal_loss(gamma=2., alpha=.25):\n",
    "    def focal_loss_fixed(y_true, y_pred):\n",
    "        # Ensure y_true is an integer\n",
    "        y_true = tf.cast(y_true, tf.int32)\n",
    "        \n",
    "        # Create a mask for valid pixels\n",
    "        valid_mask = tf.not_equal(y_true, -1)\n",
    "\n",
    "        # Replace -1 with 0 for safe one-hot (won't affect valid_masked locations)\n",
    "        y_true_safe = tf.where(valid_mask, y_true, tf.zeros_like(y_true))\n",
    "\n",
    "        # One-hot encoding of y_true_safe\n",
    "        num_classes = tf.shape(y_pred)[-1]\n",
    "        y_true_one_hot = tf.one_hot(y_true_safe, depth=num_classes)\n",
    "\n",
    "        epsilon = K.epsilon()\n",
    "        y_pred_clipped = K.clip(y_pred, epsilon, 1. - epsilon)\n",
    "\n",
    "        cross_entropy = -y_true_one_hot * K.log(y_pred_clipped)\n",
    "        weight = alpha * K.pow(1 - y_pred_clipped, gamma)\n",
    "        loss = weight * cross_entropy\n",
    "        loss = K.sum(loss, axis=-1)  # sum over classes\n",
    "\n",
    "        valid_mask_float = tf.cast(valid_mask, tf.float32)\n",
    "        loss_sum = tf.reduce_sum(loss * valid_mask_float, axis=[1, 2])\n",
    "        valid_count = tf.reduce_sum(valid_mask_float, axis=[1, 2]) + 1e-6\n",
    "        loss_mean = loss_sum / valid_count\n",
    "\n",
    "        return loss_mean\n",
    "    return focal_loss_fixed\n",
    "\n",
    "\n",
    "loss_weights = {\n",
    "    'output_1': 0.2,\n",
    "    'output_2': 0.3,\n",
    "    'output_3': 0.5,\n",
    "    'final_output': 1.0  # Final output at (64, 128)\n",
    "}\n",
    "\n",
    "model.compile(\n",
    "    optimizer=Adam(learning_rate=5e-4),\n",
    "    loss={\n",
    "        'output_3': focal_loss(gamma=3., alpha=.25), \n",
    "        'output_2': focal_loss(gamma=3., alpha=.25), \n",
    "        'output_1': focal_loss(gamma=3., alpha=.25), \n",
    "        'final_output': focal_loss(gamma=3., alpha=.25)\n",
    "    },\n",
    "    loss_weights=loss_weights,\n",
    "    metrics={\n",
    "        'output_3': mean_IoU, \n",
    "        'output_2': mean_IoU, \n",
    "        'output_1': mean_IoU, \n",
    "        'final_output': mean_IoU\n",
    "    }\n",
    ")"
   ]
  },
  {
   "cell_type": "markdown",
   "id": "d30ad24e",
   "metadata": {
    "papermill": {
     "duration": 0.017114,
     "end_time": "2024-12-14T14:33:12.212559",
     "exception": false,
     "start_time": "2024-12-14T14:33:12.195445",
     "status": "completed"
    },
    "tags": []
   },
   "source": [
    "## Training the Second Model\r\n",
    "\r\n",
    "We now train the second model on the prepared dataset. Training can take several epochs. We will monitor validation loss and IoU to select the best model.\r\n"
   ]
  },
  {
   "cell_type": "code",
   "execution_count": 19,
   "id": "d14144bb",
   "metadata": {
    "execution": {
     "iopub.execute_input": "2024-12-14T14:33:12.248145Z",
     "iopub.status.busy": "2024-12-14T14:33:12.247853Z",
     "iopub.status.idle": "2024-12-14T15:24:03.284801Z",
     "shell.execute_reply": "2024-12-14T15:24:03.284082Z"
    },
    "papermill": {
     "duration": 3051.057137,
     "end_time": "2024-12-14T15:24:03.286833",
     "exception": false,
     "start_time": "2024-12-14T14:33:12.229696",
     "status": "completed"
    },
    "tags": []
   },
   "outputs": [
    {
     "name": "stdout",
     "output_type": "stream",
     "text": [
      "Epoch 1/300\n"
     ]
    },
    {
     "name": "stderr",
     "output_type": "stream",
     "text": [
      "WARNING: All log messages before absl::InitializeLog() is called are written to STDERR\n",
      "I0000 00:00:1734186838.895081     160 asm_compiler.cc:369] ptxas warning : Registers are spilled to local memory in function 'input_compare_reduce_fusion_3', 8 bytes spill stores, 8 bytes spill loads\n",
      "\n"
     ]
    },
    {
     "name": "stdout",
     "output_type": "stream",
     "text": [
      "\u001b[1m67/67\u001b[0m \u001b[32m━━━━━━━━━━━━━━━━━━━━\u001b[0m\u001b[37m\u001b[0m \u001b[1m106s\u001b[0m 907ms/step - final_output_mean__io_u: 0.1672 - loss: 0.2477 - output_1_mean__io_u: 0.1932 - output_2_mean__io_u: 0.2195 - output_3_mean__io_u: 0.2193 - val_final_output_mean__io_u: 0.1410 - val_loss: 0.4674 - val_output_1_mean__io_u: 0.1523 - val_output_2_mean__io_u: 0.1602 - val_output_3_mean__io_u: 0.0825 - learning_rate: 5.0000e-04\n",
      "Epoch 2/300\n",
      "\u001b[1m67/67\u001b[0m \u001b[32m━━━━━━━━━━━━━━━━━━━━\u001b[0m\u001b[37m\u001b[0m \u001b[1m18s\u001b[0m 263ms/step - final_output_mean__io_u: 0.2194 - loss: 0.1588 - output_1_mean__io_u: 0.2212 - output_2_mean__io_u: 0.2344 - output_3_mean__io_u: 0.2581 - val_final_output_mean__io_u: 0.2672 - val_loss: 0.1838 - val_output_1_mean__io_u: 0.2734 - val_output_2_mean__io_u: 0.2701 - val_output_3_mean__io_u: 0.1737 - learning_rate: 5.0000e-04\n",
      "Epoch 3/300\n",
      "\u001b[1m67/67\u001b[0m \u001b[32m━━━━━━━━━━━━━━━━━━━━\u001b[0m\u001b[37m\u001b[0m \u001b[1m18s\u001b[0m 268ms/step - final_output_mean__io_u: 0.2316 - loss: 0.1623 - output_1_mean__io_u: 0.2379 - output_2_mean__io_u: 0.2627 - output_3_mean__io_u: 0.2831 - val_final_output_mean__io_u: 0.2672 - val_loss: 0.1733 - val_output_1_mean__io_u: 0.2671 - val_output_2_mean__io_u: 0.2675 - val_output_3_mean__io_u: 0.2874 - learning_rate: 5.0000e-04\n",
      "Epoch 4/300\n",
      "\u001b[1m67/67\u001b[0m \u001b[32m━━━━━━━━━━━━━━━━━━━━\u001b[0m\u001b[37m\u001b[0m \u001b[1m18s\u001b[0m 267ms/step - final_output_mean__io_u: 0.2498 - loss: 0.1583 - output_1_mean__io_u: 0.2478 - output_2_mean__io_u: 0.2586 - output_3_mean__io_u: 0.2693 - val_final_output_mean__io_u: 0.2674 - val_loss: 0.1698 - val_output_1_mean__io_u: 0.2670 - val_output_2_mean__io_u: 0.2675 - val_output_3_mean__io_u: 0.2696 - learning_rate: 5.0000e-04\n",
      "Epoch 5/300\n",
      "\u001b[1m67/67\u001b[0m \u001b[32m━━━━━━━━━━━━━━━━━━━━\u001b[0m\u001b[37m\u001b[0m \u001b[1m18s\u001b[0m 262ms/step - final_output_mean__io_u: 0.2522 - loss: 0.1568 - output_1_mean__io_u: 0.2522 - output_2_mean__io_u: 0.2664 - output_3_mean__io_u: 0.2838 - val_final_output_mean__io_u: 0.2677 - val_loss: 0.1754 - val_output_1_mean__io_u: 0.2673 - val_output_2_mean__io_u: 0.2847 - val_output_3_mean__io_u: 0.2696 - learning_rate: 5.0000e-04\n",
      "Epoch 6/300\n",
      "\u001b[1m67/67\u001b[0m \u001b[32m━━━━━━━━━━━━━━━━━━━━\u001b[0m\u001b[37m\u001b[0m \u001b[1m18s\u001b[0m 261ms/step - final_output_mean__io_u: 0.2219 - loss: 0.1545 - output_1_mean__io_u: 0.2386 - output_2_mean__io_u: 0.2466 - output_3_mean__io_u: 0.2683 - val_final_output_mean__io_u: 0.2708 - val_loss: 0.1759 - val_output_1_mean__io_u: 0.2688 - val_output_2_mean__io_u: 0.2699 - val_output_3_mean__io_u: 0.2706 - learning_rate: 5.0000e-04\n",
      "Epoch 7/300\n",
      "\u001b[1m67/67\u001b[0m \u001b[32m━━━━━━━━━━━━━━━━━━━━\u001b[0m\u001b[37m\u001b[0m \u001b[1m18s\u001b[0m 262ms/step - final_output_mean__io_u: 0.2309 - loss: 0.1541 - output_1_mean__io_u: 0.2459 - output_2_mean__io_u: 0.2541 - output_3_mean__io_u: 0.2766 - val_final_output_mean__io_u: 0.2712 - val_loss: 0.1719 - val_output_1_mean__io_u: 0.2764 - val_output_2_mean__io_u: 0.2676 - val_output_3_mean__io_u: 0.2696 - learning_rate: 5.0000e-04\n",
      "Epoch 8/300\n",
      "\u001b[1m67/67\u001b[0m \u001b[32m━━━━━━━━━━━━━━━━━━━━\u001b[0m\u001b[37m\u001b[0m \u001b[1m18s\u001b[0m 266ms/step - final_output_mean__io_u: 0.2351 - loss: 0.1595 - output_1_mean__io_u: 0.2408 - output_2_mean__io_u: 0.2477 - output_3_mean__io_u: 0.2759 - val_final_output_mean__io_u: 0.2686 - val_loss: 0.1665 - val_output_1_mean__io_u: 0.2672 - val_output_2_mean__io_u: 0.2698 - val_output_3_mean__io_u: 0.2722 - learning_rate: 5.0000e-04\n",
      "Epoch 9/300\n",
      "\u001b[1m67/67\u001b[0m \u001b[32m━━━━━━━━━━━━━━━━━━━━\u001b[0m\u001b[37m\u001b[0m \u001b[1m18s\u001b[0m 263ms/step - final_output_mean__io_u: 0.2350 - loss: 0.1599 - output_1_mean__io_u: 0.2341 - output_2_mean__io_u: 0.2446 - output_3_mean__io_u: 0.2588 - val_final_output_mean__io_u: 0.2692 - val_loss: 0.1817 - val_output_1_mean__io_u: 0.2738 - val_output_2_mean__io_u: 0.2738 - val_output_3_mean__io_u: 0.2596 - learning_rate: 5.0000e-04\n",
      "Epoch 10/300\n",
      "\u001b[1m67/67\u001b[0m \u001b[32m━━━━━━━━━━━━━━━━━━━━\u001b[0m\u001b[37m\u001b[0m \u001b[1m18s\u001b[0m 263ms/step - final_output_mean__io_u: 0.2247 - loss: 0.1572 - output_1_mean__io_u: 0.2361 - output_2_mean__io_u: 0.2488 - output_3_mean__io_u: 0.2736 - val_final_output_mean__io_u: 0.2719 - val_loss: 0.1694 - val_output_1_mean__io_u: 0.2755 - val_output_2_mean__io_u: 0.2680 - val_output_3_mean__io_u: 0.2696 - learning_rate: 5.0000e-04\n",
      "Epoch 11/300\n",
      "\u001b[1m67/67\u001b[0m \u001b[32m━━━━━━━━━━━━━━━━━━━━\u001b[0m\u001b[37m\u001b[0m \u001b[1m18s\u001b[0m 264ms/step - final_output_mean__io_u: 0.2343 - loss: 0.1524 - output_1_mean__io_u: 0.2390 - output_2_mean__io_u: 0.2586 - output_3_mean__io_u: 0.2709 - val_final_output_mean__io_u: 0.2740 - val_loss: 0.1639 - val_output_1_mean__io_u: 0.2661 - val_output_2_mean__io_u: 0.2454 - val_output_3_mean__io_u: 0.2817 - learning_rate: 5.0000e-04\n",
      "Epoch 12/300\n",
      "\u001b[1m67/67\u001b[0m \u001b[32m━━━━━━━━━━━━━━━━━━━━\u001b[0m\u001b[37m\u001b[0m \u001b[1m18s\u001b[0m 265ms/step - final_output_mean__io_u: 0.2337 - loss: 0.1515 - output_1_mean__io_u: 0.2357 - output_2_mean__io_u: 0.2426 - output_3_mean__io_u: 0.2759 - val_final_output_mean__io_u: 0.2765 - val_loss: 0.1603 - val_output_1_mean__io_u: 0.2802 - val_output_2_mean__io_u: 0.2725 - val_output_3_mean__io_u: 0.2866 - learning_rate: 5.0000e-04\n",
      "Epoch 13/300\n",
      "\u001b[1m67/67\u001b[0m \u001b[32m━━━━━━━━━━━━━━━━━━━━\u001b[0m\u001b[37m\u001b[0m \u001b[1m18s\u001b[0m 263ms/step - final_output_mean__io_u: 0.2500 - loss: 0.1540 - output_1_mean__io_u: 0.2682 - output_2_mean__io_u: 0.2730 - output_3_mean__io_u: 0.2910 - val_final_output_mean__io_u: 0.2704 - val_loss: 0.1618 - val_output_1_mean__io_u: 0.2706 - val_output_2_mean__io_u: 0.2676 - val_output_3_mean__io_u: 0.2696 - learning_rate: 5.0000e-04\n",
      "Epoch 14/300\n",
      "\u001b[1m67/67\u001b[0m \u001b[32m━━━━━━━━━━━━━━━━━━━━\u001b[0m\u001b[37m\u001b[0m \u001b[1m18s\u001b[0m 265ms/step - final_output_mean__io_u: 0.2473 - loss: 0.1478 - output_1_mean__io_u: 0.2486 - output_2_mean__io_u: 0.2622 - output_3_mean__io_u: 0.2853 - val_final_output_mean__io_u: 0.2689 - val_loss: 0.1577 - val_output_1_mean__io_u: 0.2678 - val_output_2_mean__io_u: 0.2681 - val_output_3_mean__io_u: 0.2722 - learning_rate: 5.0000e-04\n",
      "Epoch 15/300\n",
      "\u001b[1m67/67\u001b[0m \u001b[32m━━━━━━━━━━━━━━━━━━━━\u001b[0m\u001b[37m\u001b[0m \u001b[1m18s\u001b[0m 263ms/step - final_output_mean__io_u: 0.2533 - loss: 0.1511 - output_1_mean__io_u: 0.2672 - output_2_mean__io_u: 0.2693 - output_3_mean__io_u: 0.2730 - val_final_output_mean__io_u: 0.1512 - val_loss: 0.3094 - val_output_1_mean__io_u: 0.2863 - val_output_2_mean__io_u: 0.2422 - val_output_3_mean__io_u: 0.2903 - learning_rate: 5.0000e-04\n",
      "Epoch 16/300\n",
      "\u001b[1m67/67\u001b[0m \u001b[32m━━━━━━━━━━━━━━━━━━━━\u001b[0m\u001b[37m\u001b[0m \u001b[1m18s\u001b[0m 263ms/step - final_output_mean__io_u: 0.2484 - loss: 0.1524 - output_1_mean__io_u: 0.2546 - output_2_mean__io_u: 0.2615 - output_3_mean__io_u: 0.2899 - val_final_output_mean__io_u: 0.2807 - val_loss: 0.1675 - val_output_1_mean__io_u: 0.2724 - val_output_2_mean__io_u: 0.2753 - val_output_3_mean__io_u: 0.2466 - learning_rate: 5.0000e-04\n",
      "Epoch 17/300\n",
      "\u001b[1m67/67\u001b[0m \u001b[32m━━━━━━━━━━━━━━━━━━━━\u001b[0m\u001b[37m\u001b[0m \u001b[1m18s\u001b[0m 263ms/step - final_output_mean__io_u: 0.2574 - loss: 0.1479 - output_1_mean__io_u: 0.2640 - output_2_mean__io_u: 0.2747 - output_3_mean__io_u: 0.2827 - val_final_output_mean__io_u: 0.2731 - val_loss: 0.1702 - val_output_1_mean__io_u: 0.2757 - val_output_2_mean__io_u: 0.2856 - val_output_3_mean__io_u: 0.2819 - learning_rate: 5.0000e-04\n",
      "Epoch 18/300\n",
      "\u001b[1m67/67\u001b[0m \u001b[32m━━━━━━━━━━━━━━━━━━━━\u001b[0m\u001b[37m\u001b[0m \u001b[1m18s\u001b[0m 264ms/step - final_output_mean__io_u: 0.2374 - loss: 0.1549 - output_1_mean__io_u: 0.2402 - output_2_mean__io_u: 0.2444 - output_3_mean__io_u: 0.2725 - val_final_output_mean__io_u: 0.1586 - val_loss: 0.1926 - val_output_1_mean__io_u: 0.2897 - val_output_2_mean__io_u: 0.2910 - val_output_3_mean__io_u: 0.2886 - learning_rate: 5.0000e-04\n",
      "Epoch 19/300\n",
      "\u001b[1m67/67\u001b[0m \u001b[32m━━━━━━━━━━━━━━━━━━━━\u001b[0m\u001b[37m\u001b[0m \u001b[1m18s\u001b[0m 264ms/step - final_output_mean__io_u: 0.2511 - loss: 0.1503 - output_1_mean__io_u: 0.2570 - output_2_mean__io_u: 0.2733 - output_3_mean__io_u: 0.2898 - val_final_output_mean__io_u: 0.2710 - val_loss: 0.1609 - val_output_1_mean__io_u: 0.2711 - val_output_2_mean__io_u: 0.2748 - val_output_3_mean__io_u: 0.2861 - learning_rate: 5.0000e-04\n",
      "Epoch 20/300\n",
      "\u001b[1m67/67\u001b[0m \u001b[32m━━━━━━━━━━━━━━━━━━━━\u001b[0m\u001b[37m\u001b[0m \u001b[1m18s\u001b[0m 264ms/step - final_output_mean__io_u: 0.2447 - loss: 0.1424 - output_1_mean__io_u: 0.2607 - output_2_mean__io_u: 0.2762 - output_3_mean__io_u: 0.2971 - val_final_output_mean__io_u: 0.2855 - val_loss: 0.1643 - val_output_1_mean__io_u: 0.2799 - val_output_2_mean__io_u: 0.2789 - val_output_3_mean__io_u: 0.2714 - learning_rate: 5.0000e-04\n",
      "Epoch 21/300\n",
      "\u001b[1m67/67\u001b[0m \u001b[32m━━━━━━━━━━━━━━━━━━━━\u001b[0m\u001b[37m\u001b[0m \u001b[1m0s\u001b[0m 247ms/step - final_output_mean__io_u: 0.2434 - loss: 0.1463 - output_1_mean__io_u: 0.2534 - output_2_mean__io_u: 0.2519 - output_3_mean__io_u: 0.2734\n",
      "Epoch 21: ReduceLROnPlateau reducing learning rate to 0.0003000000142492354.\n",
      "\u001b[1m67/67\u001b[0m \u001b[32m━━━━━━━━━━━━━━━━━━━━\u001b[0m\u001b[37m\u001b[0m \u001b[1m18s\u001b[0m 263ms/step - final_output_mean__io_u: 0.2434 - loss: 0.1463 - output_1_mean__io_u: 0.2534 - output_2_mean__io_u: 0.2519 - output_3_mean__io_u: 0.2735 - val_final_output_mean__io_u: 0.1506 - val_loss: 0.2707 - val_output_1_mean__io_u: 0.2690 - val_output_2_mean__io_u: 0.2902 - val_output_3_mean__io_u: 0.2946 - learning_rate: 5.0000e-04\n",
      "Epoch 22/300\n",
      "\u001b[1m67/67\u001b[0m \u001b[32m━━━━━━━━━━━━━━━━━━━━\u001b[0m\u001b[37m\u001b[0m \u001b[1m18s\u001b[0m 265ms/step - final_output_mean__io_u: 0.2267 - loss: 0.1454 - output_1_mean__io_u: 0.2293 - output_2_mean__io_u: 0.2583 - output_3_mean__io_u: 0.2717 - val_final_output_mean__io_u: 0.3026 - val_loss: 0.1574 - val_output_1_mean__io_u: 0.3013 - val_output_2_mean__io_u: 0.2945 - val_output_3_mean__io_u: 0.2817 - learning_rate: 3.0000e-04\n",
      "Epoch 23/300\n",
      "\u001b[1m67/67\u001b[0m \u001b[32m━━━━━━━━━━━━━━━━━━━━\u001b[0m\u001b[37m\u001b[0m \u001b[1m18s\u001b[0m 263ms/step - final_output_mean__io_u: 0.2299 - loss: 0.1437 - output_1_mean__io_u: 0.2364 - output_2_mean__io_u: 0.2564 - output_3_mean__io_u: 0.2715 - val_final_output_mean__io_u: 0.2267 - val_loss: 0.1756 - val_output_1_mean__io_u: 0.2851 - val_output_2_mean__io_u: 0.2939 - val_output_3_mean__io_u: 0.2945 - learning_rate: 3.0000e-04\n",
      "Epoch 24/300\n",
      "\u001b[1m67/67\u001b[0m \u001b[32m━━━━━━━━━━━━━━━━━━━━\u001b[0m\u001b[37m\u001b[0m \u001b[1m18s\u001b[0m 265ms/step - final_output_mean__io_u: 0.2683 - loss: 0.1390 - output_1_mean__io_u: 0.2773 - output_2_mean__io_u: 0.2991 - output_3_mean__io_u: 0.3084 - val_final_output_mean__io_u: 0.2950 - val_loss: 0.1521 - val_output_1_mean__io_u: 0.3009 - val_output_2_mean__io_u: 0.2927 - val_output_3_mean__io_u: 0.2818 - learning_rate: 3.0000e-04\n",
      "Epoch 25/300\n",
      "\u001b[1m67/67\u001b[0m \u001b[32m━━━━━━━━━━━━━━━━━━━━\u001b[0m\u001b[37m\u001b[0m \u001b[1m18s\u001b[0m 263ms/step - final_output_mean__io_u: 0.2536 - loss: 0.1380 - output_1_mean__io_u: 0.2586 - output_2_mean__io_u: 0.2563 - output_3_mean__io_u: 0.2686 - val_final_output_mean__io_u: 0.2724 - val_loss: 0.1664 - val_output_1_mean__io_u: 0.2672 - val_output_2_mean__io_u: 0.2784 - val_output_3_mean__io_u: 0.2863 - learning_rate: 3.0000e-04\n",
      "Epoch 26/300\n",
      "\u001b[1m67/67\u001b[0m \u001b[32m━━━━━━━━━━━━━━━━━━━━\u001b[0m\u001b[37m\u001b[0m \u001b[1m18s\u001b[0m 263ms/step - final_output_mean__io_u: 0.2621 - loss: 0.1399 - output_1_mean__io_u: 0.2711 - output_2_mean__io_u: 0.2821 - output_3_mean__io_u: 0.3034 - val_final_output_mean__io_u: 0.2755 - val_loss: 0.1552 - val_output_1_mean__io_u: 0.2930 - val_output_2_mean__io_u: 0.2839 - val_output_3_mean__io_u: 0.2869 - learning_rate: 3.0000e-04\n",
      "Epoch 27/300\n",
      "\u001b[1m67/67\u001b[0m \u001b[32m━━━━━━━━━━━━━━━━━━━━\u001b[0m\u001b[37m\u001b[0m \u001b[1m18s\u001b[0m 265ms/step - final_output_mean__io_u: 0.2442 - loss: 0.1428 - output_1_mean__io_u: 0.2551 - output_2_mean__io_u: 0.2635 - output_3_mean__io_u: 0.2750 - val_final_output_mean__io_u: 0.2977 - val_loss: 0.1478 - val_output_1_mean__io_u: 0.3046 - val_output_2_mean__io_u: 0.3014 - val_output_3_mean__io_u: 0.3015 - learning_rate: 3.0000e-04\n",
      "Epoch 28/300\n",
      "\u001b[1m67/67\u001b[0m \u001b[32m━━━━━━━━━━━━━━━━━━━━\u001b[0m\u001b[37m\u001b[0m \u001b[1m18s\u001b[0m 263ms/step - final_output_mean__io_u: 0.2922 - loss: 0.1392 - output_1_mean__io_u: 0.2967 - output_2_mean__io_u: 0.3082 - output_3_mean__io_u: 0.3176 - val_final_output_mean__io_u: 0.2992 - val_loss: 0.1486 - val_output_1_mean__io_u: 0.3045 - val_output_2_mean__io_u: 0.2923 - val_output_3_mean__io_u: 0.2863 - learning_rate: 3.0000e-04\n",
      "Epoch 29/300\n",
      "\u001b[1m67/67\u001b[0m \u001b[32m━━━━━━━━━━━━━━━━━━━━\u001b[0m\u001b[37m\u001b[0m \u001b[1m18s\u001b[0m 264ms/step - final_output_mean__io_u: 0.2694 - loss: 0.1316 - output_1_mean__io_u: 0.2734 - output_2_mean__io_u: 0.2909 - output_3_mean__io_u: 0.3212 - val_final_output_mean__io_u: 0.2814 - val_loss: 0.1728 - val_output_1_mean__io_u: 0.2660 - val_output_2_mean__io_u: 0.2759 - val_output_3_mean__io_u: 0.2821 - learning_rate: 3.0000e-04\n",
      "Epoch 30/300\n",
      "\u001b[1m67/67\u001b[0m \u001b[32m━━━━━━━━━━━━━━━━━━━━\u001b[0m\u001b[37m\u001b[0m \u001b[1m18s\u001b[0m 265ms/step - final_output_mean__io_u: 0.2815 - loss: 0.1330 - output_1_mean__io_u: 0.2882 - output_2_mean__io_u: 0.2929 - output_3_mean__io_u: 0.3019 - val_final_output_mean__io_u: 0.2844 - val_loss: 0.1447 - val_output_1_mean__io_u: 0.2913 - val_output_2_mean__io_u: 0.2889 - val_output_3_mean__io_u: 0.2910 - learning_rate: 3.0000e-04\n",
      "Epoch 31/300\n",
      "\u001b[1m67/67\u001b[0m \u001b[32m━━━━━━━━━━━━━━━━━━━━\u001b[0m\u001b[37m\u001b[0m \u001b[1m18s\u001b[0m 264ms/step - final_output_mean__io_u: 0.2651 - loss: 0.1390 - output_1_mean__io_u: 0.2759 - output_2_mean__io_u: 0.2831 - output_3_mean__io_u: 0.2884 - val_final_output_mean__io_u: 0.3031 - val_loss: 0.1499 - val_output_1_mean__io_u: 0.3008 - val_output_2_mean__io_u: 0.3019 - val_output_3_mean__io_u: 0.2886 - learning_rate: 3.0000e-04\n",
      "Epoch 32/300\n",
      "\u001b[1m67/67\u001b[0m \u001b[32m━━━━━━━━━━━━━━━━━━━━\u001b[0m\u001b[37m\u001b[0m \u001b[1m18s\u001b[0m 263ms/step - final_output_mean__io_u: 0.2638 - loss: 0.1353 - output_1_mean__io_u: 0.2645 - output_2_mean__io_u: 0.2682 - output_3_mean__io_u: 0.2838 - val_final_output_mean__io_u: 0.2630 - val_loss: 0.1599 - val_output_1_mean__io_u: 0.2783 - val_output_2_mean__io_u: 0.2795 - val_output_3_mean__io_u: 0.2800 - learning_rate: 3.0000e-04\n",
      "Epoch 33/300\n",
      "\u001b[1m67/67\u001b[0m \u001b[32m━━━━━━━━━━━━━━━━━━━━\u001b[0m\u001b[37m\u001b[0m \u001b[1m18s\u001b[0m 263ms/step - final_output_mean__io_u: 0.2625 - loss: 0.1305 - output_1_mean__io_u: 0.2739 - output_2_mean__io_u: 0.2862 - output_3_mean__io_u: 0.3031 - val_final_output_mean__io_u: 0.2790 - val_loss: 0.1559 - val_output_1_mean__io_u: 0.2770 - val_output_2_mean__io_u: 0.2772 - val_output_3_mean__io_u: 0.2810 - learning_rate: 3.0000e-04\n",
      "Epoch 34/300\n",
      "\u001b[1m67/67\u001b[0m \u001b[32m━━━━━━━━━━━━━━━━━━━━\u001b[0m\u001b[37m\u001b[0m \u001b[1m18s\u001b[0m 263ms/step - final_output_mean__io_u: 0.2685 - loss: 0.1365 - output_1_mean__io_u: 0.2885 - output_2_mean__io_u: 0.3089 - output_3_mean__io_u: 0.3148 - val_final_output_mean__io_u: 0.3012 - val_loss: 0.1515 - val_output_1_mean__io_u: 0.3187 - val_output_2_mean__io_u: 0.3173 - val_output_3_mean__io_u: 0.2905 - learning_rate: 3.0000e-04\n",
      "Epoch 35/300\n",
      "\u001b[1m67/67\u001b[0m \u001b[32m━━━━━━━━━━━━━━━━━━━━\u001b[0m\u001b[37m\u001b[0m \u001b[1m18s\u001b[0m 264ms/step - final_output_mean__io_u: 0.2718 - loss: 0.1356 - output_1_mean__io_u: 0.2745 - output_2_mean__io_u: 0.2761 - output_3_mean__io_u: 0.2860 - val_final_output_mean__io_u: 0.2877 - val_loss: 0.1545 - val_output_1_mean__io_u: 0.2862 - val_output_2_mean__io_u: 0.2874 - val_output_3_mean__io_u: 0.2861 - learning_rate: 3.0000e-04\n",
      "Epoch 36/300\n",
      "\u001b[1m67/67\u001b[0m \u001b[32m━━━━━━━━━━━━━━━━━━━━\u001b[0m\u001b[37m\u001b[0m \u001b[1m18s\u001b[0m 266ms/step - final_output_mean__io_u: 0.2607 - loss: 0.1263 - output_1_mean__io_u: 0.2700 - output_2_mean__io_u: 0.3012 - output_3_mean__io_u: 0.3197 - val_final_output_mean__io_u: 0.3144 - val_loss: 0.1446 - val_output_1_mean__io_u: 0.3181 - val_output_2_mean__io_u: 0.3083 - val_output_3_mean__io_u: 0.3129 - learning_rate: 3.0000e-04\n",
      "Epoch 37/300\n",
      "\u001b[1m67/67\u001b[0m \u001b[32m━━━━━━━━━━━━━━━━━━━━\u001b[0m\u001b[37m\u001b[0m \u001b[1m0s\u001b[0m 247ms/step - final_output_mean__io_u: 0.2419 - loss: 0.1375 - output_1_mean__io_u: 0.2631 - output_2_mean__io_u: 0.2646 - output_3_mean__io_u: 0.2836\n",
      "Epoch 37: ReduceLROnPlateau reducing learning rate to 0.00018000000854954124.\n",
      "\u001b[1m67/67\u001b[0m \u001b[32m━━━━━━━━━━━━━━━━━━━━\u001b[0m\u001b[37m\u001b[0m \u001b[1m18s\u001b[0m 264ms/step - final_output_mean__io_u: 0.2423 - loss: 0.1374 - output_1_mean__io_u: 0.2633 - output_2_mean__io_u: 0.2648 - output_3_mean__io_u: 0.2838 - val_final_output_mean__io_u: 0.2854 - val_loss: 0.1569 - val_output_1_mean__io_u: 0.2884 - val_output_2_mean__io_u: 0.2809 - val_output_3_mean__io_u: 0.2866 - learning_rate: 3.0000e-04\n",
      "Epoch 38/300\n",
      "\u001b[1m67/67\u001b[0m \u001b[32m━━━━━━━━━━━━━━━━━━━━\u001b[0m\u001b[37m\u001b[0m \u001b[1m18s\u001b[0m 263ms/step - final_output_mean__io_u: 0.2464 - loss: 0.1304 - output_1_mean__io_u: 0.2710 - output_2_mean__io_u: 0.2768 - output_3_mean__io_u: 0.2849 - val_final_output_mean__io_u: 0.2888 - val_loss: 0.1472 - val_output_1_mean__io_u: 0.2841 - val_output_2_mean__io_u: 0.2855 - val_output_3_mean__io_u: 0.2865 - learning_rate: 1.8000e-04\n",
      "Epoch 39/300\n",
      "\u001b[1m67/67\u001b[0m \u001b[32m━━━━━━━━━━━━━━━━━━━━\u001b[0m\u001b[37m\u001b[0m \u001b[1m18s\u001b[0m 266ms/step - final_output_mean__io_u: 0.2717 - loss: 0.1320 - output_1_mean__io_u: 0.2719 - output_2_mean__io_u: 0.2771 - output_3_mean__io_u: 0.3080 - val_final_output_mean__io_u: 0.3254 - val_loss: 0.1416 - val_output_1_mean__io_u: 0.3230 - val_output_2_mean__io_u: 0.3191 - val_output_3_mean__io_u: 0.3143 - learning_rate: 1.8000e-04\n",
      "Epoch 40/300\n",
      "\u001b[1m67/67\u001b[0m \u001b[32m━━━━━━━━━━━━━━━━━━━━\u001b[0m\u001b[37m\u001b[0m \u001b[1m18s\u001b[0m 264ms/step - final_output_mean__io_u: 0.2641 - loss: 0.1354 - output_1_mean__io_u: 0.2665 - output_2_mean__io_u: 0.2737 - output_3_mean__io_u: 0.2901 - val_final_output_mean__io_u: 0.3258 - val_loss: 0.1481 - val_output_1_mean__io_u: 0.3239 - val_output_2_mean__io_u: 0.3306 - val_output_3_mean__io_u: 0.3205 - learning_rate: 1.8000e-04\n",
      "Epoch 41/300\n",
      "\u001b[1m67/67\u001b[0m \u001b[32m━━━━━━━━━━━━━━━━━━━━\u001b[0m\u001b[37m\u001b[0m \u001b[1m18s\u001b[0m 264ms/step - final_output_mean__io_u: 0.2941 - loss: 0.1211 - output_1_mean__io_u: 0.2999 - output_2_mean__io_u: 0.3140 - output_3_mean__io_u: 0.3378 - val_final_output_mean__io_u: 0.3244 - val_loss: 0.1435 - val_output_1_mean__io_u: 0.3154 - val_output_2_mean__io_u: 0.3166 - val_output_3_mean__io_u: 0.3045 - learning_rate: 1.8000e-04\n",
      "Epoch 42/300\n",
      "\u001b[1m67/67\u001b[0m \u001b[32m━━━━━━━━━━━━━━━━━━━━\u001b[0m\u001b[37m\u001b[0m \u001b[1m18s\u001b[0m 264ms/step - final_output_mean__io_u: 0.2950 - loss: 0.1200 - output_1_mean__io_u: 0.2917 - output_2_mean__io_u: 0.3010 - output_3_mean__io_u: 0.3047 - val_final_output_mean__io_u: 0.3064 - val_loss: 0.1541 - val_output_1_mean__io_u: 0.2984 - val_output_2_mean__io_u: 0.3091 - val_output_3_mean__io_u: 0.3081 - learning_rate: 1.8000e-04\n",
      "Epoch 43/300\n",
      "\u001b[1m67/67\u001b[0m \u001b[32m━━━━━━━━━━━━━━━━━━━━\u001b[0m\u001b[37m\u001b[0m \u001b[1m18s\u001b[0m 264ms/step - final_output_mean__io_u: 0.2702 - loss: 0.1256 - output_1_mean__io_u: 0.2783 - output_2_mean__io_u: 0.3012 - output_3_mean__io_u: 0.3192 - val_final_output_mean__io_u: 0.3000 - val_loss: 0.1647 - val_output_1_mean__io_u: 0.2989 - val_output_2_mean__io_u: 0.3093 - val_output_3_mean__io_u: 0.3045 - learning_rate: 1.8000e-04\n",
      "Epoch 44/300\n",
      "\u001b[1m67/67\u001b[0m \u001b[32m━━━━━━━━━━━━━━━━━━━━\u001b[0m\u001b[37m\u001b[0m \u001b[1m18s\u001b[0m 266ms/step - final_output_mean__io_u: 0.2862 - loss: 0.1253 - output_1_mean__io_u: 0.2916 - output_2_mean__io_u: 0.2931 - output_3_mean__io_u: 0.3074 - val_final_output_mean__io_u: 0.3053 - val_loss: 0.1376 - val_output_1_mean__io_u: 0.3227 - val_output_2_mean__io_u: 0.3233 - val_output_3_mean__io_u: 0.3157 - learning_rate: 1.8000e-04\n",
      "Epoch 45/300\n",
      "\u001b[1m67/67\u001b[0m \u001b[32m━━━━━━━━━━━━━━━━━━━━\u001b[0m\u001b[37m\u001b[0m \u001b[1m18s\u001b[0m 263ms/step - final_output_mean__io_u: 0.3008 - loss: 0.1294 - output_1_mean__io_u: 0.3007 - output_2_mean__io_u: 0.3148 - output_3_mean__io_u: 0.3303 - val_final_output_mean__io_u: 0.3198 - val_loss: 0.1488 - val_output_1_mean__io_u: 0.3167 - val_output_2_mean__io_u: 0.3210 - val_output_3_mean__io_u: 0.3108 - learning_rate: 1.8000e-04\n",
      "Epoch 46/300\n",
      "\u001b[1m67/67\u001b[0m \u001b[32m━━━━━━━━━━━━━━━━━━━━\u001b[0m\u001b[37m\u001b[0m \u001b[1m18s\u001b[0m 262ms/step - final_output_mean__io_u: 0.2757 - loss: 0.1228 - output_1_mean__io_u: 0.2847 - output_2_mean__io_u: 0.2988 - output_3_mean__io_u: 0.3164 - val_final_output_mean__io_u: 0.3220 - val_loss: 0.1447 - val_output_1_mean__io_u: 0.3185 - val_output_2_mean__io_u: 0.3222 - val_output_3_mean__io_u: 0.3183 - learning_rate: 1.8000e-04\n",
      "Epoch 47/300\n",
      "\u001b[1m67/67\u001b[0m \u001b[32m━━━━━━━━━━━━━━━━━━━━\u001b[0m\u001b[37m\u001b[0m \u001b[1m18s\u001b[0m 263ms/step - final_output_mean__io_u: 0.2943 - loss: 0.1246 - output_1_mean__io_u: 0.2928 - output_2_mean__io_u: 0.3054 - output_3_mean__io_u: 0.3437 - val_final_output_mean__io_u: 0.3284 - val_loss: 0.1387 - val_output_1_mean__io_u: 0.3199 - val_output_2_mean__io_u: 0.3204 - val_output_3_mean__io_u: 0.3147 - learning_rate: 1.8000e-04\n",
      "Epoch 48/300\n",
      "\u001b[1m67/67\u001b[0m \u001b[32m━━━━━━━━━━━━━━━━━━━━\u001b[0m\u001b[37m\u001b[0m \u001b[1m18s\u001b[0m 266ms/step - final_output_mean__io_u: 0.2821 - loss: 0.1247 - output_1_mean__io_u: 0.2823 - output_2_mean__io_u: 0.2920 - output_3_mean__io_u: 0.3079 - val_final_output_mean__io_u: 0.3217 - val_loss: 0.1337 - val_output_1_mean__io_u: 0.3132 - val_output_2_mean__io_u: 0.3194 - val_output_3_mean__io_u: 0.3010 - learning_rate: 1.8000e-04\n",
      "Epoch 49/300\n",
      "\u001b[1m67/67\u001b[0m \u001b[32m━━━━━━━━━━━━━━━━━━━━\u001b[0m\u001b[37m\u001b[0m \u001b[1m18s\u001b[0m 264ms/step - final_output_mean__io_u: 0.2787 - loss: 0.1263 - output_1_mean__io_u: 0.2933 - output_2_mean__io_u: 0.3050 - output_3_mean__io_u: 0.3083 - val_final_output_mean__io_u: 0.2930 - val_loss: 0.1375 - val_output_1_mean__io_u: 0.3081 - val_output_2_mean__io_u: 0.3222 - val_output_3_mean__io_u: 0.3072 - learning_rate: 1.8000e-04\n",
      "Epoch 50/300\n",
      "\u001b[1m67/67\u001b[0m \u001b[32m━━━━━━━━━━━━━━━━━━━━\u001b[0m\u001b[37m\u001b[0m \u001b[1m18s\u001b[0m 263ms/step - final_output_mean__io_u: 0.2851 - loss: 0.1229 - output_1_mean__io_u: 0.2944 - output_2_mean__io_u: 0.3080 - output_3_mean__io_u: 0.3331 - val_final_output_mean__io_u: 0.3094 - val_loss: 0.1393 - val_output_1_mean__io_u: 0.3044 - val_output_2_mean__io_u: 0.3074 - val_output_3_mean__io_u: 0.2951 - learning_rate: 1.8000e-04\n",
      "Epoch 51/300\n",
      "\u001b[1m67/67\u001b[0m \u001b[32m━━━━━━━━━━━━━━━━━━━━\u001b[0m\u001b[37m\u001b[0m \u001b[1m18s\u001b[0m 263ms/step - final_output_mean__io_u: 0.2744 - loss: 0.1209 - output_1_mean__io_u: 0.2762 - output_2_mean__io_u: 0.2871 - output_3_mean__io_u: 0.3128 - val_final_output_mean__io_u: 0.3370 - val_loss: 0.1358 - val_output_1_mean__io_u: 0.3243 - val_output_2_mean__io_u: 0.3258 - val_output_3_mean__io_u: 0.3340 - learning_rate: 1.8000e-04\n",
      "Epoch 52/300\n",
      "\u001b[1m67/67\u001b[0m \u001b[32m━━━━━━━━━━━━━━━━━━━━\u001b[0m\u001b[37m\u001b[0m \u001b[1m18s\u001b[0m 263ms/step - final_output_mean__io_u: 0.2921 - loss: 0.1269 - output_1_mean__io_u: 0.2901 - output_2_mean__io_u: 0.3105 - output_3_mean__io_u: 0.3296 - val_final_output_mean__io_u: 0.3324 - val_loss: 0.1428 - val_output_1_mean__io_u: 0.3195 - val_output_2_mean__io_u: 0.3334 - val_output_3_mean__io_u: 0.3193 - learning_rate: 1.8000e-04\n",
      "Epoch 53/300\n",
      "\u001b[1m67/67\u001b[0m \u001b[32m━━━━━━━━━━━━━━━━━━━━\u001b[0m\u001b[37m\u001b[0m \u001b[1m18s\u001b[0m 263ms/step - final_output_mean__io_u: 0.3026 - loss: 0.1212 - output_1_mean__io_u: 0.3037 - output_2_mean__io_u: 0.3155 - output_3_mean__io_u: 0.3198 - val_final_output_mean__io_u: 0.3070 - val_loss: 0.1694 - val_output_1_mean__io_u: 0.3256 - val_output_2_mean__io_u: 0.3278 - val_output_3_mean__io_u: 0.3263 - learning_rate: 1.8000e-04\n",
      "Epoch 54/300\n",
      "\u001b[1m67/67\u001b[0m \u001b[32m━━━━━━━━━━━━━━━━━━━━\u001b[0m\u001b[37m\u001b[0m \u001b[1m18s\u001b[0m 263ms/step - final_output_mean__io_u: 0.2945 - loss: 0.1231 - output_1_mean__io_u: 0.3039 - output_2_mean__io_u: 0.3109 - output_3_mean__io_u: 0.3134 - val_final_output_mean__io_u: 0.2994 - val_loss: 0.1499 - val_output_1_mean__io_u: 0.2959 - val_output_2_mean__io_u: 0.3157 - val_output_3_mean__io_u: 0.3204 - learning_rate: 1.8000e-04\n",
      "Epoch 55/300\n",
      "\u001b[1m67/67\u001b[0m \u001b[32m━━━━━━━━━━━━━━━━━━━━\u001b[0m\u001b[37m\u001b[0m \u001b[1m0s\u001b[0m 247ms/step - final_output_mean__io_u: 0.2524 - loss: 0.1196 - output_1_mean__io_u: 0.2617 - output_2_mean__io_u: 0.2858 - output_3_mean__io_u: 0.3099\n",
      "Epoch 55: ReduceLROnPlateau reducing learning rate to 0.00010800000163726508.\n",
      "\u001b[1m67/67\u001b[0m \u001b[32m━━━━━━━━━━━━━━━━━━━━\u001b[0m\u001b[37m\u001b[0m \u001b[1m18s\u001b[0m 264ms/step - final_output_mean__io_u: 0.2528 - loss: 0.1196 - output_1_mean__io_u: 0.2619 - output_2_mean__io_u: 0.2860 - output_3_mean__io_u: 0.3100 - val_final_output_mean__io_u: 0.3329 - val_loss: 0.1354 - val_output_1_mean__io_u: 0.3213 - val_output_2_mean__io_u: 0.3371 - val_output_3_mean__io_u: 0.3307 - learning_rate: 1.8000e-04\n",
      "Epoch 56/300\n",
      "\u001b[1m67/67\u001b[0m \u001b[32m━━━━━━━━━━━━━━━━━━━━\u001b[0m\u001b[37m\u001b[0m \u001b[1m18s\u001b[0m 264ms/step - final_output_mean__io_u: 0.3008 - loss: 0.1225 - output_1_mean__io_u: 0.3143 - output_2_mean__io_u: 0.3147 - output_3_mean__io_u: 0.3283 - val_final_output_mean__io_u: 0.3406 - val_loss: 0.1408 - val_output_1_mean__io_u: 0.3346 - val_output_2_mean__io_u: 0.3440 - val_output_3_mean__io_u: 0.3324 - learning_rate: 1.0800e-04\n",
      "Epoch 57/300\n",
      "\u001b[1m67/67\u001b[0m \u001b[32m━━━━━━━━━━━━━━━━━━━━\u001b[0m\u001b[37m\u001b[0m \u001b[1m18s\u001b[0m 264ms/step - final_output_mean__io_u: 0.2970 - loss: 0.1233 - output_1_mean__io_u: 0.2941 - output_2_mean__io_u: 0.3115 - output_3_mean__io_u: 0.3354 - val_final_output_mean__io_u: 0.3426 - val_loss: 0.1348 - val_output_1_mean__io_u: 0.3413 - val_output_2_mean__io_u: 0.3458 - val_output_3_mean__io_u: 0.3391 - learning_rate: 1.0800e-04\n",
      "Epoch 58/300\n",
      "\u001b[1m67/67\u001b[0m \u001b[32m━━━━━━━━━━━━━━━━━━━━\u001b[0m\u001b[37m\u001b[0m \u001b[1m18s\u001b[0m 264ms/step - final_output_mean__io_u: 0.2967 - loss: 0.1180 - output_1_mean__io_u: 0.2967 - output_2_mean__io_u: 0.3170 - output_3_mean__io_u: 0.3271 - val_final_output_mean__io_u: 0.3398 - val_loss: 0.1348 - val_output_1_mean__io_u: 0.3341 - val_output_2_mean__io_u: 0.3402 - val_output_3_mean__io_u: 0.3437 - learning_rate: 1.0800e-04\n",
      "Epoch 59/300\n",
      "\u001b[1m67/67\u001b[0m \u001b[32m━━━━━━━━━━━━━━━━━━━━\u001b[0m\u001b[37m\u001b[0m \u001b[1m18s\u001b[0m 264ms/step - final_output_mean__io_u: 0.3030 - loss: 0.1078 - output_1_mean__io_u: 0.3041 - output_2_mean__io_u: 0.3442 - output_3_mean__io_u: 0.3525 - val_final_output_mean__io_u: 0.3399 - val_loss: 0.1464 - val_output_1_mean__io_u: 0.3359 - val_output_2_mean__io_u: 0.3506 - val_output_3_mean__io_u: 0.3420 - learning_rate: 1.0800e-04\n",
      "Epoch 60/300\n",
      "\u001b[1m67/67\u001b[0m \u001b[32m━━━━━━━━━━━━━━━━━━━━\u001b[0m\u001b[37m\u001b[0m \u001b[1m18s\u001b[0m 264ms/step - final_output_mean__io_u: 0.3034 - loss: 0.1198 - output_1_mean__io_u: 0.2984 - output_2_mean__io_u: 0.3111 - output_3_mean__io_u: 0.3383 - val_final_output_mean__io_u: 0.3359 - val_loss: 0.1483 - val_output_1_mean__io_u: 0.3299 - val_output_2_mean__io_u: 0.3402 - val_output_3_mean__io_u: 0.3439 - learning_rate: 1.0800e-04\n",
      "Epoch 61/300\n",
      "\u001b[1m67/67\u001b[0m \u001b[32m━━━━━━━━━━━━━━━━━━━━\u001b[0m\u001b[37m\u001b[0m \u001b[1m18s\u001b[0m 266ms/step - final_output_mean__io_u: 0.2783 - loss: 0.1233 - output_1_mean__io_u: 0.2782 - output_2_mean__io_u: 0.2929 - output_3_mean__io_u: 0.3172 - val_final_output_mean__io_u: 0.3404 - val_loss: 0.1326 - val_output_1_mean__io_u: 0.3402 - val_output_2_mean__io_u: 0.3605 - val_output_3_mean__io_u: 0.3475 - learning_rate: 1.0800e-04\n",
      "Epoch 62/300\n",
      "\u001b[1m67/67\u001b[0m \u001b[32m━━━━━━━━━━━━━━━━━━━━\u001b[0m\u001b[37m\u001b[0m \u001b[1m18s\u001b[0m 264ms/step - final_output_mean__io_u: 0.2737 - loss: 0.1209 - output_1_mean__io_u: 0.2740 - output_2_mean__io_u: 0.2900 - output_3_mean__io_u: 0.3012 - val_final_output_mean__io_u: 0.3466 - val_loss: 0.1373 - val_output_1_mean__io_u: 0.3447 - val_output_2_mean__io_u: 0.3486 - val_output_3_mean__io_u: 0.3435 - learning_rate: 1.0800e-04\n",
      "Epoch 63/300\n",
      "\u001b[1m67/67\u001b[0m \u001b[32m━━━━━━━━━━━━━━━━━━━━\u001b[0m\u001b[37m\u001b[0m \u001b[1m18s\u001b[0m 264ms/step - final_output_mean__io_u: 0.2736 - loss: 0.1209 - output_1_mean__io_u: 0.2828 - output_2_mean__io_u: 0.2978 - output_3_mean__io_u: 0.3097 - val_final_output_mean__io_u: 0.3483 - val_loss: 0.1346 - val_output_1_mean__io_u: 0.3435 - val_output_2_mean__io_u: 0.3539 - val_output_3_mean__io_u: 0.3363 - learning_rate: 1.0800e-04\n",
      "Epoch 64/300\n",
      "\u001b[1m67/67\u001b[0m \u001b[32m━━━━━━━━━━━━━━━━━━━━\u001b[0m\u001b[37m\u001b[0m \u001b[1m18s\u001b[0m 264ms/step - final_output_mean__io_u: 0.3218 - loss: 0.1149 - output_1_mean__io_u: 0.3261 - output_2_mean__io_u: 0.3395 - output_3_mean__io_u: 0.3425 - val_final_output_mean__io_u: 0.3527 - val_loss: 0.1396 - val_output_1_mean__io_u: 0.3531 - val_output_2_mean__io_u: 0.3591 - val_output_3_mean__io_u: 0.3616 - learning_rate: 1.0800e-04\n",
      "Epoch 65/300\n",
      "\u001b[1m67/67\u001b[0m \u001b[32m━━━━━━━━━━━━━━━━━━━━\u001b[0m\u001b[37m\u001b[0m \u001b[1m18s\u001b[0m 264ms/step - final_output_mean__io_u: 0.2839 - loss: 0.1207 - output_1_mean__io_u: 0.2989 - output_2_mean__io_u: 0.3132 - output_3_mean__io_u: 0.3327 - val_final_output_mean__io_u: 0.3531 - val_loss: 0.1341 - val_output_1_mean__io_u: 0.3539 - val_output_2_mean__io_u: 0.3568 - val_output_3_mean__io_u: 0.3580 - learning_rate: 1.0800e-04\n",
      "Epoch 66/300\n",
      "\u001b[1m67/67\u001b[0m \u001b[32m━━━━━━━━━━━━━━━━━━━━\u001b[0m\u001b[37m\u001b[0m \u001b[1m18s\u001b[0m 266ms/step - final_output_mean__io_u: 0.3133 - loss: 0.1135 - output_1_mean__io_u: 0.3296 - output_2_mean__io_u: 0.3295 - output_3_mean__io_u: 0.3340 - val_final_output_mean__io_u: 0.3437 - val_loss: 0.1321 - val_output_1_mean__io_u: 0.3390 - val_output_2_mean__io_u: 0.3403 - val_output_3_mean__io_u: 0.3397 - learning_rate: 1.0800e-04\n",
      "Epoch 67/300\n",
      "\u001b[1m67/67\u001b[0m \u001b[32m━━━━━━━━━━━━━━━━━━━━\u001b[0m\u001b[37m\u001b[0m \u001b[1m18s\u001b[0m 264ms/step - final_output_mean__io_u: 0.3146 - loss: 0.1160 - output_1_mean__io_u: 0.3205 - output_2_mean__io_u: 0.3320 - output_3_mean__io_u: 0.3382 - val_final_output_mean__io_u: 0.3461 - val_loss: 0.1385 - val_output_1_mean__io_u: 0.3457 - val_output_2_mean__io_u: 0.3452 - val_output_3_mean__io_u: 0.3277 - learning_rate: 1.0800e-04\n",
      "Epoch 68/300\n",
      "\u001b[1m67/67\u001b[0m \u001b[32m━━━━━━━━━━━━━━━━━━━━\u001b[0m\u001b[37m\u001b[0m \u001b[1m18s\u001b[0m 264ms/step - final_output_mean__io_u: 0.3117 - loss: 0.1188 - output_1_mean__io_u: 0.3119 - output_2_mean__io_u: 0.3239 - output_3_mean__io_u: 0.3366 - val_final_output_mean__io_u: 0.3501 - val_loss: 0.1421 - val_output_1_mean__io_u: 0.3597 - val_output_2_mean__io_u: 0.3579 - val_output_3_mean__io_u: 0.3452 - learning_rate: 1.0800e-04\n",
      "Epoch 69/300\n",
      "\u001b[1m67/67\u001b[0m \u001b[32m━━━━━━━━━━━━━━━━━━━━\u001b[0m\u001b[37m\u001b[0m \u001b[1m18s\u001b[0m 264ms/step - final_output_mean__io_u: 0.2813 - loss: 0.1150 - output_1_mean__io_u: 0.2927 - output_2_mean__io_u: 0.3029 - output_3_mean__io_u: 0.3321 - val_final_output_mean__io_u: 0.3360 - val_loss: 0.1343 - val_output_1_mean__io_u: 0.3369 - val_output_2_mean__io_u: 0.3339 - val_output_3_mean__io_u: 0.3335 - learning_rate: 1.0800e-04\n",
      "Epoch 70/300\n",
      "\u001b[1m67/67\u001b[0m \u001b[32m━━━━━━━━━━━━━━━━━━━━\u001b[0m\u001b[37m\u001b[0m \u001b[1m18s\u001b[0m 265ms/step - final_output_mean__io_u: 0.2904 - loss: 0.1170 - output_1_mean__io_u: 0.3032 - output_2_mean__io_u: 0.3130 - output_3_mean__io_u: 0.3243 - val_final_output_mean__io_u: 0.3398 - val_loss: 0.1319 - val_output_1_mean__io_u: 0.3378 - val_output_2_mean__io_u: 0.3412 - val_output_3_mean__io_u: 0.3380 - learning_rate: 1.0800e-04\n",
      "Epoch 71/300\n",
      "\u001b[1m67/67\u001b[0m \u001b[32m━━━━━━━━━━━━━━━━━━━━\u001b[0m\u001b[37m\u001b[0m \u001b[1m18s\u001b[0m 265ms/step - final_output_mean__io_u: 0.2955 - loss: 0.1143 - output_1_mean__io_u: 0.3028 - output_2_mean__io_u: 0.3064 - output_3_mean__io_u: 0.3116 - val_final_output_mean__io_u: 0.3498 - val_loss: 0.1314 - val_output_1_mean__io_u: 0.3506 - val_output_2_mean__io_u: 0.3635 - val_output_3_mean__io_u: 0.3556 - learning_rate: 1.0800e-04\n",
      "Epoch 72/300\n",
      "\u001b[1m67/67\u001b[0m \u001b[32m━━━━━━━━━━━━━━━━━━━━\u001b[0m\u001b[37m\u001b[0m \u001b[1m18s\u001b[0m 264ms/step - final_output_mean__io_u: 0.2764 - loss: 0.1102 - output_1_mean__io_u: 0.2811 - output_2_mean__io_u: 0.3016 - output_3_mean__io_u: 0.3178 - val_final_output_mean__io_u: 0.3331 - val_loss: 0.1546 - val_output_1_mean__io_u: 0.3349 - val_output_2_mean__io_u: 0.3423 - val_output_3_mean__io_u: 0.3370 - learning_rate: 1.0800e-04\n",
      "Epoch 73/300\n",
      "\u001b[1m67/67\u001b[0m \u001b[32m━━━━━━━━━━━━━━━━━━━━\u001b[0m\u001b[37m\u001b[0m \u001b[1m18s\u001b[0m 264ms/step - final_output_mean__io_u: 0.2833 - loss: 0.1156 - output_1_mean__io_u: 0.2797 - output_2_mean__io_u: 0.2870 - output_3_mean__io_u: 0.3240 - val_final_output_mean__io_u: 0.3521 - val_loss: 0.1324 - val_output_1_mean__io_u: 0.3555 - val_output_2_mean__io_u: 0.3657 - val_output_3_mean__io_u: 0.3638 - learning_rate: 1.0800e-04\n",
      "Epoch 74/300\n",
      "\u001b[1m67/67\u001b[0m \u001b[32m━━━━━━━━━━━━━━━━━━━━\u001b[0m\u001b[37m\u001b[0m \u001b[1m18s\u001b[0m 264ms/step - final_output_mean__io_u: 0.3220 - loss: 0.1115 - output_1_mean__io_u: 0.3221 - output_2_mean__io_u: 0.3358 - output_3_mean__io_u: 0.3478 - val_final_output_mean__io_u: 0.3417 - val_loss: 0.1519 - val_output_1_mean__io_u: 0.3428 - val_output_2_mean__io_u: 0.3366 - val_output_3_mean__io_u: 0.3424 - learning_rate: 1.0800e-04\n",
      "Epoch 75/300\n",
      "\u001b[1m67/67\u001b[0m \u001b[32m━━━━━━━━━━━━━━━━━━━━\u001b[0m\u001b[37m\u001b[0m \u001b[1m18s\u001b[0m 264ms/step - final_output_mean__io_u: 0.2711 - loss: 0.1171 - output_1_mean__io_u: 0.2731 - output_2_mean__io_u: 0.3106 - output_3_mean__io_u: 0.3258 - val_final_output_mean__io_u: 0.3410 - val_loss: 0.1471 - val_output_1_mean__io_u: 0.3416 - val_output_2_mean__io_u: 0.3393 - val_output_3_mean__io_u: 0.3215 - learning_rate: 1.0800e-04\n",
      "Epoch 76/300\n",
      "\u001b[1m67/67\u001b[0m \u001b[32m━━━━━━━━━━━━━━━━━━━━\u001b[0m\u001b[37m\u001b[0m \u001b[1m18s\u001b[0m 264ms/step - final_output_mean__io_u: 0.2855 - loss: 0.1111 - output_1_mean__io_u: 0.2883 - output_2_mean__io_u: 0.3155 - output_3_mean__io_u: 0.3169 - val_final_output_mean__io_u: 0.3489 - val_loss: 0.1359 - val_output_1_mean__io_u: 0.3490 - val_output_2_mean__io_u: 0.3551 - val_output_3_mean__io_u: 0.3477 - learning_rate: 1.0800e-04\n",
      "Epoch 77/300\n",
      "\u001b[1m67/67\u001b[0m \u001b[32m━━━━━━━━━━━━━━━━━━━━\u001b[0m\u001b[37m\u001b[0m \u001b[1m18s\u001b[0m 264ms/step - final_output_mean__io_u: 0.3034 - loss: 0.1107 - output_1_mean__io_u: 0.3017 - output_2_mean__io_u: 0.3342 - output_3_mean__io_u: 0.3402 - val_final_output_mean__io_u: 0.3514 - val_loss: 0.1416 - val_output_1_mean__io_u: 0.3451 - val_output_2_mean__io_u: 0.3606 - val_output_3_mean__io_u: 0.3429 - learning_rate: 1.0800e-04\n",
      "Epoch 78/300\n",
      "\u001b[1m67/67\u001b[0m \u001b[32m━━━━━━━━━━━━━━━━━━━━\u001b[0m\u001b[37m\u001b[0m \u001b[1m0s\u001b[0m 248ms/step - final_output_mean__io_u: 0.2998 - loss: 0.1114 - output_1_mean__io_u: 0.2991 - output_2_mean__io_u: 0.3345 - output_3_mean__io_u: 0.3454\n",
      "Epoch 78: ReduceLROnPlateau reducing learning rate to 6.480000010924413e-05.\n",
      "\u001b[1m67/67\u001b[0m \u001b[32m━━━━━━━━━━━━━━━━━━━━\u001b[0m\u001b[37m\u001b[0m \u001b[1m18s\u001b[0m 264ms/step - final_output_mean__io_u: 0.2999 - loss: 0.1114 - output_1_mean__io_u: 0.2992 - output_2_mean__io_u: 0.3343 - output_3_mean__io_u: 0.3452 - val_final_output_mean__io_u: 0.3510 - val_loss: 0.1359 - val_output_1_mean__io_u: 0.3495 - val_output_2_mean__io_u: 0.3566 - val_output_3_mean__io_u: 0.3509 - learning_rate: 1.0800e-04\n",
      "Epoch 79/300\n",
      "\u001b[1m67/67\u001b[0m \u001b[32m━━━━━━━━━━━━━━━━━━━━\u001b[0m\u001b[37m\u001b[0m \u001b[1m18s\u001b[0m 266ms/step - final_output_mean__io_u: 0.3014 - loss: 0.1075 - output_1_mean__io_u: 0.3028 - output_2_mean__io_u: 0.3222 - output_3_mean__io_u: 0.3245 - val_final_output_mean__io_u: 0.3499 - val_loss: 0.1287 - val_output_1_mean__io_u: 0.3521 - val_output_2_mean__io_u: 0.3475 - val_output_3_mean__io_u: 0.3487 - learning_rate: 6.4800e-05\n",
      "Epoch 80/300\n",
      "\u001b[1m67/67\u001b[0m \u001b[32m━━━━━━━━━━━━━━━━━━━━\u001b[0m\u001b[37m\u001b[0m \u001b[1m18s\u001b[0m 264ms/step - final_output_mean__io_u: 0.3033 - loss: 0.1086 - output_1_mean__io_u: 0.2968 - output_2_mean__io_u: 0.3013 - output_3_mean__io_u: 0.3299 - val_final_output_mean__io_u: 0.3532 - val_loss: 0.1326 - val_output_1_mean__io_u: 0.3508 - val_output_2_mean__io_u: 0.3587 - val_output_3_mean__io_u: 0.3529 - learning_rate: 6.4800e-05\n",
      "Epoch 81/300\n",
      "\u001b[1m67/67\u001b[0m \u001b[32m━━━━━━━━━━━━━━━━━━━━\u001b[0m\u001b[37m\u001b[0m \u001b[1m18s\u001b[0m 266ms/step - final_output_mean__io_u: 0.3110 - loss: 0.1169 - output_1_mean__io_u: 0.3056 - output_2_mean__io_u: 0.3204 - output_3_mean__io_u: 0.3440 - val_final_output_mean__io_u: 0.3506 - val_loss: 0.1223 - val_output_1_mean__io_u: 0.3574 - val_output_2_mean__io_u: 0.3692 - val_output_3_mean__io_u: 0.3619 - learning_rate: 6.4800e-05\n",
      "Epoch 82/300\n",
      "\u001b[1m67/67\u001b[0m \u001b[32m━━━━━━━━━━━━━━━━━━━━\u001b[0m\u001b[37m\u001b[0m \u001b[1m18s\u001b[0m 264ms/step - final_output_mean__io_u: 0.3110 - loss: 0.1078 - output_1_mean__io_u: 0.3179 - output_2_mean__io_u: 0.3518 - output_3_mean__io_u: 0.3612 - val_final_output_mean__io_u: 0.3456 - val_loss: 0.1603 - val_output_1_mean__io_u: 0.3486 - val_output_2_mean__io_u: 0.3617 - val_output_3_mean__io_u: 0.3484 - learning_rate: 6.4800e-05\n",
      "Epoch 83/300\n",
      "\u001b[1m67/67\u001b[0m \u001b[32m━━━━━━━━━━━━━━━━━━━━\u001b[0m\u001b[37m\u001b[0m \u001b[1m18s\u001b[0m 264ms/step - final_output_mean__io_u: 0.3024 - loss: 0.1090 - output_1_mean__io_u: 0.3040 - output_2_mean__io_u: 0.3244 - output_3_mean__io_u: 0.3359 - val_final_output_mean__io_u: 0.3545 - val_loss: 0.1300 - val_output_1_mean__io_u: 0.3565 - val_output_2_mean__io_u: 0.3592 - val_output_3_mean__io_u: 0.3317 - learning_rate: 6.4800e-05\n",
      "Epoch 84/300\n",
      "\u001b[1m67/67\u001b[0m \u001b[32m━━━━━━━━━━━━━━━━━━━━\u001b[0m\u001b[37m\u001b[0m \u001b[1m18s\u001b[0m 263ms/step - final_output_mean__io_u: 0.2957 - loss: 0.1066 - output_1_mean__io_u: 0.2975 - output_2_mean__io_u: 0.3204 - output_3_mean__io_u: 0.3234 - val_final_output_mean__io_u: 0.3628 - val_loss: 0.1282 - val_output_1_mean__io_u: 0.3682 - val_output_2_mean__io_u: 0.3767 - val_output_3_mean__io_u: 0.3664 - learning_rate: 6.4800e-05\n",
      "Epoch 85/300\n",
      "\u001b[1m67/67\u001b[0m \u001b[32m━━━━━━━━━━━━━━━━━━━━\u001b[0m\u001b[37m\u001b[0m \u001b[1m18s\u001b[0m 263ms/step - final_output_mean__io_u: 0.2835 - loss: 0.1061 - output_1_mean__io_u: 0.2949 - output_2_mean__io_u: 0.3086 - output_3_mean__io_u: 0.3167 - val_final_output_mean__io_u: 0.3421 - val_loss: 0.1541 - val_output_1_mean__io_u: 0.3455 - val_output_2_mean__io_u: 0.3614 - val_output_3_mean__io_u: 0.3527 - learning_rate: 6.4800e-05\n",
      "Epoch 86/300\n",
      "\u001b[1m67/67\u001b[0m \u001b[32m━━━━━━━━━━━━━━━━━━━━\u001b[0m\u001b[37m\u001b[0m \u001b[1m18s\u001b[0m 263ms/step - final_output_mean__io_u: 0.2980 - loss: 0.1111 - output_1_mean__io_u: 0.3068 - output_2_mean__io_u: 0.3237 - output_3_mean__io_u: 0.3486 - val_final_output_mean__io_u: 0.3627 - val_loss: 0.1345 - val_output_1_mean__io_u: 0.3591 - val_output_2_mean__io_u: 0.3755 - val_output_3_mean__io_u: 0.3706 - learning_rate: 6.4800e-05\n",
      "Epoch 87/300\n",
      "\u001b[1m67/67\u001b[0m \u001b[32m━━━━━━━━━━━━━━━━━━━━\u001b[0m\u001b[37m\u001b[0m \u001b[1m18s\u001b[0m 264ms/step - final_output_mean__io_u: 0.3182 - loss: 0.1157 - output_1_mean__io_u: 0.3248 - output_2_mean__io_u: 0.3377 - output_3_mean__io_u: 0.3637 - val_final_output_mean__io_u: 0.3461 - val_loss: 0.1605 - val_output_1_mean__io_u: 0.3519 - val_output_2_mean__io_u: 0.3649 - val_output_3_mean__io_u: 0.3649 - learning_rate: 6.4800e-05\n",
      "Epoch 88/300\n",
      "\u001b[1m67/67\u001b[0m \u001b[32m━━━━━━━━━━━━━━━━━━━━\u001b[0m\u001b[37m\u001b[0m \u001b[1m0s\u001b[0m 248ms/step - final_output_mean__io_u: 0.3188 - loss: 0.1024 - output_1_mean__io_u: 0.3202 - output_2_mean__io_u: 0.3447 - output_3_mean__io_u: 0.3614\n",
      "Epoch 88: ReduceLROnPlateau reducing learning rate to 3.8879999192431565e-05.\n",
      "\u001b[1m67/67\u001b[0m \u001b[32m━━━━━━━━━━━━━━━━━━━━\u001b[0m\u001b[37m\u001b[0m \u001b[1m18s\u001b[0m 264ms/step - final_output_mean__io_u: 0.3185 - loss: 0.1025 - output_1_mean__io_u: 0.3200 - output_2_mean__io_u: 0.3445 - output_3_mean__io_u: 0.3612 - val_final_output_mean__io_u: 0.3634 - val_loss: 0.1289 - val_output_1_mean__io_u: 0.3655 - val_output_2_mean__io_u: 0.3753 - val_output_3_mean__io_u: 0.3602 - learning_rate: 6.4800e-05\n",
      "Epoch 89/300\n",
      "\u001b[1m67/67\u001b[0m \u001b[32m━━━━━━━━━━━━━━━━━━━━\u001b[0m\u001b[37m\u001b[0m \u001b[1m18s\u001b[0m 264ms/step - final_output_mean__io_u: 0.2798 - loss: 0.1097 - output_1_mean__io_u: 0.2784 - output_2_mean__io_u: 0.3010 - output_3_mean__io_u: 0.3244 - val_final_output_mean__io_u: 0.3602 - val_loss: 0.1248 - val_output_1_mean__io_u: 0.3680 - val_output_2_mean__io_u: 0.3807 - val_output_3_mean__io_u: 0.3614 - learning_rate: 3.8880e-05\n",
      "Epoch 90/300\n",
      "\u001b[1m67/67\u001b[0m \u001b[32m━━━━━━━━━━━━━━━━━━━━\u001b[0m\u001b[37m\u001b[0m \u001b[1m18s\u001b[0m 264ms/step - final_output_mean__io_u: 0.3235 - loss: 0.1094 - output_1_mean__io_u: 0.3253 - output_2_mean__io_u: 0.3395 - output_3_mean__io_u: 0.3477 - val_final_output_mean__io_u: 0.3636 - val_loss: 0.1231 - val_output_1_mean__io_u: 0.3672 - val_output_2_mean__io_u: 0.3790 - val_output_3_mean__io_u: 0.3649 - learning_rate: 3.8880e-05\n",
      "Epoch 91/300\n",
      "\u001b[1m67/67\u001b[0m \u001b[32m━━━━━━━━━━━━━━━━━━━━\u001b[0m\u001b[37m\u001b[0m \u001b[1m18s\u001b[0m 264ms/step - final_output_mean__io_u: 0.3233 - loss: 0.1040 - output_1_mean__io_u: 0.3254 - output_2_mean__io_u: 0.3483 - output_3_mean__io_u: 0.3699 - val_final_output_mean__io_u: 0.3616 - val_loss: 0.1268 - val_output_1_mean__io_u: 0.3613 - val_output_2_mean__io_u: 0.3731 - val_output_3_mean__io_u: 0.3704 - learning_rate: 3.8880e-05\n",
      "Epoch 92/300\n",
      "\u001b[1m67/67\u001b[0m \u001b[32m━━━━━━━━━━━━━━━━━━━━\u001b[0m\u001b[37m\u001b[0m \u001b[1m18s\u001b[0m 264ms/step - final_output_mean__io_u: 0.3073 - loss: 0.1070 - output_1_mean__io_u: 0.3090 - output_2_mean__io_u: 0.3226 - output_3_mean__io_u: 0.3277 - val_final_output_mean__io_u: 0.3595 - val_loss: 0.1268 - val_output_1_mean__io_u: 0.3588 - val_output_2_mean__io_u: 0.3775 - val_output_3_mean__io_u: 0.3672 - learning_rate: 3.8880e-05\n",
      "Epoch 93/300\n",
      "\u001b[1m67/67\u001b[0m \u001b[32m━━━━━━━━━━━━━━━━━━━━\u001b[0m\u001b[37m\u001b[0m \u001b[1m18s\u001b[0m 265ms/step - final_output_mean__io_u: 0.3198 - loss: 0.1019 - output_1_mean__io_u: 0.3178 - output_2_mean__io_u: 0.3299 - output_3_mean__io_u: 0.3393 - val_final_output_mean__io_u: 0.3606 - val_loss: 0.1367 - val_output_1_mean__io_u: 0.3673 - val_output_2_mean__io_u: 0.3706 - val_output_3_mean__io_u: 0.3643 - learning_rate: 3.8880e-05\n",
      "Epoch 94/300\n",
      "\u001b[1m67/67\u001b[0m \u001b[32m━━━━━━━━━━━━━━━━━━━━\u001b[0m\u001b[37m\u001b[0m \u001b[1m18s\u001b[0m 264ms/step - final_output_mean__io_u: 0.3356 - loss: 0.1034 - output_1_mean__io_u: 0.3422 - output_2_mean__io_u: 0.3581 - output_3_mean__io_u: 0.3525 - val_final_output_mean__io_u: 0.3761 - val_loss: 0.1252 - val_output_1_mean__io_u: 0.3802 - val_output_2_mean__io_u: 0.3859 - val_output_3_mean__io_u: 0.3775 - learning_rate: 3.8880e-05\n",
      "Epoch 95/300\n",
      "\u001b[1m67/67\u001b[0m \u001b[32m━━━━━━━━━━━━━━━━━━━━\u001b[0m\u001b[37m\u001b[0m \u001b[1m0s\u001b[0m 248ms/step - final_output_mean__io_u: 0.2918 - loss: 0.1095 - output_1_mean__io_u: 0.2994 - output_2_mean__io_u: 0.3135 - output_3_mean__io_u: 0.3262\n",
      "Epoch 95: ReduceLROnPlateau reducing learning rate to 2.3327999952016398e-05.\n",
      "\u001b[1m67/67\u001b[0m \u001b[32m━━━━━━━━━━━━━━━━━━━━\u001b[0m\u001b[37m\u001b[0m \u001b[1m18s\u001b[0m 264ms/step - final_output_mean__io_u: 0.2921 - loss: 0.1095 - output_1_mean__io_u: 0.2997 - output_2_mean__io_u: 0.3138 - output_3_mean__io_u: 0.3265 - val_final_output_mean__io_u: 0.3663 - val_loss: 0.1292 - val_output_1_mean__io_u: 0.3674 - val_output_2_mean__io_u: 0.3764 - val_output_3_mean__io_u: 0.3726 - learning_rate: 3.8880e-05\n",
      "Epoch 96/300\n",
      "\u001b[1m67/67\u001b[0m \u001b[32m━━━━━━━━━━━━━━━━━━━━\u001b[0m\u001b[37m\u001b[0m \u001b[1m18s\u001b[0m 264ms/step - final_output_mean__io_u: 0.3223 - loss: 0.1060 - output_1_mean__io_u: 0.3226 - output_2_mean__io_u: 0.3345 - output_3_mean__io_u: 0.3590 - val_final_output_mean__io_u: 0.3625 - val_loss: 0.1420 - val_output_1_mean__io_u: 0.3669 - val_output_2_mean__io_u: 0.3747 - val_output_3_mean__io_u: 0.3774 - learning_rate: 2.3328e-05\n",
      "Epoch 97/300\n",
      "\u001b[1m67/67\u001b[0m \u001b[32m━━━━━━━━━━━━━━━━━━━━\u001b[0m\u001b[37m\u001b[0m \u001b[1m18s\u001b[0m 264ms/step - final_output_mean__io_u: 0.3231 - loss: 0.1019 - output_1_mean__io_u: 0.3267 - output_2_mean__io_u: 0.3394 - output_3_mean__io_u: 0.3535 - val_final_output_mean__io_u: 0.3635 - val_loss: 0.1239 - val_output_1_mean__io_u: 0.3673 - val_output_2_mean__io_u: 0.3754 - val_output_3_mean__io_u: 0.3811 - learning_rate: 2.3328e-05\n",
      "Epoch 98/300\n",
      "\u001b[1m67/67\u001b[0m \u001b[32m━━━━━━━━━━━━━━━━━━━━\u001b[0m\u001b[37m\u001b[0m \u001b[1m18s\u001b[0m 264ms/step - final_output_mean__io_u: 0.3300 - loss: 0.1004 - output_1_mean__io_u: 0.3327 - output_2_mean__io_u: 0.3504 - output_3_mean__io_u: 0.3566 - val_final_output_mean__io_u: 0.3683 - val_loss: 0.1280 - val_output_1_mean__io_u: 0.3734 - val_output_2_mean__io_u: 0.3769 - val_output_3_mean__io_u: 0.3746 - learning_rate: 2.3328e-05\n",
      "Epoch 99/300\n",
      "\u001b[1m67/67\u001b[0m \u001b[32m━━━━━━━━━━━━━━━━━━━━\u001b[0m\u001b[37m\u001b[0m \u001b[1m18s\u001b[0m 264ms/step - final_output_mean__io_u: 0.3408 - loss: 0.0965 - output_1_mean__io_u: 0.3424 - output_2_mean__io_u: 0.3537 - output_3_mean__io_u: 0.3518 - val_final_output_mean__io_u: 0.3715 - val_loss: 0.1236 - val_output_1_mean__io_u: 0.3809 - val_output_2_mean__io_u: 0.3794 - val_output_3_mean__io_u: 0.3793 - learning_rate: 2.3328e-05\n",
      "Epoch 100/300\n",
      "\u001b[1m67/67\u001b[0m \u001b[32m━━━━━━━━━━━━━━━━━━━━\u001b[0m\u001b[37m\u001b[0m \u001b[1m18s\u001b[0m 264ms/step - final_output_mean__io_u: 0.3283 - loss: 0.1052 - output_1_mean__io_u: 0.3300 - output_2_mean__io_u: 0.3459 - output_3_mean__io_u: 0.3553 - val_final_output_mean__io_u: 0.3580 - val_loss: 0.1264 - val_output_1_mean__io_u: 0.3669 - val_output_2_mean__io_u: 0.3694 - val_output_3_mean__io_u: 0.3613 - learning_rate: 2.3328e-05\n",
      "Epoch 101/300\n",
      "\u001b[1m67/67\u001b[0m \u001b[32m━━━━━━━━━━━━━━━━━━━━\u001b[0m\u001b[37m\u001b[0m \u001b[1m18s\u001b[0m 266ms/step - final_output_mean__io_u: 0.3466 - loss: 0.0964 - output_1_mean__io_u: 0.3457 - output_2_mean__io_u: 0.3754 - output_3_mean__io_u: 0.3975 - val_final_output_mean__io_u: 0.3712 - val_loss: 0.1210 - val_output_1_mean__io_u: 0.3790 - val_output_2_mean__io_u: 0.3799 - val_output_3_mean__io_u: 0.3771 - learning_rate: 2.3328e-05\n",
      "Epoch 102/300\n",
      "\u001b[1m67/67\u001b[0m \u001b[32m━━━━━━━━━━━━━━━━━━━━\u001b[0m\u001b[37m\u001b[0m \u001b[1m18s\u001b[0m 264ms/step - final_output_mean__io_u: 0.3203 - loss: 0.1027 - output_1_mean__io_u: 0.3256 - output_2_mean__io_u: 0.3353 - output_3_mean__io_u: 0.3425 - val_final_output_mean__io_u: 0.3760 - val_loss: 0.1216 - val_output_1_mean__io_u: 0.3844 - val_output_2_mean__io_u: 0.3864 - val_output_3_mean__io_u: 0.3802 - learning_rate: 2.3328e-05\n",
      "Epoch 103/300\n",
      "\u001b[1m67/67\u001b[0m \u001b[32m━━━━━━━━━━━━━━━━━━━━\u001b[0m\u001b[37m\u001b[0m \u001b[1m18s\u001b[0m 264ms/step - final_output_mean__io_u: 0.3218 - loss: 0.1059 - output_1_mean__io_u: 0.3267 - output_2_mean__io_u: 0.3397 - output_3_mean__io_u: 0.3541 - val_final_output_mean__io_u: 0.3726 - val_loss: 0.1217 - val_output_1_mean__io_u: 0.3792 - val_output_2_mean__io_u: 0.3718 - val_output_3_mean__io_u: 0.3720 - learning_rate: 2.3328e-05\n",
      "Epoch 104/300\n",
      "\u001b[1m67/67\u001b[0m \u001b[32m━━━━━━━━━━━━━━━━━━━━\u001b[0m\u001b[37m\u001b[0m \u001b[1m18s\u001b[0m 265ms/step - final_output_mean__io_u: 0.3344 - loss: 0.1038 - output_1_mean__io_u: 0.3451 - output_2_mean__io_u: 0.3455 - output_3_mean__io_u: 0.3598 - val_final_output_mean__io_u: 0.3778 - val_loss: 0.1200 - val_output_1_mean__io_u: 0.3815 - val_output_2_mean__io_u: 0.3883 - val_output_3_mean__io_u: 0.3898 - learning_rate: 2.3328e-05\n",
      "Epoch 105/300\n",
      "\u001b[1m67/67\u001b[0m \u001b[32m━━━━━━━━━━━━━━━━━━━━\u001b[0m\u001b[37m\u001b[0m \u001b[1m18s\u001b[0m 264ms/step - final_output_mean__io_u: 0.3436 - loss: 0.1000 - output_1_mean__io_u: 0.3425 - output_2_mean__io_u: 0.3508 - output_3_mean__io_u: 0.3607 - val_final_output_mean__io_u: 0.3798 - val_loss: 0.1217 - val_output_1_mean__io_u: 0.3832 - val_output_2_mean__io_u: 0.3888 - val_output_3_mean__io_u: 0.3821 - learning_rate: 2.3328e-05\n",
      "Epoch 106/300\n",
      "\u001b[1m67/67\u001b[0m \u001b[32m━━━━━━━━━━━━━━━━━━━━\u001b[0m\u001b[37m\u001b[0m \u001b[1m18s\u001b[0m 264ms/step - final_output_mean__io_u: 0.3206 - loss: 0.1045 - output_1_mean__io_u: 0.3275 - output_2_mean__io_u: 0.3336 - output_3_mean__io_u: 0.3602 - val_final_output_mean__io_u: 0.3744 - val_loss: 0.1205 - val_output_1_mean__io_u: 0.3775 - val_output_2_mean__io_u: 0.3828 - val_output_3_mean__io_u: 0.3742 - learning_rate: 2.3328e-05\n",
      "Epoch 107/300\n",
      "\u001b[1m67/67\u001b[0m \u001b[32m━━━━━━━━━━━━━━━━━━━━\u001b[0m\u001b[37m\u001b[0m \u001b[1m18s\u001b[0m 264ms/step - final_output_mean__io_u: 0.3036 - loss: 0.1019 - output_1_mean__io_u: 0.3039 - output_2_mean__io_u: 0.3086 - output_3_mean__io_u: 0.3218 - val_final_output_mean__io_u: 0.3726 - val_loss: 0.1235 - val_output_1_mean__io_u: 0.3773 - val_output_2_mean__io_u: 0.3800 - val_output_3_mean__io_u: 0.3846 - learning_rate: 2.3328e-05\n",
      "Epoch 108/300\n",
      "\u001b[1m67/67\u001b[0m \u001b[32m━━━━━━━━━━━━━━━━━━━━\u001b[0m\u001b[37m\u001b[0m \u001b[1m18s\u001b[0m 264ms/step - final_output_mean__io_u: 0.3328 - loss: 0.1022 - output_1_mean__io_u: 0.3379 - output_2_mean__io_u: 0.3568 - output_3_mean__io_u: 0.3736 - val_final_output_mean__io_u: 0.3811 - val_loss: 0.1246 - val_output_1_mean__io_u: 0.3819 - val_output_2_mean__io_u: 0.3902 - val_output_3_mean__io_u: 0.3790 - learning_rate: 2.3328e-05\n",
      "Epoch 109/300\n",
      "\u001b[1m67/67\u001b[0m \u001b[32m━━━━━━━━━━━━━━━━━━━━\u001b[0m\u001b[37m\u001b[0m \u001b[1m18s\u001b[0m 264ms/step - final_output_mean__io_u: 0.3100 - loss: 0.1035 - output_1_mean__io_u: 0.3150 - output_2_mean__io_u: 0.3240 - output_3_mean__io_u: 0.3406 - val_final_output_mean__io_u: 0.3695 - val_loss: 0.1262 - val_output_1_mean__io_u: 0.3705 - val_output_2_mean__io_u: 0.3821 - val_output_3_mean__io_u: 0.3834 - learning_rate: 2.3328e-05\n",
      "Epoch 110/300\n",
      "\u001b[1m67/67\u001b[0m \u001b[32m━━━━━━━━━━━━━━━━━━━━\u001b[0m\u001b[37m\u001b[0m \u001b[1m18s\u001b[0m 264ms/step - final_output_mean__io_u: 0.3191 - loss: 0.0983 - output_1_mean__io_u: 0.3168 - output_2_mean__io_u: 0.3398 - output_3_mean__io_u: 0.3423 - val_final_output_mean__io_u: 0.3745 - val_loss: 0.1224 - val_output_1_mean__io_u: 0.3745 - val_output_2_mean__io_u: 0.3783 - val_output_3_mean__io_u: 0.3747 - learning_rate: 2.3328e-05\n",
      "Epoch 111/300\n",
      "\u001b[1m67/67\u001b[0m \u001b[32m━━━━━━━━━━━━━━━━━━━━\u001b[0m\u001b[37m\u001b[0m \u001b[1m0s\u001b[0m 248ms/step - final_output_mean__io_u: 0.3337 - loss: 0.0993 - output_1_mean__io_u: 0.3356 - output_2_mean__io_u: 0.3437 - output_3_mean__io_u: 0.3524\n",
      "Epoch 111: ReduceLROnPlateau reducing learning rate to 1.3996800407767295e-05.\n",
      "\u001b[1m67/67\u001b[0m \u001b[32m━━━━━━━━━━━━━━━━━━━━\u001b[0m\u001b[37m\u001b[0m \u001b[1m18s\u001b[0m 264ms/step - final_output_mean__io_u: 0.3336 - loss: 0.0993 - output_1_mean__io_u: 0.3354 - output_2_mean__io_u: 0.3437 - output_3_mean__io_u: 0.3524 - val_final_output_mean__io_u: 0.3778 - val_loss: 0.1243 - val_output_1_mean__io_u: 0.3793 - val_output_2_mean__io_u: 0.3883 - val_output_3_mean__io_u: 0.3916 - learning_rate: 2.3328e-05\n",
      "Epoch 112/300\n",
      "\u001b[1m67/67\u001b[0m \u001b[32m━━━━━━━━━━━━━━━━━━━━\u001b[0m\u001b[37m\u001b[0m \u001b[1m18s\u001b[0m 264ms/step - final_output_mean__io_u: 0.3010 - loss: 0.1045 - output_1_mean__io_u: 0.2998 - output_2_mean__io_u: 0.3177 - output_3_mean__io_u: 0.3485 - val_final_output_mean__io_u: 0.3813 - val_loss: 0.1241 - val_output_1_mean__io_u: 0.3840 - val_output_2_mean__io_u: 0.3902 - val_output_3_mean__io_u: 0.3880 - learning_rate: 1.3997e-05\n",
      "Epoch 113/300\n",
      "\u001b[1m67/67\u001b[0m \u001b[32m━━━━━━━━━━━━━━━━━━━━\u001b[0m\u001b[37m\u001b[0m \u001b[1m18s\u001b[0m 264ms/step - final_output_mean__io_u: 0.3584 - loss: 0.0903 - output_1_mean__io_u: 0.3632 - output_2_mean__io_u: 0.3786 - output_3_mean__io_u: 0.3803 - val_final_output_mean__io_u: 0.3835 - val_loss: 0.1272 - val_output_1_mean__io_u: 0.3852 - val_output_2_mean__io_u: 0.3875 - val_output_3_mean__io_u: 0.3838 - learning_rate: 1.3997e-05\n",
      "Epoch 114/300\n",
      "\u001b[1m67/67\u001b[0m \u001b[32m━━━━━━━━━━━━━━━━━━━━\u001b[0m\u001b[37m\u001b[0m \u001b[1m18s\u001b[0m 264ms/step - final_output_mean__io_u: 0.3339 - loss: 0.0963 - output_1_mean__io_u: 0.3380 - output_2_mean__io_u: 0.3518 - output_3_mean__io_u: 0.3750 - val_final_output_mean__io_u: 0.3779 - val_loss: 0.1227 - val_output_1_mean__io_u: 0.3809 - val_output_2_mean__io_u: 0.3830 - val_output_3_mean__io_u: 0.3831 - learning_rate: 1.3997e-05\n",
      "Epoch 115/300\n",
      "\u001b[1m67/67\u001b[0m \u001b[32m━━━━━━━━━━━━━━━━━━━━\u001b[0m\u001b[37m\u001b[0m \u001b[1m18s\u001b[0m 264ms/step - final_output_mean__io_u: 0.3262 - loss: 0.0977 - output_1_mean__io_u: 0.3382 - output_2_mean__io_u: 0.3464 - output_3_mean__io_u: 0.3633 - val_final_output_mean__io_u: 0.3802 - val_loss: 0.1204 - val_output_1_mean__io_u: 0.3851 - val_output_2_mean__io_u: 0.3862 - val_output_3_mean__io_u: 0.3885 - learning_rate: 1.3997e-05\n",
      "Epoch 116/300\n",
      "\u001b[1m67/67\u001b[0m \u001b[32m━━━━━━━━━━━━━━━━━━━━\u001b[0m\u001b[37m\u001b[0m \u001b[1m18s\u001b[0m 264ms/step - final_output_mean__io_u: 0.3438 - loss: 0.0960 - output_1_mean__io_u: 0.3483 - output_2_mean__io_u: 0.3561 - output_3_mean__io_u: 0.3700 - val_final_output_mean__io_u: 0.3864 - val_loss: 0.1221 - val_output_1_mean__io_u: 0.3879 - val_output_2_mean__io_u: 0.3917 - val_output_3_mean__io_u: 0.3859 - learning_rate: 1.3997e-05\n",
      "Epoch 117/300\n",
      "\u001b[1m67/67\u001b[0m \u001b[32m━━━━━━━━━━━━━━━━━━━━\u001b[0m\u001b[37m\u001b[0m \u001b[1m18s\u001b[0m 264ms/step - final_output_mean__io_u: 0.3266 - loss: 0.0940 - output_1_mean__io_u: 0.3261 - output_2_mean__io_u: 0.3452 - output_3_mean__io_u: 0.3595 - val_final_output_mean__io_u: 0.3830 - val_loss: 0.1204 - val_output_1_mean__io_u: 0.3874 - val_output_2_mean__io_u: 0.3925 - val_output_3_mean__io_u: 0.3942 - learning_rate: 1.3997e-05\n",
      "Epoch 118/300\n",
      "\u001b[1m67/67\u001b[0m \u001b[32m━━━━━━━━━━━━━━━━━━━━\u001b[0m\u001b[37m\u001b[0m \u001b[1m0s\u001b[0m 248ms/step - final_output_mean__io_u: 0.3201 - loss: 0.1021 - output_1_mean__io_u: 0.3231 - output_2_mean__io_u: 0.3466 - output_3_mean__io_u: 0.3612\n",
      "Epoch 118: ReduceLROnPlateau reducing learning rate to 8.398080353799742e-06.\n",
      "\u001b[1m67/67\u001b[0m \u001b[32m━━━━━━━━━━━━━━━━━━━━\u001b[0m\u001b[37m\u001b[0m \u001b[1m18s\u001b[0m 265ms/step - final_output_mean__io_u: 0.3202 - loss: 0.1020 - output_1_mean__io_u: 0.3232 - output_2_mean__io_u: 0.3466 - output_3_mean__io_u: 0.3611 - val_final_output_mean__io_u: 0.3776 - val_loss: 0.1235 - val_output_1_mean__io_u: 0.3790 - val_output_2_mean__io_u: 0.3831 - val_output_3_mean__io_u: 0.3851 - learning_rate: 1.3997e-05\n",
      "Epoch 119/300\n",
      "\u001b[1m67/67\u001b[0m \u001b[32m━━━━━━━━━━━━━━━━━━━━\u001b[0m\u001b[37m\u001b[0m \u001b[1m18s\u001b[0m 264ms/step - final_output_mean__io_u: 0.3375 - loss: 0.1003 - output_1_mean__io_u: 0.3365 - output_2_mean__io_u: 0.3467 - output_3_mean__io_u: 0.3753 - val_final_output_mean__io_u: 0.3844 - val_loss: 0.1208 - val_output_1_mean__io_u: 0.3842 - val_output_2_mean__io_u: 0.3861 - val_output_3_mean__io_u: 0.3854 - learning_rate: 8.3981e-06\n",
      "Epoch 120/300\n",
      "\u001b[1m67/67\u001b[0m \u001b[32m━━━━━━━━━━━━━━━━━━━━\u001b[0m\u001b[37m\u001b[0m \u001b[1m18s\u001b[0m 264ms/step - final_output_mean__io_u: 0.3568 - loss: 0.0892 - output_1_mean__io_u: 0.3543 - output_2_mean__io_u: 0.3718 - output_3_mean__io_u: 0.3856 - val_final_output_mean__io_u: 0.3813 - val_loss: 0.1210 - val_output_1_mean__io_u: 0.3800 - val_output_2_mean__io_u: 0.3812 - val_output_3_mean__io_u: 0.3809 - learning_rate: 8.3981e-06\n",
      "Epoch 121/300\n",
      "\u001b[1m67/67\u001b[0m \u001b[32m━━━━━━━━━━━━━━━━━━━━\u001b[0m\u001b[37m\u001b[0m \u001b[1m18s\u001b[0m 264ms/step - final_output_mean__io_u: 0.3203 - loss: 0.0998 - output_1_mean__io_u: 0.3220 - output_2_mean__io_u: 0.3334 - output_3_mean__io_u: 0.3405 - val_final_output_mean__io_u: 0.3837 - val_loss: 0.1207 - val_output_1_mean__io_u: 0.3845 - val_output_2_mean__io_u: 0.3889 - val_output_3_mean__io_u: 0.3892 - learning_rate: 8.3981e-06\n",
      "Epoch 122/300\n",
      "\u001b[1m67/67\u001b[0m \u001b[32m━━━━━━━━━━━━━━━━━━━━\u001b[0m\u001b[37m\u001b[0m \u001b[1m18s\u001b[0m 264ms/step - final_output_mean__io_u: 0.3382 - loss: 0.0950 - output_1_mean__io_u: 0.3387 - output_2_mean__io_u: 0.3472 - output_3_mean__io_u: 0.3800 - val_final_output_mean__io_u: 0.3844 - val_loss: 0.1207 - val_output_1_mean__io_u: 0.3843 - val_output_2_mean__io_u: 0.3889 - val_output_3_mean__io_u: 0.3917 - learning_rate: 8.3981e-06\n",
      "Epoch 123/300\n",
      "\u001b[1m67/67\u001b[0m \u001b[32m━━━━━━━━━━━━━━━━━━━━\u001b[0m\u001b[37m\u001b[0m \u001b[1m18s\u001b[0m 264ms/step - final_output_mean__io_u: 0.3419 - loss: 0.0927 - output_1_mean__io_u: 0.3612 - output_2_mean__io_u: 0.3706 - output_3_mean__io_u: 0.3879 - val_final_output_mean__io_u: 0.3827 - val_loss: 0.1201 - val_output_1_mean__io_u: 0.3833 - val_output_2_mean__io_u: 0.3889 - val_output_3_mean__io_u: 0.3884 - learning_rate: 8.3981e-06\n",
      "Epoch 124/300\n",
      "\u001b[1m67/67\u001b[0m \u001b[32m━━━━━━━━━━━━━━━━━━━━\u001b[0m\u001b[37m\u001b[0m \u001b[1m18s\u001b[0m 264ms/step - final_output_mean__io_u: 0.3109 - loss: 0.0950 - output_1_mean__io_u: 0.3061 - output_2_mean__io_u: 0.3134 - output_3_mean__io_u: 0.3691 - val_final_output_mean__io_u: 0.3832 - val_loss: 0.1216 - val_output_1_mean__io_u: 0.3813 - val_output_2_mean__io_u: 0.3874 - val_output_3_mean__io_u: 0.3847 - learning_rate: 8.3981e-06\n",
      "Epoch 125/300\n",
      "\u001b[1m67/67\u001b[0m \u001b[32m━━━━━━━━━━━━━━━━━━━━\u001b[0m\u001b[37m\u001b[0m \u001b[1m18s\u001b[0m 267ms/step - final_output_mean__io_u: 0.3480 - loss: 0.0932 - output_1_mean__io_u: 0.3412 - output_2_mean__io_u: 0.3612 - output_3_mean__io_u: 0.3743 - val_final_output_mean__io_u: 0.3896 - val_loss: 0.1197 - val_output_1_mean__io_u: 0.3887 - val_output_2_mean__io_u: 0.3911 - val_output_3_mean__io_u: 0.3918 - learning_rate: 8.3981e-06\n",
      "Epoch 126/300\n",
      "\u001b[1m67/67\u001b[0m \u001b[32m━━━━━━━━━━━━━━━━━━━━\u001b[0m\u001b[37m\u001b[0m \u001b[1m18s\u001b[0m 264ms/step - final_output_mean__io_u: 0.3490 - loss: 0.0941 - output_1_mean__io_u: 0.3495 - output_2_mean__io_u: 0.3663 - output_3_mean__io_u: 0.3771 - val_final_output_mean__io_u: 0.3872 - val_loss: 0.1214 - val_output_1_mean__io_u: 0.3872 - val_output_2_mean__io_u: 0.3915 - val_output_3_mean__io_u: 0.3896 - learning_rate: 8.3981e-06\n",
      "Epoch 127/300\n",
      "\u001b[1m67/67\u001b[0m \u001b[32m━━━━━━━━━━━━━━━━━━━━\u001b[0m\u001b[37m\u001b[0m \u001b[1m18s\u001b[0m 264ms/step - final_output_mean__io_u: 0.3234 - loss: 0.0960 - output_1_mean__io_u: 0.3247 - output_2_mean__io_u: 0.3384 - output_3_mean__io_u: 0.3380 - val_final_output_mean__io_u: 0.3858 - val_loss: 0.1202 - val_output_1_mean__io_u: 0.3853 - val_output_2_mean__io_u: 0.3903 - val_output_3_mean__io_u: 0.3894 - learning_rate: 8.3981e-06\n",
      "Epoch 128/300\n",
      "\u001b[1m67/67\u001b[0m \u001b[32m━━━━━━━━━━━━━━━━━━━━\u001b[0m\u001b[37m\u001b[0m \u001b[1m18s\u001b[0m 264ms/step - final_output_mean__io_u: 0.3298 - loss: 0.0968 - output_1_mean__io_u: 0.3316 - output_2_mean__io_u: 0.3467 - output_3_mean__io_u: 0.3523 - val_final_output_mean__io_u: 0.3893 - val_loss: 0.1208 - val_output_1_mean__io_u: 0.3883 - val_output_2_mean__io_u: 0.3959 - val_output_3_mean__io_u: 0.3930 - learning_rate: 8.3981e-06\n",
      "Epoch 129/300\n",
      "\u001b[1m67/67\u001b[0m \u001b[32m━━━━━━━━━━━━━━━━━━━━\u001b[0m\u001b[37m\u001b[0m \u001b[1m18s\u001b[0m 264ms/step - final_output_mean__io_u: 0.3533 - loss: 0.1013 - output_1_mean__io_u: 0.3507 - output_2_mean__io_u: 0.3616 - output_3_mean__io_u: 0.3945 - val_final_output_mean__io_u: 0.3906 - val_loss: 0.1205 - val_output_1_mean__io_u: 0.3875 - val_output_2_mean__io_u: 0.3935 - val_output_3_mean__io_u: 0.3901 - learning_rate: 8.3981e-06\n",
      "Epoch 130/300\n",
      "\u001b[1m67/67\u001b[0m \u001b[32m━━━━━━━━━━━━━━━━━━━━\u001b[0m\u001b[37m\u001b[0m \u001b[1m18s\u001b[0m 264ms/step - final_output_mean__io_u: 0.3388 - loss: 0.0945 - output_1_mean__io_u: 0.3372 - output_2_mean__io_u: 0.3478 - output_3_mean__io_u: 0.3472 - val_final_output_mean__io_u: 0.3903 - val_loss: 0.1200 - val_output_1_mean__io_u: 0.3890 - val_output_2_mean__io_u: 0.3947 - val_output_3_mean__io_u: 0.3934 - learning_rate: 8.3981e-06\n",
      "Epoch 131/300\n",
      "\u001b[1m67/67\u001b[0m \u001b[32m━━━━━━━━━━━━━━━━━━━━\u001b[0m\u001b[37m\u001b[0m \u001b[1m18s\u001b[0m 266ms/step - final_output_mean__io_u: 0.3507 - loss: 0.0934 - output_1_mean__io_u: 0.3484 - output_2_mean__io_u: 0.3520 - output_3_mean__io_u: 0.3780 - val_final_output_mean__io_u: 0.3846 - val_loss: 0.1191 - val_output_1_mean__io_u: 0.3860 - val_output_2_mean__io_u: 0.3914 - val_output_3_mean__io_u: 0.3910 - learning_rate: 8.3981e-06\n",
      "Epoch 132/300\n",
      "\u001b[1m67/67\u001b[0m \u001b[32m━━━━━━━━━━━━━━━━━━━━\u001b[0m\u001b[37m\u001b[0m \u001b[1m18s\u001b[0m 264ms/step - final_output_mean__io_u: 0.3225 - loss: 0.0969 - output_1_mean__io_u: 0.3334 - output_2_mean__io_u: 0.3688 - output_3_mean__io_u: 0.3742 - val_final_output_mean__io_u: 0.3878 - val_loss: 0.1197 - val_output_1_mean__io_u: 0.3876 - val_output_2_mean__io_u: 0.3931 - val_output_3_mean__io_u: 0.3931 - learning_rate: 8.3981e-06\n",
      "Epoch 133/300\n",
      "\u001b[1m67/67\u001b[0m \u001b[32m━━━━━━━━━━━━━━━━━━━━\u001b[0m\u001b[37m\u001b[0m \u001b[1m18s\u001b[0m 264ms/step - final_output_mean__io_u: 0.3387 - loss: 0.0947 - output_1_mean__io_u: 0.3379 - output_2_mean__io_u: 0.3485 - output_3_mean__io_u: 0.3658 - val_final_output_mean__io_u: 0.3860 - val_loss: 0.1205 - val_output_1_mean__io_u: 0.3868 - val_output_2_mean__io_u: 0.3911 - val_output_3_mean__io_u: 0.3960 - learning_rate: 8.3981e-06\n",
      "Epoch 134/300\n",
      "\u001b[1m67/67\u001b[0m \u001b[32m━━━━━━━━━━━━━━━━━━━━\u001b[0m\u001b[37m\u001b[0m \u001b[1m18s\u001b[0m 265ms/step - final_output_mean__io_u: 0.3286 - loss: 0.0963 - output_1_mean__io_u: 0.3375 - output_2_mean__io_u: 0.3427 - output_3_mean__io_u: 0.3578 - val_final_output_mean__io_u: 0.3848 - val_loss: 0.1197 - val_output_1_mean__io_u: 0.3848 - val_output_2_mean__io_u: 0.3904 - val_output_3_mean__io_u: 0.3920 - learning_rate: 8.3981e-06\n",
      "Epoch 135/300\n",
      "\u001b[1m67/67\u001b[0m \u001b[32m━━━━━━━━━━━━━━━━━━━━\u001b[0m\u001b[37m\u001b[0m \u001b[1m18s\u001b[0m 264ms/step - final_output_mean__io_u: 0.3539 - loss: 0.0919 - output_1_mean__io_u: 0.3541 - output_2_mean__io_u: 0.3745 - output_3_mean__io_u: 0.3676 - val_final_output_mean__io_u: 0.3863 - val_loss: 0.1213 - val_output_1_mean__io_u: 0.3864 - val_output_2_mean__io_u: 0.3900 - val_output_3_mean__io_u: 0.3897 - learning_rate: 8.3981e-06\n",
      "Epoch 136/300\n",
      "\u001b[1m67/67\u001b[0m \u001b[32m━━━━━━━━━━━━━━━━━━━━\u001b[0m\u001b[37m\u001b[0m \u001b[1m18s\u001b[0m 264ms/step - final_output_mean__io_u: 0.3160 - loss: 0.1013 - output_1_mean__io_u: 0.3156 - output_2_mean__io_u: 0.3218 - output_3_mean__io_u: 0.3395 - val_final_output_mean__io_u: 0.3887 - val_loss: 0.1211 - val_output_1_mean__io_u: 0.3888 - val_output_2_mean__io_u: 0.3908 - val_output_3_mean__io_u: 0.3898 - learning_rate: 8.3981e-06\n",
      "Epoch 137/300\n",
      "\u001b[1m67/67\u001b[0m \u001b[32m━━━━━━━━━━━━━━━━━━━━\u001b[0m\u001b[37m\u001b[0m \u001b[1m18s\u001b[0m 264ms/step - final_output_mean__io_u: 0.3322 - loss: 0.0978 - output_1_mean__io_u: 0.3387 - output_2_mean__io_u: 0.3412 - output_3_mean__io_u: 0.3471 - val_final_output_mean__io_u: 0.3845 - val_loss: 0.1200 - val_output_1_mean__io_u: 0.3861 - val_output_2_mean__io_u: 0.3885 - val_output_3_mean__io_u: 0.3877 - learning_rate: 8.3981e-06\n",
      "Epoch 138/300\n",
      "\u001b[1m67/67\u001b[0m \u001b[32m━━━━━━━━━━━━━━━━━━━━\u001b[0m\u001b[37m\u001b[0m \u001b[1m0s\u001b[0m 248ms/step - final_output_mean__io_u: 0.3196 - loss: 0.0998 - output_1_mean__io_u: 0.3255 - output_2_mean__io_u: 0.3262 - output_3_mean__io_u: 0.3597\n",
      "Epoch 138: ReduceLROnPlateau reducing learning rate to 5.038848212279845e-06.\n",
      "\u001b[1m67/67\u001b[0m \u001b[32m━━━━━━━━━━━━━━━━━━━━\u001b[0m\u001b[37m\u001b[0m \u001b[1m18s\u001b[0m 265ms/step - final_output_mean__io_u: 0.3197 - loss: 0.0998 - output_1_mean__io_u: 0.3256 - output_2_mean__io_u: 0.3264 - output_3_mean__io_u: 0.3596 - val_final_output_mean__io_u: 0.3844 - val_loss: 0.1213 - val_output_1_mean__io_u: 0.3855 - val_output_2_mean__io_u: 0.3895 - val_output_3_mean__io_u: 0.3912 - learning_rate: 8.3981e-06\n",
      "Epoch 139/300\n",
      "\u001b[1m67/67\u001b[0m \u001b[32m━━━━━━━━━━━━━━━━━━━━\u001b[0m\u001b[37m\u001b[0m \u001b[1m18s\u001b[0m 264ms/step - final_output_mean__io_u: 0.3349 - loss: 0.0931 - output_1_mean__io_u: 0.3377 - output_2_mean__io_u: 0.3555 - output_3_mean__io_u: 0.3677 - val_final_output_mean__io_u: 0.3822 - val_loss: 0.1212 - val_output_1_mean__io_u: 0.3838 - val_output_2_mean__io_u: 0.3830 - val_output_3_mean__io_u: 0.3860 - learning_rate: 5.0388e-06\n",
      "Epoch 140/300\n",
      "\u001b[1m67/67\u001b[0m \u001b[32m━━━━━━━━━━━━━━━━━━━━\u001b[0m\u001b[37m\u001b[0m \u001b[1m18s\u001b[0m 264ms/step - final_output_mean__io_u: 0.3297 - loss: 0.0945 - output_1_mean__io_u: 0.3289 - output_2_mean__io_u: 0.3487 - output_3_mean__io_u: 0.3742 - val_final_output_mean__io_u: 0.3871 - val_loss: 0.1206 - val_output_1_mean__io_u: 0.3871 - val_output_2_mean__io_u: 0.3876 - val_output_3_mean__io_u: 0.3863 - learning_rate: 5.0388e-06\n",
      "Epoch 141/300\n",
      "\u001b[1m67/67\u001b[0m \u001b[32m━━━━━━━━━━━━━━━━━━━━\u001b[0m\u001b[37m\u001b[0m \u001b[1m18s\u001b[0m 266ms/step - final_output_mean__io_u: 0.3400 - loss: 0.0924 - output_1_mean__io_u: 0.3392 - output_2_mean__io_u: 0.3549 - output_3_mean__io_u: 0.3716 - val_final_output_mean__io_u: 0.3851 - val_loss: 0.1189 - val_output_1_mean__io_u: 0.3871 - val_output_2_mean__io_u: 0.3886 - val_output_3_mean__io_u: 0.3893 - learning_rate: 5.0388e-06\n",
      "Epoch 142/300\n",
      "\u001b[1m67/67\u001b[0m \u001b[32m━━━━━━━━━━━━━━━━━━━━\u001b[0m\u001b[37m\u001b[0m \u001b[1m18s\u001b[0m 264ms/step - final_output_mean__io_u: 0.3454 - loss: 0.0966 - output_1_mean__io_u: 0.3432 - output_2_mean__io_u: 0.3560 - output_3_mean__io_u: 0.3718 - val_final_output_mean__io_u: 0.3878 - val_loss: 0.1193 - val_output_1_mean__io_u: 0.3892 - val_output_2_mean__io_u: 0.3915 - val_output_3_mean__io_u: 0.3939 - learning_rate: 5.0388e-06\n",
      "Epoch 143/300\n",
      "\u001b[1m67/67\u001b[0m \u001b[32m━━━━━━━━━━━━━━━━━━━━\u001b[0m\u001b[37m\u001b[0m \u001b[1m18s\u001b[0m 264ms/step - final_output_mean__io_u: 0.3363 - loss: 0.0991 - output_1_mean__io_u: 0.3398 - output_2_mean__io_u: 0.3587 - output_3_mean__io_u: 0.3731 - val_final_output_mean__io_u: 0.3869 - val_loss: 0.1217 - val_output_1_mean__io_u: 0.3869 - val_output_2_mean__io_u: 0.3908 - val_output_3_mean__io_u: 0.3866 - learning_rate: 5.0388e-06\n",
      "Epoch 144/300\n",
      "\u001b[1m67/67\u001b[0m \u001b[32m━━━━━━━━━━━━━━━━━━━━\u001b[0m\u001b[37m\u001b[0m \u001b[1m18s\u001b[0m 265ms/step - final_output_mean__io_u: 0.3236 - loss: 0.0941 - output_1_mean__io_u: 0.3321 - output_2_mean__io_u: 0.3369 - output_3_mean__io_u: 0.3582 - val_final_output_mean__io_u: 0.3858 - val_loss: 0.1195 - val_output_1_mean__io_u: 0.3863 - val_output_2_mean__io_u: 0.3903 - val_output_3_mean__io_u: 0.3880 - learning_rate: 5.0388e-06\n",
      "Epoch 145/300\n",
      "\u001b[1m67/67\u001b[0m \u001b[32m━━━━━━━━━━━━━━━━━━━━\u001b[0m\u001b[37m\u001b[0m \u001b[1m18s\u001b[0m 265ms/step - final_output_mean__io_u: 0.3433 - loss: 0.0889 - output_1_mean__io_u: 0.3458 - output_2_mean__io_u: 0.3549 - output_3_mean__io_u: 0.3717 - val_final_output_mean__io_u: 0.3873 - val_loss: 0.1204 - val_output_1_mean__io_u: 0.3863 - val_output_2_mean__io_u: 0.3897 - val_output_3_mean__io_u: 0.3862 - learning_rate: 5.0388e-06\n",
      "Epoch 146/300\n",
      "\u001b[1m67/67\u001b[0m \u001b[32m━━━━━━━━━━━━━━━━━━━━\u001b[0m\u001b[37m\u001b[0m \u001b[1m18s\u001b[0m 264ms/step - final_output_mean__io_u: 0.3358 - loss: 0.0937 - output_1_mean__io_u: 0.3403 - output_2_mean__io_u: 0.3446 - output_3_mean__io_u: 0.3627 - val_final_output_mean__io_u: 0.3851 - val_loss: 0.1207 - val_output_1_mean__io_u: 0.3859 - val_output_2_mean__io_u: 0.3861 - val_output_3_mean__io_u: 0.3843 - learning_rate: 5.0388e-06\n",
      "Epoch 147/300\n",
      "\u001b[1m67/67\u001b[0m \u001b[32m━━━━━━━━━━━━━━━━━━━━\u001b[0m\u001b[37m\u001b[0m \u001b[1m18s\u001b[0m 264ms/step - final_output_mean__io_u: 0.3307 - loss: 0.0962 - output_1_mean__io_u: 0.3283 - output_2_mean__io_u: 0.3360 - output_3_mean__io_u: 0.3654 - val_final_output_mean__io_u: 0.3849 - val_loss: 0.1201 - val_output_1_mean__io_u: 0.3854 - val_output_2_mean__io_u: 0.3874 - val_output_3_mean__io_u: 0.3865 - learning_rate: 5.0388e-06\n",
      "Epoch 148/300\n",
      "\u001b[1m67/67\u001b[0m \u001b[32m━━━━━━━━━━━━━━━━━━━━\u001b[0m\u001b[37m\u001b[0m \u001b[1m0s\u001b[0m 248ms/step - final_output_mean__io_u: 0.3166 - loss: 0.0972 - output_1_mean__io_u: 0.3126 - output_2_mean__io_u: 0.3503 - output_3_mean__io_u: 0.3600\n",
      "Epoch 148: ReduceLROnPlateau reducing learning rate to 3.0233088182285426e-06.\n",
      "\u001b[1m67/67\u001b[0m \u001b[32m━━━━━━━━━━━━━━━━━━━━\u001b[0m\u001b[37m\u001b[0m \u001b[1m18s\u001b[0m 264ms/step - final_output_mean__io_u: 0.3169 - loss: 0.0971 - output_1_mean__io_u: 0.3129 - output_2_mean__io_u: 0.3504 - output_3_mean__io_u: 0.3601 - val_final_output_mean__io_u: 0.3848 - val_loss: 0.1202 - val_output_1_mean__io_u: 0.3850 - val_output_2_mean__io_u: 0.3875 - val_output_3_mean__io_u: 0.3878 - learning_rate: 5.0388e-06\n",
      "Epoch 149/300\n",
      "\u001b[1m67/67\u001b[0m \u001b[32m━━━━━━━━━━━━━━━━━━━━\u001b[0m\u001b[37m\u001b[0m \u001b[1m18s\u001b[0m 264ms/step - final_output_mean__io_u: 0.3315 - loss: 0.0971 - output_1_mean__io_u: 0.3337 - output_2_mean__io_u: 0.3419 - output_3_mean__io_u: 0.3676 - val_final_output_mean__io_u: 0.3865 - val_loss: 0.1202 - val_output_1_mean__io_u: 0.3855 - val_output_2_mean__io_u: 0.3893 - val_output_3_mean__io_u: 0.3886 - learning_rate: 3.0233e-06\n",
      "Epoch 150/300\n",
      "\u001b[1m67/67\u001b[0m \u001b[32m━━━━━━━━━━━━━━━━━━━━\u001b[0m\u001b[37m\u001b[0m \u001b[1m18s\u001b[0m 264ms/step - final_output_mean__io_u: 0.3555 - loss: 0.0976 - output_1_mean__io_u: 0.3542 - output_2_mean__io_u: 0.3632 - output_3_mean__io_u: 0.3700 - val_final_output_mean__io_u: 0.3865 - val_loss: 0.1206 - val_output_1_mean__io_u: 0.3861 - val_output_2_mean__io_u: 0.3902 - val_output_3_mean__io_u: 0.3904 - learning_rate: 3.0233e-06\n",
      "Epoch 151/300\n",
      "\u001b[1m67/67\u001b[0m \u001b[32m━━━━━━━━━━━━━━━━━━━━\u001b[0m\u001b[37m\u001b[0m \u001b[1m18s\u001b[0m 264ms/step - final_output_mean__io_u: 0.3478 - loss: 0.0896 - output_1_mean__io_u: 0.3444 - output_2_mean__io_u: 0.3542 - output_3_mean__io_u: 0.3770 - val_final_output_mean__io_u: 0.3883 - val_loss: 0.1200 - val_output_1_mean__io_u: 0.3883 - val_output_2_mean__io_u: 0.3916 - val_output_3_mean__io_u: 0.3933 - learning_rate: 3.0233e-06\n",
      "Epoch 152/300\n",
      "\u001b[1m67/67\u001b[0m \u001b[32m━━━━━━━━━━━━━━━━━━━━\u001b[0m\u001b[37m\u001b[0m \u001b[1m18s\u001b[0m 264ms/step - final_output_mean__io_u: 0.3298 - loss: 0.0923 - output_1_mean__io_u: 0.3379 - output_2_mean__io_u: 0.3464 - output_3_mean__io_u: 0.3608 - val_final_output_mean__io_u: 0.3895 - val_loss: 0.1209 - val_output_1_mean__io_u: 0.3893 - val_output_2_mean__io_u: 0.3914 - val_output_3_mean__io_u: 0.3910 - learning_rate: 3.0233e-06\n",
      "Epoch 153/300\n",
      "\u001b[1m67/67\u001b[0m \u001b[32m━━━━━━━━━━━━━━━━━━━━\u001b[0m\u001b[37m\u001b[0m \u001b[1m18s\u001b[0m 264ms/step - final_output_mean__io_u: 0.3450 - loss: 0.0912 - output_1_mean__io_u: 0.3427 - output_2_mean__io_u: 0.3559 - output_3_mean__io_u: 0.3708 - val_final_output_mean__io_u: 0.3906 - val_loss: 0.1204 - val_output_1_mean__io_u: 0.3899 - val_output_2_mean__io_u: 0.3943 - val_output_3_mean__io_u: 0.3937 - learning_rate: 3.0233e-06\n",
      "Epoch 154/300\n",
      "\u001b[1m67/67\u001b[0m \u001b[32m━━━━━━━━━━━━━━━━━━━━\u001b[0m\u001b[37m\u001b[0m \u001b[1m18s\u001b[0m 264ms/step - final_output_mean__io_u: 0.3448 - loss: 0.0969 - output_1_mean__io_u: 0.3439 - output_2_mean__io_u: 0.3588 - output_3_mean__io_u: 0.3732 - val_final_output_mean__io_u: 0.3914 - val_loss: 0.1207 - val_output_1_mean__io_u: 0.3911 - val_output_2_mean__io_u: 0.3951 - val_output_3_mean__io_u: 0.3931 - learning_rate: 3.0233e-06\n",
      "Epoch 155/300\n",
      "\u001b[1m67/67\u001b[0m \u001b[32m━━━━━━━━━━━━━━━━━━━━\u001b[0m\u001b[37m\u001b[0m \u001b[1m0s\u001b[0m 248ms/step - final_output_mean__io_u: 0.3412 - loss: 0.0955 - output_1_mean__io_u: 0.3402 - output_2_mean__io_u: 0.3538 - output_3_mean__io_u: 0.3762\n",
      "Epoch 155: ReduceLROnPlateau reducing learning rate to 1.8139853182219667e-06.\n",
      "\u001b[1m67/67\u001b[0m \u001b[32m━━━━━━━━━━━━━━━━━━━━\u001b[0m\u001b[37m\u001b[0m \u001b[1m18s\u001b[0m 264ms/step - final_output_mean__io_u: 0.3413 - loss: 0.0955 - output_1_mean__io_u: 0.3402 - output_2_mean__io_u: 0.3539 - output_3_mean__io_u: 0.3762 - val_final_output_mean__io_u: 0.3911 - val_loss: 0.1200 - val_output_1_mean__io_u: 0.3903 - val_output_2_mean__io_u: 0.3952 - val_output_3_mean__io_u: 0.3946 - learning_rate: 3.0233e-06\n",
      "Epoch 156/300\n",
      "\u001b[1m67/67\u001b[0m \u001b[32m━━━━━━━━━━━━━━━━━━━━\u001b[0m\u001b[37m\u001b[0m \u001b[1m18s\u001b[0m 264ms/step - final_output_mean__io_u: 0.3591 - loss: 0.0865 - output_1_mean__io_u: 0.3653 - output_2_mean__io_u: 0.3806 - output_3_mean__io_u: 0.3849 - val_final_output_mean__io_u: 0.3887 - val_loss: 0.1197 - val_output_1_mean__io_u: 0.3889 - val_output_2_mean__io_u: 0.3933 - val_output_3_mean__io_u: 0.3926 - learning_rate: 1.8140e-06\n",
      "Epoch 157/300\n",
      "\u001b[1m67/67\u001b[0m \u001b[32m━━━━━━━━━━━━━━━━━━━━\u001b[0m\u001b[37m\u001b[0m \u001b[1m18s\u001b[0m 264ms/step - final_output_mean__io_u: 0.3493 - loss: 0.0935 - output_1_mean__io_u: 0.3489 - output_2_mean__io_u: 0.3619 - output_3_mean__io_u: 0.3708 - val_final_output_mean__io_u: 0.3889 - val_loss: 0.1201 - val_output_1_mean__io_u: 0.3891 - val_output_2_mean__io_u: 0.3928 - val_output_3_mean__io_u: 0.3919 - learning_rate: 1.8140e-06\n",
      "Epoch 158/300\n",
      "\u001b[1m67/67\u001b[0m \u001b[32m━━━━━━━━━━━━━━━━━━━━\u001b[0m\u001b[37m\u001b[0m \u001b[1m18s\u001b[0m 264ms/step - final_output_mean__io_u: 0.3634 - loss: 0.0944 - output_1_mean__io_u: 0.3657 - output_2_mean__io_u: 0.3740 - output_3_mean__io_u: 0.3874 - val_final_output_mean__io_u: 0.3893 - val_loss: 0.1202 - val_output_1_mean__io_u: 0.3895 - val_output_2_mean__io_u: 0.3927 - val_output_3_mean__io_u: 0.3899 - learning_rate: 1.8140e-06\n",
      "Epoch 159/300\n",
      "\u001b[1m67/67\u001b[0m \u001b[32m━━━━━━━━━━━━━━━━━━━━\u001b[0m\u001b[37m\u001b[0m \u001b[1m18s\u001b[0m 265ms/step - final_output_mean__io_u: 0.3270 - loss: 0.0958 - output_1_mean__io_u: 0.3228 - output_2_mean__io_u: 0.3480 - output_3_mean__io_u: 0.3769 - val_final_output_mean__io_u: 0.3901 - val_loss: 0.1202 - val_output_1_mean__io_u: 0.3891 - val_output_2_mean__io_u: 0.3925 - val_output_3_mean__io_u: 0.3907 - learning_rate: 1.8140e-06\n",
      "Epoch 160/300\n",
      "\u001b[1m67/67\u001b[0m \u001b[32m━━━━━━━━━━━━━━━━━━━━\u001b[0m\u001b[37m\u001b[0m \u001b[1m18s\u001b[0m 264ms/step - final_output_mean__io_u: 0.3472 - loss: 0.0994 - output_1_mean__io_u: 0.3518 - output_2_mean__io_u: 0.3550 - output_3_mean__io_u: 0.3547 - val_final_output_mean__io_u: 0.3898 - val_loss: 0.1203 - val_output_1_mean__io_u: 0.3883 - val_output_2_mean__io_u: 0.3915 - val_output_3_mean__io_u: 0.3896 - learning_rate: 1.8140e-06\n",
      "Epoch 161/300\n",
      "\u001b[1m67/67\u001b[0m \u001b[32m━━━━━━━━━━━━━━━━━━━━\u001b[0m\u001b[37m\u001b[0m \u001b[1m18s\u001b[0m 264ms/step - final_output_mean__io_u: 0.3065 - loss: 0.0901 - output_1_mean__io_u: 0.3161 - output_2_mean__io_u: 0.3234 - output_3_mean__io_u: 0.3334 - val_final_output_mean__io_u: 0.3878 - val_loss: 0.1203 - val_output_1_mean__io_u: 0.3871 - val_output_2_mean__io_u: 0.3907 - val_output_3_mean__io_u: 0.3891 - learning_rate: 1.8140e-06\n",
      "Epoch 162/300\n",
      "\u001b[1m67/67\u001b[0m \u001b[32m━━━━━━━━━━━━━━━━━━━━\u001b[0m\u001b[37m\u001b[0m \u001b[1m0s\u001b[0m 248ms/step - final_output_mean__io_u: 0.3414 - loss: 0.0935 - output_1_mean__io_u: 0.3432 - output_2_mean__io_u: 0.3561 - output_3_mean__io_u: 0.3740\n",
      "Epoch 162: ReduceLROnPlateau reducing learning rate to 1.0883912182180211e-06.\n",
      "\u001b[1m67/67\u001b[0m \u001b[32m━━━━━━━━━━━━━━━━━━━━\u001b[0m\u001b[37m\u001b[0m \u001b[1m18s\u001b[0m 264ms/step - final_output_mean__io_u: 0.3415 - loss: 0.0935 - output_1_mean__io_u: 0.3433 - output_2_mean__io_u: 0.3560 - output_3_mean__io_u: 0.3740 - val_final_output_mean__io_u: 0.3885 - val_loss: 0.1203 - val_output_1_mean__io_u: 0.3883 - val_output_2_mean__io_u: 0.3919 - val_output_3_mean__io_u: 0.3905 - learning_rate: 1.8140e-06\n",
      "Epoch 163/300\n",
      "\u001b[1m67/67\u001b[0m \u001b[32m━━━━━━━━━━━━━━━━━━━━\u001b[0m\u001b[37m\u001b[0m \u001b[1m18s\u001b[0m 265ms/step - final_output_mean__io_u: 0.3532 - loss: 0.0950 - output_1_mean__io_u: 0.3597 - output_2_mean__io_u: 0.3592 - output_3_mean__io_u: 0.3729 - val_final_output_mean__io_u: 0.3895 - val_loss: 0.1199 - val_output_1_mean__io_u: 0.3889 - val_output_2_mean__io_u: 0.3929 - val_output_3_mean__io_u: 0.3913 - learning_rate: 1.0884e-06\n",
      "Epoch 164/300\n",
      "\u001b[1m67/67\u001b[0m \u001b[32m━━━━━━━━━━━━━━━━━━━━\u001b[0m\u001b[37m\u001b[0m \u001b[1m18s\u001b[0m 264ms/step - final_output_mean__io_u: 0.3548 - loss: 0.0960 - output_1_mean__io_u: 0.3577 - output_2_mean__io_u: 0.3701 - output_3_mean__io_u: 0.3817 - val_final_output_mean__io_u: 0.3897 - val_loss: 0.1202 - val_output_1_mean__io_u: 0.3891 - val_output_2_mean__io_u: 0.3932 - val_output_3_mean__io_u: 0.3905 - learning_rate: 1.0884e-06\n",
      "Epoch 165/300\n",
      "\u001b[1m67/67\u001b[0m \u001b[32m━━━━━━━━━━━━━━━━━━━━\u001b[0m\u001b[37m\u001b[0m \u001b[1m18s\u001b[0m 264ms/step - final_output_mean__io_u: 0.3306 - loss: 0.0967 - output_1_mean__io_u: 0.3286 - output_2_mean__io_u: 0.3473 - output_3_mean__io_u: 0.3534 - val_final_output_mean__io_u: 0.3903 - val_loss: 0.1202 - val_output_1_mean__io_u: 0.3893 - val_output_2_mean__io_u: 0.3929 - val_output_3_mean__io_u: 0.3899 - learning_rate: 1.0884e-06\n",
      "Epoch 166/300\n",
      "\u001b[1m67/67\u001b[0m \u001b[32m━━━━━━━━━━━━━━━━━━━━\u001b[0m\u001b[37m\u001b[0m \u001b[1m18s\u001b[0m 265ms/step - final_output_mean__io_u: 0.3421 - loss: 0.1000 - output_1_mean__io_u: 0.3465 - output_2_mean__io_u: 0.3485 - output_3_mean__io_u: 0.3702 - val_final_output_mean__io_u: 0.3898 - val_loss: 0.1200 - val_output_1_mean__io_u: 0.3888 - val_output_2_mean__io_u: 0.3928 - val_output_3_mean__io_u: 0.3889 - learning_rate: 1.0884e-06\n",
      "Epoch 166: early stopping\n",
      "Restoring model weights from the end of the best epoch: 141.\n"
     ]
    }
   ],
   "source": [
    "history = model.fit(\n",
    "    train_dataset,\n",
    "    epochs=300,\n",
    "    validation_data=valid_dataset,\n",
    "    callbacks=[lr_reducer, early_stopping]\n",
    ")"
   ]
  },
  {
   "cell_type": "markdown",
   "id": "1c647caf",
   "metadata": {
    "papermill": {
     "duration": 0.589636,
     "end_time": "2024-12-14T15:24:04.462799",
     "exception": false,
     "start_time": "2024-12-14T15:24:03.873163",
     "status": "completed"
    },
    "tags": []
   },
   "source": [
    "## Training History\r\n",
    "\r\n",
    "After training, we plot the training and validation loss and Mean IoU to visualize the model's learning progress over epochs.\r\n"
   ]
  },
  {
   "cell_type": "code",
   "execution_count": 20,
   "id": "6943be9f",
   "metadata": {
    "execution": {
     "iopub.execute_input": "2024-12-14T15:24:05.667288Z",
     "iopub.status.busy": "2024-12-14T15:24:05.666387Z",
     "iopub.status.idle": "2024-12-14T15:24:06.200102Z",
     "shell.execute_reply": "2024-12-14T15:24:06.199235Z"
    },
    "papermill": {
     "duration": 1.113887,
     "end_time": "2024-12-14T15:24:06.202071",
     "exception": false,
     "start_time": "2024-12-14T15:24:05.088184",
     "status": "completed"
    },
    "tags": []
   },
   "outputs": [
    {
     "data": {
      "image/png": "[encoded data removed]",
      "text/plain": [
       "<Figure size 1200x500 with 2 Axes>"
      ]
     },
     "metadata": {},
     "output_type": "display_data"
    }
   ],
   "source": [
    "# Extract values from the training history\n",
    "train_loss = history.history['loss']\n",
    "val_loss = history.history['val_loss']\n",
    "train_mean_iou = history.history['final_output_mean__io_u']\n",
    "val_mean_iou = history.history['val_final_output_mean__io_u']\n",
    "\n",
    "epochs = range(1, len(train_loss) + 1)\n",
    "\n",
    "# Plot Loss\n",
    "plt.figure(figsize=(12, 5))\n",
    "\n",
    "plt.subplot(1, 2, 1)\n",
    "plt.plot(epochs, train_loss, 'bo-', label='Training Loss')\n",
    "plt.plot(epochs, val_loss, 'ro-', label='Validation Loss')\n",
    "plt.title('Training and Validation Loss')\n",
    "plt.xlabel('Epochs')\n",
    "plt.ylabel('Loss')\n",
    "plt.grid(True)\n",
    "plt.legend()\n",
    "\n",
    "# Plot Mean IoU\n",
    "plt.subplot(1, 2, 2)\n",
    "plt.plot(epochs, train_mean_iou, 'bo-', label='Training Mean IoU')\n",
    "plt.plot(epochs, val_mean_iou, 'ro-', label='Validation Mean IoU')\n",
    "plt.title('Training and Validation Mean IoU')\n",
    "plt.xlabel('Epochs')\n",
    "plt.ylabel('Mean IoU')\n",
    "plt.grid(True)\n",
    "plt.legend()\n",
    "\n",
    "plt.tight_layout()\n",
    "plt.show()"
   ]
  },
  {
   "cell_type": "markdown",
   "id": "cb79d439",
   "metadata": {
    "papermill": {
     "duration": 0.623012,
     "end_time": "2024-12-14T15:24:07.455991",
     "exception": false,
     "start_time": "2024-12-14T15:24:06.832979",
     "status": "completed"
    },
    "tags": []
   },
   "source": [
    "## Model Evaluation and Confusion Matrix\r\n",
    "\r\n",
    "We evaluate the model on the validation set to see final performance and produce a confusion matrix to understand per-class accuracy.\r\n"
   ]
  },
  {
   "cell_type": "code",
   "execution_count": 21,
   "id": "b5f0006e",
   "metadata": {
    "execution": {
     "iopub.execute_input": "2024-12-14T15:24:08.601086Z",
     "iopub.status.busy": "2024-12-14T15:24:08.600715Z",
     "iopub.status.idle": "2024-12-14T15:24:09.823003Z",
     "shell.execute_reply": "2024-12-14T15:24:09.822232Z"
    },
    "papermill": {
     "duration": 1.79687,
     "end_time": "2024-12-14T15:24:09.824541",
     "exception": false,
     "start_time": "2024-12-14T15:24:08.027671",
     "status": "completed"
    },
    "tags": []
   },
   "outputs": [
    {
     "name": "stdout",
     "output_type": "stream",
     "text": [
      "\u001b[1m12/12\u001b[0m \u001b[32m━━━━━━━━━━━━━━━━━━━━\u001b[0m\u001b[37m\u001b[0m \u001b[1m1s\u001b[0m 93ms/step - final_output_mean__io_u: 0.3604 - loss: 0.1161 - output_1_mean__io_u: 0.3625 - output_2_mean__io_u: 0.3601 - output_3_mean__io_u: 0.3635\n",
      "validation loss: 0.1189090684056282\n",
      "validation IoU: 0.3850712776184082\n"
     ]
    }
   ],
   "source": [
    "results = model.evaluate(valid_dataset, verbose=1)\n",
    "print('validation loss:', results[0])\n",
    "print('validation IoU:', results[1])"
   ]
  },
  {
   "cell_type": "markdown",
   "id": "ee75caa0",
   "metadata": {
    "papermill": {
     "duration": 0.577748,
     "end_time": "2024-12-14T15:24:11.034244",
     "exception": false,
     "start_time": "2024-12-14T15:24:10.456496",
     "status": "completed"
    },
    "tags": []
   },
   "source": [
    "#### Post processing"
   ]
  },
  {
   "cell_type": "code",
   "execution_count": 22,
   "id": "2f9c3a2f",
   "metadata": {
    "execution": {
     "iopub.execute_input": "2024-12-14T15:24:12.274402Z",
     "iopub.status.busy": "2024-12-14T15:24:12.274060Z",
     "iopub.status.idle": "2024-12-14T15:24:12.279536Z",
     "shell.execute_reply": "2024-12-14T15:24:12.278479Z"
    },
    "papermill": {
     "duration": 0.630575,
     "end_time": "2024-12-14T15:24:12.281307",
     "exception": false,
     "start_time": "2024-12-14T15:24:11.650732",
     "status": "completed"
    },
    "tags": []
   },
   "outputs": [],
   "source": [
    "def apply_morphology(mask):\n",
    "    kernel = np.ones((3,3), np.uint8)\n",
    "    # Opening to remove small objects\n",
    "    mask_clean = cv2.morphologyEx(mask.astype(np.uint8), cv2.MORPH_OPEN, kernel)\n",
    "    # Closing to fill small holes\n",
    "    mask_clean = cv2.morphologyEx(mask_clean, cv2.MORPH_CLOSE, kernel)\n",
    "    return mask_clean"
   ]
  },
  {
   "cell_type": "code",
   "execution_count": 23,
   "id": "72c3e20b",
   "metadata": {
    "execution": {
     "iopub.execute_input": "2024-12-14T15:24:13.447474Z",
     "iopub.status.busy": "2024-12-14T15:24:13.446436Z",
     "iopub.status.idle": "2024-12-14T15:24:22.502350Z",
     "shell.execute_reply": "2024-12-14T15:24:22.501527Z"
    },
    "papermill": {
     "duration": 9.64206,
     "end_time": "2024-12-14T15:24:22.504952",
     "exception": false,
     "start_time": "2024-12-14T15:24:12.862892",
     "status": "completed"
    },
    "tags": []
   },
   "outputs": [
    {
     "name": "stdout",
     "output_type": "stream",
     "text": [
      "Confusion Matrix:\n",
      "[[343080  19396  26982   6270      0]\n",
      " [ 25006  26875   5739   1150      0]\n",
      " [ 41545   9431  21978    922      0]\n",
      " [ 40016   3578   5088   7074      0]\n",
      " [   256      6    143     19      0]]\n"
     ]
    },
    {
     "data": {
      "image/png": "[encoded data removed]",
      "text/plain": [
       "<Figure size 1000x800 with 2 Axes>"
      ]
     },
     "metadata": {},
     "output_type": "display_data"
    },
    {
     "name": "stdout",
     "output_type": "stream",
     "text": [
      "Classification Report:\n",
      "Mean IoU value calculated manually: 0.25685677\n"
     ]
    }
   ],
   "source": [
    "class_names = ['Background', 'Soil', 'Bedrock', 'Sand', 'Big Rock']\n",
    "\n",
    "def compute_confusion_matrix_and_classification_report(model, valid_dataset, apply_morph_flag):\n",
    "    y_true = []\n",
    "    y_pred = []\n",
    "    num_batches = len(valid_dataset)\n",
    "    \n",
    "    for i in range(num_batches):\n",
    "        batch_x, batch_y = valid_dataset[i]\n",
    "        preds = model.predict(batch_x, verbose=0)\n",
    "        final_preds = preds[-1]\n",
    "        \n",
    "        for b in range(final_preds.shape[0]):\n",
    "            probs = final_preds[b]  # (H,W,C)\n",
    "            true_mask = batch_y['final_output'][b]\n",
    "            refined_mask = np.argmax(probs, axis=-1)\n",
    "            \n",
    "            # Apply morphological operation if requested\n",
    "            if apply_morph_flag:\n",
    "                refined_mask = apply_morphology(refined_mask)\n",
    "            \n",
    "            y_true.extend(true_mask.flatten())\n",
    "            y_pred.extend(refined_mask.flatten())\n",
    "    \n",
    "    # Convert lists to tensors for mean IoU\n",
    "    y_true_tensor = tf.convert_to_tensor(y_true, dtype=tf.int32)\n",
    "    y_pred_tensor = tf.convert_to_tensor(y_pred, dtype=tf.int32)\n",
    "    \n",
    "    # Compute Mean IoU using TensorFlow's built-in function\n",
    "    num_classes = len(class_names)\n",
    "    m = tf.keras.metrics.MeanIoU(num_classes=num_classes)\n",
    "    m.update_state(y_true_tensor, y_pred_tensor)\n",
    "    mean_iou_value = m.result().numpy()\n",
    "    \n",
    "    # Compute Confusion Matrix\n",
    "    cm = confusion_matrix(y_true, y_pred, labels=range(num_classes))\n",
    "    \n",
    "    return cm, mean_iou_value\n",
    "\n",
    "# Example usage:\n",
    "cm, mean_iou_value = compute_confusion_matrix_and_classification_report(\n",
    "    model, \n",
    "    valid_dataset,\n",
    "    apply_morph_flag=False\n",
    ")\n",
    "\n",
    "print(\"Confusion Matrix:\")\n",
    "print(cm)\n",
    "\n",
    "# Plot Confusion Matrix\n",
    "plt.figure(figsize=(10, 8))\n",
    "sns.heatmap(cm, annot=True, fmt='d', cmap='Blues',\n",
    "            xticklabels=class_names,\n",
    "            yticklabels=class_names)\n",
    "plt.xlabel('Predicted Labels')\n",
    "plt.ylabel('True Labels')\n",
    "plt.title('Confusion Matrix for Semantic Segmentation (Morphology Applied)')\n",
    "plt.show()\n",
    "\n",
    "print(\"Classification Report:\")\n",
    "print('Mean IoU value calculated manually:', mean_iou_value)"
   ]
  },
  {
   "cell_type": "code",
   "execution_count": 24,
   "id": "acc4d154",
   "metadata": {
    "execution": {
     "iopub.execute_input": "2024-12-14T15:24:23.713541Z",
     "iopub.status.busy": "2024-12-14T15:24:23.712718Z",
     "iopub.status.idle": "2024-12-14T15:24:24.995359Z",
     "shell.execute_reply": "2024-12-14T15:24:24.994416Z"
    },
    "papermill": {
     "duration": 1.856246,
     "end_time": "2024-12-14T15:24:24.996969",
     "exception": false,
     "start_time": "2024-12-14T15:24:23.140723",
     "status": "completed"
    },
    "tags": []
   },
   "outputs": [
    {
     "name": "stdout",
     "output_type": "stream",
     "text": [
      "Model saved to model_241214_152423.keras\n"
     ]
    }
   ],
   "source": [
    "timestep_str = datetime.now().strftime(\"%y%m%d_%H%M%S\")\n",
    "model_filename = f\"model_{timestep_str}.keras\"\n",
    "model.save(model_filename)\n",
    "# del model\n",
    "\n",
    "print(f\"Model saved to {model_filename}\")"
   ]
  },
  {
   "cell_type": "code",
   "execution_count": 25,
   "id": "e563bc68",
   "metadata": {
    "execution": {
     "iopub.execute_input": "2024-12-14T15:24:26.234473Z",
     "iopub.status.busy": "2024-12-14T15:24:26.234126Z",
     "iopub.status.idle": "2024-12-14T15:24:40.365657Z",
     "shell.execute_reply": "2024-12-14T15:24:40.364716Z"
    },
    "papermill": {
     "duration": 14.751783,
     "end_time": "2024-12-14T15:24:40.367448",
     "exception": false,
     "start_time": "2024-12-14T15:24:25.615665",
     "status": "completed"
    },
    "tags": []
   },
   "outputs": [
    {
     "name": "stdout",
     "output_type": "stream",
     "text": [
      "Model loaded from model_241214_152423.keras\n"
     ]
    }
   ],
   "source": [
    "second_model = tf.keras.models.load_model(\n",
    "    model_filename, \n",
    "    custom_objects={'mean_IoU': mean_IoU, 'focal_loss_fixed': focal_loss}\n",
    ")\n",
    "print(f\"Model loaded from {model_filename}\")"
   ]
  },
  {
   "cell_type": "markdown",
   "id": "14ff442a",
   "metadata": {
    "papermill": {
     "duration": 0.598944,
     "end_time": "2024-12-14T15:24:41.547456",
     "exception": false,
     "start_time": "2024-12-14T15:24:40.948512",
     "status": "completed"
    },
    "tags": []
   },
   "source": [
    "# Saving Predictions for final submission on Kaggle"
   ]
  },
  {
   "cell_type": "markdown",
   "id": "fa0a07aa",
   "metadata": {
    "papermill": {
     "duration": 0.575,
     "end_time": "2024-12-14T15:24:42.750192",
     "exception": false,
     "start_time": "2024-12-14T15:24:42.175192",
     "status": "completed"
    },
    "tags": []
   },
   "source": [
    "## Predicting with first model and getting the predictions ready to be used in the second model!"
   ]
  },
  {
   "cell_type": "code",
   "execution_count": 26,
   "id": "1d80e0e2",
   "metadata": {
    "execution": {
     "iopub.execute_input": "2024-12-14T15:24:43.987551Z",
     "iopub.status.busy": "2024-12-14T15:24:43.987201Z",
     "iopub.status.idle": "2024-12-14T15:25:19.750176Z",
     "shell.execute_reply": "2024-12-14T15:25:19.749149Z"
    },
    "papermill": {
     "duration": 36.381667,
     "end_time": "2024-12-14T15:25:19.751858",
     "exception": false,
     "start_time": "2024-12-14T15:24:43.370191",
     "status": "completed"
    },
    "tags": []
   },
   "outputs": [
    {
     "name": "stdout",
     "output_type": "stream",
     "text": [
      "\u001b[1m314/314\u001b[0m \u001b[32m━━━━━━━━━━━━━━━━━━━━\u001b[0m\u001b[37m\u001b[0m \u001b[1m30s\u001b[0m 97ms/step\n",
      "Predictions shape: (10022, 64, 128)\n"
     ]
    }
   ],
   "source": [
    "X_test = np.expand_dims(test, axis=-1)\n",
    "X_test = X_test.astype(np.float32) / 255.0\n",
    "\n",
    "first_model_test_preds_temp = first_model.predict(X_test)[-1]\n",
    "first_model_test_preds_temp = np.argmax(first_model_test_preds_temp, axis=-1)\n",
    "print(f\"Predictions shape: {first_model_test_preds_temp.shape}\")"
   ]
  },
  {
   "cell_type": "code",
   "execution_count": 27,
   "id": "eebdc0dd",
   "metadata": {
    "execution": {
     "iopub.execute_input": "2024-12-14T15:25:20.974688Z",
     "iopub.status.busy": "2024-12-14T15:25:20.974351Z",
     "iopub.status.idle": "2024-12-14T15:25:21.482941Z",
     "shell.execute_reply": "2024-12-14T15:25:21.482055Z"
    },
    "papermill": {
     "duration": 1.095173,
     "end_time": "2024-12-14T15:25:21.484717",
     "exception": false,
     "start_time": "2024-12-14T15:25:20.389544",
     "status": "completed"
    },
    "tags": []
   },
   "outputs": [
    {
     "name": "stderr",
     "output_type": "stream",
     "text": [
      "100%|██████████| 10022/10022 [00:00<00:00, 20098.71it/s]\n"
     ]
    },
    {
     "data": {
      "text/plain": [
       "(10022, 64, 128)"
      ]
     },
     "execution_count": 27,
     "metadata": {},
     "output_type": "execute_result"
    }
   ],
   "source": [
    "first_model_test_preds = np.empty_like(first_model_test_preds_temp)\n",
    "\n",
    "for i in tqdm(range(first_model_test_preds_temp.shape[0])):\n",
    "    mask = first_model_test_preds_temp[i]\n",
    "    first_model_test_pred = apply_morphology(mask)\n",
    "    first_model_test_preds[i] = first_model_test_pred\n",
    "\n",
    "first_model_test_preds.shape"
   ]
  },
  {
   "cell_type": "code",
   "execution_count": 28,
   "id": "982bbf63",
   "metadata": {
    "execution": {
     "iopub.execute_input": "2024-12-14T15:25:22.727231Z",
     "iopub.status.busy": "2024-12-14T15:25:22.726418Z",
     "iopub.status.idle": "2024-12-14T15:25:29.230141Z",
     "shell.execute_reply": "2024-12-14T15:25:29.228819Z"
    },
    "papermill": {
     "duration": 7.141354,
     "end_time": "2024-12-14T15:25:29.232460",
     "exception": false,
     "start_time": "2024-12-14T15:25:22.091106",
     "status": "completed"
    },
    "tags": []
   },
   "outputs": [
    {
     "name": "stdout",
     "output_type": "stream",
     "text": [
      "(10022, 64, 128)\n",
      "Unique values in first_model_test_preds_background: [-1  0]\n"
     ]
    }
   ],
   "source": [
    "first_model_test_preds_signed = first_model_test_preds.astype(np.int16)\n",
    "first_model_test_preds_background = np.where(first_model_test_preds_signed == 0, 0, -1)\n",
    "print(first_model_test_preds_background.shape)\n",
    "print(f\"Unique values in first_model_test_preds_background: {np.unique(first_model_test_preds_background)}\")"
   ]
  },
  {
   "cell_type": "code",
   "execution_count": 29,
   "id": "125f2538",
   "metadata": {
    "execution": {
     "iopub.execute_input": "2024-12-14T15:25:30.461179Z",
     "iopub.status.busy": "2024-12-14T15:25:30.460584Z",
     "iopub.status.idle": "2024-12-14T15:25:31.045114Z",
     "shell.execute_reply": "2024-12-14T15:25:31.044248Z"
    },
    "papermill": {
     "duration": 1.217335,
     "end_time": "2024-12-14T15:25:31.046976",
     "exception": false,
     "start_time": "2024-12-14T15:25:29.829641",
     "status": "completed"
    },
    "tags": []
   },
   "outputs": [
    {
     "data": {
      "text/plain": [
       "(10022, 64, 128, 2)"
      ]
     },
     "execution_count": 29,
     "metadata": {},
     "output_type": "execute_result"
    }
   ],
   "source": [
    "X_test_temp = test.astype(np.float32) / 255.0\n",
    "X_testset = np.stack([X_test_temp, first_model_test_preds_background], axis=-1)\n",
    "X_testset.shape"
   ]
  },
  {
   "cell_type": "markdown",
   "id": "d3e6dedb",
   "metadata": {
    "papermill": {
     "duration": 0.596472,
     "end_time": "2024-12-14T15:25:32.273570",
     "exception": false,
     "start_time": "2024-12-14T15:25:31.677098",
     "status": "completed"
    },
    "tags": []
   },
   "source": [
    "## Predicting with second model"
   ]
  },
  {
   "cell_type": "code",
   "execution_count": 30,
   "id": "9f359c52",
   "metadata": {
    "execution": {
     "iopub.execute_input": "2024-12-14T15:25:33.491643Z",
     "iopub.status.busy": "2024-12-14T15:25:33.491302Z",
     "iopub.status.idle": "2024-12-14T15:26:09.537406Z",
     "shell.execute_reply": "2024-12-14T15:26:09.536372Z"
    },
    "papermill": {
     "duration": 36.633739,
     "end_time": "2024-12-14T15:26:09.539127",
     "exception": false,
     "start_time": "2024-12-14T15:25:32.905388",
     "status": "completed"
    },
    "tags": []
   },
   "outputs": [
    {
     "name": "stdout",
     "output_type": "stream",
     "text": [
      "\u001b[1m314/314\u001b[0m \u001b[32m━━━━━━━━━━━━━━━━━━━━\u001b[0m\u001b[37m\u001b[0m \u001b[1m30s\u001b[0m 91ms/step\n",
      "Predictions shape: (10022, 64, 128)\n"
     ]
    }
   ],
   "source": [
    "second_model_test_preds_temp = second_model.predict(X_testset)[-1]\n",
    "second_model_test_preds_temp = np.argmax(second_model_test_preds_temp, axis=-1)\n",
    "print(f\"Predictions shape: {second_model_test_preds_temp.shape}\")"
   ]
  },
  {
   "cell_type": "markdown",
   "id": "ac3a44e8",
   "metadata": {
    "papermill": {
     "duration": 0.6449,
     "end_time": "2024-12-14T15:26:10.787169",
     "exception": false,
     "start_time": "2024-12-14T15:26:10.142269",
     "status": "completed"
    },
    "tags": []
   },
   "source": [
    "### Replacing corrected labels\n",
    "Correcting the first model predictions with second model"
   ]
  },
  {
   "cell_type": "code",
   "execution_count": 31,
   "id": "a68ee561",
   "metadata": {
    "execution": {
     "iopub.execute_input": "2024-12-14T15:26:12.060093Z",
     "iopub.status.busy": "2024-12-14T15:26:12.059203Z",
     "iopub.status.idle": "2024-12-14T15:26:12.380987Z",
     "shell.execute_reply": "2024-12-14T15:26:12.380074Z"
    },
    "papermill": {
     "duration": 0.981381,
     "end_time": "2024-12-14T15:26:12.382801",
     "exception": false,
     "start_time": "2024-12-14T15:26:11.401420",
     "status": "completed"
    },
    "tags": []
   },
   "outputs": [
    {
     "name": "stdout",
     "output_type": "stream",
     "text": [
      "(10022, 64, 128)\n"
     ]
    }
   ],
   "source": [
    "mask = (first_model_test_preds_background == 0)\n",
    "corrected_models_test_preds = np.where(mask, second_model_test_preds_temp, first_model_test_preds)\n",
    "preds = corrected_models_test_preds\n",
    "print(preds.shape)"
   ]
  },
  {
   "cell_type": "markdown",
   "id": "bff34cae",
   "metadata": {
    "papermill": {
     "duration": 0.649718,
     "end_time": "2024-12-14T15:26:13.628283",
     "exception": false,
     "start_time": "2024-12-14T15:26:12.978565",
     "status": "completed"
    },
    "tags": []
   },
   "source": [
    "## Visualizing a sample result of two models"
   ]
  },
  {
   "cell_type": "code",
   "execution_count": 32,
   "id": "37268bf5",
   "metadata": {
    "execution": {
     "iopub.execute_input": "2024-12-14T15:26:14.892818Z",
     "iopub.status.busy": "2024-12-14T15:26:14.892487Z",
     "iopub.status.idle": "2024-12-14T15:26:15.617868Z",
     "shell.execute_reply": "2024-12-14T15:26:15.617058Z"
    },
    "papermill": {
     "duration": 1.389886,
     "end_time": "2024-12-14T15:26:15.619610",
     "exception": false,
     "start_time": "2024-12-14T15:26:14.229724",
     "status": "completed"
    },
    "tags": []
   },
   "outputs": [
    {
     "data": {
      "text/plain": [
       "Text(0.5, 1.0, 'Final pred')"
      ]
     },
     "execution_count": 32,
     "metadata": {},
     "output_type": "execute_result"
    },
    {
     "data": {
      "image/png": "[encoded data removed]",
      "text/plain": [
       "<Figure size 640x480 with 1 Axes>"
      ]
     },
     "metadata": {},
     "output_type": "display_data"
    },
    {
     "data": {
      "image/png": "[encoded data removed]",
      "text/plain": [
       "<Figure size 640x480 with 1 Axes>"
      ]
     },
     "metadata": {},
     "output_type": "display_data"
    },
    {
     "data": {
      "image/png": "[encoded data removed]",
      "text/plain": [
       "<Figure size 640x480 with 1 Axes>"
      ]
     },
     "metadata": {},
     "output_type": "display_data"
    }
   ],
   "source": [
    "n= 11\n",
    "plt.imshow(X_test[n])\n",
    "plt.title(\"Original image\")\n",
    "plt.figure()\n",
    "plt.imshow(first_model_test_preds[n])\n",
    "plt.title(\"First model pred\")\n",
    "plt.figure()\n",
    "plt.imshow(preds[n])\n",
    "plt.title(\"Final pred\")"
   ]
  },
  {
   "cell_type": "markdown",
   "id": "f0e1f514",
   "metadata": {
    "papermill": {
     "duration": 0.646525,
     "end_time": "2024-12-14T15:26:16.876824",
     "exception": false,
     "start_time": "2024-12-14T15:26:16.230299",
     "status": "completed"
    },
    "tags": []
   },
   "source": [
    "## Submission Preparation\r\n",
    "\r\n",
    "We convert the refined predictions into a CSV file according to the competition's submission requirements and package it into a ZIP file for submission.\r\n"
   ]
  },
  {
   "cell_type": "code",
   "execution_count": 33,
   "id": "f2c6cd2b",
   "metadata": {
    "execution": {
     "iopub.execute_input": "2024-12-14T15:26:18.118209Z",
     "iopub.status.busy": "2024-12-14T15:26:18.117860Z",
     "iopub.status.idle": "2024-12-14T15:26:40.810086Z",
     "shell.execute_reply": "2024-12-14T15:26:40.809064Z"
    },
    "papermill": {
     "duration": 23.336486,
     "end_time": "2024-12-14T15:26:40.811970",
     "exception": false,
     "start_time": "2024-12-14T15:26:17.475484",
     "status": "completed"
    },
    "tags": []
   },
   "outputs": [
    {
     "name": "stdout",
     "output_type": "stream",
     "text": [
      "ZIP file created: submission_241214_152423.zip\n"
     ]
    }
   ],
   "source": [
    "import zipfile\n",
    "\n",
    "def y_to_df(y) -> pd.DataFrame:\n",
    "    \"\"\"Converts segmentation predictions into a DataFrame format for Kaggle.\"\"\"\n",
    "    n_samples = len(y)\n",
    "    y_flat = y.reshape(n_samples, -1)\n",
    "    df = pd.DataFrame(y_flat)\n",
    "    df[\"id\"] = np.arange(n_samples)\n",
    "    cols = [\"id\"] + [col for col in df.columns if col != \"id\"]\n",
    "    return df[cols]\n",
    "\n",
    "timestep_str = model_filename.replace(\"model_\", \"\").replace(\".keras\", \"\")\n",
    "submission_filename = f\"submission_{timestep_str}.csv\"\n",
    "zip_filename = submission_filename.replace(\".csv\", \".zip\")\n",
    "submission_df = y_to_df(preds)\n",
    "with zipfile.ZipFile(zip_filename, 'w', zipfile.ZIP_DEFLATED) as zipf:\n",
    "    with zipf.open(submission_filename, 'w') as csvfile:\n",
    "        csvfile.write(submission_df.to_csv(index=False).encode('utf-8'))\n",
    "\n",
    "print(f\"ZIP file created: {zip_filename}\")"
   ]
  }
 ],
 "metadata": {
  "kaggle": {
   "accelerator": "nvidiaTeslaT4",
   "dataSources": [
    {
     "datasetId": 6236010,
     "sourceId": 10108728,
     "sourceType": "datasetVersion"
    },
    {
     "datasetId": 6243931,
     "sourceId": 10183020,
     "sourceType": "datasetVersion"
    },
    {
     "datasetId": 6296220,
     "sourceId": 10191195,
     "sourceType": "datasetVersion"
    }
   ],
   "dockerImageVersionId": 30805,
   "isGpuEnabled": true,
   "isInternetEnabled": true,
   "language": "python",
   "sourceType": "notebook"
  },
  "kernelspec": {
   "display_name": "Python 3",
   "language": "python",
   "name": "python3"
  },
  "language_info": {
   "codemirror_mode": {
    "name": "ipython",
    "version": 3
   },
   "file_extension": ".py",
   "mimetype": "text/x-python",
   "name": "python",
   "nbconvert_exporter": "python",
   "pygments_lexer": "ipython3",
   "version": "3.10.14"
  },
  "papermill": {
   "default_parameters": {},
   "duration": 3362.835606,
   "end_time": "2024-12-14T15:26:45.383710",
   "environment_variables": {},
   "exception": null,
   "input_path": "__notebook__.ipynb",
   "output_path": "__notebook__.ipynb",
   "parameters": {},
   "start_time": "2024-12-14T14:30:42.548104",
   "version": "2.6.0"
  }
 },
 "nbformat": 4,
 "nbformat_minor": 5
}
