{
 "cells": [
  {
   "cell_type": "markdown",
   "id": "56471135",
   "metadata": {
    "papermill": {
     "duration": 0.007045,
     "end_time": "2024-12-14T16:27:53.572778",
     "exception": false,
     "start_time": "2024-12-14T16:27:53.565733",
     "status": "completed"
    },
    "tags": []
   },
   "source": [
    "# Semantic Segmentation of Mars Surface Images – First Model\r\n",
    "\r\n",
    "This notebook trains a **first-stage semantic segmentation model** to classify each pixel of grayscale Mars images into:\r\n",
    "- **0:** Background\r\n",
    "- **1:** Soil\r\n",
    "- **2:** Bedrock\r\n",
    "- **3:** Sand\r\n",
    "- **4:** Big Rock\r\n",
    "\r\n",
    "**Overview:**  \r\n",
    "We begin by loading and preprocessing cleaned training data. After a stratified train/validation split, we apply augmentations to improve model robustness. The model is a U-Net variant with:\r\n",
    "- **Gated Skip Connections:** Control feature flow from encoder to decoder.\r\n",
    "- **Deep Supervision:** Intermediate outputs guide learning at multiple scales.\r\n",
    "\r\n",
    "We use **focal loss** to handle class imbalances and **Mean IoU** to measure performance. Training is enhanced with learning rate reduction and early stopping callbacks. Once trained, we evaluate results, visualize training history, compute a confusion matrix, and apply morphological post-processing.\r\n",
    "\r\n",
    "**Outcome:**  \r\n",
    "This model provides initial segmentation predictions. These predictions can later be refined by a second model or additional techniques, forming a two-step approach to improving semantic segmentation accuracy on Martian terrain.\r\n",
    ".\r\n"
   ]
  },
  {
   "cell_type": "code",
   "execution_count": 1,
   "id": "c1bfa318",
   "metadata": {
    "execution": {
     "iopub.execute_input": "2024-12-14T16:27:53.588139Z",
     "iopub.status.busy": "2024-12-14T16:27:53.587829Z",
     "iopub.status.idle": "2024-12-14T16:29:06.639237Z",
     "shell.execute_reply": "2024-12-14T16:29:06.638320Z"
    },
    "papermill": {
     "duration": 73.061488,
     "end_time": "2024-12-14T16:29:06.641934",
     "exception": false,
     "start_time": "2024-12-14T16:27:53.580446",
     "status": "completed"
    },
    "tags": []
   },
   "outputs": [
    {
     "name": "stdout",
     "output_type": "stream",
     "text": [
      "Requirement already satisfied: albumentations in /opt/conda/lib/python3.10/site-packages (1.4.21)\r\n",
      "Requirement already satisfied: numpy>=1.24.4 in /opt/conda/lib/python3.10/site-packages (from albumentations) (1.26.4)\r\n",
      "Requirement already satisfied: scipy>=1.10.0 in /opt/conda/lib/python3.10/site-packages (from albumentations) (1.14.1)\r\n",
      "Requirement already satisfied: PyYAML in /opt/conda/lib/python3.10/site-packages (from albumentations) (6.0.2)\r\n",
      "Requirement already satisfied: pydantic>=2.7.0 in /opt/conda/lib/python3.10/site-packages (from albumentations) (2.10.1)\r\n",
      "Requirement already satisfied: albucore==0.0.20 in /opt/conda/lib/python3.10/site-packages (from albumentations) (0.0.20)\r\n",
      "Requirement already satisfied: eval-type-backport in /opt/conda/lib/python3.10/site-packages (from albumentations) (0.2.0)\r\n",
      "Requirement already satisfied: opencv-python-headless>=4.9.0.80 in /opt/conda/lib/python3.10/site-packages (from albumentations) (4.10.0.84)\r\n",
      "Requirement already satisfied: stringzilla>=3.10.4 in /opt/conda/lib/python3.10/site-packages (from albucore==0.0.20->albumentations) (3.10.10)\r\n",
      "Requirement already satisfied: simsimd>=5.9.2 in /opt/conda/lib/python3.10/site-packages (from albucore==0.0.20->albumentations) (6.2.0)\r\n",
      "Requirement already satisfied: annotated-types>=0.6.0 in /opt/conda/lib/python3.10/site-packages (from pydantic>=2.7.0->albumentations) (0.7.0)\r\n",
      "Requirement already satisfied: pydantic-core==2.27.1 in /opt/conda/lib/python3.10/site-packages (from pydantic>=2.7.0->albumentations) (2.27.1)\r\n",
      "Requirement already satisfied: typing-extensions>=4.12.2 in /opt/conda/lib/python3.10/site-packages (from pydantic>=2.7.0->albumentations) (4.12.2)\r\n",
      "Collecting segmentation-models\r\n",
      "  Downloading segmentation_models-1.0.1-py3-none-any.whl.metadata (938 bytes)\r\n",
      "Collecting keras-applications<=1.0.8,>=1.0.7 (from segmentation-models)\r\n",
      "  Downloading Keras_Applications-1.0.8-py3-none-any.whl.metadata (1.7 kB)\r\n",
      "Collecting image-classifiers==1.0.0 (from segmentation-models)\r\n",
      "  Downloading image_classifiers-1.0.0-py3-none-any.whl.metadata (8.6 kB)\r\n",
      "Collecting efficientnet==1.0.0 (from segmentation-models)\r\n",
      "  Downloading efficientnet-1.0.0-py3-none-any.whl.metadata (6.1 kB)\r\n",
      "Requirement already satisfied: scikit-image in /opt/conda/lib/python3.10/site-packages (from efficientnet==1.0.0->segmentation-models) (0.23.2)\r\n",
      "Requirement already satisfied: numpy>=1.9.1 in /opt/conda/lib/python3.10/site-packages (from keras-applications<=1.0.8,>=1.0.7->segmentation-models) (1.26.4)\r\n",
      "Requirement already satisfied: h5py in /opt/conda/lib/python3.10/site-packages (from keras-applications<=1.0.8,>=1.0.7->segmentation-models) (3.11.0)\r\n",
      "Requirement already satisfied: scipy>=1.9 in /opt/conda/lib/python3.10/site-packages (from scikit-image->efficientnet==1.0.0->segmentation-models) (1.14.1)\r\n",
      "Requirement already satisfied: networkx>=2.8 in /opt/conda/lib/python3.10/site-packages (from scikit-image->efficientnet==1.0.0->segmentation-models) (3.3)\r\n",
      "Requirement already satisfied: pillow>=9.1 in /opt/conda/lib/python3.10/site-packages (from scikit-image->efficientnet==1.0.0->segmentation-models) (10.3.0)\r\n",
      "Requirement already satisfied: imageio>=2.33 in /opt/conda/lib/python3.10/site-packages (from scikit-image->efficientnet==1.0.0->segmentation-models) (2.34.1)\r\n",
      "Requirement already satisfied: tifffile>=2022.8.12 in /opt/conda/lib/python3.10/site-packages (from scikit-image->efficientnet==1.0.0->segmentation-models) (2024.5.22)\r\n",
      "Requirement already satisfied: packaging>=21 in /opt/conda/lib/python3.10/site-packages (from scikit-image->efficientnet==1.0.0->segmentation-models) (21.3)\r\n",
      "Requirement already satisfied: lazy-loader>=0.4 in /opt/conda/lib/python3.10/site-packages (from scikit-image->efficientnet==1.0.0->segmentation-models) (0.4)\r\n",
      "Requirement already satisfied: pyparsing!=3.0.5,>=2.0.2 in /opt/conda/lib/python3.10/site-packages (from packaging>=21->scikit-image->efficientnet==1.0.0->segmentation-models) (3.1.2)\r\n",
      "Downloading segmentation_models-1.0.1-py3-none-any.whl (33 kB)\r\n",
      "Downloading efficientnet-1.0.0-py3-none-any.whl (17 kB)\r\n",
      "Downloading image_classifiers-1.0.0-py3-none-any.whl (19 kB)\r\n",
      "Downloading Keras_Applications-1.0.8-py3-none-any.whl (50 kB)\r\n",
      "\u001b[2K   \u001b[90m━━━━━━━━━━━━━━━━━━━━━━━━━━━━━━━━━━━━━━━━\u001b[0m \u001b[32m50.7/50.7 kB\u001b[0m \u001b[31m2.8 MB/s\u001b[0m eta \u001b[36m0:00:00\u001b[0m\r\n",
      "\u001b[?25hInstalling collected packages: keras-applications, image-classifiers, efficientnet, segmentation-models\r\n",
      "Successfully installed efficientnet-1.0.0 image-classifiers-1.0.0 keras-applications-1.0.8 segmentation-models-1.0.1\r\n",
      "Requirement already satisfied: cython in /opt/conda/lib/python3.10/site-packages (3.0.10)\r\n",
      "Collecting git+https://github.com/lucasb-eyer/pydensecrf.git\r\n",
      "  Cloning https://github.com/lucasb-eyer/pydensecrf.git to /tmp/pip-req-build-yj63zqh7\r\n",
      "  Running command git clone --filter=blob:none --quiet https://github.com/lucasb-eyer/pydensecrf.git /tmp/pip-req-build-yj63zqh7\r\n",
      "  Resolved https://github.com/lucasb-eyer/pydensecrf.git to commit 2723c7fa4f2ead16ae1ce3d8afe977724bb8f87f\r\n",
      "  Installing build dependencies ... \u001b[?25l-\b \b\\\b \b|\b \b/\b \b-\b \b\\\b \bdone\r\n",
      "\u001b[?25h  Getting requirements to build wheel ... \u001b[?25l-\b \b\\\b \b|\b \b/\b \bdone\r\n",
      "\u001b[?25h  Preparing metadata (pyproject.toml) ... \u001b[?25l-\b \bdone\r\n",
      "\u001b[?25hBuilding wheels for collected packages: pydensecrf\r\n",
      "  Building wheel for pydensecrf (pyproject.toml) ... \u001b[?25l-\b \b\\\b \b|\b \b/\b \b-\b \b\\\b \b|\b \b/\b \b-\b \b\\\b \b|\b \b/\b \b-\b \b\\\b \b|\b \b/\b \b-\b \b\\\b \bdone\r\n",
      "\u001b[?25h  Created wheel for pydensecrf: filename=pydensecrf-1.0-cp310-cp310-linux_x86_64.whl size=270354 sha256=885af5a15efaa8cf56e0d286cc1222f958b4828ce2fb62e91f961fbe6fcacb39\r\n",
      "  Stored in directory: /tmp/pip-ephem-wheel-cache-akss6zqh/wheels/01/5b/61/87443ed3bf03dd2940375cf2f8b6fba88efece935465e490b0\r\n",
      "Successfully built pydensecrf\r\n",
      "Installing collected packages: pydensecrf\r\n",
      "Successfully installed pydensecrf-1.0\r\n"
     ]
    }
   ],
   "source": [
    "!pip install albumentations\n",
    "!pip install segmentation-models\n",
    "!pip install cython\n",
    "!pip install git+https://github.com/lucasb-eyer/pydensecrf.git"
   ]
  },
  {
   "cell_type": "markdown",
   "id": "bb25fdda",
   "metadata": {
    "papermill": {
     "duration": 0.008531,
     "end_time": "2024-12-14T16:29:06.659530",
     "exception": false,
     "start_time": "2024-12-14T16:29:06.650999",
     "status": "completed"
    },
    "tags": []
   },
   "source": [
    "# Import libraries"
   ]
  },
  {
   "cell_type": "code",
   "execution_count": 2,
   "id": "c1f0e6dd",
   "metadata": {
    "_cell_guid": "b1076dfc-b9ad-4769-8c92-a6c4dae69d19",
    "_uuid": "8f2839f25d086af736a60e9eeb907d3b93b6e0e5",
    "execution": {
     "iopub.execute_input": "2024-12-14T16:29:06.677705Z",
     "iopub.status.busy": "2024-12-14T16:29:06.677374Z",
     "iopub.status.idle": "2024-12-14T16:29:31.008893Z",
     "shell.execute_reply": "2024-12-14T16:29:31.008173Z"
    },
    "papermill": {
     "duration": 24.342791,
     "end_time": "2024-12-14T16:29:31.010732",
     "exception": false,
     "start_time": "2024-12-14T16:29:06.667941",
     "status": "completed"
    },
    "tags": []
   },
   "outputs": [
    {
     "name": "stderr",
     "output_type": "stream",
     "text": [
      "/opt/conda/lib/python3.10/site-packages/albumentations/__init__.py:24: UserWarning: A new version of Albumentations is available: 1.4.22 (you have 1.4.21). Upgrade using: pip install -U albumentations. To disable automatic update checks, set the environment variable NO_ALBUMENTATIONS_UPDATE to 1.\n",
      "  check_for_updates()\n"
     ]
    },
    {
     "name": "stdout",
     "output_type": "stream",
     "text": [
      "Segmentation Models: using `tf.keras` framework.\n"
     ]
    }
   ],
   "source": [
    "import tensorflow as tf\n",
    "import pandas as pd\n",
    "from tensorflow.keras.preprocessing.image import ImageDataGenerator\n",
    "from tensorflow.keras.callbacks import ReduceLROnPlateau, EarlyStopping\n",
    "from tensorflow.keras.optimizers import Adam\n",
    "from tensorflow.keras import layers, models, Input\n",
    "from tensorflow.keras.models import Model\n",
    "from tensorflow.keras.layers import (Conv2D, Conv2DTranspose, BatchNormalization,\n",
    "                                     Activation, Add, Concatenate, GlobalAveragePooling2D, Dense, Multiply, MaxPooling2D)\n",
    "import numpy as np\n",
    "from sklearn.model_selection import train_test_split\n",
    "from keras_cv.layers import RandomFlip, RandomRotation, RandomZoom\n",
    "import tensorflow_probability as tfp\n",
    "import keras_cv\n",
    "import matplotlib.pyplot as plt\n",
    "import albumentations as A\n",
    "from albumentations.pytorch import ToTensorV2\n",
    "from tensorflow.keras.utils import Sequence\n",
    "import tensorflow.keras.backend as K\n",
    "from tensorflow.keras.applications import ResNet50\n",
    "from tensorflow.keras.applications import EfficientNetB3\n",
    "\n",
    "import os\n",
    "from datetime import datetime\n",
    "os.environ[\"SM_FRAMEWORK\"] = \"tf.keras\"\n",
    "import segmentation_models as sm\n",
    "from sklearn.metrics import confusion_matrix, classification_report\n",
    "import seaborn as sns\n",
    "from sklearn.utils.class_weight import compute_class_weight\n",
    "import cv2\n",
    "import pydensecrf.densecrf as dcrf\n",
    "from pydensecrf.utils import unary_from_softmax"
   ]
  },
  {
   "cell_type": "code",
   "execution_count": 3,
   "id": "8fc81422",
   "metadata": {
    "execution": {
     "iopub.execute_input": "2024-12-14T16:29:31.029990Z",
     "iopub.status.busy": "2024-12-14T16:29:31.029011Z",
     "iopub.status.idle": "2024-12-14T16:29:31.033545Z",
     "shell.execute_reply": "2024-12-14T16:29:31.032905Z"
    },
    "papermill": {
     "duration": 0.01554,
     "end_time": "2024-12-14T16:29:31.035140",
     "exception": false,
     "start_time": "2024-12-14T16:29:31.019600",
     "status": "completed"
    },
    "tags": []
   },
   "outputs": [],
   "source": [
    "# Set random seeds for reproducibility\n",
    "np.random.seed(42)\n",
    "tf.random.set_seed(42)"
   ]
  },
  {
   "cell_type": "markdown",
   "id": "f7fcc9b0",
   "metadata": {
    "papermill": {
     "duration": 0.008222,
     "end_time": "2024-12-14T16:29:31.051695",
     "exception": false,
     "start_time": "2024-12-14T16:29:31.043473",
     "status": "completed"
    },
    "tags": []
   },
   "source": [
    "# Import Data"
   ]
  },
  {
   "cell_type": "markdown",
   "id": "c269cc76",
   "metadata": {
    "papermill": {
     "duration": 0.00819,
     "end_time": "2024-12-14T16:29:31.068220",
     "exception": false,
     "start_time": "2024-12-14T16:29:31.060030",
     "status": "completed"
    },
    "tags": []
   },
   "source": [
    "#### Dataset Details\n",
    "\n",
    "- **Image Size:** 64x128\n",
    "- **Color Space:** Grayscale (1 channel)\n",
    "- **Input Shape:** (64, 128)\n",
    "- **File Format:** `.npz` (Numpy archive)\n",
    "- **Number of Classes:** 5\n",
    "\n",
    "#### Class Labels\n",
    "\n",
    "- **0:** Background\n",
    "- **1:** Soil\n",
    "- **2:** Bedrock\n",
    "- **3:** Sand\n",
    "- **4:** Big Rock"
   ]
  },
  {
   "cell_type": "markdown",
   "id": "7a512f45",
   "metadata": {
    "papermill": {
     "duration": 0.008239,
     "end_time": "2024-12-14T16:29:31.084775",
     "exception": false,
     "start_time": "2024-12-14T16:29:31.076536",
     "status": "completed"
    },
    "tags": []
   },
   "source": [
    "## Import cleaned train data"
   ]
  },
  {
   "cell_type": "markdown",
   "id": "de3ad8e0",
   "metadata": {
    "papermill": {
     "duration": 0.008362,
     "end_time": "2024-12-14T16:29:31.101438",
     "exception": false,
     "start_time": "2024-12-14T16:29:31.093076",
     "status": "completed"
    },
    "tags": []
   },
   "source": [
    "We used the AI-HW2-Preprocessing notebook to generate processed and cleaned data for both training and validation. The resulting files are loaded here.\n",
    "\n",
    "For training, we use a dataset that includes augmentation(adding patches from the minor class to other images), while for validation, we use a separate dataset without augmentation."
   ]
  },
  {
   "cell_type": "code",
   "execution_count": 4,
   "id": "d5ce1f36",
   "metadata": {
    "execution": {
     "iopub.execute_input": "2024-12-14T16:29:31.119484Z",
     "iopub.status.busy": "2024-12-14T16:29:31.118887Z",
     "iopub.status.idle": "2024-12-14T16:29:32.090169Z",
     "shell.execute_reply": "2024-12-14T16:29:32.089296Z"
    },
    "papermill": {
     "duration": 0.982344,
     "end_time": "2024-12-14T16:29:32.092126",
     "exception": false,
     "start_time": "2024-12-14T16:29:31.109782",
     "status": "completed"
    },
    "tags": []
   },
   "outputs": [
    {
     "data": {
      "text/plain": [
       "((2505, 64, 128), (2505, 64, 128), 254)"
      ]
     },
     "execution_count": 4,
     "metadata": {},
     "output_type": "execute_result"
    }
   ],
   "source": [
    "# Load training data for TRAINING from first dataset\n",
    "data_train_01 = np.load(\"/kaggle/input/dataset-01/cleaned_training_set (6).npz\")\n",
    "train_images_01, train_labels_01 = data_train_01['images'], data_train_01['labels']\n",
    "\n",
    "# Load data for VALIDATION from the main unaugmented dataset\n",
    "data_main = np.load(\"/kaggle/input/dataset-main/cleaned_training_set.npz\")\n",
    "train_images_main, train_labels_main = data_main['images'], data_main['labels']\n",
    "\n",
    "train_images_01.shape, train_labels_01.shape, train_images_01.max()"
   ]
  },
  {
   "cell_type": "markdown",
   "id": "3fcb7dca",
   "metadata": {
    "papermill": {
     "duration": 0.008499,
     "end_time": "2024-12-14T16:29:32.110309",
     "exception": false,
     "start_time": "2024-12-14T16:29:32.101810",
     "status": "completed"
    },
    "tags": []
   },
   "source": [
    "## Import Test data"
   ]
  },
  {
   "cell_type": "markdown",
   "id": "b5261194",
   "metadata": {
    "papermill": {
     "duration": 0.0096,
     "end_time": "2024-12-14T16:29:32.128349",
     "exception": false,
     "start_time": "2024-12-14T16:29:32.118749",
     "status": "completed"
    },
    "tags": []
   },
   "source": [
    "For testing the raw data hould be used so we are loading them from the original dataset file provided for the competition."
   ]
  },
  {
   "cell_type": "code",
   "execution_count": 5,
   "id": "9275c851",
   "metadata": {
    "execution": {
     "iopub.execute_input": "2024-12-14T16:29:32.147168Z",
     "iopub.status.busy": "2024-12-14T16:29:32.146902Z",
     "iopub.status.idle": "2024-12-14T16:29:34.255507Z",
     "shell.execute_reply": "2024-12-14T16:29:34.254623Z"
    },
    "papermill": {
     "duration": 2.120332,
     "end_time": "2024-12-14T16:29:34.257226",
     "exception": false,
     "start_time": "2024-12-14T16:29:32.136894",
     "status": "completed"
    },
    "tags": []
   },
   "outputs": [
    {
     "data": {
      "text/plain": [
       "((10022, 64, 128), 255, 254.0)"
      ]
     },
     "execution_count": 5,
     "metadata": {},
     "output_type": "execute_result"
    }
   ],
   "source": [
    "# Load and clean data from the kaggle input\n",
    "data = np.load(\"/kaggle/input/dataset-main/mars_for_students.npz\")\n",
    "test = data['test_set']\n",
    "image_ratio = test.shape[1] / test.shape[2]\n",
    "test.shape, test.max(), data['training_set'].max()"
   ]
  },
  {
   "cell_type": "markdown",
   "id": "95058544",
   "metadata": {
    "papermill": {
     "duration": 0.008574,
     "end_time": "2024-12-14T16:29:34.274732",
     "exception": false,
     "start_time": "2024-12-14T16:29:34.266158",
     "status": "completed"
    },
    "tags": []
   },
   "source": [
    "# Preprocessing"
   ]
  },
  {
   "cell_type": "markdown",
   "id": "111437b8",
   "metadata": {
    "papermill": {
     "duration": 0.008484,
     "end_time": "2024-12-14T16:29:34.291952",
     "exception": false,
     "start_time": "2024-12-14T16:29:34.283468",
     "status": "completed"
    },
    "tags": []
   },
   "source": [
    "## Splitting data"
   ]
  },
  {
   "cell_type": "markdown",
   "id": "f73bb1b7",
   "metadata": {
    "papermill": {
     "duration": 0.008556,
     "end_time": "2024-12-14T16:29:34.309051",
     "exception": false,
     "start_time": "2024-12-14T16:29:34.300495",
     "status": "completed"
    },
    "tags": []
   },
   "source": [
    "Calculating class distribution"
   ]
  },
  {
   "cell_type": "code",
   "execution_count": 6,
   "id": "fe1284d6",
   "metadata": {
    "execution": {
     "iopub.execute_input": "2024-12-14T16:29:34.327792Z",
     "iopub.status.busy": "2024-12-14T16:29:34.327289Z",
     "iopub.status.idle": "2024-12-14T16:29:34.392880Z",
     "shell.execute_reply": "2024-12-14T16:29:34.392013Z"
    },
    "papermill": {
     "duration": 0.076816,
     "end_time": "2024-12-14T16:29:34.394731",
     "exception": false,
     "start_time": "2024-12-14T16:29:34.317915",
     "status": "completed"
    },
    "tags": []
   },
   "outputs": [],
   "source": [
    "import numpy as np\n",
    "import matplotlib.pyplot as plt\n",
    "from sklearn.model_selection import train_test_split\n",
    "\n",
    "def calculate_class_distributions(labels):\n",
    "    distributions = np.array([np.bincount(label.ravel(), minlength=5) for label in labels])\n",
    "    return distributions\n",
    "\n",
    "def plot_class_distribution(labels, title):\n",
    "    distributions = np.sum(calculate_class_distributions(labels), axis=0)\n",
    "    plt.figure(figsize=(8, 6))\n",
    "    plt.bar(range(len(distributions)), distributions)\n",
    "    plt.title(title)\n",
    "    plt.xlabel(\"Class\")\n",
    "    plt.ylabel(\"Pixel Count\")\n",
    "    plt.xticks(range(len(distributions)))\n",
    "    plt.show()\n",
    "\n",
    "# Ensure both have the same shape and order\n",
    "assert train_images_01.shape == train_images_main.shape, \"Mismatched shapes between dataset-01 and dataset-main images!\"\n",
    "assert train_labels_01.shape == train_labels_main.shape, \"Mismatched shapes between dataset-01 and dataset-main labels!\"\n",
    "\n",
    "# Compute distributions on dataset-01 labels for stratification\n",
    "distributions = calculate_class_distributions(train_labels_01)\n",
    "dominant_class = np.argmax(distributions, axis=1)"
   ]
  },
  {
   "cell_type": "markdown",
   "id": "4baa4101",
   "metadata": {
    "papermill": {
     "duration": 0.008953,
     "end_time": "2024-12-14T16:29:34.413335",
     "exception": false,
     "start_time": "2024-12-14T16:29:34.404382",
     "status": "completed"
    },
    "tags": []
   },
   "source": [
    "splitting the dataset while respecting the dominnant class"
   ]
  },
  {
   "cell_type": "code",
   "execution_count": 7,
   "id": "b6711168",
   "metadata": {
    "execution": {
     "iopub.execute_input": "2024-12-14T16:29:34.431734Z",
     "iopub.status.busy": "2024-12-14T16:29:34.431437Z",
     "iopub.status.idle": "2024-12-14T16:29:34.903276Z",
     "shell.execute_reply": "2024-12-14T16:29:34.902222Z"
    },
    "papermill": {
     "duration": 0.485884,
     "end_time": "2024-12-14T16:29:34.907846",
     "exception": false,
     "start_time": "2024-12-14T16:29:34.421962",
     "status": "completed"
    },
    "tags": []
   },
   "outputs": [
    {
     "name": "stdout",
     "output_type": "stream",
     "text": [
      "X_train Shape: (2129, 64, 128)\n",
      "X_valid Shape: (376, 64, 128)\n",
      "y_train Shape: (2129, 64, 128)\n",
      "y_valid Shape: (376, 64, 128)\n",
      "Class distributions in the training set:\n"
     ]
    },
    {
     "data": {
      "image/png": "[encoded data removed]",
      "text/plain": [
       "<Figure size 800x600 with 1 Axes>"
      ]
     },
     "metadata": {},
     "output_type": "display_data"
    },
    {
     "name": "stdout",
     "output_type": "stream",
     "text": [
      "Class distributions in the validation set:\n"
     ]
    },
    {
     "data": {
      "image/png": "[encoded data removed]",
      "text/plain": [
       "<Figure size 800x600 with 1 Axes>"
      ]
     },
     "metadata": {},
     "output_type": "display_data"
    }
   ],
   "source": [
    "# Stratified split indices based on dataset-01\n",
    "test_size = 0.15\n",
    "X_indices = np.arange(len(train_images_01))\n",
    "\n",
    "_, X_valid_idx, _, y_valid_idx = train_test_split(\n",
    "    X_indices, X_indices, \n",
    "    test_size=test_size, \n",
    "    random_state=42, \n",
    "    stratify=dominant_class\n",
    ")\n",
    "\n",
    "# The remaining (not in X_valid_idx) are training indices\n",
    "X_train_idx = np.setdiff1d(X_indices, X_valid_idx)\n",
    "\n",
    "# Now pick training from dataset-01 and validation from dataset-main\n",
    "X_train = train_images_01[X_train_idx]\n",
    "y_train = train_labels_01[X_train_idx]\n",
    "X_valid = train_images_main[X_valid_idx]\n",
    "y_valid = train_labels_main[X_valid_idx]\n",
    "\n",
    "# Print shapes\n",
    "print(\"X_train Shape:\", X_train.shape)\n",
    "print(\"X_valid Shape:\", X_valid.shape)\n",
    "print(\"y_train Shape:\", y_train.shape)\n",
    "print(\"y_valid Shape:\", y_valid.shape)\n",
    "\n",
    "# Plot class distributions for sanity check\n",
    "print(\"Class distributions in the training set:\")\n",
    "plot_class_distribution(y_train, \"Training Set Class Distribution\")\n",
    "\n",
    "print(\"Class distributions in the validation set:\")\n",
    "plot_class_distribution(y_valid, \"Validation Set Class Distribution\")"
   ]
  },
  {
   "cell_type": "markdown",
   "id": "b55e9ff6",
   "metadata": {
    "papermill": {
     "duration": 0.01124,
     "end_time": "2024-12-14T16:29:34.938856",
     "exception": false,
     "start_time": "2024-12-14T16:29:34.927616",
     "status": "completed"
    },
    "tags": []
   },
   "source": [
    "## Dataset Preparation"
   ]
  },
  {
   "cell_type": "code",
   "execution_count": 8,
   "id": "fb70e40b",
   "metadata": {
    "execution": {
     "iopub.execute_input": "2024-12-14T16:29:34.962785Z",
     "iopub.status.busy": "2024-12-14T16:29:34.962119Z",
     "iopub.status.idle": "2024-12-14T16:29:35.006112Z",
     "shell.execute_reply": "2024-12-14T16:29:35.004949Z"
    },
    "papermill": {
     "duration": 0.057779,
     "end_time": "2024-12-14T16:29:35.008048",
     "exception": false,
     "start_time": "2024-12-14T16:29:34.950269",
     "status": "completed"
    },
    "tags": []
   },
   "outputs": [
    {
     "name": "stdout",
     "output_type": "stream",
     "text": [
      "(2129, 64, 128, 1)\n"
     ]
    }
   ],
   "source": [
    "# Expand dimensions for images to add channel axis (grayscale)\n",
    "X_train = np.expand_dims(X_train, axis=-1)\n",
    "X_valid = np.expand_dims(X_valid, axis=-1)\n",
    "\n",
    "# Normalize images to [0, 1]\n",
    "X_train = X_train.astype(np.float32) / 255.0\n",
    "X_valid = X_valid.astype(np.float32) / 255.0\n",
    "\n",
    "# Ensure labels are integer type\n",
    "y_train = y_train.astype(np.uint8)\n",
    "y_valid = y_valid.astype(np.uint8)\n",
    "\n",
    "print(X_train.shape)"
   ]
  },
  {
   "cell_type": "markdown",
   "id": "8dedf801",
   "metadata": {
    "papermill": {
     "duration": 0.009627,
     "end_time": "2024-12-14T16:29:35.027804",
     "exception": false,
     "start_time": "2024-12-14T16:29:35.018177",
     "status": "completed"
    },
    "tags": []
   },
   "source": [
    "## Augmentation"
   ]
  },
  {
   "cell_type": "markdown",
   "id": "917ae1d0",
   "metadata": {
    "papermill": {
     "duration": 0.009947,
     "end_time": "2024-12-14T16:29:35.047590",
     "exception": false,
     "start_time": "2024-12-14T16:29:35.037643",
     "status": "completed"
    },
    "tags": []
   },
   "source": [
    "\n",
    "The MarsDataset class defines a custom dataset for handling image and mask pairs for a deep learning task. It extends the Sequence class from Keras to enable efficient data loading in batches. The dataset supports image augmentation, which can be customized or defaults to a basic pass-through function. The class resizes masks to different target sizes based on the defined output names, with each output corresponding to a different spatial resolution. The dataset handles batching, augmentation, and resizing before returning the images and corresponding resized masks for training or validation. The augmentation pipeline includes operations like flipping, rotation, and brightness/contrast adjustment."
   ]
  },
  {
   "cell_type": "code",
   "execution_count": 9,
   "id": "ba66f474",
   "metadata": {
    "execution": {
     "iopub.execute_input": "2024-12-14T16:29:35.068248Z",
     "iopub.status.busy": "2024-12-14T16:29:35.068000Z",
     "iopub.status.idle": "2024-12-14T16:29:35.082261Z",
     "shell.execute_reply": "2024-12-14T16:29:35.081021Z"
    },
    "papermill": {
     "duration": 0.026825,
     "end_time": "2024-12-14T16:29:35.084087",
     "exception": false,
     "start_time": "2024-12-14T16:29:35.057262",
     "status": "completed"
    },
    "tags": []
   },
   "outputs": [
    {
     "name": "stdout",
     "output_type": "stream",
     "text": [
      "(376, 64, 128)\n"
     ]
    }
   ],
   "source": [
    "class MarsDataset(Sequence):\n",
    "    def __init__(self, images, masks, batch_size=16, augmentations=None, output_names=None, **kwargs):\n",
    "        super().__init__(**kwargs)\n",
    "        self.images = images\n",
    "        self.masks = masks\n",
    "        self.batch_size = batch_size\n",
    "        self.augment = augmentations if augmentations is not None else self.default_augment\n",
    "        self.output_names = output_names if output_names is not None else ['final_output']\n",
    "\n",
    "        # Define the target sizes for each output\n",
    "        self.output_sizes = {\n",
    "            'output_3': (16, 8),\n",
    "            'output_2': (32, 16),\n",
    "            'output_1': (64, 32),\n",
    "            'final_output': (128, 64)\n",
    "        }\n",
    "\n",
    "    def __len__(self):\n",
    "        return int(np.ceil(len(self.images) / self.batch_size))\n",
    "\n",
    "    def default_augment(self, image, mask):\n",
    "        return {'image': image, 'mask': mask}\n",
    "\n",
    "    def resize_mask(self, mask, size):\n",
    "        resized_mask = cv2.resize(mask, size, interpolation=cv2.INTER_NEAREST)\n",
    "        return resized_mask\n",
    "\n",
    "    def __getitem__(self, idx):\n",
    "        # Get the batch of images and masks\n",
    "        batch_x = self.images[idx * self.batch_size:(idx + 1) * self.batch_size]\n",
    "        batch_y = self.masks[idx * self.batch_size:(idx + 1) * self.batch_size]\n",
    "\n",
    "        augmented = []\n",
    "        for img, mask in zip(batch_x, batch_y):\n",
    "            # Apply augmentations\n",
    "            augmented_sample = self.augment(image=img.squeeze(-1), mask=mask)\n",
    "            augmented.append((augmented_sample['image'], augmented_sample['mask']))\n",
    "\n",
    "        # Prepare input batch\n",
    "        batch_x_aug = np.array([item[0] for item in augmented]).reshape(-1, 64, 128, 1)\n",
    "\n",
    "        # Prepare target outputs for each model output\n",
    "        # Resize masks to match each output's spatial resolution\n",
    "        targets = {}\n",
    "        for output_name in self.output_names:\n",
    "            target_size = self.output_sizes.get(output_name, (64, 128))\n",
    "            resized_masks = np.array([self.resize_mask(item[1], target_size) for item in augmented])\n",
    "            targets[output_name] = resized_masks\n",
    "\n",
    "        return batch_x_aug, targets\n",
    "\n",
    "# Define augmentation pipeline (as before)\n",
    "train_transform = A.Compose([\n",
    "    A.HorizontalFlip(p=0.5),\n",
    "    A.VerticalFlip(p=0.5),\n",
    "    A.ShiftScaleRotate(shift_limit=0.2, scale_limit=0.2, rotate_limit=60, p=0.5),\n",
    "    A.RandomBrightnessContrast(p=0.5),\n",
    "])\n",
    "\n",
    "output_names = ['output_3', 'output_2', 'output_1', 'final_output']\n",
    "# Create Dataset instances with the class weights\n",
    "train_dataset = MarsDataset(X_train, y_train, batch_size=32, augmentations=train_transform, output_names=output_names)\n",
    "valid_dataset = MarsDataset(X_valid, y_valid, batch_size=32, augmentations=None, output_names=output_names)  # No augmentation for validation\n",
    "\n",
    "print(y_valid.shape)"
   ]
  },
  {
   "cell_type": "markdown",
   "id": "f970a81c",
   "metadata": {
    "papermill": {
     "duration": 0.009762,
     "end_time": "2024-12-14T16:29:35.103947",
     "exception": false,
     "start_time": "2024-12-14T16:29:35.094185",
     "status": "completed"
    },
    "tags": []
   },
   "source": [
    "# Model"
   ]
  },
  {
   "cell_type": "markdown",
   "id": "35842eb8",
   "metadata": {
    "papermill": {
     "duration": 0.009773,
     "end_time": "2024-12-14T16:29:35.123812",
     "exception": false,
     "start_time": "2024-12-14T16:29:35.114039",
     "status": "completed"
    },
    "tags": []
   },
   "source": [
    "## Define Model structure"
   ]
  },
  {
   "cell_type": "markdown",
   "id": "c830fe01",
   "metadata": {
    "papermill": {
     "duration": 0.010024,
     "end_time": "2024-12-14T16:29:35.144103",
     "exception": false,
     "start_time": "2024-12-14T16:29:35.134079",
     "status": "completed"
    },
    "tags": []
   },
   "source": [
    "The model is a custom U-Net architecture for segmentation with the following features:\n",
    "\n",
    " - Encoder Block: Applies convolution and max-pooling to extract features at different resolutions.\n",
    " - Gated Skip Connections: Uses a learned gate to modulate encoder features before passing them to the decoder.\n",
    " - Learnable Fusion Block: Combines encoder and decoder features through concatenation and convolution.\n",
    " - Decoder Block: Upsamples features and applies skip connections, with options for concatenation, addition, gated, or fusion.\n",
    " - Deep Supervision: Outputs intermediate results at various decoder stages for enhanced learning.\n",
    " - Final Output: Produces a multi-class segmentation map using a 1x1 convolution with softmax.\n",
    "\n",
    "The model is flexible, supporting different skip connection strategies and deep supervision to improve segmentation performance."
   ]
  },
  {
   "cell_type": "code",
   "execution_count": 10,
   "id": "138d31b4",
   "metadata": {
    "execution": {
     "iopub.execute_input": "2024-12-14T16:29:35.166798Z",
     "iopub.status.busy": "2024-12-14T16:29:35.166500Z",
     "iopub.status.idle": "2024-12-14T16:29:36.534190Z",
     "shell.execute_reply": "2024-12-14T16:29:36.532988Z"
    },
    "papermill": {
     "duration": 1.381586,
     "end_time": "2024-12-14T16:29:36.536217",
     "exception": false,
     "start_time": "2024-12-14T16:29:35.154631",
     "status": "completed"
    },
    "tags": []
   },
   "outputs": [
    {
     "name": "stdout",
     "output_type": "stream",
     "text": [
      "Total number of parameters: 31408984\n",
      "Trainable parameters: 31397208\n",
      "Non-trainable parameters: 11776\n"
     ]
    }
   ],
   "source": [
    "# Building Blocks\n",
    "def conv_block(inputs, filters, kernel_size=3, activation='relu', padding='same'):\n",
    "    x = Conv2D(filters, kernel_size, padding=padding)(inputs)\n",
    "    x = BatchNormalization()(x)\n",
    "    x = Activation(activation)(x)\n",
    "    x = Conv2D(filters, kernel_size, padding=padding)(x)\n",
    "    x = BatchNormalization()(x)\n",
    "    x = Activation(activation)(x)\n",
    "    return x\n",
    "\n",
    "def encoder_block(inputs, filters, pool=True):\n",
    "    x = conv_block(inputs, filters)\n",
    "    p = MaxPooling2D((2, 2))(x) if pool else x\n",
    "    return x, p\n",
    "\n",
    "# Gated Skip Connection\n",
    "def gated_skip_connection_block(encoder_features, decoder_features, filters):\n",
    "    # 1x1 Convolution to reduce channels for gating\n",
    "    gate = Conv2D(1, (1,1), padding='same', activation='sigmoid')(encoder_features)\n",
    "    # Multiply gate with encoder features\n",
    "    gated_encoder = Multiply()([gate, encoder_features])\n",
    "    # Optionally, process decoder features\n",
    "    processed_decoder = Conv2D(filters, (1,1), padding='same', activation='relu')(decoder_features)\n",
    "    # Combine gated encoder and processed decoder\n",
    "    combined = Concatenate()([gated_encoder, processed_decoder])\n",
    "    return combined\n",
    "\n",
    "# Learnable Fusion Block\n",
    "def learnable_fusion(encoder_features, decoder_features, filters):\n",
    "    # Concatenate encoder and decoder features\n",
    "    concat = Concatenate()([encoder_features, decoder_features])\n",
    "    # Apply convolutional layers to learn the fusion\n",
    "    fused = Conv2D(filters, (1,1), activation='relu')(concat)\n",
    "    fused = Conv2D(filters, (3,3), padding='same', activation='relu')(fused)\n",
    "    return fused\n",
    "\n",
    "# Decoder Blocks\n",
    "def decoder_block(inputs, skip_features, filters, skip_connection_type='concat'):\n",
    "    x = Conv2DTranspose(filters, (2, 2), strides=(2, 2), padding='same')(inputs)\n",
    "    \n",
    "    if skip_connection_type == 'concat':\n",
    "        x = Concatenate()([x, skip_features])\n",
    "    elif skip_connection_type == 'add':\n",
    "        x = Add()([x, skip_features])\n",
    "    elif skip_connection_type == 'gated':\n",
    "        x = gated_skip_connection_block(skip_features, x, filters)\n",
    "    elif skip_connection_type == 'fusion':\n",
    "        fused = learnable_fusion(skip_features, x, filters)\n",
    "        x = Concatenate()([x, fused])\n",
    "    else:\n",
    "        raise ValueError(\"Unsupported skip connection type\")\n",
    "    \n",
    "    x = conv_block(x, filters)\n",
    "    return x\n",
    "\n",
    "# Custom U-Net Model with Deep Supervision\n",
    "def CustomUNet(input_shape=(64, 128, 1), num_classes=5, \n",
    "              skip_connection_type='gated', \n",
    "              backbone_filters=[64, 128, 256, 512],\n",
    "              deep_supervision_levels=3):\n",
    "    \n",
    "    inputs = Input(input_shape)\n",
    "    \n",
    "    # Encoder\n",
    "    skips = []\n",
    "    x = inputs\n",
    "    for f in backbone_filters:\n",
    "        x, p = encoder_block(x, f)\n",
    "        skips.append(x)\n",
    "        x = p\n",
    "    # Bottleneck\n",
    "    x = conv_block(x, backbone_filters[-1]*2)\n",
    "    \n",
    "    # Decoder with Deep Supervision\n",
    "    intermediate_outputs = []\n",
    "    total_decoder_blocks = len(backbone_filters)\n",
    "    for i, f in reversed(list(enumerate(backbone_filters))):\n",
    "        x = decoder_block(x, skips[i], f, skip_connection_type=skip_connection_type)\n",
    "        \n",
    "        # Determine if this decoder block should have an intermediate output\n",
    "        # For example, collect outputs from the last 'deep_supervision_levels' decoder blocks\n",
    "        if (total_decoder_blocks - i) <= deep_supervision_levels:\n",
    "            intermediate_output = Conv2D(num_classes, (1,1), activation='softmax', name=f'output_{i}')(x)\n",
    "            intermediate_outputs.append(intermediate_output)\n",
    "    \n",
    "    # Final Output\n",
    "    final_output = Conv2D(num_classes, (1, 1), activation='softmax', name='final_output')(x)\n",
    "    \n",
    "    # Combine all outputs\n",
    "    outputs = intermediate_outputs + [final_output]\n",
    "    \n",
    "    model = Model(inputs, outputs)\n",
    "    return model\n",
    "\n",
    "# Instantiate the Custom U-Net Model with Deep Supervision\n",
    "def efficientunet_custom(input_shape=(64, 128, 1), num_classes=5, skip_connection_type='gated', deep_supervision_levels=3):\n",
    "    model = CustomUNet(input_shape=input_shape, \n",
    "                      num_classes=num_classes, \n",
    "                      skip_connection_type=skip_connection_type,\n",
    "                      deep_supervision_levels=deep_supervision_levels)\n",
    "    return model\n",
    "\n",
    "# Configuration\n",
    "SKIP_CONNECTION_TYPE = 'gated'  # Options: 'concat', 'add', 'gated', 'fusion'\n",
    "\n",
    "# Instantiate the model\n",
    "model = efficientunet_custom(input_shape=(64,128,1),\n",
    "                             num_classes=5, \n",
    "                             skip_connection_type=SKIP_CONNECTION_TYPE,\n",
    "                             deep_supervision_levels=3)\n",
    "\n",
    "\n",
    "num_params = model.count_params()\n",
    "trainable_params = sum([tf.reduce_prod(var.shape).numpy() for var in model.trainable_variables])\n",
    "non_trainable_params = sum([tf.reduce_prod(var.shape).numpy() for var in model.non_trainable_variables])\n",
    "print(f\"Total number of parameters: {num_params}\")\n",
    "print(f\"Trainable parameters: {trainable_params}\")\n",
    "print(f\"Non-trainable parameters: {non_trainable_params}\")"
   ]
  },
  {
   "cell_type": "code",
   "execution_count": 11,
   "id": "175f6399",
   "metadata": {
    "execution": {
     "iopub.execute_input": "2024-12-14T16:29:36.558566Z",
     "iopub.status.busy": "2024-12-14T16:29:36.558201Z",
     "iopub.status.idle": "2024-12-14T16:29:36.656966Z",
     "shell.execute_reply": "2024-12-14T16:29:36.656173Z"
    },
    "papermill": {
     "duration": 0.114272,
     "end_time": "2024-12-14T16:29:36.661101",
     "exception": false,
     "start_time": "2024-12-14T16:29:36.546829",
     "status": "completed"
    },
    "tags": []
   },
   "outputs": [
    {
     "data": {
      "text/html": [
       "<pre style=\"white-space:pre;overflow-x:auto;line-height:normal;font-family:Menlo,'DejaVu Sans Mono',consolas,'Courier New',monospace\"><span style=\"font-weight: bold\">Model: \"functional_1\"</span>\n",
       "</pre>\n"
      ],
      "text/plain": [
       "\u001b[1mModel: \"functional_1\"\u001b[0m\n"
      ]
     },
     "metadata": {},
     "output_type": "display_data"
    },
    {
     "data": {
      "text/html": [
       "<pre style=\"white-space:pre;overflow-x:auto;line-height:normal;font-family:Menlo,'DejaVu Sans Mono',consolas,'Courier New',monospace\">┏━━━━━━━━━━━━━━━━━━━━━┳━━━━━━━━━━━━━━━━━━━┳━━━━━━━━━━━━┳━━━━━━━━━━━━━━━━━━━┓\n",
       "┃<span style=\"font-weight: bold\"> Layer (type)        </span>┃<span style=\"font-weight: bold\"> Output Shape      </span>┃<span style=\"font-weight: bold\">    Param # </span>┃<span style=\"font-weight: bold\"> Connected to      </span>┃\n",
       "┡━━━━━━━━━━━━━━━━━━━━━╇━━━━━━━━━━━━━━━━━━━╇━━━━━━━━━━━━╇━━━━━━━━━━━━━━━━━━━┩\n",
       "│ input_layer         │ (<span style=\"color: #00d7ff; text-decoration-color: #00d7ff\">None</span>, <span style=\"color: #00af00; text-decoration-color: #00af00\">64</span>, <span style=\"color: #00af00; text-decoration-color: #00af00\">128</span>,   │          <span style=\"color: #00af00; text-decoration-color: #00af00\">0</span> │ -                 │\n",
       "│ (<span style=\"color: #0087ff; text-decoration-color: #0087ff\">InputLayer</span>)        │ <span style=\"color: #00af00; text-decoration-color: #00af00\">1</span>)                │            │                   │\n",
       "├─────────────────────┼───────────────────┼────────────┼───────────────────┤\n",
       "│ conv2d (<span style=\"color: #0087ff; text-decoration-color: #0087ff\">Conv2D</span>)     │ (<span style=\"color: #00d7ff; text-decoration-color: #00d7ff\">None</span>, <span style=\"color: #00af00; text-decoration-color: #00af00\">64</span>, <span style=\"color: #00af00; text-decoration-color: #00af00\">128</span>,   │        <span style=\"color: #00af00; text-decoration-color: #00af00\">640</span> │ input_layer[<span style=\"color: #00af00; text-decoration-color: #00af00\">0</span>][<span style=\"color: #00af00; text-decoration-color: #00af00\">0</span>] │\n",
       "│                     │ <span style=\"color: #00af00; text-decoration-color: #00af00\">64</span>)               │            │                   │\n",
       "├─────────────────────┼───────────────────┼────────────┼───────────────────┤\n",
       "│ batch_normalization │ (<span style=\"color: #00d7ff; text-decoration-color: #00d7ff\">None</span>, <span style=\"color: #00af00; text-decoration-color: #00af00\">64</span>, <span style=\"color: #00af00; text-decoration-color: #00af00\">128</span>,   │        <span style=\"color: #00af00; text-decoration-color: #00af00\">256</span> │ conv2d[<span style=\"color: #00af00; text-decoration-color: #00af00\">0</span>][<span style=\"color: #00af00; text-decoration-color: #00af00\">0</span>]      │\n",
       "│ (<span style=\"color: #0087ff; text-decoration-color: #0087ff\">BatchNormalizatio…</span> │ <span style=\"color: #00af00; text-decoration-color: #00af00\">64</span>)               │            │                   │\n",
       "├─────────────────────┼───────────────────┼────────────┼───────────────────┤\n",
       "│ activation          │ (<span style=\"color: #00d7ff; text-decoration-color: #00d7ff\">None</span>, <span style=\"color: #00af00; text-decoration-color: #00af00\">64</span>, <span style=\"color: #00af00; text-decoration-color: #00af00\">128</span>,   │          <span style=\"color: #00af00; text-decoration-color: #00af00\">0</span> │ batch_normalizat… │\n",
       "│ (<span style=\"color: #0087ff; text-decoration-color: #0087ff\">Activation</span>)        │ <span style=\"color: #00af00; text-decoration-color: #00af00\">64</span>)               │            │                   │\n",
       "├─────────────────────┼───────────────────┼────────────┼───────────────────┤\n",
       "│ conv2d_1 (<span style=\"color: #0087ff; text-decoration-color: #0087ff\">Conv2D</span>)   │ (<span style=\"color: #00d7ff; text-decoration-color: #00d7ff\">None</span>, <span style=\"color: #00af00; text-decoration-color: #00af00\">64</span>, <span style=\"color: #00af00; text-decoration-color: #00af00\">128</span>,   │     <span style=\"color: #00af00; text-decoration-color: #00af00\">36,928</span> │ activation[<span style=\"color: #00af00; text-decoration-color: #00af00\">0</span>][<span style=\"color: #00af00; text-decoration-color: #00af00\">0</span>]  │\n",
       "│                     │ <span style=\"color: #00af00; text-decoration-color: #00af00\">64</span>)               │            │                   │\n",
       "├─────────────────────┼───────────────────┼────────────┼───────────────────┤\n",
       "│ batch_normalizatio… │ (<span style=\"color: #00d7ff; text-decoration-color: #00d7ff\">None</span>, <span style=\"color: #00af00; text-decoration-color: #00af00\">64</span>, <span style=\"color: #00af00; text-decoration-color: #00af00\">128</span>,   │        <span style=\"color: #00af00; text-decoration-color: #00af00\">256</span> │ conv2d_1[<span style=\"color: #00af00; text-decoration-color: #00af00\">0</span>][<span style=\"color: #00af00; text-decoration-color: #00af00\">0</span>]    │\n",
       "│ (<span style=\"color: #0087ff; text-decoration-color: #0087ff\">BatchNormalizatio…</span> │ <span style=\"color: #00af00; text-decoration-color: #00af00\">64</span>)               │            │                   │\n",
       "├─────────────────────┼───────────────────┼────────────┼───────────────────┤\n",
       "│ activation_1        │ (<span style=\"color: #00d7ff; text-decoration-color: #00d7ff\">None</span>, <span style=\"color: #00af00; text-decoration-color: #00af00\">64</span>, <span style=\"color: #00af00; text-decoration-color: #00af00\">128</span>,   │          <span style=\"color: #00af00; text-decoration-color: #00af00\">0</span> │ batch_normalizat… │\n",
       "│ (<span style=\"color: #0087ff; text-decoration-color: #0087ff\">Activation</span>)        │ <span style=\"color: #00af00; text-decoration-color: #00af00\">64</span>)               │            │                   │\n",
       "├─────────────────────┼───────────────────┼────────────┼───────────────────┤\n",
       "│ max_pooling2d       │ (<span style=\"color: #00d7ff; text-decoration-color: #00d7ff\">None</span>, <span style=\"color: #00af00; text-decoration-color: #00af00\">32</span>, <span style=\"color: #00af00; text-decoration-color: #00af00\">64</span>,    │          <span style=\"color: #00af00; text-decoration-color: #00af00\">0</span> │ activation_1[<span style=\"color: #00af00; text-decoration-color: #00af00\">0</span>][<span style=\"color: #00af00; text-decoration-color: #00af00\">…</span> │\n",
       "│ (<span style=\"color: #0087ff; text-decoration-color: #0087ff\">MaxPooling2D</span>)      │ <span style=\"color: #00af00; text-decoration-color: #00af00\">64</span>)               │            │                   │\n",
       "├─────────────────────┼───────────────────┼────────────┼───────────────────┤\n",
       "│ conv2d_2 (<span style=\"color: #0087ff; text-decoration-color: #0087ff\">Conv2D</span>)   │ (<span style=\"color: #00d7ff; text-decoration-color: #00d7ff\">None</span>, <span style=\"color: #00af00; text-decoration-color: #00af00\">32</span>, <span style=\"color: #00af00; text-decoration-color: #00af00\">64</span>,    │     <span style=\"color: #00af00; text-decoration-color: #00af00\">73,856</span> │ max_pooling2d[<span style=\"color: #00af00; text-decoration-color: #00af00\">0</span>]… │\n",
       "│                     │ <span style=\"color: #00af00; text-decoration-color: #00af00\">128</span>)              │            │                   │\n",
       "├─────────────────────┼───────────────────┼────────────┼───────────────────┤\n",
       "│ batch_normalizatio… │ (<span style=\"color: #00d7ff; text-decoration-color: #00d7ff\">None</span>, <span style=\"color: #00af00; text-decoration-color: #00af00\">32</span>, <span style=\"color: #00af00; text-decoration-color: #00af00\">64</span>,    │        <span style=\"color: #00af00; text-decoration-color: #00af00\">512</span> │ conv2d_2[<span style=\"color: #00af00; text-decoration-color: #00af00\">0</span>][<span style=\"color: #00af00; text-decoration-color: #00af00\">0</span>]    │\n",
       "│ (<span style=\"color: #0087ff; text-decoration-color: #0087ff\">BatchNormalizatio…</span> │ <span style=\"color: #00af00; text-decoration-color: #00af00\">128</span>)              │            │                   │\n",
       "├─────────────────────┼───────────────────┼────────────┼───────────────────┤\n",
       "│ activation_2        │ (<span style=\"color: #00d7ff; text-decoration-color: #00d7ff\">None</span>, <span style=\"color: #00af00; text-decoration-color: #00af00\">32</span>, <span style=\"color: #00af00; text-decoration-color: #00af00\">64</span>,    │          <span style=\"color: #00af00; text-decoration-color: #00af00\">0</span> │ batch_normalizat… │\n",
       "│ (<span style=\"color: #0087ff; text-decoration-color: #0087ff\">Activation</span>)        │ <span style=\"color: #00af00; text-decoration-color: #00af00\">128</span>)              │            │                   │\n",
       "├─────────────────────┼───────────────────┼────────────┼───────────────────┤\n",
       "│ conv2d_3 (<span style=\"color: #0087ff; text-decoration-color: #0087ff\">Conv2D</span>)   │ (<span style=\"color: #00d7ff; text-decoration-color: #00d7ff\">None</span>, <span style=\"color: #00af00; text-decoration-color: #00af00\">32</span>, <span style=\"color: #00af00; text-decoration-color: #00af00\">64</span>,    │    <span style=\"color: #00af00; text-decoration-color: #00af00\">147,584</span> │ activation_2[<span style=\"color: #00af00; text-decoration-color: #00af00\">0</span>][<span style=\"color: #00af00; text-decoration-color: #00af00\">…</span> │\n",
       "│                     │ <span style=\"color: #00af00; text-decoration-color: #00af00\">128</span>)              │            │                   │\n",
       "├─────────────────────┼───────────────────┼────────────┼───────────────────┤\n",
       "│ batch_normalizatio… │ (<span style=\"color: #00d7ff; text-decoration-color: #00d7ff\">None</span>, <span style=\"color: #00af00; text-decoration-color: #00af00\">32</span>, <span style=\"color: #00af00; text-decoration-color: #00af00\">64</span>,    │        <span style=\"color: #00af00; text-decoration-color: #00af00\">512</span> │ conv2d_3[<span style=\"color: #00af00; text-decoration-color: #00af00\">0</span>][<span style=\"color: #00af00; text-decoration-color: #00af00\">0</span>]    │\n",
       "│ (<span style=\"color: #0087ff; text-decoration-color: #0087ff\">BatchNormalizatio…</span> │ <span style=\"color: #00af00; text-decoration-color: #00af00\">128</span>)              │            │                   │\n",
       "├─────────────────────┼───────────────────┼────────────┼───────────────────┤\n",
       "│ activation_3        │ (<span style=\"color: #00d7ff; text-decoration-color: #00d7ff\">None</span>, <span style=\"color: #00af00; text-decoration-color: #00af00\">32</span>, <span style=\"color: #00af00; text-decoration-color: #00af00\">64</span>,    │          <span style=\"color: #00af00; text-decoration-color: #00af00\">0</span> │ batch_normalizat… │\n",
       "│ (<span style=\"color: #0087ff; text-decoration-color: #0087ff\">Activation</span>)        │ <span style=\"color: #00af00; text-decoration-color: #00af00\">128</span>)              │            │                   │\n",
       "├─────────────────────┼───────────────────┼────────────┼───────────────────┤\n",
       "│ max_pooling2d_1     │ (<span style=\"color: #00d7ff; text-decoration-color: #00d7ff\">None</span>, <span style=\"color: #00af00; text-decoration-color: #00af00\">16</span>, <span style=\"color: #00af00; text-decoration-color: #00af00\">32</span>,    │          <span style=\"color: #00af00; text-decoration-color: #00af00\">0</span> │ activation_3[<span style=\"color: #00af00; text-decoration-color: #00af00\">0</span>][<span style=\"color: #00af00; text-decoration-color: #00af00\">…</span> │\n",
       "│ (<span style=\"color: #0087ff; text-decoration-color: #0087ff\">MaxPooling2D</span>)      │ <span style=\"color: #00af00; text-decoration-color: #00af00\">128</span>)              │            │                   │\n",
       "├─────────────────────┼───────────────────┼────────────┼───────────────────┤\n",
       "│ conv2d_4 (<span style=\"color: #0087ff; text-decoration-color: #0087ff\">Conv2D</span>)   │ (<span style=\"color: #00d7ff; text-decoration-color: #00d7ff\">None</span>, <span style=\"color: #00af00; text-decoration-color: #00af00\">16</span>, <span style=\"color: #00af00; text-decoration-color: #00af00\">32</span>,    │    <span style=\"color: #00af00; text-decoration-color: #00af00\">295,168</span> │ max_pooling2d_1[<span style=\"color: #00af00; text-decoration-color: #00af00\">…</span> │\n",
       "│                     │ <span style=\"color: #00af00; text-decoration-color: #00af00\">256</span>)              │            │                   │\n",
       "├─────────────────────┼───────────────────┼────────────┼───────────────────┤\n",
       "│ batch_normalizatio… │ (<span style=\"color: #00d7ff; text-decoration-color: #00d7ff\">None</span>, <span style=\"color: #00af00; text-decoration-color: #00af00\">16</span>, <span style=\"color: #00af00; text-decoration-color: #00af00\">32</span>,    │      <span style=\"color: #00af00; text-decoration-color: #00af00\">1,024</span> │ conv2d_4[<span style=\"color: #00af00; text-decoration-color: #00af00\">0</span>][<span style=\"color: #00af00; text-decoration-color: #00af00\">0</span>]    │\n",
       "│ (<span style=\"color: #0087ff; text-decoration-color: #0087ff\">BatchNormalizatio…</span> │ <span style=\"color: #00af00; text-decoration-color: #00af00\">256</span>)              │            │                   │\n",
       "├─────────────────────┼───────────────────┼────────────┼───────────────────┤\n",
       "│ activation_4        │ (<span style=\"color: #00d7ff; text-decoration-color: #00d7ff\">None</span>, <span style=\"color: #00af00; text-decoration-color: #00af00\">16</span>, <span style=\"color: #00af00; text-decoration-color: #00af00\">32</span>,    │          <span style=\"color: #00af00; text-decoration-color: #00af00\">0</span> │ batch_normalizat… │\n",
       "│ (<span style=\"color: #0087ff; text-decoration-color: #0087ff\">Activation</span>)        │ <span style=\"color: #00af00; text-decoration-color: #00af00\">256</span>)              │            │                   │\n",
       "├─────────────────────┼───────────────────┼────────────┼───────────────────┤\n",
       "│ conv2d_5 (<span style=\"color: #0087ff; text-decoration-color: #0087ff\">Conv2D</span>)   │ (<span style=\"color: #00d7ff; text-decoration-color: #00d7ff\">None</span>, <span style=\"color: #00af00; text-decoration-color: #00af00\">16</span>, <span style=\"color: #00af00; text-decoration-color: #00af00\">32</span>,    │    <span style=\"color: #00af00; text-decoration-color: #00af00\">590,080</span> │ activation_4[<span style=\"color: #00af00; text-decoration-color: #00af00\">0</span>][<span style=\"color: #00af00; text-decoration-color: #00af00\">…</span> │\n",
       "│                     │ <span style=\"color: #00af00; text-decoration-color: #00af00\">256</span>)              │            │                   │\n",
       "├─────────────────────┼───────────────────┼────────────┼───────────────────┤\n",
       "│ batch_normalizatio… │ (<span style=\"color: #00d7ff; text-decoration-color: #00d7ff\">None</span>, <span style=\"color: #00af00; text-decoration-color: #00af00\">16</span>, <span style=\"color: #00af00; text-decoration-color: #00af00\">32</span>,    │      <span style=\"color: #00af00; text-decoration-color: #00af00\">1,024</span> │ conv2d_5[<span style=\"color: #00af00; text-decoration-color: #00af00\">0</span>][<span style=\"color: #00af00; text-decoration-color: #00af00\">0</span>]    │\n",
       "│ (<span style=\"color: #0087ff; text-decoration-color: #0087ff\">BatchNormalizatio…</span> │ <span style=\"color: #00af00; text-decoration-color: #00af00\">256</span>)              │            │                   │\n",
       "├─────────────────────┼───────────────────┼────────────┼───────────────────┤\n",
       "│ activation_5        │ (<span style=\"color: #00d7ff; text-decoration-color: #00d7ff\">None</span>, <span style=\"color: #00af00; text-decoration-color: #00af00\">16</span>, <span style=\"color: #00af00; text-decoration-color: #00af00\">32</span>,    │          <span style=\"color: #00af00; text-decoration-color: #00af00\">0</span> │ batch_normalizat… │\n",
       "│ (<span style=\"color: #0087ff; text-decoration-color: #0087ff\">Activation</span>)        │ <span style=\"color: #00af00; text-decoration-color: #00af00\">256</span>)              │            │                   │\n",
       "├─────────────────────┼───────────────────┼────────────┼───────────────────┤\n",
       "│ max_pooling2d_2     │ (<span style=\"color: #00d7ff; text-decoration-color: #00d7ff\">None</span>, <span style=\"color: #00af00; text-decoration-color: #00af00\">8</span>, <span style=\"color: #00af00; text-decoration-color: #00af00\">16</span>,     │          <span style=\"color: #00af00; text-decoration-color: #00af00\">0</span> │ activation_5[<span style=\"color: #00af00; text-decoration-color: #00af00\">0</span>][<span style=\"color: #00af00; text-decoration-color: #00af00\">…</span> │\n",
       "│ (<span style=\"color: #0087ff; text-decoration-color: #0087ff\">MaxPooling2D</span>)      │ <span style=\"color: #00af00; text-decoration-color: #00af00\">256</span>)              │            │                   │\n",
       "├─────────────────────┼───────────────────┼────────────┼───────────────────┤\n",
       "│ conv2d_6 (<span style=\"color: #0087ff; text-decoration-color: #0087ff\">Conv2D</span>)   │ (<span style=\"color: #00d7ff; text-decoration-color: #00d7ff\">None</span>, <span style=\"color: #00af00; text-decoration-color: #00af00\">8</span>, <span style=\"color: #00af00; text-decoration-color: #00af00\">16</span>,     │  <span style=\"color: #00af00; text-decoration-color: #00af00\">1,180,160</span> │ max_pooling2d_2[<span style=\"color: #00af00; text-decoration-color: #00af00\">…</span> │\n",
       "│                     │ <span style=\"color: #00af00; text-decoration-color: #00af00\">512</span>)              │            │                   │\n",
       "├─────────────────────┼───────────────────┼────────────┼───────────────────┤\n",
       "│ batch_normalizatio… │ (<span style=\"color: #00d7ff; text-decoration-color: #00d7ff\">None</span>, <span style=\"color: #00af00; text-decoration-color: #00af00\">8</span>, <span style=\"color: #00af00; text-decoration-color: #00af00\">16</span>,     │      <span style=\"color: #00af00; text-decoration-color: #00af00\">2,048</span> │ conv2d_6[<span style=\"color: #00af00; text-decoration-color: #00af00\">0</span>][<span style=\"color: #00af00; text-decoration-color: #00af00\">0</span>]    │\n",
       "│ (<span style=\"color: #0087ff; text-decoration-color: #0087ff\">BatchNormalizatio…</span> │ <span style=\"color: #00af00; text-decoration-color: #00af00\">512</span>)              │            │                   │\n",
       "├─────────────────────┼───────────────────┼────────────┼───────────────────┤\n",
       "│ activation_6        │ (<span style=\"color: #00d7ff; text-decoration-color: #00d7ff\">None</span>, <span style=\"color: #00af00; text-decoration-color: #00af00\">8</span>, <span style=\"color: #00af00; text-decoration-color: #00af00\">16</span>,     │          <span style=\"color: #00af00; text-decoration-color: #00af00\">0</span> │ batch_normalizat… │\n",
       "│ (<span style=\"color: #0087ff; text-decoration-color: #0087ff\">Activation</span>)        │ <span style=\"color: #00af00; text-decoration-color: #00af00\">512</span>)              │            │                   │\n",
       "├─────────────────────┼───────────────────┼────────────┼───────────────────┤\n",
       "│ conv2d_7 (<span style=\"color: #0087ff; text-decoration-color: #0087ff\">Conv2D</span>)   │ (<span style=\"color: #00d7ff; text-decoration-color: #00d7ff\">None</span>, <span style=\"color: #00af00; text-decoration-color: #00af00\">8</span>, <span style=\"color: #00af00; text-decoration-color: #00af00\">16</span>,     │  <span style=\"color: #00af00; text-decoration-color: #00af00\">2,359,808</span> │ activation_6[<span style=\"color: #00af00; text-decoration-color: #00af00\">0</span>][<span style=\"color: #00af00; text-decoration-color: #00af00\">…</span> │\n",
       "│                     │ <span style=\"color: #00af00; text-decoration-color: #00af00\">512</span>)              │            │                   │\n",
       "├─────────────────────┼───────────────────┼────────────┼───────────────────┤\n",
       "│ batch_normalizatio… │ (<span style=\"color: #00d7ff; text-decoration-color: #00d7ff\">None</span>, <span style=\"color: #00af00; text-decoration-color: #00af00\">8</span>, <span style=\"color: #00af00; text-decoration-color: #00af00\">16</span>,     │      <span style=\"color: #00af00; text-decoration-color: #00af00\">2,048</span> │ conv2d_7[<span style=\"color: #00af00; text-decoration-color: #00af00\">0</span>][<span style=\"color: #00af00; text-decoration-color: #00af00\">0</span>]    │\n",
       "│ (<span style=\"color: #0087ff; text-decoration-color: #0087ff\">BatchNormalizatio…</span> │ <span style=\"color: #00af00; text-decoration-color: #00af00\">512</span>)              │            │                   │\n",
       "├─────────────────────┼───────────────────┼────────────┼───────────────────┤\n",
       "│ activation_7        │ (<span style=\"color: #00d7ff; text-decoration-color: #00d7ff\">None</span>, <span style=\"color: #00af00; text-decoration-color: #00af00\">8</span>, <span style=\"color: #00af00; text-decoration-color: #00af00\">16</span>,     │          <span style=\"color: #00af00; text-decoration-color: #00af00\">0</span> │ batch_normalizat… │\n",
       "│ (<span style=\"color: #0087ff; text-decoration-color: #0087ff\">Activation</span>)        │ <span style=\"color: #00af00; text-decoration-color: #00af00\">512</span>)              │            │                   │\n",
       "├─────────────────────┼───────────────────┼────────────┼───────────────────┤\n",
       "│ max_pooling2d_3     │ (<span style=\"color: #00d7ff; text-decoration-color: #00d7ff\">None</span>, <span style=\"color: #00af00; text-decoration-color: #00af00\">4</span>, <span style=\"color: #00af00; text-decoration-color: #00af00\">8</span>, <span style=\"color: #00af00; text-decoration-color: #00af00\">512</span>) │          <span style=\"color: #00af00; text-decoration-color: #00af00\">0</span> │ activation_7[<span style=\"color: #00af00; text-decoration-color: #00af00\">0</span>][<span style=\"color: #00af00; text-decoration-color: #00af00\">…</span> │\n",
       "│ (<span style=\"color: #0087ff; text-decoration-color: #0087ff\">MaxPooling2D</span>)      │                   │            │                   │\n",
       "├─────────────────────┼───────────────────┼────────────┼───────────────────┤\n",
       "│ conv2d_8 (<span style=\"color: #0087ff; text-decoration-color: #0087ff\">Conv2D</span>)   │ (<span style=\"color: #00d7ff; text-decoration-color: #00d7ff\">None</span>, <span style=\"color: #00af00; text-decoration-color: #00af00\">4</span>, <span style=\"color: #00af00; text-decoration-color: #00af00\">8</span>,      │  <span style=\"color: #00af00; text-decoration-color: #00af00\">4,719,616</span> │ max_pooling2d_3[<span style=\"color: #00af00; text-decoration-color: #00af00\">…</span> │\n",
       "│                     │ <span style=\"color: #00af00; text-decoration-color: #00af00\">1024</span>)             │            │                   │\n",
       "├─────────────────────┼───────────────────┼────────────┼───────────────────┤\n",
       "│ batch_normalizatio… │ (<span style=\"color: #00d7ff; text-decoration-color: #00d7ff\">None</span>, <span style=\"color: #00af00; text-decoration-color: #00af00\">4</span>, <span style=\"color: #00af00; text-decoration-color: #00af00\">8</span>,      │      <span style=\"color: #00af00; text-decoration-color: #00af00\">4,096</span> │ conv2d_8[<span style=\"color: #00af00; text-decoration-color: #00af00\">0</span>][<span style=\"color: #00af00; text-decoration-color: #00af00\">0</span>]    │\n",
       "│ (<span style=\"color: #0087ff; text-decoration-color: #0087ff\">BatchNormalizatio…</span> │ <span style=\"color: #00af00; text-decoration-color: #00af00\">1024</span>)             │            │                   │\n",
       "├─────────────────────┼───────────────────┼────────────┼───────────────────┤\n",
       "│ activation_8        │ (<span style=\"color: #00d7ff; text-decoration-color: #00d7ff\">None</span>, <span style=\"color: #00af00; text-decoration-color: #00af00\">4</span>, <span style=\"color: #00af00; text-decoration-color: #00af00\">8</span>,      │          <span style=\"color: #00af00; text-decoration-color: #00af00\">0</span> │ batch_normalizat… │\n",
       "│ (<span style=\"color: #0087ff; text-decoration-color: #0087ff\">Activation</span>)        │ <span style=\"color: #00af00; text-decoration-color: #00af00\">1024</span>)             │            │                   │\n",
       "├─────────────────────┼───────────────────┼────────────┼───────────────────┤\n",
       "│ conv2d_9 (<span style=\"color: #0087ff; text-decoration-color: #0087ff\">Conv2D</span>)   │ (<span style=\"color: #00d7ff; text-decoration-color: #00d7ff\">None</span>, <span style=\"color: #00af00; text-decoration-color: #00af00\">4</span>, <span style=\"color: #00af00; text-decoration-color: #00af00\">8</span>,      │  <span style=\"color: #00af00; text-decoration-color: #00af00\">9,438,208</span> │ activation_8[<span style=\"color: #00af00; text-decoration-color: #00af00\">0</span>][<span style=\"color: #00af00; text-decoration-color: #00af00\">…</span> │\n",
       "│                     │ <span style=\"color: #00af00; text-decoration-color: #00af00\">1024</span>)             │            │                   │\n",
       "├─────────────────────┼───────────────────┼────────────┼───────────────────┤\n",
       "│ batch_normalizatio… │ (<span style=\"color: #00d7ff; text-decoration-color: #00d7ff\">None</span>, <span style=\"color: #00af00; text-decoration-color: #00af00\">4</span>, <span style=\"color: #00af00; text-decoration-color: #00af00\">8</span>,      │      <span style=\"color: #00af00; text-decoration-color: #00af00\">4,096</span> │ conv2d_9[<span style=\"color: #00af00; text-decoration-color: #00af00\">0</span>][<span style=\"color: #00af00; text-decoration-color: #00af00\">0</span>]    │\n",
       "│ (<span style=\"color: #0087ff; text-decoration-color: #0087ff\">BatchNormalizatio…</span> │ <span style=\"color: #00af00; text-decoration-color: #00af00\">1024</span>)             │            │                   │\n",
       "├─────────────────────┼───────────────────┼────────────┼───────────────────┤\n",
       "│ activation_9        │ (<span style=\"color: #00d7ff; text-decoration-color: #00d7ff\">None</span>, <span style=\"color: #00af00; text-decoration-color: #00af00\">4</span>, <span style=\"color: #00af00; text-decoration-color: #00af00\">8</span>,      │          <span style=\"color: #00af00; text-decoration-color: #00af00\">0</span> │ batch_normalizat… │\n",
       "│ (<span style=\"color: #0087ff; text-decoration-color: #0087ff\">Activation</span>)        │ <span style=\"color: #00af00; text-decoration-color: #00af00\">1024</span>)             │            │                   │\n",
       "├─────────────────────┼───────────────────┼────────────┼───────────────────┤\n",
       "│ conv2d_10 (<span style=\"color: #0087ff; text-decoration-color: #0087ff\">Conv2D</span>)  │ (<span style=\"color: #00d7ff; text-decoration-color: #00d7ff\">None</span>, <span style=\"color: #00af00; text-decoration-color: #00af00\">8</span>, <span style=\"color: #00af00; text-decoration-color: #00af00\">16</span>, <span style=\"color: #00af00; text-decoration-color: #00af00\">1</span>)  │        <span style=\"color: #00af00; text-decoration-color: #00af00\">513</span> │ activation_7[<span style=\"color: #00af00; text-decoration-color: #00af00\">0</span>][<span style=\"color: #00af00; text-decoration-color: #00af00\">…</span> │\n",
       "├─────────────────────┼───────────────────┼────────────┼───────────────────┤\n",
       "│ conv2d_transpose    │ (<span style=\"color: #00d7ff; text-decoration-color: #00d7ff\">None</span>, <span style=\"color: #00af00; text-decoration-color: #00af00\">8</span>, <span style=\"color: #00af00; text-decoration-color: #00af00\">16</span>,     │  <span style=\"color: #00af00; text-decoration-color: #00af00\">2,097,664</span> │ activation_9[<span style=\"color: #00af00; text-decoration-color: #00af00\">0</span>][<span style=\"color: #00af00; text-decoration-color: #00af00\">…</span> │\n",
       "│ (<span style=\"color: #0087ff; text-decoration-color: #0087ff\">Conv2DTranspose</span>)   │ <span style=\"color: #00af00; text-decoration-color: #00af00\">512</span>)              │            │                   │\n",
       "├─────────────────────┼───────────────────┼────────────┼───────────────────┤\n",
       "│ multiply (<span style=\"color: #0087ff; text-decoration-color: #0087ff\">Multiply</span>) │ (<span style=\"color: #00d7ff; text-decoration-color: #00d7ff\">None</span>, <span style=\"color: #00af00; text-decoration-color: #00af00\">8</span>, <span style=\"color: #00af00; text-decoration-color: #00af00\">16</span>,     │          <span style=\"color: #00af00; text-decoration-color: #00af00\">0</span> │ conv2d_10[<span style=\"color: #00af00; text-decoration-color: #00af00\">0</span>][<span style=\"color: #00af00; text-decoration-color: #00af00\">0</span>],  │\n",
       "│                     │ <span style=\"color: #00af00; text-decoration-color: #00af00\">512</span>)              │            │ activation_7[<span style=\"color: #00af00; text-decoration-color: #00af00\">0</span>][<span style=\"color: #00af00; text-decoration-color: #00af00\">…</span> │\n",
       "├─────────────────────┼───────────────────┼────────────┼───────────────────┤\n",
       "│ conv2d_11 (<span style=\"color: #0087ff; text-decoration-color: #0087ff\">Conv2D</span>)  │ (<span style=\"color: #00d7ff; text-decoration-color: #00d7ff\">None</span>, <span style=\"color: #00af00; text-decoration-color: #00af00\">8</span>, <span style=\"color: #00af00; text-decoration-color: #00af00\">16</span>,     │    <span style=\"color: #00af00; text-decoration-color: #00af00\">262,656</span> │ conv2d_transpose… │\n",
       "│                     │ <span style=\"color: #00af00; text-decoration-color: #00af00\">512</span>)              │            │                   │\n",
       "├─────────────────────┼───────────────────┼────────────┼───────────────────┤\n",
       "│ concatenate         │ (<span style=\"color: #00d7ff; text-decoration-color: #00d7ff\">None</span>, <span style=\"color: #00af00; text-decoration-color: #00af00\">8</span>, <span style=\"color: #00af00; text-decoration-color: #00af00\">16</span>,     │          <span style=\"color: #00af00; text-decoration-color: #00af00\">0</span> │ multiply[<span style=\"color: #00af00; text-decoration-color: #00af00\">0</span>][<span style=\"color: #00af00; text-decoration-color: #00af00\">0</span>],   │\n",
       "│ (<span style=\"color: #0087ff; text-decoration-color: #0087ff\">Concatenate</span>)       │ <span style=\"color: #00af00; text-decoration-color: #00af00\">1024</span>)             │            │ conv2d_11[<span style=\"color: #00af00; text-decoration-color: #00af00\">0</span>][<span style=\"color: #00af00; text-decoration-color: #00af00\">0</span>]   │\n",
       "├─────────────────────┼───────────────────┼────────────┼───────────────────┤\n",
       "│ conv2d_12 (<span style=\"color: #0087ff; text-decoration-color: #0087ff\">Conv2D</span>)  │ (<span style=\"color: #00d7ff; text-decoration-color: #00d7ff\">None</span>, <span style=\"color: #00af00; text-decoration-color: #00af00\">8</span>, <span style=\"color: #00af00; text-decoration-color: #00af00\">16</span>,     │  <span style=\"color: #00af00; text-decoration-color: #00af00\">4,719,104</span> │ concatenate[<span style=\"color: #00af00; text-decoration-color: #00af00\">0</span>][<span style=\"color: #00af00; text-decoration-color: #00af00\">0</span>] │\n",
       "│                     │ <span style=\"color: #00af00; text-decoration-color: #00af00\">512</span>)              │            │                   │\n",
       "├─────────────────────┼───────────────────┼────────────┼───────────────────┤\n",
       "│ batch_normalizatio… │ (<span style=\"color: #00d7ff; text-decoration-color: #00d7ff\">None</span>, <span style=\"color: #00af00; text-decoration-color: #00af00\">8</span>, <span style=\"color: #00af00; text-decoration-color: #00af00\">16</span>,     │      <span style=\"color: #00af00; text-decoration-color: #00af00\">2,048</span> │ conv2d_12[<span style=\"color: #00af00; text-decoration-color: #00af00\">0</span>][<span style=\"color: #00af00; text-decoration-color: #00af00\">0</span>]   │\n",
       "│ (<span style=\"color: #0087ff; text-decoration-color: #0087ff\">BatchNormalizatio…</span> │ <span style=\"color: #00af00; text-decoration-color: #00af00\">512</span>)              │            │                   │\n",
       "├─────────────────────┼───────────────────┼────────────┼───────────────────┤\n",
       "│ activation_10       │ (<span style=\"color: #00d7ff; text-decoration-color: #00d7ff\">None</span>, <span style=\"color: #00af00; text-decoration-color: #00af00\">8</span>, <span style=\"color: #00af00; text-decoration-color: #00af00\">16</span>,     │          <span style=\"color: #00af00; text-decoration-color: #00af00\">0</span> │ batch_normalizat… │\n",
       "│ (<span style=\"color: #0087ff; text-decoration-color: #0087ff\">Activation</span>)        │ <span style=\"color: #00af00; text-decoration-color: #00af00\">512</span>)              │            │                   │\n",
       "├─────────────────────┼───────────────────┼────────────┼───────────────────┤\n",
       "│ conv2d_13 (<span style=\"color: #0087ff; text-decoration-color: #0087ff\">Conv2D</span>)  │ (<span style=\"color: #00d7ff; text-decoration-color: #00d7ff\">None</span>, <span style=\"color: #00af00; text-decoration-color: #00af00\">8</span>, <span style=\"color: #00af00; text-decoration-color: #00af00\">16</span>,     │  <span style=\"color: #00af00; text-decoration-color: #00af00\">2,359,808</span> │ activation_10[<span style=\"color: #00af00; text-decoration-color: #00af00\">0</span>]… │\n",
       "│                     │ <span style=\"color: #00af00; text-decoration-color: #00af00\">512</span>)              │            │                   │\n",
       "├─────────────────────┼───────────────────┼────────────┼───────────────────┤\n",
       "│ batch_normalizatio… │ (<span style=\"color: #00d7ff; text-decoration-color: #00d7ff\">None</span>, <span style=\"color: #00af00; text-decoration-color: #00af00\">8</span>, <span style=\"color: #00af00; text-decoration-color: #00af00\">16</span>,     │      <span style=\"color: #00af00; text-decoration-color: #00af00\">2,048</span> │ conv2d_13[<span style=\"color: #00af00; text-decoration-color: #00af00\">0</span>][<span style=\"color: #00af00; text-decoration-color: #00af00\">0</span>]   │\n",
       "│ (<span style=\"color: #0087ff; text-decoration-color: #0087ff\">BatchNormalizatio…</span> │ <span style=\"color: #00af00; text-decoration-color: #00af00\">512</span>)              │            │                   │\n",
       "├─────────────────────┼───────────────────┼────────────┼───────────────────┤\n",
       "│ activation_11       │ (<span style=\"color: #00d7ff; text-decoration-color: #00d7ff\">None</span>, <span style=\"color: #00af00; text-decoration-color: #00af00\">8</span>, <span style=\"color: #00af00; text-decoration-color: #00af00\">16</span>,     │          <span style=\"color: #00af00; text-decoration-color: #00af00\">0</span> │ batch_normalizat… │\n",
       "│ (<span style=\"color: #0087ff; text-decoration-color: #0087ff\">Activation</span>)        │ <span style=\"color: #00af00; text-decoration-color: #00af00\">512</span>)              │            │                   │\n",
       "├─────────────────────┼───────────────────┼────────────┼───────────────────┤\n",
       "│ conv2d_14 (<span style=\"color: #0087ff; text-decoration-color: #0087ff\">Conv2D</span>)  │ (<span style=\"color: #00d7ff; text-decoration-color: #00d7ff\">None</span>, <span style=\"color: #00af00; text-decoration-color: #00af00\">16</span>, <span style=\"color: #00af00; text-decoration-color: #00af00\">32</span>, <span style=\"color: #00af00; text-decoration-color: #00af00\">1</span>) │        <span style=\"color: #00af00; text-decoration-color: #00af00\">257</span> │ activation_5[<span style=\"color: #00af00; text-decoration-color: #00af00\">0</span>][<span style=\"color: #00af00; text-decoration-color: #00af00\">…</span> │\n",
       "├─────────────────────┼───────────────────┼────────────┼───────────────────┤\n",
       "│ conv2d_transpose_1  │ (<span style=\"color: #00d7ff; text-decoration-color: #00d7ff\">None</span>, <span style=\"color: #00af00; text-decoration-color: #00af00\">16</span>, <span style=\"color: #00af00; text-decoration-color: #00af00\">32</span>,    │    <span style=\"color: #00af00; text-decoration-color: #00af00\">524,544</span> │ activation_11[<span style=\"color: #00af00; text-decoration-color: #00af00\">0</span>]… │\n",
       "│ (<span style=\"color: #0087ff; text-decoration-color: #0087ff\">Conv2DTranspose</span>)   │ <span style=\"color: #00af00; text-decoration-color: #00af00\">256</span>)              │            │                   │\n",
       "├─────────────────────┼───────────────────┼────────────┼───────────────────┤\n",
       "│ multiply_1          │ (<span style=\"color: #00d7ff; text-decoration-color: #00d7ff\">None</span>, <span style=\"color: #00af00; text-decoration-color: #00af00\">16</span>, <span style=\"color: #00af00; text-decoration-color: #00af00\">32</span>,    │          <span style=\"color: #00af00; text-decoration-color: #00af00\">0</span> │ conv2d_14[<span style=\"color: #00af00; text-decoration-color: #00af00\">0</span>][<span style=\"color: #00af00; text-decoration-color: #00af00\">0</span>],  │\n",
       "│ (<span style=\"color: #0087ff; text-decoration-color: #0087ff\">Multiply</span>)          │ <span style=\"color: #00af00; text-decoration-color: #00af00\">256</span>)              │            │ activation_5[<span style=\"color: #00af00; text-decoration-color: #00af00\">0</span>][<span style=\"color: #00af00; text-decoration-color: #00af00\">…</span> │\n",
       "├─────────────────────┼───────────────────┼────────────┼───────────────────┤\n",
       "│ conv2d_15 (<span style=\"color: #0087ff; text-decoration-color: #0087ff\">Conv2D</span>)  │ (<span style=\"color: #00d7ff; text-decoration-color: #00d7ff\">None</span>, <span style=\"color: #00af00; text-decoration-color: #00af00\">16</span>, <span style=\"color: #00af00; text-decoration-color: #00af00\">32</span>,    │     <span style=\"color: #00af00; text-decoration-color: #00af00\">65,792</span> │ conv2d_transpose… │\n",
       "│                     │ <span style=\"color: #00af00; text-decoration-color: #00af00\">256</span>)              │            │                   │\n",
       "├─────────────────────┼───────────────────┼────────────┼───────────────────┤\n",
       "│ concatenate_1       │ (<span style=\"color: #00d7ff; text-decoration-color: #00d7ff\">None</span>, <span style=\"color: #00af00; text-decoration-color: #00af00\">16</span>, <span style=\"color: #00af00; text-decoration-color: #00af00\">32</span>,    │          <span style=\"color: #00af00; text-decoration-color: #00af00\">0</span> │ multiply_1[<span style=\"color: #00af00; text-decoration-color: #00af00\">0</span>][<span style=\"color: #00af00; text-decoration-color: #00af00\">0</span>], │\n",
       "│ (<span style=\"color: #0087ff; text-decoration-color: #0087ff\">Concatenate</span>)       │ <span style=\"color: #00af00; text-decoration-color: #00af00\">512</span>)              │            │ conv2d_15[<span style=\"color: #00af00; text-decoration-color: #00af00\">0</span>][<span style=\"color: #00af00; text-decoration-color: #00af00\">0</span>]   │\n",
       "├─────────────────────┼───────────────────┼────────────┼───────────────────┤\n",
       "│ conv2d_16 (<span style=\"color: #0087ff; text-decoration-color: #0087ff\">Conv2D</span>)  │ (<span style=\"color: #00d7ff; text-decoration-color: #00d7ff\">None</span>, <span style=\"color: #00af00; text-decoration-color: #00af00\">16</span>, <span style=\"color: #00af00; text-decoration-color: #00af00\">32</span>,    │  <span style=\"color: #00af00; text-decoration-color: #00af00\">1,179,904</span> │ concatenate_1[<span style=\"color: #00af00; text-decoration-color: #00af00\">0</span>]… │\n",
       "│                     │ <span style=\"color: #00af00; text-decoration-color: #00af00\">256</span>)              │            │                   │\n",
       "├─────────────────────┼───────────────────┼────────────┼───────────────────┤\n",
       "│ batch_normalizatio… │ (<span style=\"color: #00d7ff; text-decoration-color: #00d7ff\">None</span>, <span style=\"color: #00af00; text-decoration-color: #00af00\">16</span>, <span style=\"color: #00af00; text-decoration-color: #00af00\">32</span>,    │      <span style=\"color: #00af00; text-decoration-color: #00af00\">1,024</span> │ conv2d_16[<span style=\"color: #00af00; text-decoration-color: #00af00\">0</span>][<span style=\"color: #00af00; text-decoration-color: #00af00\">0</span>]   │\n",
       "│ (<span style=\"color: #0087ff; text-decoration-color: #0087ff\">BatchNormalizatio…</span> │ <span style=\"color: #00af00; text-decoration-color: #00af00\">256</span>)              │            │                   │\n",
       "├─────────────────────┼───────────────────┼────────────┼───────────────────┤\n",
       "│ activation_12       │ (<span style=\"color: #00d7ff; text-decoration-color: #00d7ff\">None</span>, <span style=\"color: #00af00; text-decoration-color: #00af00\">16</span>, <span style=\"color: #00af00; text-decoration-color: #00af00\">32</span>,    │          <span style=\"color: #00af00; text-decoration-color: #00af00\">0</span> │ batch_normalizat… │\n",
       "│ (<span style=\"color: #0087ff; text-decoration-color: #0087ff\">Activation</span>)        │ <span style=\"color: #00af00; text-decoration-color: #00af00\">256</span>)              │            │                   │\n",
       "├─────────────────────┼───────────────────┼────────────┼───────────────────┤\n",
       "│ conv2d_17 (<span style=\"color: #0087ff; text-decoration-color: #0087ff\">Conv2D</span>)  │ (<span style=\"color: #00d7ff; text-decoration-color: #00d7ff\">None</span>, <span style=\"color: #00af00; text-decoration-color: #00af00\">16</span>, <span style=\"color: #00af00; text-decoration-color: #00af00\">32</span>,    │    <span style=\"color: #00af00; text-decoration-color: #00af00\">590,080</span> │ activation_12[<span style=\"color: #00af00; text-decoration-color: #00af00\">0</span>]… │\n",
       "│                     │ <span style=\"color: #00af00; text-decoration-color: #00af00\">256</span>)              │            │                   │\n",
       "├─────────────────────┼───────────────────┼────────────┼───────────────────┤\n",
       "│ batch_normalizatio… │ (<span style=\"color: #00d7ff; text-decoration-color: #00d7ff\">None</span>, <span style=\"color: #00af00; text-decoration-color: #00af00\">16</span>, <span style=\"color: #00af00; text-decoration-color: #00af00\">32</span>,    │      <span style=\"color: #00af00; text-decoration-color: #00af00\">1,024</span> │ conv2d_17[<span style=\"color: #00af00; text-decoration-color: #00af00\">0</span>][<span style=\"color: #00af00; text-decoration-color: #00af00\">0</span>]   │\n",
       "│ (<span style=\"color: #0087ff; text-decoration-color: #0087ff\">BatchNormalizatio…</span> │ <span style=\"color: #00af00; text-decoration-color: #00af00\">256</span>)              │            │                   │\n",
       "├─────────────────────┼───────────────────┼────────────┼───────────────────┤\n",
       "│ activation_13       │ (<span style=\"color: #00d7ff; text-decoration-color: #00d7ff\">None</span>, <span style=\"color: #00af00; text-decoration-color: #00af00\">16</span>, <span style=\"color: #00af00; text-decoration-color: #00af00\">32</span>,    │          <span style=\"color: #00af00; text-decoration-color: #00af00\">0</span> │ batch_normalizat… │\n",
       "│ (<span style=\"color: #0087ff; text-decoration-color: #0087ff\">Activation</span>)        │ <span style=\"color: #00af00; text-decoration-color: #00af00\">256</span>)              │            │                   │\n",
       "├─────────────────────┼───────────────────┼────────────┼───────────────────┤\n",
       "│ conv2d_18 (<span style=\"color: #0087ff; text-decoration-color: #0087ff\">Conv2D</span>)  │ (<span style=\"color: #00d7ff; text-decoration-color: #00d7ff\">None</span>, <span style=\"color: #00af00; text-decoration-color: #00af00\">32</span>, <span style=\"color: #00af00; text-decoration-color: #00af00\">64</span>, <span style=\"color: #00af00; text-decoration-color: #00af00\">1</span>) │        <span style=\"color: #00af00; text-decoration-color: #00af00\">129</span> │ activation_3[<span style=\"color: #00af00; text-decoration-color: #00af00\">0</span>][<span style=\"color: #00af00; text-decoration-color: #00af00\">…</span> │\n",
       "├─────────────────────┼───────────────────┼────────────┼───────────────────┤\n",
       "│ conv2d_transpose_2  │ (<span style=\"color: #00d7ff; text-decoration-color: #00d7ff\">None</span>, <span style=\"color: #00af00; text-decoration-color: #00af00\">32</span>, <span style=\"color: #00af00; text-decoration-color: #00af00\">64</span>,    │    <span style=\"color: #00af00; text-decoration-color: #00af00\">131,200</span> │ activation_13[<span style=\"color: #00af00; text-decoration-color: #00af00\">0</span>]… │\n",
       "│ (<span style=\"color: #0087ff; text-decoration-color: #0087ff\">Conv2DTranspose</span>)   │ <span style=\"color: #00af00; text-decoration-color: #00af00\">128</span>)              │            │                   │\n",
       "├─────────────────────┼───────────────────┼────────────┼───────────────────┤\n",
       "│ multiply_2          │ (<span style=\"color: #00d7ff; text-decoration-color: #00d7ff\">None</span>, <span style=\"color: #00af00; text-decoration-color: #00af00\">32</span>, <span style=\"color: #00af00; text-decoration-color: #00af00\">64</span>,    │          <span style=\"color: #00af00; text-decoration-color: #00af00\">0</span> │ conv2d_18[<span style=\"color: #00af00; text-decoration-color: #00af00\">0</span>][<span style=\"color: #00af00; text-decoration-color: #00af00\">0</span>],  │\n",
       "│ (<span style=\"color: #0087ff; text-decoration-color: #0087ff\">Multiply</span>)          │ <span style=\"color: #00af00; text-decoration-color: #00af00\">128</span>)              │            │ activation_3[<span style=\"color: #00af00; text-decoration-color: #00af00\">0</span>][<span style=\"color: #00af00; text-decoration-color: #00af00\">…</span> │\n",
       "├─────────────────────┼───────────────────┼────────────┼───────────────────┤\n",
       "│ conv2d_19 (<span style=\"color: #0087ff; text-decoration-color: #0087ff\">Conv2D</span>)  │ (<span style=\"color: #00d7ff; text-decoration-color: #00d7ff\">None</span>, <span style=\"color: #00af00; text-decoration-color: #00af00\">32</span>, <span style=\"color: #00af00; text-decoration-color: #00af00\">64</span>,    │     <span style=\"color: #00af00; text-decoration-color: #00af00\">16,512</span> │ conv2d_transpose… │\n",
       "│                     │ <span style=\"color: #00af00; text-decoration-color: #00af00\">128</span>)              │            │                   │\n",
       "├─────────────────────┼───────────────────┼────────────┼───────────────────┤\n",
       "│ concatenate_2       │ (<span style=\"color: #00d7ff; text-decoration-color: #00d7ff\">None</span>, <span style=\"color: #00af00; text-decoration-color: #00af00\">32</span>, <span style=\"color: #00af00; text-decoration-color: #00af00\">64</span>,    │          <span style=\"color: #00af00; text-decoration-color: #00af00\">0</span> │ multiply_2[<span style=\"color: #00af00; text-decoration-color: #00af00\">0</span>][<span style=\"color: #00af00; text-decoration-color: #00af00\">0</span>], │\n",
       "│ (<span style=\"color: #0087ff; text-decoration-color: #0087ff\">Concatenate</span>)       │ <span style=\"color: #00af00; text-decoration-color: #00af00\">256</span>)              │            │ conv2d_19[<span style=\"color: #00af00; text-decoration-color: #00af00\">0</span>][<span style=\"color: #00af00; text-decoration-color: #00af00\">0</span>]   │\n",
       "├─────────────────────┼───────────────────┼────────────┼───────────────────┤\n",
       "│ conv2d_20 (<span style=\"color: #0087ff; text-decoration-color: #0087ff\">Conv2D</span>)  │ (<span style=\"color: #00d7ff; text-decoration-color: #00d7ff\">None</span>, <span style=\"color: #00af00; text-decoration-color: #00af00\">32</span>, <span style=\"color: #00af00; text-decoration-color: #00af00\">64</span>,    │    <span style=\"color: #00af00; text-decoration-color: #00af00\">295,040</span> │ concatenate_2[<span style=\"color: #00af00; text-decoration-color: #00af00\">0</span>]… │\n",
       "│                     │ <span style=\"color: #00af00; text-decoration-color: #00af00\">128</span>)              │            │                   │\n",
       "├─────────────────────┼───────────────────┼────────────┼───────────────────┤\n",
       "│ batch_normalizatio… │ (<span style=\"color: #00d7ff; text-decoration-color: #00d7ff\">None</span>, <span style=\"color: #00af00; text-decoration-color: #00af00\">32</span>, <span style=\"color: #00af00; text-decoration-color: #00af00\">64</span>,    │        <span style=\"color: #00af00; text-decoration-color: #00af00\">512</span> │ conv2d_20[<span style=\"color: #00af00; text-decoration-color: #00af00\">0</span>][<span style=\"color: #00af00; text-decoration-color: #00af00\">0</span>]   │\n",
       "│ (<span style=\"color: #0087ff; text-decoration-color: #0087ff\">BatchNormalizatio…</span> │ <span style=\"color: #00af00; text-decoration-color: #00af00\">128</span>)              │            │                   │\n",
       "├─────────────────────┼───────────────────┼────────────┼───────────────────┤\n",
       "│ activation_14       │ (<span style=\"color: #00d7ff; text-decoration-color: #00d7ff\">None</span>, <span style=\"color: #00af00; text-decoration-color: #00af00\">32</span>, <span style=\"color: #00af00; text-decoration-color: #00af00\">64</span>,    │          <span style=\"color: #00af00; text-decoration-color: #00af00\">0</span> │ batch_normalizat… │\n",
       "│ (<span style=\"color: #0087ff; text-decoration-color: #0087ff\">Activation</span>)        │ <span style=\"color: #00af00; text-decoration-color: #00af00\">128</span>)              │            │                   │\n",
       "├─────────────────────┼───────────────────┼────────────┼───────────────────┤\n",
       "│ conv2d_21 (<span style=\"color: #0087ff; text-decoration-color: #0087ff\">Conv2D</span>)  │ (<span style=\"color: #00d7ff; text-decoration-color: #00d7ff\">None</span>, <span style=\"color: #00af00; text-decoration-color: #00af00\">32</span>, <span style=\"color: #00af00; text-decoration-color: #00af00\">64</span>,    │    <span style=\"color: #00af00; text-decoration-color: #00af00\">147,584</span> │ activation_14[<span style=\"color: #00af00; text-decoration-color: #00af00\">0</span>]… │\n",
       "│                     │ <span style=\"color: #00af00; text-decoration-color: #00af00\">128</span>)              │            │                   │\n",
       "├─────────────────────┼───────────────────┼────────────┼───────────────────┤\n",
       "│ batch_normalizatio… │ (<span style=\"color: #00d7ff; text-decoration-color: #00d7ff\">None</span>, <span style=\"color: #00af00; text-decoration-color: #00af00\">32</span>, <span style=\"color: #00af00; text-decoration-color: #00af00\">64</span>,    │        <span style=\"color: #00af00; text-decoration-color: #00af00\">512</span> │ conv2d_21[<span style=\"color: #00af00; text-decoration-color: #00af00\">0</span>][<span style=\"color: #00af00; text-decoration-color: #00af00\">0</span>]   │\n",
       "│ (<span style=\"color: #0087ff; text-decoration-color: #0087ff\">BatchNormalizatio…</span> │ <span style=\"color: #00af00; text-decoration-color: #00af00\">128</span>)              │            │                   │\n",
       "├─────────────────────┼───────────────────┼────────────┼───────────────────┤\n",
       "│ activation_15       │ (<span style=\"color: #00d7ff; text-decoration-color: #00d7ff\">None</span>, <span style=\"color: #00af00; text-decoration-color: #00af00\">32</span>, <span style=\"color: #00af00; text-decoration-color: #00af00\">64</span>,    │          <span style=\"color: #00af00; text-decoration-color: #00af00\">0</span> │ batch_normalizat… │\n",
       "│ (<span style=\"color: #0087ff; text-decoration-color: #0087ff\">Activation</span>)        │ <span style=\"color: #00af00; text-decoration-color: #00af00\">128</span>)              │            │                   │\n",
       "├─────────────────────┼───────────────────┼────────────┼───────────────────┤\n",
       "│ conv2d_22 (<span style=\"color: #0087ff; text-decoration-color: #0087ff\">Conv2D</span>)  │ (<span style=\"color: #00d7ff; text-decoration-color: #00d7ff\">None</span>, <span style=\"color: #00af00; text-decoration-color: #00af00\">64</span>, <span style=\"color: #00af00; text-decoration-color: #00af00\">128</span>,   │         <span style=\"color: #00af00; text-decoration-color: #00af00\">65</span> │ activation_1[<span style=\"color: #00af00; text-decoration-color: #00af00\">0</span>][<span style=\"color: #00af00; text-decoration-color: #00af00\">…</span> │\n",
       "│                     │ <span style=\"color: #00af00; text-decoration-color: #00af00\">1</span>)                │            │                   │\n",
       "├─────────────────────┼───────────────────┼────────────┼───────────────────┤\n",
       "│ conv2d_transpose_3  │ (<span style=\"color: #00d7ff; text-decoration-color: #00d7ff\">None</span>, <span style=\"color: #00af00; text-decoration-color: #00af00\">64</span>, <span style=\"color: #00af00; text-decoration-color: #00af00\">128</span>,   │     <span style=\"color: #00af00; text-decoration-color: #00af00\">32,832</span> │ activation_15[<span style=\"color: #00af00; text-decoration-color: #00af00\">0</span>]… │\n",
       "│ (<span style=\"color: #0087ff; text-decoration-color: #0087ff\">Conv2DTranspose</span>)   │ <span style=\"color: #00af00; text-decoration-color: #00af00\">64</span>)               │            │                   │\n",
       "├─────────────────────┼───────────────────┼────────────┼───────────────────┤\n",
       "│ multiply_3          │ (<span style=\"color: #00d7ff; text-decoration-color: #00d7ff\">None</span>, <span style=\"color: #00af00; text-decoration-color: #00af00\">64</span>, <span style=\"color: #00af00; text-decoration-color: #00af00\">128</span>,   │          <span style=\"color: #00af00; text-decoration-color: #00af00\">0</span> │ conv2d_22[<span style=\"color: #00af00; text-decoration-color: #00af00\">0</span>][<span style=\"color: #00af00; text-decoration-color: #00af00\">0</span>],  │\n",
       "│ (<span style=\"color: #0087ff; text-decoration-color: #0087ff\">Multiply</span>)          │ <span style=\"color: #00af00; text-decoration-color: #00af00\">64</span>)               │            │ activation_1[<span style=\"color: #00af00; text-decoration-color: #00af00\">0</span>][<span style=\"color: #00af00; text-decoration-color: #00af00\">…</span> │\n",
       "├─────────────────────┼───────────────────┼────────────┼───────────────────┤\n",
       "│ conv2d_23 (<span style=\"color: #0087ff; text-decoration-color: #0087ff\">Conv2D</span>)  │ (<span style=\"color: #00d7ff; text-decoration-color: #00d7ff\">None</span>, <span style=\"color: #00af00; text-decoration-color: #00af00\">64</span>, <span style=\"color: #00af00; text-decoration-color: #00af00\">128</span>,   │      <span style=\"color: #00af00; text-decoration-color: #00af00\">4,160</span> │ conv2d_transpose… │\n",
       "│                     │ <span style=\"color: #00af00; text-decoration-color: #00af00\">64</span>)               │            │                   │\n",
       "├─────────────────────┼───────────────────┼────────────┼───────────────────┤\n",
       "│ concatenate_3       │ (<span style=\"color: #00d7ff; text-decoration-color: #00d7ff\">None</span>, <span style=\"color: #00af00; text-decoration-color: #00af00\">64</span>, <span style=\"color: #00af00; text-decoration-color: #00af00\">128</span>,   │          <span style=\"color: #00af00; text-decoration-color: #00af00\">0</span> │ multiply_3[<span style=\"color: #00af00; text-decoration-color: #00af00\">0</span>][<span style=\"color: #00af00; text-decoration-color: #00af00\">0</span>], │\n",
       "│ (<span style=\"color: #0087ff; text-decoration-color: #0087ff\">Concatenate</span>)       │ <span style=\"color: #00af00; text-decoration-color: #00af00\">128</span>)              │            │ conv2d_23[<span style=\"color: #00af00; text-decoration-color: #00af00\">0</span>][<span style=\"color: #00af00; text-decoration-color: #00af00\">0</span>]   │\n",
       "├─────────────────────┼───────────────────┼────────────┼───────────────────┤\n",
       "│ conv2d_24 (<span style=\"color: #0087ff; text-decoration-color: #0087ff\">Conv2D</span>)  │ (<span style=\"color: #00d7ff; text-decoration-color: #00d7ff\">None</span>, <span style=\"color: #00af00; text-decoration-color: #00af00\">64</span>, <span style=\"color: #00af00; text-decoration-color: #00af00\">128</span>,   │     <span style=\"color: #00af00; text-decoration-color: #00af00\">73,792</span> │ concatenate_3[<span style=\"color: #00af00; text-decoration-color: #00af00\">0</span>]… │\n",
       "│                     │ <span style=\"color: #00af00; text-decoration-color: #00af00\">64</span>)               │            │                   │\n",
       "├─────────────────────┼───────────────────┼────────────┼───────────────────┤\n",
       "│ batch_normalizatio… │ (<span style=\"color: #00d7ff; text-decoration-color: #00d7ff\">None</span>, <span style=\"color: #00af00; text-decoration-color: #00af00\">64</span>, <span style=\"color: #00af00; text-decoration-color: #00af00\">128</span>,   │        <span style=\"color: #00af00; text-decoration-color: #00af00\">256</span> │ conv2d_24[<span style=\"color: #00af00; text-decoration-color: #00af00\">0</span>][<span style=\"color: #00af00; text-decoration-color: #00af00\">0</span>]   │\n",
       "│ (<span style=\"color: #0087ff; text-decoration-color: #0087ff\">BatchNormalizatio…</span> │ <span style=\"color: #00af00; text-decoration-color: #00af00\">64</span>)               │            │                   │\n",
       "├─────────────────────┼───────────────────┼────────────┼───────────────────┤\n",
       "│ activation_16       │ (<span style=\"color: #00d7ff; text-decoration-color: #00d7ff\">None</span>, <span style=\"color: #00af00; text-decoration-color: #00af00\">64</span>, <span style=\"color: #00af00; text-decoration-color: #00af00\">128</span>,   │          <span style=\"color: #00af00; text-decoration-color: #00af00\">0</span> │ batch_normalizat… │\n",
       "│ (<span style=\"color: #0087ff; text-decoration-color: #0087ff\">Activation</span>)        │ <span style=\"color: #00af00; text-decoration-color: #00af00\">64</span>)               │            │                   │\n",
       "├─────────────────────┼───────────────────┼────────────┼───────────────────┤\n",
       "│ conv2d_25 (<span style=\"color: #0087ff; text-decoration-color: #0087ff\">Conv2D</span>)  │ (<span style=\"color: #00d7ff; text-decoration-color: #00d7ff\">None</span>, <span style=\"color: #00af00; text-decoration-color: #00af00\">64</span>, <span style=\"color: #00af00; text-decoration-color: #00af00\">128</span>,   │     <span style=\"color: #00af00; text-decoration-color: #00af00\">36,928</span> │ activation_16[<span style=\"color: #00af00; text-decoration-color: #00af00\">0</span>]… │\n",
       "│                     │ <span style=\"color: #00af00; text-decoration-color: #00af00\">64</span>)               │            │                   │\n",
       "├─────────────────────┼───────────────────┼────────────┼───────────────────┤\n",
       "│ batch_normalizatio… │ (<span style=\"color: #00d7ff; text-decoration-color: #00d7ff\">None</span>, <span style=\"color: #00af00; text-decoration-color: #00af00\">64</span>, <span style=\"color: #00af00; text-decoration-color: #00af00\">128</span>,   │        <span style=\"color: #00af00; text-decoration-color: #00af00\">256</span> │ conv2d_25[<span style=\"color: #00af00; text-decoration-color: #00af00\">0</span>][<span style=\"color: #00af00; text-decoration-color: #00af00\">0</span>]   │\n",
       "│ (<span style=\"color: #0087ff; text-decoration-color: #0087ff\">BatchNormalizatio…</span> │ <span style=\"color: #00af00; text-decoration-color: #00af00\">64</span>)               │            │                   │\n",
       "├─────────────────────┼───────────────────┼────────────┼───────────────────┤\n",
       "│ activation_17       │ (<span style=\"color: #00d7ff; text-decoration-color: #00d7ff\">None</span>, <span style=\"color: #00af00; text-decoration-color: #00af00\">64</span>, <span style=\"color: #00af00; text-decoration-color: #00af00\">128</span>,   │          <span style=\"color: #00af00; text-decoration-color: #00af00\">0</span> │ batch_normalizat… │\n",
       "│ (<span style=\"color: #0087ff; text-decoration-color: #0087ff\">Activation</span>)        │ <span style=\"color: #00af00; text-decoration-color: #00af00\">64</span>)               │            │                   │\n",
       "├─────────────────────┼───────────────────┼────────────┼───────────────────┤\n",
       "│ output_3 (<span style=\"color: #0087ff; text-decoration-color: #0087ff\">Conv2D</span>)   │ (<span style=\"color: #00d7ff; text-decoration-color: #00d7ff\">None</span>, <span style=\"color: #00af00; text-decoration-color: #00af00\">8</span>, <span style=\"color: #00af00; text-decoration-color: #00af00\">16</span>, <span style=\"color: #00af00; text-decoration-color: #00af00\">5</span>)  │      <span style=\"color: #00af00; text-decoration-color: #00af00\">2,565</span> │ activation_11[<span style=\"color: #00af00; text-decoration-color: #00af00\">0</span>]… │\n",
       "├─────────────────────┼───────────────────┼────────────┼───────────────────┤\n",
       "│ output_2 (<span style=\"color: #0087ff; text-decoration-color: #0087ff\">Conv2D</span>)   │ (<span style=\"color: #00d7ff; text-decoration-color: #00d7ff\">None</span>, <span style=\"color: #00af00; text-decoration-color: #00af00\">16</span>, <span style=\"color: #00af00; text-decoration-color: #00af00\">32</span>, <span style=\"color: #00af00; text-decoration-color: #00af00\">5</span>) │      <span style=\"color: #00af00; text-decoration-color: #00af00\">1,285</span> │ activation_13[<span style=\"color: #00af00; text-decoration-color: #00af00\">0</span>]… │\n",
       "├─────────────────────┼───────────────────┼────────────┼───────────────────┤\n",
       "│ output_1 (<span style=\"color: #0087ff; text-decoration-color: #0087ff\">Conv2D</span>)   │ (<span style=\"color: #00d7ff; text-decoration-color: #00d7ff\">None</span>, <span style=\"color: #00af00; text-decoration-color: #00af00\">32</span>, <span style=\"color: #00af00; text-decoration-color: #00af00\">64</span>, <span style=\"color: #00af00; text-decoration-color: #00af00\">5</span>) │        <span style=\"color: #00af00; text-decoration-color: #00af00\">645</span> │ activation_15[<span style=\"color: #00af00; text-decoration-color: #00af00\">0</span>]… │\n",
       "├─────────────────────┼───────────────────┼────────────┼───────────────────┤\n",
       "│ final_output        │ (<span style=\"color: #00d7ff; text-decoration-color: #00d7ff\">None</span>, <span style=\"color: #00af00; text-decoration-color: #00af00\">64</span>, <span style=\"color: #00af00; text-decoration-color: #00af00\">128</span>,   │        <span style=\"color: #00af00; text-decoration-color: #00af00\">325</span> │ activation_17[<span style=\"color: #00af00; text-decoration-color: #00af00\">0</span>]… │\n",
       "│ (<span style=\"color: #0087ff; text-decoration-color: #0087ff\">Conv2D</span>)            │ <span style=\"color: #00af00; text-decoration-color: #00af00\">5</span>)                │            │                   │\n",
       "└─────────────────────┴───────────────────┴────────────┴───────────────────┘\n",
       "</pre>\n"
      ],
      "text/plain": [
       "┏━━━━━━━━━━━━━━━━━━━━━┳━━━━━━━━━━━━━━━━━━━┳━━━━━━━━━━━━┳━━━━━━━━━━━━━━━━━━━┓\n",
       "┃\u001b[1m \u001b[0m\u001b[1mLayer (type)       \u001b[0m\u001b[1m \u001b[0m┃\u001b[1m \u001b[0m\u001b[1mOutput Shape     \u001b[0m\u001b[1m \u001b[0m┃\u001b[1m \u001b[0m\u001b[1m   Param #\u001b[0m\u001b[1m \u001b[0m┃\u001b[1m \u001b[0m\u001b[1mConnected to     \u001b[0m\u001b[1m \u001b[0m┃\n",
       "┡━━━━━━━━━━━━━━━━━━━━━╇━━━━━━━━━━━━━━━━━━━╇━━━━━━━━━━━━╇━━━━━━━━━━━━━━━━━━━┩\n",
       "│ input_layer         │ (\u001b[38;5;45mNone\u001b[0m, \u001b[38;5;34m64\u001b[0m, \u001b[38;5;34m128\u001b[0m,   │          \u001b[38;5;34m0\u001b[0m │ -                 │\n",
       "│ (\u001b[38;5;33mInputLayer\u001b[0m)        │ \u001b[38;5;34m1\u001b[0m)                │            │                   │\n",
       "├─────────────────────┼───────────────────┼────────────┼───────────────────┤\n",
       "│ conv2d (\u001b[38;5;33mConv2D\u001b[0m)     │ (\u001b[38;5;45mNone\u001b[0m, \u001b[38;5;34m64\u001b[0m, \u001b[38;5;34m128\u001b[0m,   │        \u001b[38;5;34m640\u001b[0m │ input_layer[\u001b[38;5;34m0\u001b[0m][\u001b[38;5;34m0\u001b[0m] │\n",
       "│                     │ \u001b[38;5;34m64\u001b[0m)               │            │                   │\n",
       "├─────────────────────┼───────────────────┼────────────┼───────────────────┤\n",
       "│ batch_normalization │ (\u001b[38;5;45mNone\u001b[0m, \u001b[38;5;34m64\u001b[0m, \u001b[38;5;34m128\u001b[0m,   │        \u001b[38;5;34m256\u001b[0m │ conv2d[\u001b[38;5;34m0\u001b[0m][\u001b[38;5;34m0\u001b[0m]      │\n",
       "│ (\u001b[38;5;33mBatchNormalizatio…\u001b[0m │ \u001b[38;5;34m64\u001b[0m)               │            │                   │\n",
       "├─────────────────────┼───────────────────┼────────────┼───────────────────┤\n",
       "│ activation          │ (\u001b[38;5;45mNone\u001b[0m, \u001b[38;5;34m64\u001b[0m, \u001b[38;5;34m128\u001b[0m,   │          \u001b[38;5;34m0\u001b[0m │ batch_normalizat… │\n",
       "│ (\u001b[38;5;33mActivation\u001b[0m)        │ \u001b[38;5;34m64\u001b[0m)               │            │                   │\n",
       "├─────────────────────┼───────────────────┼────────────┼───────────────────┤\n",
       "│ conv2d_1 (\u001b[38;5;33mConv2D\u001b[0m)   │ (\u001b[38;5;45mNone\u001b[0m, \u001b[38;5;34m64\u001b[0m, \u001b[38;5;34m128\u001b[0m,   │     \u001b[38;5;34m36,928\u001b[0m │ activation[\u001b[38;5;34m0\u001b[0m][\u001b[38;5;34m0\u001b[0m]  │\n",
       "│                     │ \u001b[38;5;34m64\u001b[0m)               │            │                   │\n",
       "├─────────────────────┼───────────────────┼────────────┼───────────────────┤\n",
       "│ batch_normalizatio… │ (\u001b[38;5;45mNone\u001b[0m, \u001b[38;5;34m64\u001b[0m, \u001b[38;5;34m128\u001b[0m,   │        \u001b[38;5;34m256\u001b[0m │ conv2d_1[\u001b[38;5;34m0\u001b[0m][\u001b[38;5;34m0\u001b[0m]    │\n",
       "│ (\u001b[38;5;33mBatchNormalizatio…\u001b[0m │ \u001b[38;5;34m64\u001b[0m)               │            │                   │\n",
       "├─────────────────────┼───────────────────┼────────────┼───────────────────┤\n",
       "│ activation_1        │ (\u001b[38;5;45mNone\u001b[0m, \u001b[38;5;34m64\u001b[0m, \u001b[38;5;34m128\u001b[0m,   │          \u001b[38;5;34m0\u001b[0m │ batch_normalizat… │\n",
       "│ (\u001b[38;5;33mActivation\u001b[0m)        │ \u001b[38;5;34m64\u001b[0m)               │            │                   │\n",
       "├─────────────────────┼───────────────────┼────────────┼───────────────────┤\n",
       "│ max_pooling2d       │ (\u001b[38;5;45mNone\u001b[0m, \u001b[38;5;34m32\u001b[0m, \u001b[38;5;34m64\u001b[0m,    │          \u001b[38;5;34m0\u001b[0m │ activation_1[\u001b[38;5;34m0\u001b[0m][\u001b[38;5;34m…\u001b[0m │\n",
       "│ (\u001b[38;5;33mMaxPooling2D\u001b[0m)      │ \u001b[38;5;34m64\u001b[0m)               │            │                   │\n",
       "├─────────────────────┼───────────────────┼────────────┼───────────────────┤\n",
       "│ conv2d_2 (\u001b[38;5;33mConv2D\u001b[0m)   │ (\u001b[38;5;45mNone\u001b[0m, \u001b[38;5;34m32\u001b[0m, \u001b[38;5;34m64\u001b[0m,    │     \u001b[38;5;34m73,856\u001b[0m │ max_pooling2d[\u001b[38;5;34m0\u001b[0m]… │\n",
       "│                     │ \u001b[38;5;34m128\u001b[0m)              │            │                   │\n",
       "├─────────────────────┼───────────────────┼────────────┼───────────────────┤\n",
       "│ batch_normalizatio… │ (\u001b[38;5;45mNone\u001b[0m, \u001b[38;5;34m32\u001b[0m, \u001b[38;5;34m64\u001b[0m,    │        \u001b[38;5;34m512\u001b[0m │ conv2d_2[\u001b[38;5;34m0\u001b[0m][\u001b[38;5;34m0\u001b[0m]    │\n",
       "│ (\u001b[38;5;33mBatchNormalizatio…\u001b[0m │ \u001b[38;5;34m128\u001b[0m)              │            │                   │\n",
       "├─────────────────────┼───────────────────┼────────────┼───────────────────┤\n",
       "│ activation_2        │ (\u001b[38;5;45mNone\u001b[0m, \u001b[38;5;34m32\u001b[0m, \u001b[38;5;34m64\u001b[0m,    │          \u001b[38;5;34m0\u001b[0m │ batch_normalizat… │\n",
       "│ (\u001b[38;5;33mActivation\u001b[0m)        │ \u001b[38;5;34m128\u001b[0m)              │            │                   │\n",
       "├─────────────────────┼───────────────────┼────────────┼───────────────────┤\n",
       "│ conv2d_3 (\u001b[38;5;33mConv2D\u001b[0m)   │ (\u001b[38;5;45mNone\u001b[0m, \u001b[38;5;34m32\u001b[0m, \u001b[38;5;34m64\u001b[0m,    │    \u001b[38;5;34m147,584\u001b[0m │ activation_2[\u001b[38;5;34m0\u001b[0m][\u001b[38;5;34m…\u001b[0m │\n",
       "│                     │ \u001b[38;5;34m128\u001b[0m)              │            │                   │\n",
       "├─────────────────────┼───────────────────┼────────────┼───────────────────┤\n",
       "│ batch_normalizatio… │ (\u001b[38;5;45mNone\u001b[0m, \u001b[38;5;34m32\u001b[0m, \u001b[38;5;34m64\u001b[0m,    │        \u001b[38;5;34m512\u001b[0m │ conv2d_3[\u001b[38;5;34m0\u001b[0m][\u001b[38;5;34m0\u001b[0m]    │\n",
       "│ (\u001b[38;5;33mBatchNormalizatio…\u001b[0m │ \u001b[38;5;34m128\u001b[0m)              │            │                   │\n",
       "├─────────────────────┼───────────────────┼────────────┼───────────────────┤\n",
       "│ activation_3        │ (\u001b[38;5;45mNone\u001b[0m, \u001b[38;5;34m32\u001b[0m, \u001b[38;5;34m64\u001b[0m,    │          \u001b[38;5;34m0\u001b[0m │ batch_normalizat… │\n",
       "│ (\u001b[38;5;33mActivation\u001b[0m)        │ \u001b[38;5;34m128\u001b[0m)              │            │                   │\n",
       "├─────────────────────┼───────────────────┼────────────┼───────────────────┤\n",
       "│ max_pooling2d_1     │ (\u001b[38;5;45mNone\u001b[0m, \u001b[38;5;34m16\u001b[0m, \u001b[38;5;34m32\u001b[0m,    │          \u001b[38;5;34m0\u001b[0m │ activation_3[\u001b[38;5;34m0\u001b[0m][\u001b[38;5;34m…\u001b[0m │\n",
       "│ (\u001b[38;5;33mMaxPooling2D\u001b[0m)      │ \u001b[38;5;34m128\u001b[0m)              │            │                   │\n",
       "├─────────────────────┼───────────────────┼────────────┼───────────────────┤\n",
       "│ conv2d_4 (\u001b[38;5;33mConv2D\u001b[0m)   │ (\u001b[38;5;45mNone\u001b[0m, \u001b[38;5;34m16\u001b[0m, \u001b[38;5;34m32\u001b[0m,    │    \u001b[38;5;34m295,168\u001b[0m │ max_pooling2d_1[\u001b[38;5;34m…\u001b[0m │\n",
       "│                     │ \u001b[38;5;34m256\u001b[0m)              │            │                   │\n",
       "├─────────────────────┼───────────────────┼────────────┼───────────────────┤\n",
       "│ batch_normalizatio… │ (\u001b[38;5;45mNone\u001b[0m, \u001b[38;5;34m16\u001b[0m, \u001b[38;5;34m32\u001b[0m,    │      \u001b[38;5;34m1,024\u001b[0m │ conv2d_4[\u001b[38;5;34m0\u001b[0m][\u001b[38;5;34m0\u001b[0m]    │\n",
       "│ (\u001b[38;5;33mBatchNormalizatio…\u001b[0m │ \u001b[38;5;34m256\u001b[0m)              │            │                   │\n",
       "├─────────────────────┼───────────────────┼────────────┼───────────────────┤\n",
       "│ activation_4        │ (\u001b[38;5;45mNone\u001b[0m, \u001b[38;5;34m16\u001b[0m, \u001b[38;5;34m32\u001b[0m,    │          \u001b[38;5;34m0\u001b[0m │ batch_normalizat… │\n",
       "│ (\u001b[38;5;33mActivation\u001b[0m)        │ \u001b[38;5;34m256\u001b[0m)              │            │                   │\n",
       "├─────────────────────┼───────────────────┼────────────┼───────────────────┤\n",
       "│ conv2d_5 (\u001b[38;5;33mConv2D\u001b[0m)   │ (\u001b[38;5;45mNone\u001b[0m, \u001b[38;5;34m16\u001b[0m, \u001b[38;5;34m32\u001b[0m,    │    \u001b[38;5;34m590,080\u001b[0m │ activation_4[\u001b[38;5;34m0\u001b[0m][\u001b[38;5;34m…\u001b[0m │\n",
       "│                     │ \u001b[38;5;34m256\u001b[0m)              │            │                   │\n",
       "├─────────────────────┼───────────────────┼────────────┼───────────────────┤\n",
       "│ batch_normalizatio… │ (\u001b[38;5;45mNone\u001b[0m, \u001b[38;5;34m16\u001b[0m, \u001b[38;5;34m32\u001b[0m,    │      \u001b[38;5;34m1,024\u001b[0m │ conv2d_5[\u001b[38;5;34m0\u001b[0m][\u001b[38;5;34m0\u001b[0m]    │\n",
       "│ (\u001b[38;5;33mBatchNormalizatio…\u001b[0m │ \u001b[38;5;34m256\u001b[0m)              │            │                   │\n",
       "├─────────────────────┼───────────────────┼────────────┼───────────────────┤\n",
       "│ activation_5        │ (\u001b[38;5;45mNone\u001b[0m, \u001b[38;5;34m16\u001b[0m, \u001b[38;5;34m32\u001b[0m,    │          \u001b[38;5;34m0\u001b[0m │ batch_normalizat… │\n",
       "│ (\u001b[38;5;33mActivation\u001b[0m)        │ \u001b[38;5;34m256\u001b[0m)              │            │                   │\n",
       "├─────────────────────┼───────────────────┼────────────┼───────────────────┤\n",
       "│ max_pooling2d_2     │ (\u001b[38;5;45mNone\u001b[0m, \u001b[38;5;34m8\u001b[0m, \u001b[38;5;34m16\u001b[0m,     │          \u001b[38;5;34m0\u001b[0m │ activation_5[\u001b[38;5;34m0\u001b[0m][\u001b[38;5;34m…\u001b[0m │\n",
       "│ (\u001b[38;5;33mMaxPooling2D\u001b[0m)      │ \u001b[38;5;34m256\u001b[0m)              │            │                   │\n",
       "├─────────────────────┼───────────────────┼────────────┼───────────────────┤\n",
       "│ conv2d_6 (\u001b[38;5;33mConv2D\u001b[0m)   │ (\u001b[38;5;45mNone\u001b[0m, \u001b[38;5;34m8\u001b[0m, \u001b[38;5;34m16\u001b[0m,     │  \u001b[38;5;34m1,180,160\u001b[0m │ max_pooling2d_2[\u001b[38;5;34m…\u001b[0m │\n",
       "│                     │ \u001b[38;5;34m512\u001b[0m)              │            │                   │\n",
       "├─────────────────────┼───────────────────┼────────────┼───────────────────┤\n",
       "│ batch_normalizatio… │ (\u001b[38;5;45mNone\u001b[0m, \u001b[38;5;34m8\u001b[0m, \u001b[38;5;34m16\u001b[0m,     │      \u001b[38;5;34m2,048\u001b[0m │ conv2d_6[\u001b[38;5;34m0\u001b[0m][\u001b[38;5;34m0\u001b[0m]    │\n",
       "│ (\u001b[38;5;33mBatchNormalizatio…\u001b[0m │ \u001b[38;5;34m512\u001b[0m)              │            │                   │\n",
       "├─────────────────────┼───────────────────┼────────────┼───────────────────┤\n",
       "│ activation_6        │ (\u001b[38;5;45mNone\u001b[0m, \u001b[38;5;34m8\u001b[0m, \u001b[38;5;34m16\u001b[0m,     │          \u001b[38;5;34m0\u001b[0m │ batch_normalizat… │\n",
       "│ (\u001b[38;5;33mActivation\u001b[0m)        │ \u001b[38;5;34m512\u001b[0m)              │            │                   │\n",
       "├─────────────────────┼───────────────────┼────────────┼───────────────────┤\n",
       "│ conv2d_7 (\u001b[38;5;33mConv2D\u001b[0m)   │ (\u001b[38;5;45mNone\u001b[0m, \u001b[38;5;34m8\u001b[0m, \u001b[38;5;34m16\u001b[0m,     │  \u001b[38;5;34m2,359,808\u001b[0m │ activation_6[\u001b[38;5;34m0\u001b[0m][\u001b[38;5;34m…\u001b[0m │\n",
       "│                     │ \u001b[38;5;34m512\u001b[0m)              │            │                   │\n",
       "├─────────────────────┼───────────────────┼────────────┼───────────────────┤\n",
       "│ batch_normalizatio… │ (\u001b[38;5;45mNone\u001b[0m, \u001b[38;5;34m8\u001b[0m, \u001b[38;5;34m16\u001b[0m,     │      \u001b[38;5;34m2,048\u001b[0m │ conv2d_7[\u001b[38;5;34m0\u001b[0m][\u001b[38;5;34m0\u001b[0m]    │\n",
       "│ (\u001b[38;5;33mBatchNormalizatio…\u001b[0m │ \u001b[38;5;34m512\u001b[0m)              │            │                   │\n",
       "├─────────────────────┼───────────────────┼────────────┼───────────────────┤\n",
       "│ activation_7        │ (\u001b[38;5;45mNone\u001b[0m, \u001b[38;5;34m8\u001b[0m, \u001b[38;5;34m16\u001b[0m,     │          \u001b[38;5;34m0\u001b[0m │ batch_normalizat… │\n",
       "│ (\u001b[38;5;33mActivation\u001b[0m)        │ \u001b[38;5;34m512\u001b[0m)              │            │                   │\n",
       "├─────────────────────┼───────────────────┼────────────┼───────────────────┤\n",
       "│ max_pooling2d_3     │ (\u001b[38;5;45mNone\u001b[0m, \u001b[38;5;34m4\u001b[0m, \u001b[38;5;34m8\u001b[0m, \u001b[38;5;34m512\u001b[0m) │          \u001b[38;5;34m0\u001b[0m │ activation_7[\u001b[38;5;34m0\u001b[0m][\u001b[38;5;34m…\u001b[0m │\n",
       "│ (\u001b[38;5;33mMaxPooling2D\u001b[0m)      │                   │            │                   │\n",
       "├─────────────────────┼───────────────────┼────────────┼───────────────────┤\n",
       "│ conv2d_8 (\u001b[38;5;33mConv2D\u001b[0m)   │ (\u001b[38;5;45mNone\u001b[0m, \u001b[38;5;34m4\u001b[0m, \u001b[38;5;34m8\u001b[0m,      │  \u001b[38;5;34m4,719,616\u001b[0m │ max_pooling2d_3[\u001b[38;5;34m…\u001b[0m │\n",
       "│                     │ \u001b[38;5;34m1024\u001b[0m)             │            │                   │\n",
       "├─────────────────────┼───────────────────┼────────────┼───────────────────┤\n",
       "│ batch_normalizatio… │ (\u001b[38;5;45mNone\u001b[0m, \u001b[38;5;34m4\u001b[0m, \u001b[38;5;34m8\u001b[0m,      │      \u001b[38;5;34m4,096\u001b[0m │ conv2d_8[\u001b[38;5;34m0\u001b[0m][\u001b[38;5;34m0\u001b[0m]    │\n",
       "│ (\u001b[38;5;33mBatchNormalizatio…\u001b[0m │ \u001b[38;5;34m1024\u001b[0m)             │            │                   │\n",
       "├─────────────────────┼───────────────────┼────────────┼───────────────────┤\n",
       "│ activation_8        │ (\u001b[38;5;45mNone\u001b[0m, \u001b[38;5;34m4\u001b[0m, \u001b[38;5;34m8\u001b[0m,      │          \u001b[38;5;34m0\u001b[0m │ batch_normalizat… │\n",
       "│ (\u001b[38;5;33mActivation\u001b[0m)        │ \u001b[38;5;34m1024\u001b[0m)             │            │                   │\n",
       "├─────────────────────┼───────────────────┼────────────┼───────────────────┤\n",
       "│ conv2d_9 (\u001b[38;5;33mConv2D\u001b[0m)   │ (\u001b[38;5;45mNone\u001b[0m, \u001b[38;5;34m4\u001b[0m, \u001b[38;5;34m8\u001b[0m,      │  \u001b[38;5;34m9,438,208\u001b[0m │ activation_8[\u001b[38;5;34m0\u001b[0m][\u001b[38;5;34m…\u001b[0m │\n",
       "│                     │ \u001b[38;5;34m1024\u001b[0m)             │            │                   │\n",
       "├─────────────────────┼───────────────────┼────────────┼───────────────────┤\n",
       "│ batch_normalizatio… │ (\u001b[38;5;45mNone\u001b[0m, \u001b[38;5;34m4\u001b[0m, \u001b[38;5;34m8\u001b[0m,      │      \u001b[38;5;34m4,096\u001b[0m │ conv2d_9[\u001b[38;5;34m0\u001b[0m][\u001b[38;5;34m0\u001b[0m]    │\n",
       "│ (\u001b[38;5;33mBatchNormalizatio…\u001b[0m │ \u001b[38;5;34m1024\u001b[0m)             │            │                   │\n",
       "├─────────────────────┼───────────────────┼────────────┼───────────────────┤\n",
       "│ activation_9        │ (\u001b[38;5;45mNone\u001b[0m, \u001b[38;5;34m4\u001b[0m, \u001b[38;5;34m8\u001b[0m,      │          \u001b[38;5;34m0\u001b[0m │ batch_normalizat… │\n",
       "│ (\u001b[38;5;33mActivation\u001b[0m)        │ \u001b[38;5;34m1024\u001b[0m)             │            │                   │\n",
       "├─────────────────────┼───────────────────┼────────────┼───────────────────┤\n",
       "│ conv2d_10 (\u001b[38;5;33mConv2D\u001b[0m)  │ (\u001b[38;5;45mNone\u001b[0m, \u001b[38;5;34m8\u001b[0m, \u001b[38;5;34m16\u001b[0m, \u001b[38;5;34m1\u001b[0m)  │        \u001b[38;5;34m513\u001b[0m │ activation_7[\u001b[38;5;34m0\u001b[0m][\u001b[38;5;34m…\u001b[0m │\n",
       "├─────────────────────┼───────────────────┼────────────┼───────────────────┤\n",
       "│ conv2d_transpose    │ (\u001b[38;5;45mNone\u001b[0m, \u001b[38;5;34m8\u001b[0m, \u001b[38;5;34m16\u001b[0m,     │  \u001b[38;5;34m2,097,664\u001b[0m │ activation_9[\u001b[38;5;34m0\u001b[0m][\u001b[38;5;34m…\u001b[0m │\n",
       "│ (\u001b[38;5;33mConv2DTranspose\u001b[0m)   │ \u001b[38;5;34m512\u001b[0m)              │            │                   │\n",
       "├─────────────────────┼───────────────────┼────────────┼───────────────────┤\n",
       "│ multiply (\u001b[38;5;33mMultiply\u001b[0m) │ (\u001b[38;5;45mNone\u001b[0m, \u001b[38;5;34m8\u001b[0m, \u001b[38;5;34m16\u001b[0m,     │          \u001b[38;5;34m0\u001b[0m │ conv2d_10[\u001b[38;5;34m0\u001b[0m][\u001b[38;5;34m0\u001b[0m],  │\n",
       "│                     │ \u001b[38;5;34m512\u001b[0m)              │            │ activation_7[\u001b[38;5;34m0\u001b[0m][\u001b[38;5;34m…\u001b[0m │\n",
       "├─────────────────────┼───────────────────┼────────────┼───────────────────┤\n",
       "│ conv2d_11 (\u001b[38;5;33mConv2D\u001b[0m)  │ (\u001b[38;5;45mNone\u001b[0m, \u001b[38;5;34m8\u001b[0m, \u001b[38;5;34m16\u001b[0m,     │    \u001b[38;5;34m262,656\u001b[0m │ conv2d_transpose… │\n",
       "│                     │ \u001b[38;5;34m512\u001b[0m)              │            │                   │\n",
       "├─────────────────────┼───────────────────┼────────────┼───────────────────┤\n",
       "│ concatenate         │ (\u001b[38;5;45mNone\u001b[0m, \u001b[38;5;34m8\u001b[0m, \u001b[38;5;34m16\u001b[0m,     │          \u001b[38;5;34m0\u001b[0m │ multiply[\u001b[38;5;34m0\u001b[0m][\u001b[38;5;34m0\u001b[0m],   │\n",
       "│ (\u001b[38;5;33mConcatenate\u001b[0m)       │ \u001b[38;5;34m1024\u001b[0m)             │            │ conv2d_11[\u001b[38;5;34m0\u001b[0m][\u001b[38;5;34m0\u001b[0m]   │\n",
       "├─────────────────────┼───────────────────┼────────────┼───────────────────┤\n",
       "│ conv2d_12 (\u001b[38;5;33mConv2D\u001b[0m)  │ (\u001b[38;5;45mNone\u001b[0m, \u001b[38;5;34m8\u001b[0m, \u001b[38;5;34m16\u001b[0m,     │  \u001b[38;5;34m4,719,104\u001b[0m │ concatenate[\u001b[38;5;34m0\u001b[0m][\u001b[38;5;34m0\u001b[0m] │\n",
       "│                     │ \u001b[38;5;34m512\u001b[0m)              │            │                   │\n",
       "├─────────────────────┼───────────────────┼────────────┼───────────────────┤\n",
       "│ batch_normalizatio… │ (\u001b[38;5;45mNone\u001b[0m, \u001b[38;5;34m8\u001b[0m, \u001b[38;5;34m16\u001b[0m,     │      \u001b[38;5;34m2,048\u001b[0m │ conv2d_12[\u001b[38;5;34m0\u001b[0m][\u001b[38;5;34m0\u001b[0m]   │\n",
       "│ (\u001b[38;5;33mBatchNormalizatio…\u001b[0m │ \u001b[38;5;34m512\u001b[0m)              │            │                   │\n",
       "├─────────────────────┼───────────────────┼────────────┼───────────────────┤\n",
       "│ activation_10       │ (\u001b[38;5;45mNone\u001b[0m, \u001b[38;5;34m8\u001b[0m, \u001b[38;5;34m16\u001b[0m,     │          \u001b[38;5;34m0\u001b[0m │ batch_normalizat… │\n",
       "│ (\u001b[38;5;33mActivation\u001b[0m)        │ \u001b[38;5;34m512\u001b[0m)              │            │                   │\n",
       "├─────────────────────┼───────────────────┼────────────┼───────────────────┤\n",
       "│ conv2d_13 (\u001b[38;5;33mConv2D\u001b[0m)  │ (\u001b[38;5;45mNone\u001b[0m, \u001b[38;5;34m8\u001b[0m, \u001b[38;5;34m16\u001b[0m,     │  \u001b[38;5;34m2,359,808\u001b[0m │ activation_10[\u001b[38;5;34m0\u001b[0m]… │\n",
       "│                     │ \u001b[38;5;34m512\u001b[0m)              │            │                   │\n",
       "├─────────────────────┼───────────────────┼────────────┼───────────────────┤\n",
       "│ batch_normalizatio… │ (\u001b[38;5;45mNone\u001b[0m, \u001b[38;5;34m8\u001b[0m, \u001b[38;5;34m16\u001b[0m,     │      \u001b[38;5;34m2,048\u001b[0m │ conv2d_13[\u001b[38;5;34m0\u001b[0m][\u001b[38;5;34m0\u001b[0m]   │\n",
       "│ (\u001b[38;5;33mBatchNormalizatio…\u001b[0m │ \u001b[38;5;34m512\u001b[0m)              │            │                   │\n",
       "├─────────────────────┼───────────────────┼────────────┼───────────────────┤\n",
       "│ activation_11       │ (\u001b[38;5;45mNone\u001b[0m, \u001b[38;5;34m8\u001b[0m, \u001b[38;5;34m16\u001b[0m,     │          \u001b[38;5;34m0\u001b[0m │ batch_normalizat… │\n",
       "│ (\u001b[38;5;33mActivation\u001b[0m)        │ \u001b[38;5;34m512\u001b[0m)              │            │                   │\n",
       "├─────────────────────┼───────────────────┼────────────┼───────────────────┤\n",
       "│ conv2d_14 (\u001b[38;5;33mConv2D\u001b[0m)  │ (\u001b[38;5;45mNone\u001b[0m, \u001b[38;5;34m16\u001b[0m, \u001b[38;5;34m32\u001b[0m, \u001b[38;5;34m1\u001b[0m) │        \u001b[38;5;34m257\u001b[0m │ activation_5[\u001b[38;5;34m0\u001b[0m][\u001b[38;5;34m…\u001b[0m │\n",
       "├─────────────────────┼───────────────────┼────────────┼───────────────────┤\n",
       "│ conv2d_transpose_1  │ (\u001b[38;5;45mNone\u001b[0m, \u001b[38;5;34m16\u001b[0m, \u001b[38;5;34m32\u001b[0m,    │    \u001b[38;5;34m524,544\u001b[0m │ activation_11[\u001b[38;5;34m0\u001b[0m]… │\n",
       "│ (\u001b[38;5;33mConv2DTranspose\u001b[0m)   │ \u001b[38;5;34m256\u001b[0m)              │            │                   │\n",
       "├─────────────────────┼───────────────────┼────────────┼───────────────────┤\n",
       "│ multiply_1          │ (\u001b[38;5;45mNone\u001b[0m, \u001b[38;5;34m16\u001b[0m, \u001b[38;5;34m32\u001b[0m,    │          \u001b[38;5;34m0\u001b[0m │ conv2d_14[\u001b[38;5;34m0\u001b[0m][\u001b[38;5;34m0\u001b[0m],  │\n",
       "│ (\u001b[38;5;33mMultiply\u001b[0m)          │ \u001b[38;5;34m256\u001b[0m)              │            │ activation_5[\u001b[38;5;34m0\u001b[0m][\u001b[38;5;34m…\u001b[0m │\n",
       "├─────────────────────┼───────────────────┼────────────┼───────────────────┤\n",
       "│ conv2d_15 (\u001b[38;5;33mConv2D\u001b[0m)  │ (\u001b[38;5;45mNone\u001b[0m, \u001b[38;5;34m16\u001b[0m, \u001b[38;5;34m32\u001b[0m,    │     \u001b[38;5;34m65,792\u001b[0m │ conv2d_transpose… │\n",
       "│                     │ \u001b[38;5;34m256\u001b[0m)              │            │                   │\n",
       "├─────────────────────┼───────────────────┼────────────┼───────────────────┤\n",
       "│ concatenate_1       │ (\u001b[38;5;45mNone\u001b[0m, \u001b[38;5;34m16\u001b[0m, \u001b[38;5;34m32\u001b[0m,    │          \u001b[38;5;34m0\u001b[0m │ multiply_1[\u001b[38;5;34m0\u001b[0m][\u001b[38;5;34m0\u001b[0m], │\n",
       "│ (\u001b[38;5;33mConcatenate\u001b[0m)       │ \u001b[38;5;34m512\u001b[0m)              │            │ conv2d_15[\u001b[38;5;34m0\u001b[0m][\u001b[38;5;34m0\u001b[0m]   │\n",
       "├─────────────────────┼───────────────────┼────────────┼───────────────────┤\n",
       "│ conv2d_16 (\u001b[38;5;33mConv2D\u001b[0m)  │ (\u001b[38;5;45mNone\u001b[0m, \u001b[38;5;34m16\u001b[0m, \u001b[38;5;34m32\u001b[0m,    │  \u001b[38;5;34m1,179,904\u001b[0m │ concatenate_1[\u001b[38;5;34m0\u001b[0m]… │\n",
       "│                     │ \u001b[38;5;34m256\u001b[0m)              │            │                   │\n",
       "├─────────────────────┼───────────────────┼────────────┼───────────────────┤\n",
       "│ batch_normalizatio… │ (\u001b[38;5;45mNone\u001b[0m, \u001b[38;5;34m16\u001b[0m, \u001b[38;5;34m32\u001b[0m,    │      \u001b[38;5;34m1,024\u001b[0m │ conv2d_16[\u001b[38;5;34m0\u001b[0m][\u001b[38;5;34m0\u001b[0m]   │\n",
       "│ (\u001b[38;5;33mBatchNormalizatio…\u001b[0m │ \u001b[38;5;34m256\u001b[0m)              │            │                   │\n",
       "├─────────────────────┼───────────────────┼────────────┼───────────────────┤\n",
       "│ activation_12       │ (\u001b[38;5;45mNone\u001b[0m, \u001b[38;5;34m16\u001b[0m, \u001b[38;5;34m32\u001b[0m,    │          \u001b[38;5;34m0\u001b[0m │ batch_normalizat… │\n",
       "│ (\u001b[38;5;33mActivation\u001b[0m)        │ \u001b[38;5;34m256\u001b[0m)              │            │                   │\n",
       "├─────────────────────┼───────────────────┼────────────┼───────────────────┤\n",
       "│ conv2d_17 (\u001b[38;5;33mConv2D\u001b[0m)  │ (\u001b[38;5;45mNone\u001b[0m, \u001b[38;5;34m16\u001b[0m, \u001b[38;5;34m32\u001b[0m,    │    \u001b[38;5;34m590,080\u001b[0m │ activation_12[\u001b[38;5;34m0\u001b[0m]… │\n",
       "│                     │ \u001b[38;5;34m256\u001b[0m)              │            │                   │\n",
       "├─────────────────────┼───────────────────┼────────────┼───────────────────┤\n",
       "│ batch_normalizatio… │ (\u001b[38;5;45mNone\u001b[0m, \u001b[38;5;34m16\u001b[0m, \u001b[38;5;34m32\u001b[0m,    │      \u001b[38;5;34m1,024\u001b[0m │ conv2d_17[\u001b[38;5;34m0\u001b[0m][\u001b[38;5;34m0\u001b[0m]   │\n",
       "│ (\u001b[38;5;33mBatchNormalizatio…\u001b[0m │ \u001b[38;5;34m256\u001b[0m)              │            │                   │\n",
       "├─────────────────────┼───────────────────┼────────────┼───────────────────┤\n",
       "│ activation_13       │ (\u001b[38;5;45mNone\u001b[0m, \u001b[38;5;34m16\u001b[0m, \u001b[38;5;34m32\u001b[0m,    │          \u001b[38;5;34m0\u001b[0m │ batch_normalizat… │\n",
       "│ (\u001b[38;5;33mActivation\u001b[0m)        │ \u001b[38;5;34m256\u001b[0m)              │            │                   │\n",
       "├─────────────────────┼───────────────────┼────────────┼───────────────────┤\n",
       "│ conv2d_18 (\u001b[38;5;33mConv2D\u001b[0m)  │ (\u001b[38;5;45mNone\u001b[0m, \u001b[38;5;34m32\u001b[0m, \u001b[38;5;34m64\u001b[0m, \u001b[38;5;34m1\u001b[0m) │        \u001b[38;5;34m129\u001b[0m │ activation_3[\u001b[38;5;34m0\u001b[0m][\u001b[38;5;34m…\u001b[0m │\n",
       "├─────────────────────┼───────────────────┼────────────┼───────────────────┤\n",
       "│ conv2d_transpose_2  │ (\u001b[38;5;45mNone\u001b[0m, \u001b[38;5;34m32\u001b[0m, \u001b[38;5;34m64\u001b[0m,    │    \u001b[38;5;34m131,200\u001b[0m │ activation_13[\u001b[38;5;34m0\u001b[0m]… │\n",
       "│ (\u001b[38;5;33mConv2DTranspose\u001b[0m)   │ \u001b[38;5;34m128\u001b[0m)              │            │                   │\n",
       "├─────────────────────┼───────────────────┼────────────┼───────────────────┤\n",
       "│ multiply_2          │ (\u001b[38;5;45mNone\u001b[0m, \u001b[38;5;34m32\u001b[0m, \u001b[38;5;34m64\u001b[0m,    │          \u001b[38;5;34m0\u001b[0m │ conv2d_18[\u001b[38;5;34m0\u001b[0m][\u001b[38;5;34m0\u001b[0m],  │\n",
       "│ (\u001b[38;5;33mMultiply\u001b[0m)          │ \u001b[38;5;34m128\u001b[0m)              │            │ activation_3[\u001b[38;5;34m0\u001b[0m][\u001b[38;5;34m…\u001b[0m │\n",
       "├─────────────────────┼───────────────────┼────────────┼───────────────────┤\n",
       "│ conv2d_19 (\u001b[38;5;33mConv2D\u001b[0m)  │ (\u001b[38;5;45mNone\u001b[0m, \u001b[38;5;34m32\u001b[0m, \u001b[38;5;34m64\u001b[0m,    │     \u001b[38;5;34m16,512\u001b[0m │ conv2d_transpose… │\n",
       "│                     │ \u001b[38;5;34m128\u001b[0m)              │            │                   │\n",
       "├─────────────────────┼───────────────────┼────────────┼───────────────────┤\n",
       "│ concatenate_2       │ (\u001b[38;5;45mNone\u001b[0m, \u001b[38;5;34m32\u001b[0m, \u001b[38;5;34m64\u001b[0m,    │          \u001b[38;5;34m0\u001b[0m │ multiply_2[\u001b[38;5;34m0\u001b[0m][\u001b[38;5;34m0\u001b[0m], │\n",
       "│ (\u001b[38;5;33mConcatenate\u001b[0m)       │ \u001b[38;5;34m256\u001b[0m)              │            │ conv2d_19[\u001b[38;5;34m0\u001b[0m][\u001b[38;5;34m0\u001b[0m]   │\n",
       "├─────────────────────┼───────────────────┼────────────┼───────────────────┤\n",
       "│ conv2d_20 (\u001b[38;5;33mConv2D\u001b[0m)  │ (\u001b[38;5;45mNone\u001b[0m, \u001b[38;5;34m32\u001b[0m, \u001b[38;5;34m64\u001b[0m,    │    \u001b[38;5;34m295,040\u001b[0m │ concatenate_2[\u001b[38;5;34m0\u001b[0m]… │\n",
       "│                     │ \u001b[38;5;34m128\u001b[0m)              │            │                   │\n",
       "├─────────────────────┼───────────────────┼────────────┼───────────────────┤\n",
       "│ batch_normalizatio… │ (\u001b[38;5;45mNone\u001b[0m, \u001b[38;5;34m32\u001b[0m, \u001b[38;5;34m64\u001b[0m,    │        \u001b[38;5;34m512\u001b[0m │ conv2d_20[\u001b[38;5;34m0\u001b[0m][\u001b[38;5;34m0\u001b[0m]   │\n",
       "│ (\u001b[38;5;33mBatchNormalizatio…\u001b[0m │ \u001b[38;5;34m128\u001b[0m)              │            │                   │\n",
       "├─────────────────────┼───────────────────┼────────────┼───────────────────┤\n",
       "│ activation_14       │ (\u001b[38;5;45mNone\u001b[0m, \u001b[38;5;34m32\u001b[0m, \u001b[38;5;34m64\u001b[0m,    │          \u001b[38;5;34m0\u001b[0m │ batch_normalizat… │\n",
       "│ (\u001b[38;5;33mActivation\u001b[0m)        │ \u001b[38;5;34m128\u001b[0m)              │            │                   │\n",
       "├─────────────────────┼───────────────────┼────────────┼───────────────────┤\n",
       "│ conv2d_21 (\u001b[38;5;33mConv2D\u001b[0m)  │ (\u001b[38;5;45mNone\u001b[0m, \u001b[38;5;34m32\u001b[0m, \u001b[38;5;34m64\u001b[0m,    │    \u001b[38;5;34m147,584\u001b[0m │ activation_14[\u001b[38;5;34m0\u001b[0m]… │\n",
       "│                     │ \u001b[38;5;34m128\u001b[0m)              │            │                   │\n",
       "├─────────────────────┼───────────────────┼────────────┼───────────────────┤\n",
       "│ batch_normalizatio… │ (\u001b[38;5;45mNone\u001b[0m, \u001b[38;5;34m32\u001b[0m, \u001b[38;5;34m64\u001b[0m,    │        \u001b[38;5;34m512\u001b[0m │ conv2d_21[\u001b[38;5;34m0\u001b[0m][\u001b[38;5;34m0\u001b[0m]   │\n",
       "│ (\u001b[38;5;33mBatchNormalizatio…\u001b[0m │ \u001b[38;5;34m128\u001b[0m)              │            │                   │\n",
       "├─────────────────────┼───────────────────┼────────────┼───────────────────┤\n",
       "│ activation_15       │ (\u001b[38;5;45mNone\u001b[0m, \u001b[38;5;34m32\u001b[0m, \u001b[38;5;34m64\u001b[0m,    │          \u001b[38;5;34m0\u001b[0m │ batch_normalizat… │\n",
       "│ (\u001b[38;5;33mActivation\u001b[0m)        │ \u001b[38;5;34m128\u001b[0m)              │            │                   │\n",
       "├─────────────────────┼───────────────────┼────────────┼───────────────────┤\n",
       "│ conv2d_22 (\u001b[38;5;33mConv2D\u001b[0m)  │ (\u001b[38;5;45mNone\u001b[0m, \u001b[38;5;34m64\u001b[0m, \u001b[38;5;34m128\u001b[0m,   │         \u001b[38;5;34m65\u001b[0m │ activation_1[\u001b[38;5;34m0\u001b[0m][\u001b[38;5;34m…\u001b[0m │\n",
       "│                     │ \u001b[38;5;34m1\u001b[0m)                │            │                   │\n",
       "├─────────────────────┼───────────────────┼────────────┼───────────────────┤\n",
       "│ conv2d_transpose_3  │ (\u001b[38;5;45mNone\u001b[0m, \u001b[38;5;34m64\u001b[0m, \u001b[38;5;34m128\u001b[0m,   │     \u001b[38;5;34m32,832\u001b[0m │ activation_15[\u001b[38;5;34m0\u001b[0m]… │\n",
       "│ (\u001b[38;5;33mConv2DTranspose\u001b[0m)   │ \u001b[38;5;34m64\u001b[0m)               │            │                   │\n",
       "├─────────────────────┼───────────────────┼────────────┼───────────────────┤\n",
       "│ multiply_3          │ (\u001b[38;5;45mNone\u001b[0m, \u001b[38;5;34m64\u001b[0m, \u001b[38;5;34m128\u001b[0m,   │          \u001b[38;5;34m0\u001b[0m │ conv2d_22[\u001b[38;5;34m0\u001b[0m][\u001b[38;5;34m0\u001b[0m],  │\n",
       "│ (\u001b[38;5;33mMultiply\u001b[0m)          │ \u001b[38;5;34m64\u001b[0m)               │            │ activation_1[\u001b[38;5;34m0\u001b[0m][\u001b[38;5;34m…\u001b[0m │\n",
       "├─────────────────────┼───────────────────┼────────────┼───────────────────┤\n",
       "│ conv2d_23 (\u001b[38;5;33mConv2D\u001b[0m)  │ (\u001b[38;5;45mNone\u001b[0m, \u001b[38;5;34m64\u001b[0m, \u001b[38;5;34m128\u001b[0m,   │      \u001b[38;5;34m4,160\u001b[0m │ conv2d_transpose… │\n",
       "│                     │ \u001b[38;5;34m64\u001b[0m)               │            │                   │\n",
       "├─────────────────────┼───────────────────┼────────────┼───────────────────┤\n",
       "│ concatenate_3       │ (\u001b[38;5;45mNone\u001b[0m, \u001b[38;5;34m64\u001b[0m, \u001b[38;5;34m128\u001b[0m,   │          \u001b[38;5;34m0\u001b[0m │ multiply_3[\u001b[38;5;34m0\u001b[0m][\u001b[38;5;34m0\u001b[0m], │\n",
       "│ (\u001b[38;5;33mConcatenate\u001b[0m)       │ \u001b[38;5;34m128\u001b[0m)              │            │ conv2d_23[\u001b[38;5;34m0\u001b[0m][\u001b[38;5;34m0\u001b[0m]   │\n",
       "├─────────────────────┼───────────────────┼────────────┼───────────────────┤\n",
       "│ conv2d_24 (\u001b[38;5;33mConv2D\u001b[0m)  │ (\u001b[38;5;45mNone\u001b[0m, \u001b[38;5;34m64\u001b[0m, \u001b[38;5;34m128\u001b[0m,   │     \u001b[38;5;34m73,792\u001b[0m │ concatenate_3[\u001b[38;5;34m0\u001b[0m]… │\n",
       "│                     │ \u001b[38;5;34m64\u001b[0m)               │            │                   │\n",
       "├─────────────────────┼───────────────────┼────────────┼───────────────────┤\n",
       "│ batch_normalizatio… │ (\u001b[38;5;45mNone\u001b[0m, \u001b[38;5;34m64\u001b[0m, \u001b[38;5;34m128\u001b[0m,   │        \u001b[38;5;34m256\u001b[0m │ conv2d_24[\u001b[38;5;34m0\u001b[0m][\u001b[38;5;34m0\u001b[0m]   │\n",
       "│ (\u001b[38;5;33mBatchNormalizatio…\u001b[0m │ \u001b[38;5;34m64\u001b[0m)               │            │                   │\n",
       "├─────────────────────┼───────────────────┼────────────┼───────────────────┤\n",
       "│ activation_16       │ (\u001b[38;5;45mNone\u001b[0m, \u001b[38;5;34m64\u001b[0m, \u001b[38;5;34m128\u001b[0m,   │          \u001b[38;5;34m0\u001b[0m │ batch_normalizat… │\n",
       "│ (\u001b[38;5;33mActivation\u001b[0m)        │ \u001b[38;5;34m64\u001b[0m)               │            │                   │\n",
       "├─────────────────────┼───────────────────┼────────────┼───────────────────┤\n",
       "│ conv2d_25 (\u001b[38;5;33mConv2D\u001b[0m)  │ (\u001b[38;5;45mNone\u001b[0m, \u001b[38;5;34m64\u001b[0m, \u001b[38;5;34m128\u001b[0m,   │     \u001b[38;5;34m36,928\u001b[0m │ activation_16[\u001b[38;5;34m0\u001b[0m]… │\n",
       "│                     │ \u001b[38;5;34m64\u001b[0m)               │            │                   │\n",
       "├─────────────────────┼───────────────────┼────────────┼───────────────────┤\n",
       "│ batch_normalizatio… │ (\u001b[38;5;45mNone\u001b[0m, \u001b[38;5;34m64\u001b[0m, \u001b[38;5;34m128\u001b[0m,   │        \u001b[38;5;34m256\u001b[0m │ conv2d_25[\u001b[38;5;34m0\u001b[0m][\u001b[38;5;34m0\u001b[0m]   │\n",
       "│ (\u001b[38;5;33mBatchNormalizatio…\u001b[0m │ \u001b[38;5;34m64\u001b[0m)               │            │                   │\n",
       "├─────────────────────┼───────────────────┼────────────┼───────────────────┤\n",
       "│ activation_17       │ (\u001b[38;5;45mNone\u001b[0m, \u001b[38;5;34m64\u001b[0m, \u001b[38;5;34m128\u001b[0m,   │          \u001b[38;5;34m0\u001b[0m │ batch_normalizat… │\n",
       "│ (\u001b[38;5;33mActivation\u001b[0m)        │ \u001b[38;5;34m64\u001b[0m)               │            │                   │\n",
       "├─────────────────────┼───────────────────┼────────────┼───────────────────┤\n",
       "│ output_3 (\u001b[38;5;33mConv2D\u001b[0m)   │ (\u001b[38;5;45mNone\u001b[0m, \u001b[38;5;34m8\u001b[0m, \u001b[38;5;34m16\u001b[0m, \u001b[38;5;34m5\u001b[0m)  │      \u001b[38;5;34m2,565\u001b[0m │ activation_11[\u001b[38;5;34m0\u001b[0m]… │\n",
       "├─────────────────────┼───────────────────┼────────────┼───────────────────┤\n",
       "│ output_2 (\u001b[38;5;33mConv2D\u001b[0m)   │ (\u001b[38;5;45mNone\u001b[0m, \u001b[38;5;34m16\u001b[0m, \u001b[38;5;34m32\u001b[0m, \u001b[38;5;34m5\u001b[0m) │      \u001b[38;5;34m1,285\u001b[0m │ activation_13[\u001b[38;5;34m0\u001b[0m]… │\n",
       "├─────────────────────┼───────────────────┼────────────┼───────────────────┤\n",
       "│ output_1 (\u001b[38;5;33mConv2D\u001b[0m)   │ (\u001b[38;5;45mNone\u001b[0m, \u001b[38;5;34m32\u001b[0m, \u001b[38;5;34m64\u001b[0m, \u001b[38;5;34m5\u001b[0m) │        \u001b[38;5;34m645\u001b[0m │ activation_15[\u001b[38;5;34m0\u001b[0m]… │\n",
       "├─────────────────────┼───────────────────┼────────────┼───────────────────┤\n",
       "│ final_output        │ (\u001b[38;5;45mNone\u001b[0m, \u001b[38;5;34m64\u001b[0m, \u001b[38;5;34m128\u001b[0m,   │        \u001b[38;5;34m325\u001b[0m │ activation_17[\u001b[38;5;34m0\u001b[0m]… │\n",
       "│ (\u001b[38;5;33mConv2D\u001b[0m)            │ \u001b[38;5;34m5\u001b[0m)                │            │                   │\n",
       "└─────────────────────┴───────────────────┴────────────┴───────────────────┘\n"
      ]
     },
     "metadata": {},
     "output_type": "display_data"
    },
    {
     "data": {
      "text/html": [
       "<pre style=\"white-space:pre;overflow-x:auto;line-height:normal;font-family:Menlo,'DejaVu Sans Mono',consolas,'Courier New',monospace\"><span style=\"font-weight: bold\"> Total params: </span><span style=\"color: #00af00; text-decoration-color: #00af00\">31,408,984</span> (119.82 MB)\n",
       "</pre>\n"
      ],
      "text/plain": [
       "\u001b[1m Total params: \u001b[0m\u001b[38;5;34m31,408,984\u001b[0m (119.82 MB)\n"
      ]
     },
     "metadata": {},
     "output_type": "display_data"
    },
    {
     "data": {
      "text/html": [
       "<pre style=\"white-space:pre;overflow-x:auto;line-height:normal;font-family:Menlo,'DejaVu Sans Mono',consolas,'Courier New',monospace\"><span style=\"font-weight: bold\"> Trainable params: </span><span style=\"color: #00af00; text-decoration-color: #00af00\">31,397,208</span> (119.77 MB)\n",
       "</pre>\n"
      ],
      "text/plain": [
       "\u001b[1m Trainable params: \u001b[0m\u001b[38;5;34m31,397,208\u001b[0m (119.77 MB)\n"
      ]
     },
     "metadata": {},
     "output_type": "display_data"
    },
    {
     "data": {
      "text/html": [
       "<pre style=\"white-space:pre;overflow-x:auto;line-height:normal;font-family:Menlo,'DejaVu Sans Mono',consolas,'Courier New',monospace\"><span style=\"font-weight: bold\"> Non-trainable params: </span><span style=\"color: #00af00; text-decoration-color: #00af00\">11,776</span> (46.00 KB)\n",
       "</pre>\n"
      ],
      "text/plain": [
       "\u001b[1m Non-trainable params: \u001b[0m\u001b[38;5;34m11,776\u001b[0m (46.00 KB)\n"
      ]
     },
     "metadata": {},
     "output_type": "display_data"
    }
   ],
   "source": [
    "model.summary()"
   ]
  },
  {
   "cell_type": "markdown",
   "id": "bf9514cc",
   "metadata": {
    "papermill": {
     "duration": 0.010995,
     "end_time": "2024-12-14T16:29:36.683734",
     "exception": false,
     "start_time": "2024-12-14T16:29:36.672739",
     "status": "completed"
    },
    "tags": []
   },
   "source": [
    "## Compile the Model"
   ]
  },
  {
   "cell_type": "markdown",
   "id": "b5b52720",
   "metadata": {
    "papermill": {
     "duration": 0.011556,
     "end_time": "2024-12-14T16:29:36.706474",
     "exception": false,
     "start_time": "2024-12-14T16:29:36.694918",
     "status": "completed"
    },
    "tags": []
   },
   "source": [
    "There are the loss fucntions that we have tried:\n",
    "\n",
    " - Mean IoU (Intersection over Union): Measures the overlap between predicted and true masks for each class, averaged over all classes. It’s used to evaluate segmentation accuracy.\n",
    "\n",
    " - Focal Loss: Modifies cross-entropy by focusing on hard-to-classify examples, especially in imbalanced datasets. It uses a gamma parameter to down-weight easy examples and an alpha parameter to balance class importance.\n",
    "\n",
    " - Dice Loss: Focuses on maximizing the overlap between predicted and true masks, useful for segmentation tasks. It computes the Dice coefficient and minimizes 1 - Dice to improve the model's accuracy.\n",
    "\n",
    " - Combined Focal + Dice Loss: Combines focal and dice losses to handle class imbalance while ensuring better overlap between predictions and true masks.\n",
    "\n",
    " - Sparse Categorical Cross-Entropy: Used for multi-class classification tasks, this loss compares predicted class probabilities with true class labels, penalizing incorrect predictions.\n",
    "\n",
    "Each loss function is used in the model’s outputs to optimize different aspects of the segmentation task. At the end focal loss with gamma 3 had the best result."
   ]
  },
  {
   "cell_type": "code",
   "execution_count": 12,
   "id": "5bf6fd58",
   "metadata": {
    "execution": {
     "iopub.execute_input": "2024-12-14T16:29:36.730580Z",
     "iopub.status.busy": "2024-12-14T16:29:36.729855Z",
     "iopub.status.idle": "2024-12-14T16:29:36.748202Z",
     "shell.execute_reply": "2024-12-14T16:29:36.747551Z"
    },
    "papermill": {
     "duration": 0.031885,
     "end_time": "2024-12-14T16:29:36.749646",
     "exception": false,
     "start_time": "2024-12-14T16:29:36.717761",
     "status": "completed"
    },
    "tags": []
   },
   "outputs": [],
   "source": [
    "# Learning Rate Reduction callback\n",
    "lr_reducer = ReduceLROnPlateau(\n",
    "    monitor='val_loss', \n",
    "    factor=0.6, \n",
    "    patience=7, \n",
    "    verbose=1, \n",
    "    min_lr=1e-6\n",
    ")\n",
    "\n",
    "# Early Stopping callback\n",
    "early_stopping = EarlyStopping(\n",
    "    monitor='val_loss', \n",
    "    patience=25, \n",
    "    verbose=1, \n",
    "    restore_best_weights=True\n",
    ")\n",
    "\n",
    "# Multi-Class IoU metric\n",
    "def mean_IoU(y_true, y_pred, num_classes=5):\n",
    "    y_pred = K.argmax(y_pred, axis=-1)\n",
    "    y_pred = K.cast(y_pred, 'int32')\n",
    "    y_true = K.cast(y_true, 'int32')\n",
    "    iou = 0.0\n",
    "    for c in range(num_classes):\n",
    "        y_true_c = K.cast(K.equal(y_true, c), 'float32')\n",
    "        y_pred_c = K.cast(K.equal(y_pred, c), 'float32')\n",
    "        intersection = K.sum(y_true_c * y_pred_c)\n",
    "        union = K.sum(y_true_c) + K.sum(y_pred_c) - intersection\n",
    "        iou_class = (intersection + 1e-6) / (union + 1e-6)\n",
    "        iou += iou_class\n",
    "    mean_iou_value = iou / num_classes\n",
    "    return mean_iou_value\n",
    "\n",
    "\n",
    "def focal_loss(gamma=2., alpha=.25):\n",
    "    def focal_loss_fixed(y_true, y_pred):\n",
    "        y_true = tf.cast(y_true, tf.int32)\n",
    "        y_true_one_hot = tf.one_hot(y_true, depth=tf.shape(y_pred)[-1])\n",
    "        epsilon = K.epsilon()\n",
    "        y_pred = K.clip(y_pred, epsilon, 1. - epsilon)\n",
    "        cross_entropy = -y_true_one_hot * K.log(y_pred)\n",
    "        weight = alpha * K.pow(1 - y_pred, gamma)\n",
    "        loss = weight * cross_entropy\n",
    "        loss = K.sum(loss, axis=-1)\n",
    "        return loss\n",
    "\n",
    "    return focal_loss_fixed\n",
    "\n",
    "# def dice_loss(smooth=1e-6):\n",
    "#     def dice_loss_fixed(y_true, y_pred):\n",
    "#         y_true = tf.cast(y_true, tf.int32)\n",
    "#         y_true_one_hot = tf.one_hot(y_true, depth=tf.shape(y_pred)[-1])\n",
    "\n",
    "#         # Per-class Dice\n",
    "#         intersection = K.sum(y_true_one_hot * y_pred, axis=0)\n",
    "#         union = K.sum(y_true_one_hot, axis=0) + K.sum(y_pred, axis=0)\n",
    "#         dice_coeff = (2. * intersection + smooth) / (union + smooth)\n",
    "#         loss = 1 - K.mean(dice_coeff)\n",
    "#         return loss\n",
    "#     return dice_loss_fixed\n",
    "\n",
    "# def combined_focal_dice_loss(gamma=2., alpha=.25, dice_weight=1.0, focal_weight=1.0):\n",
    "#     fl = focal_loss(gamma=gamma, alpha=alpha)\n",
    "#     dl = dice_loss()\n",
    "\n",
    "#     def combined_loss(y_true, y_pred):\n",
    "#         return focal_weight * fl(y_true, y_pred) + dice_weight * dl(y_true, y_pred)\n",
    "\n",
    "#     return combined_loss\n",
    "\n",
    "# loss_fn = tf.keras.losses.SparseCategoricalCrossentropy()\n",
    "\n",
    "loss_weights = {\n",
    "    'output_1': 0.2,\n",
    "    'output_2': 0.3,\n",
    "    'output_3': 0.5,\n",
    "    'final_output': 1.0  # Final output at (64, 128)\n",
    "}\n",
    "\n",
    "model.compile(\n",
    "    optimizer=Adam(learning_rate=5e-4),\n",
    "    loss={\n",
    "        'output_3': focal_loss(gamma=3., alpha=.25), \n",
    "        'output_2': focal_loss(gamma=3., alpha=.25), \n",
    "        'output_1': focal_loss(gamma=3., alpha=.25), \n",
    "        'final_output': focal_loss(gamma=3., alpha=.25)\n",
    "    },\n",
    "    loss_weights=loss_weights,\n",
    "    metrics={\n",
    "        'output_3': mean_IoU, \n",
    "        'output_2': mean_IoU, \n",
    "        'output_1': mean_IoU, \n",
    "        'final_output': mean_IoU\n",
    "    }\n",
    ")"
   ]
  },
  {
   "cell_type": "markdown",
   "id": "71094186",
   "metadata": {
    "papermill": {
     "duration": 0.011023,
     "end_time": "2024-12-14T16:29:36.772195",
     "exception": false,
     "start_time": "2024-12-14T16:29:36.761172",
     "status": "completed"
    },
    "tags": []
   },
   "source": [
    "## Train the model"
   ]
  },
  {
   "cell_type": "markdown",
   "id": "b28058ba",
   "metadata": {
    "papermill": {
     "duration": 0.011089,
     "end_time": "2024-12-14T16:29:36.794372",
     "exception": false,
     "start_time": "2024-12-14T16:29:36.783283",
     "status": "completed"
    },
    "tags": []
   },
   "source": [
    "This model is trained on the original Mars images (after augmentation and processing), and the output is a mask image that assigns a label to each pixel."
   ]
  },
  {
   "cell_type": "code",
   "execution_count": 13,
   "id": "35f6b9ea",
   "metadata": {
    "execution": {
     "iopub.execute_input": "2024-12-14T16:29:36.818117Z",
     "iopub.status.busy": "2024-12-14T16:29:36.817849Z",
     "iopub.status.idle": "2024-12-14T17:02:51.107509Z",
     "shell.execute_reply": "2024-12-14T17:02:51.106780Z"
    },
    "papermill": {
     "duration": 1994.304159,
     "end_time": "2024-12-14T17:02:51.109595",
     "exception": false,
     "start_time": "2024-12-14T16:29:36.805436",
     "status": "completed"
    },
    "tags": []
   },
   "outputs": [
    {
     "name": "stdout",
     "output_type": "stream",
     "text": [
      "Epoch 1/300\n"
     ]
    },
    {
     "name": "stderr",
     "output_type": "stream",
     "text": [
      "WARNING: All log messages before absl::InitializeLog() is called are written to STDERR\n",
      "I0000 00:00:1734193792.373999     162 service.cc:145] XLA service 0x78b9e804e400 initialized for platform CUDA (this does not guarantee that XLA will be used). Devices:\n",
      "I0000 00:00:1734193792.374051     162 service.cc:153]   StreamExecutor device (0): Tesla T4, Compute Capability 7.5\n",
      "I0000 00:00:1734193792.374055     162 service.cc:153]   StreamExecutor device (1): Tesla T4, Compute Capability 7.5\n",
      "I0000 00:00:1734193833.392521     162 device_compiler.h:188] Compiled cluster using XLA!  This line is logged at most once for the lifetime of the process.\n"
     ]
    },
    {
     "name": "stdout",
     "output_type": "stream",
     "text": [
      "\u001b[1m67/67\u001b[0m \u001b[32m━━━━━━━━━━━━━━━━━━━━\u001b[0m\u001b[37m\u001b[0m \u001b[1m113s\u001b[0m 880ms/step - final_output_mean__io_u: 0.1493 - loss: 0.4479 - output_1_mean__io_u: 0.1620 - output_2_mean__io_u: 0.1660 - output_3_mean__io_u: 0.1321 - val_final_output_mean__io_u: 0.1402 - val_loss: 0.5249 - val_output_1_mean__io_u: 0.1395 - val_output_2_mean__io_u: 0.1549 - val_output_3_mean__io_u: 0.1546 - learning_rate: 5.0000e-04\n",
      "Epoch 2/300\n",
      "\u001b[1m67/67\u001b[0m \u001b[32m━━━━━━━━━━━━━━━━━━━━\u001b[0m\u001b[37m\u001b[0m \u001b[1m18s\u001b[0m 266ms/step - final_output_mean__io_u: 0.2048 - loss: 0.3291 - output_1_mean__io_u: 0.2068 - output_2_mean__io_u: 0.2085 - output_3_mean__io_u: 0.2005 - val_final_output_mean__io_u: 0.1486 - val_loss: 0.6409 - val_output_1_mean__io_u: 0.1891 - val_output_2_mean__io_u: 0.1549 - val_output_3_mean__io_u: 0.1546 - learning_rate: 5.0000e-04\n",
      "Epoch 3/300\n",
      "\u001b[1m67/67\u001b[0m \u001b[32m━━━━━━━━━━━━━━━━━━━━\u001b[0m\u001b[37m\u001b[0m \u001b[1m19s\u001b[0m 278ms/step - final_output_mean__io_u: 0.2628 - loss: 0.2989 - output_1_mean__io_u: 0.2594 - output_2_mean__io_u: 0.2581 - output_3_mean__io_u: 0.2477 - val_final_output_mean__io_u: 0.1386 - val_loss: 0.9940 - val_output_1_mean__io_u: 0.1387 - val_output_2_mean__io_u: 0.1549 - val_output_3_mean__io_u: 0.1546 - learning_rate: 5.0000e-04\n",
      "Epoch 4/300\n",
      "\u001b[1m67/67\u001b[0m \u001b[32m━━━━━━━━━━━━━━━━━━━━\u001b[0m\u001b[37m\u001b[0m \u001b[1m20s\u001b[0m 290ms/step - final_output_mean__io_u: 0.2870 - loss: 0.2809 - output_1_mean__io_u: 0.2903 - output_2_mean__io_u: 0.2902 - output_3_mean__io_u: 0.2850 - val_final_output_mean__io_u: 0.1479 - val_loss: 0.6084 - val_output_1_mean__io_u: 0.1385 - val_output_2_mean__io_u: 0.1556 - val_output_3_mean__io_u: 0.1548 - learning_rate: 5.0000e-04\n",
      "Epoch 5/300\n",
      "\u001b[1m67/67\u001b[0m \u001b[32m━━━━━━━━━━━━━━━━━━━━\u001b[0m\u001b[37m\u001b[0m \u001b[1m20s\u001b[0m 301ms/step - final_output_mean__io_u: 0.3032 - loss: 0.2678 - output_1_mean__io_u: 0.3065 - output_2_mean__io_u: 0.3057 - output_3_mean__io_u: 0.3083 - val_final_output_mean__io_u: 0.1657 - val_loss: 0.6401 - val_output_1_mean__io_u: 0.1514 - val_output_2_mean__io_u: 0.2553 - val_output_3_mean__io_u: 0.1564 - learning_rate: 5.0000e-04\n",
      "Epoch 6/300\n",
      "\u001b[1m67/67\u001b[0m \u001b[32m━━━━━━━━━━━━━━━━━━━━\u001b[0m\u001b[37m\u001b[0m \u001b[1m20s\u001b[0m 295ms/step - final_output_mean__io_u: 0.3215 - loss: 0.2525 - output_1_mean__io_u: 0.3303 - output_2_mean__io_u: 0.3279 - output_3_mean__io_u: 0.3235 - val_final_output_mean__io_u: 0.1292 - val_loss: 0.6703 - val_output_1_mean__io_u: 0.1288 - val_output_2_mean__io_u: 0.1638 - val_output_3_mean__io_u: 0.1001 - learning_rate: 5.0000e-04\n",
      "Epoch 7/300\n",
      "\u001b[1m67/67\u001b[0m \u001b[32m━━━━━━━━━━━━━━━━━━━━\u001b[0m\u001b[37m\u001b[0m \u001b[1m19s\u001b[0m 289ms/step - final_output_mean__io_u: 0.3507 - loss: 0.2417 - output_1_mean__io_u: 0.3524 - output_2_mean__io_u: 0.3516 - output_3_mean__io_u: 0.3485 - val_final_output_mean__io_u: 0.2128 - val_loss: 0.2700 - val_output_1_mean__io_u: 0.2051 - val_output_2_mean__io_u: 0.2083 - val_output_3_mean__io_u: 0.1798 - learning_rate: 5.0000e-04\n",
      "Epoch 8/300\n",
      "\u001b[1m67/67\u001b[0m \u001b[32m━━━━━━━━━━━━━━━━━━━━\u001b[0m\u001b[37m\u001b[0m \u001b[1m19s\u001b[0m 289ms/step - final_output_mean__io_u: 0.3414 - loss: 0.2427 - output_1_mean__io_u: 0.3452 - output_2_mean__io_u: 0.3508 - output_3_mean__io_u: 0.3398 - val_final_output_mean__io_u: 0.1500 - val_loss: 0.6327 - val_output_1_mean__io_u: 0.1395 - val_output_2_mean__io_u: 0.1673 - val_output_3_mean__io_u: 0.1681 - learning_rate: 5.0000e-04\n",
      "Epoch 9/300\n",
      "\u001b[1m67/67\u001b[0m \u001b[32m━━━━━━━━━━━━━━━━━━━━\u001b[0m\u001b[37m\u001b[0m \u001b[1m20s\u001b[0m 297ms/step - final_output_mean__io_u: 0.3464 - loss: 0.2432 - output_1_mean__io_u: 0.3514 - output_2_mean__io_u: 0.3507 - output_3_mean__io_u: 0.3453 - val_final_output_mean__io_u: 0.3563 - val_loss: 0.1800 - val_output_1_mean__io_u: 0.3569 - val_output_2_mean__io_u: 0.3583 - val_output_3_mean__io_u: 0.3455 - learning_rate: 5.0000e-04\n",
      "Epoch 10/300\n",
      "\u001b[1m67/67\u001b[0m \u001b[32m━━━━━━━━━━━━━━━━━━━━\u001b[0m\u001b[37m\u001b[0m \u001b[1m20s\u001b[0m 291ms/step - final_output_mean__io_u: 0.3844 - loss: 0.2178 - output_1_mean__io_u: 0.3875 - output_2_mean__io_u: 0.3897 - output_3_mean__io_u: 0.3812 - val_final_output_mean__io_u: 0.3326 - val_loss: 0.2001 - val_output_1_mean__io_u: 0.3213 - val_output_2_mean__io_u: 0.3320 - val_output_3_mean__io_u: 0.3461 - learning_rate: 5.0000e-04\n",
      "Epoch 11/300\n",
      "\u001b[1m67/67\u001b[0m \u001b[32m━━━━━━━━━━━━━━━━━━━━\u001b[0m\u001b[37m\u001b[0m \u001b[1m20s\u001b[0m 291ms/step - final_output_mean__io_u: 0.3928 - loss: 0.2099 - output_1_mean__io_u: 0.3911 - output_2_mean__io_u: 0.3987 - output_3_mean__io_u: 0.3881 - val_final_output_mean__io_u: 0.3472 - val_loss: 0.1742 - val_output_1_mean__io_u: 0.3534 - val_output_2_mean__io_u: 0.3669 - val_output_3_mean__io_u: 0.3831 - learning_rate: 5.0000e-04\n",
      "Epoch 12/300\n",
      "\u001b[1m67/67\u001b[0m \u001b[32m━━━━━━━━━━━━━━━━━━━━\u001b[0m\u001b[37m\u001b[0m \u001b[1m19s\u001b[0m 289ms/step - final_output_mean__io_u: 0.3888 - loss: 0.2111 - output_1_mean__io_u: 0.3893 - output_2_mean__io_u: 0.3949 - output_3_mean__io_u: 0.3834 - val_final_output_mean__io_u: 0.3376 - val_loss: 0.2020 - val_output_1_mean__io_u: 0.3064 - val_output_2_mean__io_u: 0.3135 - val_output_3_mean__io_u: 0.3045 - learning_rate: 5.0000e-04\n",
      "Epoch 13/300\n",
      "\u001b[1m67/67\u001b[0m \u001b[32m━━━━━━━━━━━━━━━━━━━━\u001b[0m\u001b[37m\u001b[0m \u001b[1m20s\u001b[0m 294ms/step - final_output_mean__io_u: 0.3995 - loss: 0.2046 - output_1_mean__io_u: 0.4003 - output_2_mean__io_u: 0.4041 - output_3_mean__io_u: 0.3934 - val_final_output_mean__io_u: 0.3836 - val_loss: 0.1729 - val_output_1_mean__io_u: 0.3904 - val_output_2_mean__io_u: 0.3529 - val_output_3_mean__io_u: 0.3112 - learning_rate: 5.0000e-04\n",
      "Epoch 14/300\n",
      "\u001b[1m67/67\u001b[0m \u001b[32m━━━━━━━━━━━━━━━━━━━━\u001b[0m\u001b[37m\u001b[0m \u001b[1m20s\u001b[0m 292ms/step - final_output_mean__io_u: 0.4079 - loss: 0.2013 - output_1_mean__io_u: 0.4138 - output_2_mean__io_u: 0.4189 - output_3_mean__io_u: 0.4097 - val_final_output_mean__io_u: 0.3591 - val_loss: 0.1916 - val_output_1_mean__io_u: 0.3649 - val_output_2_mean__io_u: 0.3638 - val_output_3_mean__io_u: 0.3532 - learning_rate: 5.0000e-04\n",
      "Epoch 15/300\n",
      "\u001b[1m67/67\u001b[0m \u001b[32m━━━━━━━━━━━━━━━━━━━━\u001b[0m\u001b[37m\u001b[0m \u001b[1m20s\u001b[0m 293ms/step - final_output_mean__io_u: 0.4057 - loss: 0.1928 - output_1_mean__io_u: 0.4076 - output_2_mean__io_u: 0.4093 - output_3_mean__io_u: 0.4054 - val_final_output_mean__io_u: 0.3570 - val_loss: 0.1745 - val_output_1_mean__io_u: 0.3599 - val_output_2_mean__io_u: 0.3629 - val_output_3_mean__io_u: 0.3923 - learning_rate: 5.0000e-04\n",
      "Epoch 16/300\n",
      "\u001b[1m67/67\u001b[0m \u001b[32m━━━━━━━━━━━━━━━━━━━━\u001b[0m\u001b[37m\u001b[0m \u001b[1m20s\u001b[0m 291ms/step - final_output_mean__io_u: 0.4275 - loss: 0.1853 - output_1_mean__io_u: 0.4324 - output_2_mean__io_u: 0.4358 - output_3_mean__io_u: 0.4255 - val_final_output_mean__io_u: 0.3244 - val_loss: 0.2389 - val_output_1_mean__io_u: 0.3029 - val_output_2_mean__io_u: 0.2956 - val_output_3_mean__io_u: 0.2925 - learning_rate: 5.0000e-04\n",
      "Epoch 17/300\n",
      "\u001b[1m67/67\u001b[0m \u001b[32m━━━━━━━━━━━━━━━━━━━━\u001b[0m\u001b[37m\u001b[0m \u001b[1m20s\u001b[0m 292ms/step - final_output_mean__io_u: 0.4373 - loss: 0.1821 - output_1_mean__io_u: 0.4412 - output_2_mean__io_u: 0.4383 - output_3_mean__io_u: 0.4313 - val_final_output_mean__io_u: 0.3964 - val_loss: 0.1399 - val_output_1_mean__io_u: 0.3909 - val_output_2_mean__io_u: 0.4244 - val_output_3_mean__io_u: 0.4216 - learning_rate: 5.0000e-04\n",
      "Epoch 18/300\n",
      "\u001b[1m67/67\u001b[0m \u001b[32m━━━━━━━━━━━━━━━━━━━━\u001b[0m\u001b[37m\u001b[0m \u001b[1m20s\u001b[0m 291ms/step - final_output_mean__io_u: 0.4296 - loss: 0.1837 - output_1_mean__io_u: 0.4333 - output_2_mean__io_u: 0.4337 - output_3_mean__io_u: 0.4196 - val_final_output_mean__io_u: 0.4114 - val_loss: 0.1372 - val_output_1_mean__io_u: 0.4059 - val_output_2_mean__io_u: 0.4342 - val_output_3_mean__io_u: 0.4173 - learning_rate: 5.0000e-04\n",
      "Epoch 19/300\n",
      "\u001b[1m67/67\u001b[0m \u001b[32m━━━━━━━━━━━━━━━━━━━━\u001b[0m\u001b[37m\u001b[0m \u001b[1m19s\u001b[0m 290ms/step - final_output_mean__io_u: 0.4505 - loss: 0.1689 - output_1_mean__io_u: 0.4521 - output_2_mean__io_u: 0.4575 - output_3_mean__io_u: 0.4472 - val_final_output_mean__io_u: 0.3783 - val_loss: 0.1539 - val_output_1_mean__io_u: 0.3862 - val_output_2_mean__io_u: 0.3977 - val_output_3_mean__io_u: 0.4140 - learning_rate: 5.0000e-04\n",
      "Epoch 20/300\n",
      "\u001b[1m67/67\u001b[0m \u001b[32m━━━━━━━━━━━━━━━━━━━━\u001b[0m\u001b[37m\u001b[0m \u001b[1m20s\u001b[0m 292ms/step - final_output_mean__io_u: 0.4484 - loss: 0.1740 - output_1_mean__io_u: 0.4535 - output_2_mean__io_u: 0.4546 - output_3_mean__io_u: 0.4483 - val_final_output_mean__io_u: 0.1642 - val_loss: 0.5938 - val_output_1_mean__io_u: 0.2409 - val_output_2_mean__io_u: 0.2900 - val_output_3_mean__io_u: 0.2619 - learning_rate: 5.0000e-04\n",
      "Epoch 21/300\n",
      "\u001b[1m67/67\u001b[0m \u001b[32m━━━━━━━━━━━━━━━━━━━━\u001b[0m\u001b[37m\u001b[0m \u001b[1m20s\u001b[0m 294ms/step - final_output_mean__io_u: 0.4386 - loss: 0.1779 - output_1_mean__io_u: 0.4411 - output_2_mean__io_u: 0.4398 - output_3_mean__io_u: 0.4348 - val_final_output_mean__io_u: 0.4192 - val_loss: 0.1288 - val_output_1_mean__io_u: 0.4300 - val_output_2_mean__io_u: 0.4375 - val_output_3_mean__io_u: 0.4281 - learning_rate: 5.0000e-04\n",
      "Epoch 22/300\n",
      "\u001b[1m67/67\u001b[0m \u001b[32m━━━━━━━━━━━━━━━━━━━━\u001b[0m\u001b[37m\u001b[0m \u001b[1m20s\u001b[0m 291ms/step - final_output_mean__io_u: 0.4499 - loss: 0.1684 - output_1_mean__io_u: 0.4552 - output_2_mean__io_u: 0.4619 - output_3_mean__io_u: 0.4563 - val_final_output_mean__io_u: 0.3551 - val_loss: 0.1854 - val_output_1_mean__io_u: 0.3757 - val_output_2_mean__io_u: 0.3896 - val_output_3_mean__io_u: 0.3856 - learning_rate: 5.0000e-04\n",
      "Epoch 23/300\n",
      "\u001b[1m67/67\u001b[0m \u001b[32m━━━━━━━━━━━━━━━━━━━━\u001b[0m\u001b[37m\u001b[0m \u001b[1m20s\u001b[0m 291ms/step - final_output_mean__io_u: 0.4507 - loss: 0.1680 - output_1_mean__io_u: 0.4600 - output_2_mean__io_u: 0.4640 - output_3_mean__io_u: 0.4548 - val_final_output_mean__io_u: 0.4168 - val_loss: 0.1312 - val_output_1_mean__io_u: 0.4342 - val_output_2_mean__io_u: 0.4379 - val_output_3_mean__io_u: 0.4446 - learning_rate: 5.0000e-04\n",
      "Epoch 24/300\n",
      "\u001b[1m67/67\u001b[0m \u001b[32m━━━━━━━━━━━━━━━━━━━━\u001b[0m\u001b[37m\u001b[0m \u001b[1m20s\u001b[0m 290ms/step - final_output_mean__io_u: 0.4609 - loss: 0.1625 - output_1_mean__io_u: 0.4631 - output_2_mean__io_u: 0.4655 - output_3_mean__io_u: 0.4565 - val_final_output_mean__io_u: 0.3756 - val_loss: 0.1469 - val_output_1_mean__io_u: 0.3778 - val_output_2_mean__io_u: 0.4021 - val_output_3_mean__io_u: 0.4166 - learning_rate: 5.0000e-04\n",
      "Epoch 25/300\n",
      "\u001b[1m67/67\u001b[0m \u001b[32m━━━━━━━━━━━━━━━━━━━━\u001b[0m\u001b[37m\u001b[0m \u001b[1m19s\u001b[0m 290ms/step - final_output_mean__io_u: 0.4610 - loss: 0.1623 - output_1_mean__io_u: 0.4661 - output_2_mean__io_u: 0.4678 - output_3_mean__io_u: 0.4620 - val_final_output_mean__io_u: 0.4166 - val_loss: 0.1296 - val_output_1_mean__io_u: 0.4144 - val_output_2_mean__io_u: 0.4002 - val_output_3_mean__io_u: 0.4253 - learning_rate: 5.0000e-04\n",
      "Epoch 26/300\n",
      "\u001b[1m67/67\u001b[0m \u001b[32m━━━━━━━━━━━━━━━━━━━━\u001b[0m\u001b[37m\u001b[0m \u001b[1m20s\u001b[0m 290ms/step - final_output_mean__io_u: 0.4634 - loss: 0.1609 - output_1_mean__io_u: 0.4728 - output_2_mean__io_u: 0.4775 - output_3_mean__io_u: 0.4699 - val_final_output_mean__io_u: 0.4328 - val_loss: 0.1380 - val_output_1_mean__io_u: 0.4304 - val_output_2_mean__io_u: 0.4355 - val_output_3_mean__io_u: 0.4150 - learning_rate: 5.0000e-04\n",
      "Epoch 27/300\n",
      "\u001b[1m67/67\u001b[0m \u001b[32m━━━━━━━━━━━━━━━━━━━━\u001b[0m\u001b[37m\u001b[0m \u001b[1m20s\u001b[0m 290ms/step - final_output_mean__io_u: 0.4809 - loss: 0.1528 - output_1_mean__io_u: 0.4851 - output_2_mean__io_u: 0.4838 - output_3_mean__io_u: 0.4751 - val_final_output_mean__io_u: 0.4240 - val_loss: 0.1440 - val_output_1_mean__io_u: 0.4188 - val_output_2_mean__io_u: 0.4351 - val_output_3_mean__io_u: 0.4419 - learning_rate: 5.0000e-04\n",
      "Epoch 28/300\n",
      "\u001b[1m67/67\u001b[0m \u001b[32m━━━━━━━━━━━━━━━━━━━━\u001b[0m\u001b[37m\u001b[0m \u001b[1m20s\u001b[0m 292ms/step - final_output_mean__io_u: 0.4854 - loss: 0.1522 - output_1_mean__io_u: 0.4933 - output_2_mean__io_u: 0.4932 - output_3_mean__io_u: 0.4842 - val_final_output_mean__io_u: 0.4523 - val_loss: 0.1032 - val_output_1_mean__io_u: 0.4528 - val_output_2_mean__io_u: 0.4607 - val_output_3_mean__io_u: 0.4635 - learning_rate: 5.0000e-04\n",
      "Epoch 29/300\n",
      "\u001b[1m67/67\u001b[0m \u001b[32m━━━━━━━━━━━━━━━━━━━━\u001b[0m\u001b[37m\u001b[0m \u001b[1m20s\u001b[0m 290ms/step - final_output_mean__io_u: 0.4900 - loss: 0.1462 - output_1_mean__io_u: 0.4944 - output_2_mean__io_u: 0.4981 - output_3_mean__io_u: 0.4874 - val_final_output_mean__io_u: 0.4040 - val_loss: 0.1708 - val_output_1_mean__io_u: 0.3946 - val_output_2_mean__io_u: 0.3951 - val_output_3_mean__io_u: 0.3850 - learning_rate: 5.0000e-04\n",
      "Epoch 30/300\n",
      "\u001b[1m67/67\u001b[0m \u001b[32m━━━━━━━━━━━━━━━━━━━━\u001b[0m\u001b[37m\u001b[0m \u001b[1m20s\u001b[0m 290ms/step - final_output_mean__io_u: 0.4960 - loss: 0.1457 - output_1_mean__io_u: 0.4999 - output_2_mean__io_u: 0.5004 - output_3_mean__io_u: 0.4928 - val_final_output_mean__io_u: 0.4259 - val_loss: 0.1184 - val_output_1_mean__io_u: 0.4174 - val_output_2_mean__io_u: 0.4293 - val_output_3_mean__io_u: 0.4234 - learning_rate: 5.0000e-04\n",
      "Epoch 31/300\n",
      "\u001b[1m67/67\u001b[0m \u001b[32m━━━━━━━━━━━━━━━━━━━━\u001b[0m\u001b[37m\u001b[0m \u001b[1m20s\u001b[0m 291ms/step - final_output_mean__io_u: 0.4919 - loss: 0.1437 - output_1_mean__io_u: 0.4956 - output_2_mean__io_u: 0.5011 - output_3_mean__io_u: 0.4937 - val_final_output_mean__io_u: 0.3934 - val_loss: 0.1316 - val_output_1_mean__io_u: 0.4112 - val_output_2_mean__io_u: 0.4173 - val_output_3_mean__io_u: 0.4198 - learning_rate: 5.0000e-04\n",
      "Epoch 32/300\n",
      "\u001b[1m67/67\u001b[0m \u001b[32m━━━━━━━━━━━━━━━━━━━━\u001b[0m\u001b[37m\u001b[0m \u001b[1m20s\u001b[0m 290ms/step - final_output_mean__io_u: 0.4950 - loss: 0.1445 - output_1_mean__io_u: 0.4991 - output_2_mean__io_u: 0.5036 - output_3_mean__io_u: 0.4933 - val_final_output_mean__io_u: 0.4098 - val_loss: 0.1686 - val_output_1_mean__io_u: 0.4093 - val_output_2_mean__io_u: 0.4105 - val_output_3_mean__io_u: 0.3974 - learning_rate: 5.0000e-04\n",
      "Epoch 33/300\n",
      "\u001b[1m67/67\u001b[0m \u001b[32m━━━━━━━━━━━━━━━━━━━━\u001b[0m\u001b[37m\u001b[0m \u001b[1m20s\u001b[0m 291ms/step - final_output_mean__io_u: 0.4919 - loss: 0.1470 - output_1_mean__io_u: 0.4952 - output_2_mean__io_u: 0.4998 - output_3_mean__io_u: 0.4889 - val_final_output_mean__io_u: 0.4105 - val_loss: 0.1253 - val_output_1_mean__io_u: 0.4181 - val_output_2_mean__io_u: 0.4284 - val_output_3_mean__io_u: 0.4231 - learning_rate: 5.0000e-04\n",
      "Epoch 34/300\n",
      "\u001b[1m67/67\u001b[0m \u001b[32m━━━━━━━━━━━━━━━━━━━━\u001b[0m\u001b[37m\u001b[0m \u001b[1m20s\u001b[0m 291ms/step - final_output_mean__io_u: 0.4964 - loss: 0.1423 - output_1_mean__io_u: 0.5020 - output_2_mean__io_u: 0.5064 - output_3_mean__io_u: 0.4964 - val_final_output_mean__io_u: 0.4346 - val_loss: 0.1063 - val_output_1_mean__io_u: 0.4414 - val_output_2_mean__io_u: 0.4576 - val_output_3_mean__io_u: 0.4608 - learning_rate: 5.0000e-04\n",
      "Epoch 35/300\n",
      "\u001b[1m67/67\u001b[0m \u001b[32m━━━━━━━━━━━━━━━━━━━━\u001b[0m\u001b[37m\u001b[0m \u001b[1m0s\u001b[0m 274ms/step - final_output_mean__io_u: 0.5163 - loss: 0.1327 - output_1_mean__io_u: 0.5187 - output_2_mean__io_u: 0.5163 - output_3_mean__io_u: 0.5126\n",
      "Epoch 35: ReduceLROnPlateau reducing learning rate to 0.0003000000142492354.\n",
      "\u001b[1m67/67\u001b[0m \u001b[32m━━━━━━━━━━━━━━━━━━━━\u001b[0m\u001b[37m\u001b[0m \u001b[1m20s\u001b[0m 292ms/step - final_output_mean__io_u: 0.5164 - loss: 0.1327 - output_1_mean__io_u: 0.5188 - output_2_mean__io_u: 0.5164 - output_3_mean__io_u: 0.5127 - val_final_output_mean__io_u: 0.3988 - val_loss: 0.1549 - val_output_1_mean__io_u: 0.3916 - val_output_2_mean__io_u: 0.3876 - val_output_3_mean__io_u: 0.3811 - learning_rate: 5.0000e-04\n",
      "Epoch 36/300\n",
      "\u001b[1m67/67\u001b[0m \u001b[32m━━━━━━━━━━━━━━━━━━━━\u001b[0m\u001b[37m\u001b[0m \u001b[1m20s\u001b[0m 293ms/step - final_output_mean__io_u: 0.5326 - loss: 0.1275 - output_1_mean__io_u: 0.5328 - output_2_mean__io_u: 0.5347 - output_3_mean__io_u: 0.5221 - val_final_output_mean__io_u: 0.4386 - val_loss: 0.1103 - val_output_1_mean__io_u: 0.4420 - val_output_2_mean__io_u: 0.4492 - val_output_3_mean__io_u: 0.4643 - learning_rate: 3.0000e-04\n",
      "Epoch 37/300\n",
      "\u001b[1m67/67\u001b[0m \u001b[32m━━━━━━━━━━━━━━━━━━━━\u001b[0m\u001b[37m\u001b[0m \u001b[1m20s\u001b[0m 292ms/step - final_output_mean__io_u: 0.5331 - loss: 0.1298 - output_1_mean__io_u: 0.5371 - output_2_mean__io_u: 0.5385 - output_3_mean__io_u: 0.5288 - val_final_output_mean__io_u: 0.4169 - val_loss: 0.1532 - val_output_1_mean__io_u: 0.4152 - val_output_2_mean__io_u: 0.4144 - val_output_3_mean__io_u: 0.4104 - learning_rate: 3.0000e-04\n",
      "Epoch 38/300\n",
      "\u001b[1m67/67\u001b[0m \u001b[32m━━━━━━━━━━━━━━━━━━━━\u001b[0m\u001b[37m\u001b[0m \u001b[1m20s\u001b[0m 291ms/step - final_output_mean__io_u: 0.5221 - loss: 0.1302 - output_1_mean__io_u: 0.5265 - output_2_mean__io_u: 0.5268 - output_3_mean__io_u: 0.5176 - val_final_output_mean__io_u: 0.4521 - val_loss: 0.1144 - val_output_1_mean__io_u: 0.4525 - val_output_2_mean__io_u: 0.4506 - val_output_3_mean__io_u: 0.4517 - learning_rate: 3.0000e-04\n",
      "Epoch 39/300\n",
      "\u001b[1m67/67\u001b[0m \u001b[32m━━━━━━━━━━━━━━━━━━━━\u001b[0m\u001b[37m\u001b[0m \u001b[1m20s\u001b[0m 291ms/step - final_output_mean__io_u: 0.5429 - loss: 0.1206 - output_1_mean__io_u: 0.5457 - output_2_mean__io_u: 0.5441 - output_3_mean__io_u: 0.5349 - val_final_output_mean__io_u: 0.4307 - val_loss: 0.1178 - val_output_1_mean__io_u: 0.4348 - val_output_2_mean__io_u: 0.4499 - val_output_3_mean__io_u: 0.4361 - learning_rate: 3.0000e-04\n",
      "Epoch 40/300\n",
      "\u001b[1m67/67\u001b[0m \u001b[32m━━━━━━━━━━━━━━━━━━━━\u001b[0m\u001b[37m\u001b[0m \u001b[1m20s\u001b[0m 293ms/step - final_output_mean__io_u: 0.5412 - loss: 0.1241 - output_1_mean__io_u: 0.5461 - output_2_mean__io_u: 0.5450 - output_3_mean__io_u: 0.5355 - val_final_output_mean__io_u: 0.4698 - val_loss: 0.0980 - val_output_1_mean__io_u: 0.4722 - val_output_2_mean__io_u: 0.4759 - val_output_3_mean__io_u: 0.4746 - learning_rate: 3.0000e-04\n",
      "Epoch 41/300\n",
      "\u001b[1m67/67\u001b[0m \u001b[32m━━━━━━━━━━━━━━━━━━━━\u001b[0m\u001b[37m\u001b[0m \u001b[1m20s\u001b[0m 291ms/step - final_output_mean__io_u: 0.5493 - loss: 0.1200 - output_1_mean__io_u: 0.5501 - output_2_mean__io_u: 0.5506 - output_3_mean__io_u: 0.5371 - val_final_output_mean__io_u: 0.4581 - val_loss: 0.0998 - val_output_1_mean__io_u: 0.4651 - val_output_2_mean__io_u: 0.4600 - val_output_3_mean__io_u: 0.4736 - learning_rate: 3.0000e-04\n",
      "Epoch 42/300\n",
      "\u001b[1m67/67\u001b[0m \u001b[32m━━━━━━━━━━━━━━━━━━━━\u001b[0m\u001b[37m\u001b[0m \u001b[1m20s\u001b[0m 291ms/step - final_output_mean__io_u: 0.5551 - loss: 0.1184 - output_1_mean__io_u: 0.5568 - output_2_mean__io_u: 0.5539 - output_3_mean__io_u: 0.5422 - val_final_output_mean__io_u: 0.4401 - val_loss: 0.1084 - val_output_1_mean__io_u: 0.4502 - val_output_2_mean__io_u: 0.4555 - val_output_3_mean__io_u: 0.4550 - learning_rate: 3.0000e-04\n",
      "Epoch 43/300\n",
      "\u001b[1m67/67\u001b[0m \u001b[32m━━━━━━━━━━━━━━━━━━━━\u001b[0m\u001b[37m\u001b[0m \u001b[1m20s\u001b[0m 291ms/step - final_output_mean__io_u: 0.5502 - loss: 0.1179 - output_1_mean__io_u: 0.5520 - output_2_mean__io_u: 0.5513 - output_3_mean__io_u: 0.5417 - val_final_output_mean__io_u: 0.4540 - val_loss: 0.1131 - val_output_1_mean__io_u: 0.4519 - val_output_2_mean__io_u: 0.4541 - val_output_3_mean__io_u: 0.4515 - learning_rate: 3.0000e-04\n",
      "Epoch 44/300\n",
      "\u001b[1m67/67\u001b[0m \u001b[32m━━━━━━━━━━━━━━━━━━━━\u001b[0m\u001b[37m\u001b[0m \u001b[1m20s\u001b[0m 291ms/step - final_output_mean__io_u: 0.5508 - loss: 0.1176 - output_1_mean__io_u: 0.5535 - output_2_mean__io_u: 0.5526 - output_3_mean__io_u: 0.5437 - val_final_output_mean__io_u: 0.4132 - val_loss: 0.1483 - val_output_1_mean__io_u: 0.3895 - val_output_2_mean__io_u: 0.4039 - val_output_3_mean__io_u: 0.4353 - learning_rate: 3.0000e-04\n",
      "Epoch 45/300\n",
      "\u001b[1m67/67\u001b[0m \u001b[32m━━━━━━━━━━━━━━━━━━━━\u001b[0m\u001b[37m\u001b[0m \u001b[1m20s\u001b[0m 293ms/step - final_output_mean__io_u: 0.5579 - loss: 0.1158 - output_1_mean__io_u: 0.5610 - output_2_mean__io_u: 0.5611 - output_3_mean__io_u: 0.5501 - val_final_output_mean__io_u: 0.4680 - val_loss: 0.0967 - val_output_1_mean__io_u: 0.4886 - val_output_2_mean__io_u: 0.4885 - val_output_3_mean__io_u: 0.5089 - learning_rate: 3.0000e-04\n",
      "Epoch 46/300\n",
      "\u001b[1m67/67\u001b[0m \u001b[32m━━━━━━━━━━━━━━━━━━━━\u001b[0m\u001b[37m\u001b[0m \u001b[1m20s\u001b[0m 291ms/step - final_output_mean__io_u: 0.5630 - loss: 0.1111 - output_1_mean__io_u: 0.5661 - output_2_mean__io_u: 0.5630 - output_3_mean__io_u: 0.5502 - val_final_output_mean__io_u: 0.4553 - val_loss: 0.1057 - val_output_1_mean__io_u: 0.4618 - val_output_2_mean__io_u: 0.4641 - val_output_3_mean__io_u: 0.4586 - learning_rate: 3.0000e-04\n",
      "Epoch 47/300\n",
      "\u001b[1m67/67\u001b[0m \u001b[32m━━━━━━━━━━━━━━━━━━━━\u001b[0m\u001b[37m\u001b[0m \u001b[1m20s\u001b[0m 291ms/step - final_output_mean__io_u: 0.5570 - loss: 0.1131 - output_1_mean__io_u: 0.5608 - output_2_mean__io_u: 0.5589 - output_3_mean__io_u: 0.5471 - val_final_output_mean__io_u: 0.4064 - val_loss: 0.1278 - val_output_1_mean__io_u: 0.4228 - val_output_2_mean__io_u: 0.4412 - val_output_3_mean__io_u: 0.4481 - learning_rate: 3.0000e-04\n",
      "Epoch 48/300\n",
      "\u001b[1m67/67\u001b[0m \u001b[32m━━━━━━━━━━━━━━━━━━━━\u001b[0m\u001b[37m\u001b[0m \u001b[1m20s\u001b[0m 292ms/step - final_output_mean__io_u: 0.5576 - loss: 0.1166 - output_1_mean__io_u: 0.5631 - output_2_mean__io_u: 0.5616 - output_3_mean__io_u: 0.5475 - val_final_output_mean__io_u: 0.4149 - val_loss: 0.1381 - val_output_1_mean__io_u: 0.4156 - val_output_2_mean__io_u: 0.4207 - val_output_3_mean__io_u: 0.4141 - learning_rate: 3.0000e-04\n",
      "Epoch 49/300\n",
      "\u001b[1m67/67\u001b[0m \u001b[32m━━━━━━━━━━━━━━━━━━━━\u001b[0m\u001b[37m\u001b[0m \u001b[1m20s\u001b[0m 292ms/step - final_output_mean__io_u: 0.5715 - loss: 0.1100 - output_1_mean__io_u: 0.5757 - output_2_mean__io_u: 0.5745 - output_3_mean__io_u: 0.5607 - val_final_output_mean__io_u: 0.4651 - val_loss: 0.1007 - val_output_1_mean__io_u: 0.4716 - val_output_2_mean__io_u: 0.4716 - val_output_3_mean__io_u: 0.4720 - learning_rate: 3.0000e-04\n",
      "Epoch 50/300\n",
      "\u001b[1m67/67\u001b[0m \u001b[32m━━━━━━━━━━━━━━━━━━━━\u001b[0m\u001b[37m\u001b[0m \u001b[1m20s\u001b[0m 292ms/step - final_output_mean__io_u: 0.5776 - loss: 0.1077 - output_1_mean__io_u: 0.5776 - output_2_mean__io_u: 0.5751 - output_3_mean__io_u: 0.5602 - val_final_output_mean__io_u: 0.4452 - val_loss: 0.1090 - val_output_1_mean__io_u: 0.4495 - val_output_2_mean__io_u: 0.4566 - val_output_3_mean__io_u: 0.4569 - learning_rate: 3.0000e-04\n",
      "Epoch 51/300\n",
      "\u001b[1m67/67\u001b[0m \u001b[32m━━━━━━━━━━━━━━━━━━━━\u001b[0m\u001b[37m\u001b[0m \u001b[1m20s\u001b[0m 291ms/step - final_output_mean__io_u: 0.5579 - loss: 0.1129 - output_1_mean__io_u: 0.5620 - output_2_mean__io_u: 0.5627 - output_3_mean__io_u: 0.5519 - val_final_output_mean__io_u: 0.4720 - val_loss: 0.1071 - val_output_1_mean__io_u: 0.4720 - val_output_2_mean__io_u: 0.4757 - val_output_3_mean__io_u: 0.4715 - learning_rate: 3.0000e-04\n",
      "Epoch 52/300\n",
      "\u001b[1m67/67\u001b[0m \u001b[32m━━━━━━━━━━━━━━━━━━━━\u001b[0m\u001b[37m\u001b[0m \u001b[1m20s\u001b[0m 295ms/step - final_output_mean__io_u: 0.5739 - loss: 0.1117 - output_1_mean__io_u: 0.5763 - output_2_mean__io_u: 0.5739 - output_3_mean__io_u: 0.5626 - val_final_output_mean__io_u: 0.4788 - val_loss: 0.0954 - val_output_1_mean__io_u: 0.4827 - val_output_2_mean__io_u: 0.4841 - val_output_3_mean__io_u: 0.4815 - learning_rate: 3.0000e-04\n",
      "Epoch 53/300\n",
      "\u001b[1m67/67\u001b[0m \u001b[32m━━━━━━━━━━━━━━━━━━━━\u001b[0m\u001b[37m\u001b[0m \u001b[1m20s\u001b[0m 291ms/step - final_output_mean__io_u: 0.5656 - loss: 0.1110 - output_1_mean__io_u: 0.5679 - output_2_mean__io_u: 0.5674 - output_3_mean__io_u: 0.5523 - val_final_output_mean__io_u: 0.4655 - val_loss: 0.1206 - val_output_1_mean__io_u: 0.4604 - val_output_2_mean__io_u: 0.4510 - val_output_3_mean__io_u: 0.4370 - learning_rate: 3.0000e-04\n",
      "Epoch 54/300\n",
      "\u001b[1m67/67\u001b[0m \u001b[32m━━━━━━━━━━━━━━━━━━━━\u001b[0m\u001b[37m\u001b[0m \u001b[1m19s\u001b[0m 290ms/step - final_output_mean__io_u: 0.5853 - loss: 0.1033 - output_1_mean__io_u: 0.5878 - output_2_mean__io_u: 0.5852 - output_3_mean__io_u: 0.5682 - val_final_output_mean__io_u: 0.4565 - val_loss: 0.1142 - val_output_1_mean__io_u: 0.4586 - val_output_2_mean__io_u: 0.4705 - val_output_3_mean__io_u: 0.4974 - learning_rate: 3.0000e-04\n",
      "Epoch 55/300\n",
      "\u001b[1m67/67\u001b[0m \u001b[32m━━━━━━━━━━━━━━━━━━━━\u001b[0m\u001b[37m\u001b[0m \u001b[1m19s\u001b[0m 290ms/step - final_output_mean__io_u: 0.5830 - loss: 0.1079 - output_1_mean__io_u: 0.5842 - output_2_mean__io_u: 0.5814 - output_3_mean__io_u: 0.5655 - val_final_output_mean__io_u: 0.4803 - val_loss: 0.1114 - val_output_1_mean__io_u: 0.4782 - val_output_2_mean__io_u: 0.4846 - val_output_3_mean__io_u: 0.4742 - learning_rate: 3.0000e-04\n",
      "Epoch 56/300\n",
      "\u001b[1m67/67\u001b[0m \u001b[32m━━━━━━━━━━━━━━━━━━━━\u001b[0m\u001b[37m\u001b[0m \u001b[1m20s\u001b[0m 293ms/step - final_output_mean__io_u: 0.5763 - loss: 0.1078 - output_1_mean__io_u: 0.5794 - output_2_mean__io_u: 0.5769 - output_3_mean__io_u: 0.5607 - val_final_output_mean__io_u: 0.4678 - val_loss: 0.0972 - val_output_1_mean__io_u: 0.4707 - val_output_2_mean__io_u: 0.4722 - val_output_3_mean__io_u: 0.4716 - learning_rate: 3.0000e-04\n",
      "Epoch 57/300\n",
      "\u001b[1m67/67\u001b[0m \u001b[32m━━━━━━━━━━━━━━━━━━━━\u001b[0m\u001b[37m\u001b[0m \u001b[1m20s\u001b[0m 291ms/step - final_output_mean__io_u: 0.5666 - loss: 0.1145 - output_1_mean__io_u: 0.5686 - output_2_mean__io_u: 0.5675 - output_3_mean__io_u: 0.5543 - val_final_output_mean__io_u: 0.4767 - val_loss: 0.1022 - val_output_1_mean__io_u: 0.4764 - val_output_2_mean__io_u: 0.4790 - val_output_3_mean__io_u: 0.4780 - learning_rate: 3.0000e-04\n",
      "Epoch 58/300\n",
      "\u001b[1m67/67\u001b[0m \u001b[32m━━━━━━━━━━━━━━━━━━━━\u001b[0m\u001b[37m\u001b[0m \u001b[1m19s\u001b[0m 289ms/step - final_output_mean__io_u: 0.5824 - loss: 0.1065 - output_1_mean__io_u: 0.5853 - output_2_mean__io_u: 0.5833 - output_3_mean__io_u: 0.5708 - val_final_output_mean__io_u: 0.4434 - val_loss: 0.1190 - val_output_1_mean__io_u: 0.4502 - val_output_2_mean__io_u: 0.4481 - val_output_3_mean__io_u: 0.4422 - learning_rate: 3.0000e-04\n",
      "Epoch 59/300\n",
      "\u001b[1m67/67\u001b[0m \u001b[32m━━━━━━━━━━━━━━━━━━━━\u001b[0m\u001b[37m\u001b[0m \u001b[1m0s\u001b[0m 272ms/step - final_output_mean__io_u: 0.5847 - loss: 0.1060 - output_1_mean__io_u: 0.5865 - output_2_mean__io_u: 0.5852 - output_3_mean__io_u: 0.5683\n",
      "Epoch 59: ReduceLROnPlateau reducing learning rate to 0.00018000000854954124.\n",
      "\u001b[1m67/67\u001b[0m \u001b[32m━━━━━━━━━━━━━━━━━━━━\u001b[0m\u001b[37m\u001b[0m \u001b[1m20s\u001b[0m 290ms/step - final_output_mean__io_u: 0.5847 - loss: 0.1061 - output_1_mean__io_u: 0.5864 - output_2_mean__io_u: 0.5851 - output_3_mean__io_u: 0.5682 - val_final_output_mean__io_u: 0.4749 - val_loss: 0.0989 - val_output_1_mean__io_u: 0.4811 - val_output_2_mean__io_u: 0.4826 - val_output_3_mean__io_u: 0.4853 - learning_rate: 3.0000e-04\n",
      "Epoch 60/300\n",
      "\u001b[1m67/67\u001b[0m \u001b[32m━━━━━━━━━━━━━━━━━━━━\u001b[0m\u001b[37m\u001b[0m \u001b[1m20s\u001b[0m 293ms/step - final_output_mean__io_u: 0.5987 - loss: 0.1000 - output_1_mean__io_u: 0.6015 - output_2_mean__io_u: 0.6005 - output_3_mean__io_u: 0.5821 - val_final_output_mean__io_u: 0.5126 - val_loss: 0.0825 - val_output_1_mean__io_u: 0.5109 - val_output_2_mean__io_u: 0.5115 - val_output_3_mean__io_u: 0.5070 - learning_rate: 1.8000e-04\n",
      "Epoch 61/300\n",
      "\u001b[1m67/67\u001b[0m \u001b[32m━━━━━━━━━━━━━━━━━━━━\u001b[0m\u001b[37m\u001b[0m \u001b[1m20s\u001b[0m 293ms/step - final_output_mean__io_u: 0.6120 - loss: 0.0932 - output_1_mean__io_u: 0.6099 - output_2_mean__io_u: 0.6084 - output_3_mean__io_u: 0.5889 - val_final_output_mean__io_u: 0.5040 - val_loss: 0.0856 - val_output_1_mean__io_u: 0.5086 - val_output_2_mean__io_u: 0.5140 - val_output_3_mean__io_u: 0.5624 - learning_rate: 1.8000e-04\n",
      "Epoch 62/300\n",
      "\u001b[1m67/67\u001b[0m \u001b[32m━━━━━━━━━━━━━━━━━━━━\u001b[0m\u001b[37m\u001b[0m \u001b[1m20s\u001b[0m 291ms/step - final_output_mean__io_u: 0.6124 - loss: 0.0934 - output_1_mean__io_u: 0.6159 - output_2_mean__io_u: 0.6124 - output_3_mean__io_u: 0.5975 - val_final_output_mean__io_u: 0.4775 - val_loss: 0.0967 - val_output_1_mean__io_u: 0.4739 - val_output_2_mean__io_u: 0.4746 - val_output_3_mean__io_u: 0.4734 - learning_rate: 1.8000e-04\n",
      "Epoch 63/300\n",
      "\u001b[1m67/67\u001b[0m \u001b[32m━━━━━━━━━━━━━━━━━━━━\u001b[0m\u001b[37m\u001b[0m \u001b[1m19s\u001b[0m 290ms/step - final_output_mean__io_u: 0.6131 - loss: 0.0941 - output_1_mean__io_u: 0.6153 - output_2_mean__io_u: 0.6125 - output_3_mean__io_u: 0.5953 - val_final_output_mean__io_u: 0.4864 - val_loss: 0.0893 - val_output_1_mean__io_u: 0.4853 - val_output_2_mean__io_u: 0.4903 - val_output_3_mean__io_u: 0.4893 - learning_rate: 1.8000e-04\n",
      "Epoch 64/300\n",
      "\u001b[1m67/67\u001b[0m \u001b[32m━━━━━━━━━━━━━━━━━━━━\u001b[0m\u001b[37m\u001b[0m \u001b[1m19s\u001b[0m 290ms/step - final_output_mean__io_u: 0.6183 - loss: 0.0901 - output_1_mean__io_u: 0.6173 - output_2_mean__io_u: 0.6145 - output_3_mean__io_u: 0.5982 - val_final_output_mean__io_u: 0.4818 - val_loss: 0.1041 - val_output_1_mean__io_u: 0.4805 - val_output_2_mean__io_u: 0.4940 - val_output_3_mean__io_u: 0.4980 - learning_rate: 1.8000e-04\n",
      "Epoch 65/300\n",
      "\u001b[1m67/67\u001b[0m \u001b[32m━━━━━━━━━━━━━━━━━━━━\u001b[0m\u001b[37m\u001b[0m \u001b[1m19s\u001b[0m 290ms/step - final_output_mean__io_u: 0.6040 - loss: 0.0956 - output_1_mean__io_u: 0.6032 - output_2_mean__io_u: 0.5999 - output_3_mean__io_u: 0.5815 - val_final_output_mean__io_u: 0.5047 - val_loss: 0.0846 - val_output_1_mean__io_u: 0.5025 - val_output_2_mean__io_u: 0.5061 - val_output_3_mean__io_u: 0.5079 - learning_rate: 1.8000e-04\n",
      "Epoch 66/300\n",
      "\u001b[1m67/67\u001b[0m \u001b[32m━━━━━━━━━━━━━━━━━━━━\u001b[0m\u001b[37m\u001b[0m \u001b[1m19s\u001b[0m 290ms/step - final_output_mean__io_u: 0.6169 - loss: 0.0912 - output_1_mean__io_u: 0.6176 - output_2_mean__io_u: 0.6160 - output_3_mean__io_u: 0.5970 - val_final_output_mean__io_u: 0.4945 - val_loss: 0.0963 - val_output_1_mean__io_u: 0.4941 - val_output_2_mean__io_u: 0.4901 - val_output_3_mean__io_u: 0.4879 - learning_rate: 1.8000e-04\n",
      "Epoch 67/300\n",
      "\u001b[1m67/67\u001b[0m \u001b[32m━━━━━━━━━━━━━━━━━━━━\u001b[0m\u001b[37m\u001b[0m \u001b[1m0s\u001b[0m 272ms/step - final_output_mean__io_u: 0.6225 - loss: 0.0907 - output_1_mean__io_u: 0.6234 - output_2_mean__io_u: 0.6200 - output_3_mean__io_u: 0.6013\n",
      "Epoch 67: ReduceLROnPlateau reducing learning rate to 0.00010800000163726508.\n",
      "\u001b[1m67/67\u001b[0m \u001b[32m━━━━━━━━━━━━━━━━━━━━\u001b[0m\u001b[37m\u001b[0m \u001b[1m20s\u001b[0m 290ms/step - final_output_mean__io_u: 0.6224 - loss: 0.0907 - output_1_mean__io_u: 0.6234 - output_2_mean__io_u: 0.6199 - output_3_mean__io_u: 0.6012 - val_final_output_mean__io_u: 0.4941 - val_loss: 0.0867 - val_output_1_mean__io_u: 0.4952 - val_output_2_mean__io_u: 0.4979 - val_output_3_mean__io_u: 0.4734 - learning_rate: 1.8000e-04\n",
      "Epoch 68/300\n",
      "\u001b[1m67/67\u001b[0m \u001b[32m━━━━━━━━━━━━━━━━━━━━\u001b[0m\u001b[37m\u001b[0m \u001b[1m20s\u001b[0m 292ms/step - final_output_mean__io_u: 0.6216 - loss: 0.0884 - output_1_mean__io_u: 0.6225 - output_2_mean__io_u: 0.6196 - output_3_mean__io_u: 0.6014 - val_final_output_mean__io_u: 0.4923 - val_loss: 0.0895 - val_output_1_mean__io_u: 0.4912 - val_output_2_mean__io_u: 0.4914 - val_output_3_mean__io_u: 0.4879 - learning_rate: 1.0800e-04\n",
      "Epoch 69/300\n",
      "\u001b[1m67/67\u001b[0m \u001b[32m━━━━━━━━━━━━━━━━━━━━\u001b[0m\u001b[37m\u001b[0m \u001b[1m20s\u001b[0m 292ms/step - final_output_mean__io_u: 0.6414 - loss: 0.0835 - output_1_mean__io_u: 0.6421 - output_2_mean__io_u: 0.6379 - output_3_mean__io_u: 0.6183 - val_final_output_mean__io_u: 0.5137 - val_loss: 0.0880 - val_output_1_mean__io_u: 0.5122 - val_output_2_mean__io_u: 0.5130 - val_output_3_mean__io_u: 0.5329 - learning_rate: 1.0800e-04\n",
      "Epoch 70/300\n",
      "\u001b[1m67/67\u001b[0m \u001b[32m━━━━━━━━━━━━━━━━━━━━\u001b[0m\u001b[37m\u001b[0m \u001b[1m20s\u001b[0m 290ms/step - final_output_mean__io_u: 0.6397 - loss: 0.0848 - output_1_mean__io_u: 0.6389 - output_2_mean__io_u: 0.6340 - output_3_mean__io_u: 0.6150 - val_final_output_mean__io_u: 0.5237 - val_loss: 0.0893 - val_output_1_mean__io_u: 0.5213 - val_output_2_mean__io_u: 0.5196 - val_output_3_mean__io_u: 0.5172 - learning_rate: 1.0800e-04\n",
      "Epoch 71/300\n",
      "\u001b[1m67/67\u001b[0m \u001b[32m━━━━━━━━━━━━━━━━━━━━\u001b[0m\u001b[37m\u001b[0m \u001b[1m20s\u001b[0m 290ms/step - final_output_mean__io_u: 0.6304 - loss: 0.0870 - output_1_mean__io_u: 0.6300 - output_2_mean__io_u: 0.6242 - output_3_mean__io_u: 0.6049 - val_final_output_mean__io_u: 0.4622 - val_loss: 0.1163 - val_output_1_mean__io_u: 0.4669 - val_output_2_mean__io_u: 0.4801 - val_output_3_mean__io_u: 0.5198 - learning_rate: 1.0800e-04\n",
      "Epoch 72/300\n",
      "\u001b[1m67/67\u001b[0m \u001b[32m━━━━━━━━━━━━━━━━━━━━\u001b[0m\u001b[37m\u001b[0m \u001b[1m20s\u001b[0m 292ms/step - final_output_mean__io_u: 0.6407 - loss: 0.0845 - output_1_mean__io_u: 0.6412 - output_2_mean__io_u: 0.6371 - output_3_mean__io_u: 0.6159 - val_final_output_mean__io_u: 0.5149 - val_loss: 0.0797 - val_output_1_mean__io_u: 0.5135 - val_output_2_mean__io_u: 0.5142 - val_output_3_mean__io_u: 0.5332 - learning_rate: 1.0800e-04\n",
      "Epoch 73/300\n",
      "\u001b[1m67/67\u001b[0m \u001b[32m━━━━━━━━━━━━━━━━━━━━\u001b[0m\u001b[37m\u001b[0m \u001b[1m19s\u001b[0m 289ms/step - final_output_mean__io_u: 0.6417 - loss: 0.0825 - output_1_mean__io_u: 0.6429 - output_2_mean__io_u: 0.6392 - output_3_mean__io_u: 0.6173 - val_final_output_mean__io_u: 0.4986 - val_loss: 0.0865 - val_output_1_mean__io_u: 0.4999 - val_output_2_mean__io_u: 0.5004 - val_output_3_mean__io_u: 0.5005 - learning_rate: 1.0800e-04\n",
      "Epoch 74/300\n",
      "\u001b[1m67/67\u001b[0m \u001b[32m━━━━━━━━━━━━━━━━━━━━\u001b[0m\u001b[37m\u001b[0m \u001b[1m19s\u001b[0m 290ms/step - final_output_mean__io_u: 0.6315 - loss: 0.0836 - output_1_mean__io_u: 0.6324 - output_2_mean__io_u: 0.6296 - output_3_mean__io_u: 0.6074 - val_final_output_mean__io_u: 0.4982 - val_loss: 0.0913 - val_output_1_mean__io_u: 0.5072 - val_output_2_mean__io_u: 0.5091 - val_output_3_mean__io_u: 0.5090 - learning_rate: 1.0800e-04\n",
      "Epoch 75/300\n",
      "\u001b[1m67/67\u001b[0m \u001b[32m━━━━━━━━━━━━━━━━━━━━\u001b[0m\u001b[37m\u001b[0m \u001b[1m19s\u001b[0m 290ms/step - final_output_mean__io_u: 0.6367 - loss: 0.0863 - output_1_mean__io_u: 0.6371 - output_2_mean__io_u: 0.6333 - output_3_mean__io_u: 0.6115 - val_final_output_mean__io_u: 0.5078 - val_loss: 0.0927 - val_output_1_mean__io_u: 0.5108 - val_output_2_mean__io_u: 0.5120 - val_output_3_mean__io_u: 0.5126 - learning_rate: 1.0800e-04\n",
      "Epoch 76/300\n",
      "\u001b[1m67/67\u001b[0m \u001b[32m━━━━━━━━━━━━━━━━━━━━\u001b[0m\u001b[37m\u001b[0m \u001b[1m19s\u001b[0m 290ms/step - final_output_mean__io_u: 0.6403 - loss: 0.0826 - output_1_mean__io_u: 0.6399 - output_2_mean__io_u: 0.6349 - output_3_mean__io_u: 0.6162 - val_final_output_mean__io_u: 0.5046 - val_loss: 0.0891 - val_output_1_mean__io_u: 0.4998 - val_output_2_mean__io_u: 0.5029 - val_output_3_mean__io_u: 0.5046 - learning_rate: 1.0800e-04\n",
      "Epoch 77/300\n",
      "\u001b[1m67/67\u001b[0m \u001b[32m━━━━━━━━━━━━━━━━━━━━\u001b[0m\u001b[37m\u001b[0m \u001b[1m20s\u001b[0m 290ms/step - final_output_mean__io_u: 0.6468 - loss: 0.0800 - output_1_mean__io_u: 0.6464 - output_2_mean__io_u: 0.6431 - output_3_mean__io_u: 0.6240 - val_final_output_mean__io_u: 0.5126 - val_loss: 0.0837 - val_output_1_mean__io_u: 0.5140 - val_output_2_mean__io_u: 0.5139 - val_output_3_mean__io_u: 0.5127 - learning_rate: 1.0800e-04\n",
      "Epoch 78/300\n",
      "\u001b[1m67/67\u001b[0m \u001b[32m━━━━━━━━━━━━━━━━━━━━\u001b[0m\u001b[37m\u001b[0m \u001b[1m19s\u001b[0m 290ms/step - final_output_mean__io_u: 0.6521 - loss: 0.0796 - output_1_mean__io_u: 0.6515 - output_2_mean__io_u: 0.6488 - output_3_mean__io_u: 0.6249 - val_final_output_mean__io_u: 0.4997 - val_loss: 0.0998 - val_output_1_mean__io_u: 0.5046 - val_output_2_mean__io_u: 0.5058 - val_output_3_mean__io_u: 0.5412 - learning_rate: 1.0800e-04\n",
      "Epoch 79/300\n",
      "\u001b[1m67/67\u001b[0m \u001b[32m━━━━━━━━━━━━━━━━━━━━\u001b[0m\u001b[37m\u001b[0m \u001b[1m0s\u001b[0m 272ms/step - final_output_mean__io_u: 0.6445 - loss: 0.0816 - output_1_mean__io_u: 0.6442 - output_2_mean__io_u: 0.6388 - output_3_mean__io_u: 0.6157\n",
      "Epoch 79: ReduceLROnPlateau reducing learning rate to 6.480000010924413e-05.\n",
      "\u001b[1m67/67\u001b[0m \u001b[32m━━━━━━━━━━━━━━━━━━━━\u001b[0m\u001b[37m\u001b[0m \u001b[1m19s\u001b[0m 289ms/step - final_output_mean__io_u: 0.6445 - loss: 0.0816 - output_1_mean__io_u: 0.6443 - output_2_mean__io_u: 0.6389 - output_3_mean__io_u: 0.6158 - val_final_output_mean__io_u: 0.5112 - val_loss: 0.0851 - val_output_1_mean__io_u: 0.5286 - val_output_2_mean__io_u: 0.5314 - val_output_3_mean__io_u: 0.5307 - learning_rate: 1.0800e-04\n",
      "Epoch 80/300\n",
      "\u001b[1m67/67\u001b[0m \u001b[32m━━━━━━━━━━━━━━━━━━━━\u001b[0m\u001b[37m\u001b[0m \u001b[1m20s\u001b[0m 290ms/step - final_output_mean__io_u: 0.6331 - loss: 0.0816 - output_1_mean__io_u: 0.6346 - output_2_mean__io_u: 0.6314 - output_3_mean__io_u: 0.6088 - val_final_output_mean__io_u: 0.5144 - val_loss: 0.0843 - val_output_1_mean__io_u: 0.5151 - val_output_2_mean__io_u: 0.5318 - val_output_3_mean__io_u: 0.5264 - learning_rate: 6.4800e-05\n",
      "Epoch 81/300\n",
      "\u001b[1m67/67\u001b[0m \u001b[32m━━━━━━━━━━━━━━━━━━━━\u001b[0m\u001b[37m\u001b[0m \u001b[1m20s\u001b[0m 292ms/step - final_output_mean__io_u: 0.6475 - loss: 0.0807 - output_1_mean__io_u: 0.6471 - output_2_mean__io_u: 0.6436 - output_3_mean__io_u: 0.6231 - val_final_output_mean__io_u: 0.5165 - val_loss: 0.0921 - val_output_1_mean__io_u: 0.5164 - val_output_2_mean__io_u: 0.5146 - val_output_3_mean__io_u: 0.5293 - learning_rate: 6.4800e-05\n",
      "Epoch 82/300\n",
      "\u001b[1m67/67\u001b[0m \u001b[32m━━━━━━━━━━━━━━━━━━━━\u001b[0m\u001b[37m\u001b[0m \u001b[1m20s\u001b[0m 293ms/step - final_output_mean__io_u: 0.6441 - loss: 0.0818 - output_1_mean__io_u: 0.6426 - output_2_mean__io_u: 0.6379 - output_3_mean__io_u: 0.6178 - val_final_output_mean__io_u: 0.5242 - val_loss: 0.0834 - val_output_1_mean__io_u: 0.5380 - val_output_2_mean__io_u: 0.5210 - val_output_3_mean__io_u: 0.5369 - learning_rate: 6.4800e-05\n",
      "Epoch 83/300\n",
      "\u001b[1m67/67\u001b[0m \u001b[32m━━━━━━━━━━━━━━━━━━━━\u001b[0m\u001b[37m\u001b[0m \u001b[1m20s\u001b[0m 292ms/step - final_output_mean__io_u: 0.6546 - loss: 0.0787 - output_1_mean__io_u: 0.6540 - output_2_mean__io_u: 0.6499 - output_3_mean__io_u: 0.6280 - val_final_output_mean__io_u: 0.5445 - val_loss: 0.0816 - val_output_1_mean__io_u: 0.5400 - val_output_2_mean__io_u: 0.5390 - val_output_3_mean__io_u: 0.5358 - learning_rate: 6.4800e-05\n",
      "Epoch 84/300\n",
      "\u001b[1m67/67\u001b[0m \u001b[32m━━━━━━━━━━━━━━━━━━━━\u001b[0m\u001b[37m\u001b[0m \u001b[1m20s\u001b[0m 291ms/step - final_output_mean__io_u: 0.6570 - loss: 0.0764 - output_1_mean__io_u: 0.6563 - output_2_mean__io_u: 0.6515 - output_3_mean__io_u: 0.6275 - val_final_output_mean__io_u: 0.5305 - val_loss: 0.0924 - val_output_1_mean__io_u: 0.5266 - val_output_2_mean__io_u: 0.5115 - val_output_3_mean__io_u: 0.5269 - learning_rate: 6.4800e-05\n",
      "Epoch 85/300\n",
      "\u001b[1m67/67\u001b[0m \u001b[32m━━━━━━━━━━━━━━━━━━━━\u001b[0m\u001b[37m\u001b[0m \u001b[1m20s\u001b[0m 290ms/step - final_output_mean__io_u: 0.6560 - loss: 0.0762 - output_1_mean__io_u: 0.6561 - output_2_mean__io_u: 0.6523 - output_3_mean__io_u: 0.6318 - val_final_output_mean__io_u: 0.5375 - val_loss: 0.0853 - val_output_1_mean__io_u: 0.5365 - val_output_2_mean__io_u: 0.5393 - val_output_3_mean__io_u: 0.5687 - learning_rate: 6.4800e-05\n",
      "Epoch 86/300\n",
      "\u001b[1m67/67\u001b[0m \u001b[32m━━━━━━━━━━━━━━━━━━━━\u001b[0m\u001b[37m\u001b[0m \u001b[1m0s\u001b[0m 272ms/step - final_output_mean__io_u: 0.6554 - loss: 0.0776 - output_1_mean__io_u: 0.6553 - output_2_mean__io_u: 0.6495 - output_3_mean__io_u: 0.6269\n",
      "Epoch 86: ReduceLROnPlateau reducing learning rate to 3.8879999192431565e-05.\n",
      "\u001b[1m67/67\u001b[0m \u001b[32m━━━━━━━━━━━━━━━━━━━━\u001b[0m\u001b[37m\u001b[0m \u001b[1m20s\u001b[0m 290ms/step - final_output_mean__io_u: 0.6554 - loss: 0.0776 - output_1_mean__io_u: 0.6553 - output_2_mean__io_u: 0.6495 - output_3_mean__io_u: 0.6269 - val_final_output_mean__io_u: 0.5205 - val_loss: 0.0918 - val_output_1_mean__io_u: 0.5177 - val_output_2_mean__io_u: 0.5328 - val_output_3_mean__io_u: 0.5177 - learning_rate: 6.4800e-05\n",
      "Epoch 87/300\n",
      "\u001b[1m67/67\u001b[0m \u001b[32m━━━━━━━━━━━━━━━━━━━━\u001b[0m\u001b[37m\u001b[0m \u001b[1m20s\u001b[0m 291ms/step - final_output_mean__io_u: 0.6502 - loss: 0.0761 - output_1_mean__io_u: 0.6488 - output_2_mean__io_u: 0.6445 - output_3_mean__io_u: 0.6255 - val_final_output_mean__io_u: 0.5137 - val_loss: 0.0914 - val_output_1_mean__io_u: 0.5110 - val_output_2_mean__io_u: 0.5124 - val_output_3_mean__io_u: 0.5312 - learning_rate: 3.8880e-05\n",
      "Epoch 88/300\n",
      "\u001b[1m67/67\u001b[0m \u001b[32m━━━━━━━━━━━━━━━━━━━━\u001b[0m\u001b[37m\u001b[0m \u001b[1m20s\u001b[0m 290ms/step - final_output_mean__io_u: 0.6514 - loss: 0.0792 - output_1_mean__io_u: 0.6502 - output_2_mean__io_u: 0.6463 - output_3_mean__io_u: 0.6252 - val_final_output_mean__io_u: 0.5245 - val_loss: 0.0978 - val_output_1_mean__io_u: 0.5250 - val_output_2_mean__io_u: 0.5274 - val_output_3_mean__io_u: 0.5228 - learning_rate: 3.8880e-05\n",
      "Epoch 89/300\n",
      "\u001b[1m67/67\u001b[0m \u001b[32m━━━━━━━━━━━━━━━━━━━━\u001b[0m\u001b[37m\u001b[0m \u001b[1m20s\u001b[0m 290ms/step - final_output_mean__io_u: 0.6624 - loss: 0.0759 - output_1_mean__io_u: 0.6612 - output_2_mean__io_u: 0.6560 - output_3_mean__io_u: 0.6329 - val_final_output_mean__io_u: 0.5108 - val_loss: 0.0951 - val_output_1_mean__io_u: 0.5087 - val_output_2_mean__io_u: 0.5098 - val_output_3_mean__io_u: 0.5238 - learning_rate: 3.8880e-05\n",
      "Epoch 90/300\n",
      "\u001b[1m67/67\u001b[0m \u001b[32m━━━━━━━━━━━━━━━━━━━━\u001b[0m\u001b[37m\u001b[0m \u001b[1m20s\u001b[0m 290ms/step - final_output_mean__io_u: 0.6690 - loss: 0.0728 - output_1_mean__io_u: 0.6673 - output_2_mean__io_u: 0.6620 - output_3_mean__io_u: 0.6421 - val_final_output_mean__io_u: 0.5329 - val_loss: 0.0920 - val_output_1_mean__io_u: 0.5319 - val_output_2_mean__io_u: 0.5324 - val_output_3_mean__io_u: 0.5296 - learning_rate: 3.8880e-05\n",
      "Epoch 91/300\n",
      "\u001b[1m67/67\u001b[0m \u001b[32m━━━━━━━━━━━━━━━━━━━━\u001b[0m\u001b[37m\u001b[0m \u001b[1m19s\u001b[0m 290ms/step - final_output_mean__io_u: 0.6585 - loss: 0.0760 - output_1_mean__io_u: 0.6564 - output_2_mean__io_u: 0.6521 - output_3_mean__io_u: 0.6298 - val_final_output_mean__io_u: 0.5245 - val_loss: 0.0910 - val_output_1_mean__io_u: 0.5227 - val_output_2_mean__io_u: 0.5220 - val_output_3_mean__io_u: 0.5345 - learning_rate: 3.8880e-05\n",
      "Epoch 92/300\n",
      "\u001b[1m67/67\u001b[0m \u001b[32m━━━━━━━━━━━━━━━━━━━━\u001b[0m\u001b[37m\u001b[0m \u001b[1m20s\u001b[0m 290ms/step - final_output_mean__io_u: 0.6665 - loss: 0.0717 - output_1_mean__io_u: 0.6639 - output_2_mean__io_u: 0.6598 - output_3_mean__io_u: 0.6389 - val_final_output_mean__io_u: 0.5221 - val_loss: 0.0846 - val_output_1_mean__io_u: 0.5204 - val_output_2_mean__io_u: 0.5211 - val_output_3_mean__io_u: 0.5365 - learning_rate: 3.8880e-05\n",
      "Epoch 93/300\n",
      "\u001b[1m67/67\u001b[0m \u001b[32m━━━━━━━━━━━━━━━━━━━━\u001b[0m\u001b[37m\u001b[0m \u001b[1m0s\u001b[0m 272ms/step - final_output_mean__io_u: 0.6661 - loss: 0.0742 - output_1_mean__io_u: 0.6669 - output_2_mean__io_u: 0.6618 - output_3_mean__io_u: 0.6402\n",
      "Epoch 93: ReduceLROnPlateau reducing learning rate to 2.3327999952016398e-05.\n",
      "\u001b[1m67/67\u001b[0m \u001b[32m━━━━━━━━━━━━━━━━━━━━\u001b[0m\u001b[37m\u001b[0m \u001b[1m20s\u001b[0m 290ms/step - final_output_mean__io_u: 0.6661 - loss: 0.0742 - output_1_mean__io_u: 0.6668 - output_2_mean__io_u: 0.6618 - output_3_mean__io_u: 0.6402 - val_final_output_mean__io_u: 0.5200 - val_loss: 0.0899 - val_output_1_mean__io_u: 0.5190 - val_output_2_mean__io_u: 0.5194 - val_output_3_mean__io_u: 0.5208 - learning_rate: 3.8880e-05\n",
      "Epoch 94/300\n",
      "\u001b[1m67/67\u001b[0m \u001b[32m━━━━━━━━━━━━━━━━━━━━\u001b[0m\u001b[37m\u001b[0m \u001b[1m19s\u001b[0m 290ms/step - final_output_mean__io_u: 0.6564 - loss: 0.0745 - output_1_mean__io_u: 0.6543 - output_2_mean__io_u: 0.6505 - output_3_mean__io_u: 0.6294 - val_final_output_mean__io_u: 0.5239 - val_loss: 0.0875 - val_output_1_mean__io_u: 0.5235 - val_output_2_mean__io_u: 0.5398 - val_output_3_mean__io_u: 0.5213 - learning_rate: 2.3328e-05\n",
      "Epoch 95/300\n",
      "\u001b[1m67/67\u001b[0m \u001b[32m━━━━━━━━━━━━━━━━━━━━\u001b[0m\u001b[37m\u001b[0m \u001b[1m20s\u001b[0m 290ms/step - final_output_mean__io_u: 0.6728 - loss: 0.0699 - output_1_mean__io_u: 0.6721 - output_2_mean__io_u: 0.6667 - output_3_mean__io_u: 0.6454 - val_final_output_mean__io_u: 0.5233 - val_loss: 0.0877 - val_output_1_mean__io_u: 0.5218 - val_output_2_mean__io_u: 0.5381 - val_output_3_mean__io_u: 0.5260 - learning_rate: 2.3328e-05\n",
      "Epoch 96/300\n",
      "\u001b[1m67/67\u001b[0m \u001b[32m━━━━━━━━━━━━━━━━━━━━\u001b[0m\u001b[37m\u001b[0m \u001b[1m20s\u001b[0m 291ms/step - final_output_mean__io_u: 0.6645 - loss: 0.0734 - output_1_mean__io_u: 0.6632 - output_2_mean__io_u: 0.6576 - output_3_mean__io_u: 0.6355 - val_final_output_mean__io_u: 0.5362 - val_loss: 0.0885 - val_output_1_mean__io_u: 0.5181 - val_output_2_mean__io_u: 0.5342 - val_output_3_mean__io_u: 0.5369 - learning_rate: 2.3328e-05\n",
      "Epoch 97/300\n",
      "\u001b[1m67/67\u001b[0m \u001b[32m━━━━━━━━━━━━━━━━━━━━\u001b[0m\u001b[37m\u001b[0m \u001b[1m20s\u001b[0m 292ms/step - final_output_mean__io_u: 0.6651 - loss: 0.0736 - output_1_mean__io_u: 0.6643 - output_2_mean__io_u: 0.6581 - output_3_mean__io_u: 0.6356 - val_final_output_mean__io_u: 0.5440 - val_loss: 0.0857 - val_output_1_mean__io_u: 0.5430 - val_output_2_mean__io_u: 0.5430 - val_output_3_mean__io_u: 0.5414 - learning_rate: 2.3328e-05\n",
      "Epoch 97: early stopping\n",
      "Restoring model weights from the end of the best epoch: 72.\n"
     ]
    }
   ],
   "source": [
    "history = model.fit(\n",
    "    train_dataset,\n",
    "    epochs=300,\n",
    "    validation_data=valid_dataset,\n",
    "    callbacks=[lr_reducer, early_stopping]\n",
    ")"
   ]
  },
  {
   "cell_type": "markdown",
   "id": "00da8b58",
   "metadata": {
    "papermill": {
     "duration": 0.384674,
     "end_time": "2024-12-14T17:02:51.844673",
     "exception": false,
     "start_time": "2024-12-14T17:02:51.459999",
     "status": "completed"
    },
    "tags": []
   },
   "source": [
    "## Training History"
   ]
  },
  {
   "cell_type": "code",
   "execution_count": 14,
   "id": "53fcd094",
   "metadata": {
    "execution": {
     "iopub.execute_input": "2024-12-14T17:02:52.522249Z",
     "iopub.status.busy": "2024-12-14T17:02:52.521905Z",
     "iopub.status.idle": "2024-12-14T17:02:53.033360Z",
     "shell.execute_reply": "2024-12-14T17:02:53.032423Z"
    },
    "papermill": {
     "duration": 0.855352,
     "end_time": "2024-12-14T17:02:53.035246",
     "exception": false,
     "start_time": "2024-12-14T17:02:52.179894",
     "status": "completed"
    },
    "tags": []
   },
   "outputs": [
    {
     "data": {
      "image/png": "[encoded data removed]",
      "text/plain": [
       "<Figure size 1200x500 with 2 Axes>"
      ]
     },
     "metadata": {},
     "output_type": "display_data"
    }
   ],
   "source": [
    "# Extract values from the training history\n",
    "train_loss = history.history['loss']\n",
    "val_loss = history.history['val_loss']\n",
    "train_mean_iou = history.history['final_output_mean__io_u']\n",
    "val_mean_iou = history.history['val_final_output_mean__io_u']\n",
    "\n",
    "epochs = range(1, len(train_loss) + 1)\n",
    "\n",
    "# Plot Loss\n",
    "plt.figure(figsize=(12, 5))\n",
    "\n",
    "plt.subplot(1, 2, 1)\n",
    "plt.plot(epochs, train_loss, 'bo-', label='Training Loss')\n",
    "plt.plot(epochs, val_loss, 'ro-', label='Validation Loss')\n",
    "plt.title('Training and Validation Loss')\n",
    "plt.xlabel('Epochs')\n",
    "plt.ylabel('Loss')\n",
    "plt.grid(True)\n",
    "plt.legend()\n",
    "\n",
    "# Plot Mean IoU\n",
    "plt.subplot(1, 2, 2)\n",
    "plt.plot(epochs, train_mean_iou, 'bo-', label='Training Mean IoU')\n",
    "plt.plot(epochs, val_mean_iou, 'ro-', label='Validation Mean IoU')\n",
    "plt.title('Training and Validation Mean IoU')\n",
    "plt.xlabel('Epochs')\n",
    "plt.ylabel('Mean IoU')\n",
    "plt.grid(True)\n",
    "plt.legend()\n",
    "\n",
    "plt.tight_layout()\n",
    "plt.show()"
   ]
  },
  {
   "cell_type": "markdown",
   "id": "64e07e1b",
   "metadata": {
    "papermill": {
     "duration": 0.357231,
     "end_time": "2024-12-14T17:02:53.779352",
     "exception": false,
     "start_time": "2024-12-14T17:02:53.422121",
     "status": "completed"
    },
    "tags": []
   },
   "source": [
    "# Evaluation"
   ]
  },
  {
   "cell_type": "code",
   "execution_count": 15,
   "id": "68a1c86e",
   "metadata": {
    "execution": {
     "iopub.execute_input": "2024-12-14T17:02:54.468096Z",
     "iopub.status.busy": "2024-12-14T17:02:54.467551Z",
     "iopub.status.idle": "2024-12-14T17:02:55.763125Z",
     "shell.execute_reply": "2024-12-14T17:02:55.762381Z"
    },
    "papermill": {
     "duration": 1.646742,
     "end_time": "2024-12-14T17:02:55.764821",
     "exception": false,
     "start_time": "2024-12-14T17:02:54.118079",
     "status": "completed"
    },
    "tags": []
   },
   "outputs": [
    {
     "name": "stdout",
     "output_type": "stream",
     "text": [
      "\u001b[1m12/12\u001b[0m \u001b[32m━━━━━━━━━━━━━━━━━━━━\u001b[0m\u001b[37m\u001b[0m \u001b[1m1s\u001b[0m 99ms/step - final_output_mean__io_u: 0.5032 - loss: 0.0803 - output_1_mean__io_u: 0.5029 - output_2_mean__io_u: 0.5048 - output_3_mean__io_u: 0.5119\n",
      "validation loss: 0.07974158227443695\n",
      "validation IoU: 0.5148720741271973\n"
     ]
    }
   ],
   "source": [
    "results = model.evaluate(valid_dataset, verbose=1)\n",
    "print('validation loss:', results[0])\n",
    "print('validation IoU:', results[1])"
   ]
  },
  {
   "cell_type": "markdown",
   "id": "b53be3df",
   "metadata": {
    "papermill": {
     "duration": 0.343805,
     "end_time": "2024-12-14T17:02:56.482166",
     "exception": false,
     "start_time": "2024-12-14T17:02:56.138361",
     "status": "completed"
    },
    "tags": []
   },
   "source": [
    "## Post processing"
   ]
  },
  {
   "cell_type": "markdown",
   "id": "889b16bb",
   "metadata": {
    "papermill": {
     "duration": 0.40499,
     "end_time": "2024-12-14T17:02:57.229156",
     "exception": false,
     "start_time": "2024-12-14T17:02:56.824166",
     "status": "completed"
    },
    "tags": []
   },
   "source": [
    "The apply_morphology(mask) function applies morphological operations to a multi-class mask.\n",
    " - Opening: Removes small, isolated regions of any class by eroding and then dilating the mask.\n",
    " - Closing: Fills small gaps or holes in the detected regions by dilating and then eroding the mask.\n",
    "\n",
    "These operations help refine the mask by removing noise and closing gaps, improving segmentation accuracy and overall model performance."
   ]
  },
  {
   "cell_type": "code",
   "execution_count": 16,
   "id": "4ded84c5",
   "metadata": {
    "execution": {
     "iopub.execute_input": "2024-12-14T17:02:57.939679Z",
     "iopub.status.busy": "2024-12-14T17:02:57.939319Z",
     "iopub.status.idle": "2024-12-14T17:02:57.944307Z",
     "shell.execute_reply": "2024-12-14T17:02:57.943412Z"
    },
    "papermill": {
     "duration": 0.377359,
     "end_time": "2024-12-14T17:02:57.945931",
     "exception": false,
     "start_time": "2024-12-14T17:02:57.568572",
     "status": "completed"
    },
    "tags": []
   },
   "outputs": [],
   "source": [
    "def apply_morphology(mask):\n",
    "    kernel = np.ones((3,3), np.uint8)\n",
    "    # Opening to remove small objects\n",
    "    mask_clean = cv2.morphologyEx(mask.astype(np.uint8), cv2.MORPH_OPEN, kernel)\n",
    "    # Closing to fill small holes\n",
    "    mask_clean = cv2.morphologyEx(mask_clean, cv2.MORPH_CLOSE, kernel)\n",
    "    return mask_clean"
   ]
  },
  {
   "cell_type": "code",
   "execution_count": 17,
   "id": "084d228a",
   "metadata": {
    "execution": {
     "iopub.execute_input": "2024-12-14T17:02:58.704276Z",
     "iopub.status.busy": "2024-12-14T17:02:58.703934Z",
     "iopub.status.idle": "2024-12-14T17:03:11.005452Z",
     "shell.execute_reply": "2024-12-14T17:03:11.004506Z"
    },
    "papermill": {
     "duration": 12.664943,
     "end_time": "2024-12-14T17:03:11.007502",
     "exception": false,
     "start_time": "2024-12-14T17:02:58.342559",
     "status": "completed"
    },
    "tags": []
   },
   "outputs": [
    {
     "name": "stdout",
     "output_type": "stream",
     "text": [
      "Confusion Matrix:\n",
      "[[343210 182170 133280  85396   6094]\n",
      " [ 37739 951750  32218  18664   1279]\n",
      " [ 56868  34536 597018   2915   1448]\n",
      " [ 66762   6366  20528 498705     38]\n",
      " [   910     19    490     68   1721]]\n"
     ]
    },
    {
     "data": {
      "image/png": "[encoded data removed]",
      "text/plain": [
       "<Figure size 1000x800 with 2 Axes>"
      ]
     },
     "metadata": {},
     "output_type": "display_data"
    },
    {
     "name": "stdout",
     "output_type": "stream",
     "text": [
      "Classification Report:\n",
      "              precision    recall  f1-score   support\n",
      "\n",
      "  Background       0.68      0.46      0.55    750150\n",
      "        Soil       0.81      0.91      0.86   1041650\n",
      "     Bedrock       0.76      0.86      0.81    692785\n",
      "        Sand       0.82      0.84      0.83    592399\n",
      "    Big Rock       0.16      0.54      0.25      3208\n",
      "\n",
      "    accuracy                           0.78   3080192\n",
      "   macro avg       0.65      0.72      0.66   3080192\n",
      "weighted avg       0.77      0.78      0.77   3080192\n",
      "\n",
      "Mean IoU value calculated manually: 0.53265375\n"
     ]
    }
   ],
   "source": [
    "class_names = ['Background', 'Soil', 'Bedrock', 'Sand', 'Big Rock']\n",
    "\n",
    "def compute_confusion_matrix_and_classification_report(model, valid_dataset, apply_morph_flag):\n",
    "    y_true = []\n",
    "    y_pred = []\n",
    "    num_batches = len(valid_dataset)\n",
    "    \n",
    "    for i in range(num_batches):\n",
    "        batch_x, batch_y = valid_dataset[i]\n",
    "        preds = model.predict(batch_x, verbose=0)\n",
    "        final_preds = preds[-1]\n",
    "        \n",
    "        for b in range(final_preds.shape[0]):\n",
    "            probs = final_preds[b]  # (H,W,C)\n",
    "            true_mask = batch_y['final_output'][b]  # (H,W)\n",
    "            refined_mask = np.argmax(probs, axis=-1)  # (H,W)\n",
    "            \n",
    "            # Apply morphological operation if requested\n",
    "            if apply_morph_flag:\n",
    "                refined_mask = apply_morphology(refined_mask)\n",
    "            \n",
    "            y_true.extend(true_mask.flatten())\n",
    "            y_pred.extend(refined_mask.flatten())\n",
    "    \n",
    "    # Convert lists to tensors for mean IoU\n",
    "    y_true_tensor = tf.convert_to_tensor(y_true, dtype=tf.int32)\n",
    "    y_pred_tensor = tf.convert_to_tensor(y_pred, dtype=tf.int32)\n",
    "    \n",
    "    # Compute Mean IoU using TensorFlow's built-in function\n",
    "    num_classes = len(class_names)\n",
    "    m = tf.keras.metrics.MeanIoU(num_classes=num_classes)\n",
    "    m.update_state(y_true_tensor, y_pred_tensor)\n",
    "    mean_iou_value = m.result().numpy()\n",
    "    \n",
    "    # Compute Confusion Matrix\n",
    "    cm = confusion_matrix(y_true, y_pred, labels=range(num_classes))\n",
    "    \n",
    "    # Compute Classification Report\n",
    "    class_report = classification_report(y_true, y_pred, target_names=class_names, zero_division=0)\n",
    "    \n",
    "    return cm, class_report, mean_iou_value\n",
    "\n",
    "# Example usage:\n",
    "cm, class_report, mean_iou_value = compute_confusion_matrix_and_classification_report(\n",
    "    model, \n",
    "    valid_dataset,\n",
    "    apply_morph_flag=True\n",
    ")\n",
    "\n",
    "print(\"Confusion Matrix:\")\n",
    "print(cm)\n",
    "\n",
    "# Plot Confusion Matrix\n",
    "plt.figure(figsize=(10, 8))\n",
    "sns.heatmap(cm, annot=True, fmt='d', cmap='Blues',\n",
    "            xticklabels=class_names,\n",
    "            yticklabels=class_names)\n",
    "plt.xlabel('Predicted Labels')\n",
    "plt.ylabel('True Labels')\n",
    "plt.title('Confusion Matrix for Semantic Segmentation (Morphology Applied)')\n",
    "plt.show()\n",
    "\n",
    "print(\"Classification Report:\")\n",
    "print(class_report)\n",
    "\n",
    "print('Mean IoU value calculated manually:', mean_iou_value)"
   ]
  },
  {
   "cell_type": "markdown",
   "id": "71f11e8e",
   "metadata": {
    "papermill": {
     "duration": 0.33798,
     "end_time": "2024-12-14T17:03:11.691804",
     "exception": false,
     "start_time": "2024-12-14T17:03:11.353824",
     "status": "completed"
    },
    "tags": []
   },
   "source": [
    "## Saving Predictions for final submission on Kaggle"
   ]
  },
  {
   "cell_type": "code",
   "execution_count": 18,
   "id": "a8334609",
   "metadata": {
    "execution": {
     "iopub.execute_input": "2024-12-14T17:03:12.398026Z",
     "iopub.status.busy": "2024-12-14T17:03:12.397136Z",
     "iopub.status.idle": "2024-12-14T17:03:13.824417Z",
     "shell.execute_reply": "2024-12-14T17:03:13.823369Z"
    },
    "papermill": {
     "duration": 1.765503,
     "end_time": "2024-12-14T17:03:13.826290",
     "exception": false,
     "start_time": "2024-12-14T17:03:12.060787",
     "status": "completed"
    },
    "tags": []
   },
   "outputs": [
    {
     "name": "stdout",
     "output_type": "stream",
     "text": [
      "Model saved to model_241214_170312.keras\n"
     ]
    }
   ],
   "source": [
    "timestep_str = datetime.now().strftime(\"%y%m%d_%H%M%S\")\n",
    "model_filename = f\"model_{timestep_str}.keras\"\n",
    "model.save(model_filename)\n",
    "\n",
    "print(f\"Model saved to {model_filename}\")"
   ]
  },
  {
   "cell_type": "code",
   "execution_count": 19,
   "id": "dd37057f",
   "metadata": {
    "execution": {
     "iopub.execute_input": "2024-12-14T17:03:14.539822Z",
     "iopub.status.busy": "2024-12-14T17:03:14.539465Z",
     "iopub.status.idle": "2024-12-14T17:03:28.983520Z",
     "shell.execute_reply": "2024-12-14T17:03:28.982682Z"
    },
    "papermill": {
     "duration": 14.81899,
     "end_time": "2024-12-14T17:03:28.985425",
     "exception": false,
     "start_time": "2024-12-14T17:03:14.166435",
     "status": "completed"
    },
    "tags": []
   },
   "outputs": [
    {
     "name": "stdout",
     "output_type": "stream",
     "text": [
      "Model loaded from model_241214_170312.keras\n"
     ]
    }
   ],
   "source": [
    "loaded_model = tf.keras.models.load_model(\n",
    "    model_filename, \n",
    "    custom_objects={'mean_IoU': mean_IoU, 'focal_loss_fixed': focal_loss}\n",
    ")\n",
    "print(f\"Model loaded from {model_filename}\")"
   ]
  },
  {
   "cell_type": "code",
   "execution_count": 20,
   "id": "6e7dcc8d",
   "metadata": {
    "execution": {
     "iopub.execute_input": "2024-12-14T17:03:29.666550Z",
     "iopub.status.busy": "2024-12-14T17:03:29.665721Z",
     "iopub.status.idle": "2024-12-14T17:04:11.661678Z",
     "shell.execute_reply": "2024-12-14T17:04:11.660714Z"
    },
    "papermill": {
     "duration": 42.34564,
     "end_time": "2024-12-14T17:04:11.663578",
     "exception": false,
     "start_time": "2024-12-14T17:03:29.317938",
     "status": "completed"
    },
    "tags": []
   },
   "outputs": [
    {
     "name": "stdout",
     "output_type": "stream",
     "text": [
      "\u001b[1m314/314\u001b[0m \u001b[32m━━━━━━━━━━━━━━━━━━━━\u001b[0m\u001b[37m\u001b[0m \u001b[1m37s\u001b[0m 113ms/step\n",
      "Predictions shape: (10022, 64, 128)\n"
     ]
    }
   ],
   "source": [
    "X_test = np.expand_dims(test, axis=-1)\n",
    "X_test = X_test.astype(np.float32) / 255.0\n",
    "\n",
    "preds = loaded_model.predict(X_test)[-1]\n",
    "preds = np.argmax(preds, axis=-1)\n",
    "print(f\"Predictions shape: {preds.shape}\")"
   ]
  },
  {
   "cell_type": "markdown",
   "id": "eceb90f5",
   "metadata": {
    "papermill": {
     "duration": 0.347148,
     "end_time": "2024-12-14T17:04:12.371233",
     "exception": false,
     "start_time": "2024-12-14T17:04:12.024085",
     "status": "completed"
    },
    "tags": []
   },
   "source": [
    "### Apply Post processing"
   ]
  },
  {
   "cell_type": "code",
   "execution_count": 21,
   "id": "2cb267c8",
   "metadata": {
    "execution": {
     "iopub.execute_input": "2024-12-14T17:04:13.113138Z",
     "iopub.status.busy": "2024-12-14T17:04:13.112801Z",
     "iopub.status.idle": "2024-12-14T17:04:13.481006Z",
     "shell.execute_reply": "2024-12-14T17:04:13.479933Z"
    },
    "papermill": {
     "duration": 0.760128,
     "end_time": "2024-12-14T17:04:13.482967",
     "exception": false,
     "start_time": "2024-12-14T17:04:12.722839",
     "status": "completed"
    },
    "tags": []
   },
   "outputs": [
    {
     "name": "stdout",
     "output_type": "stream",
     "text": [
      "Predictions shape: (10022, 64, 128)\n"
     ]
    }
   ],
   "source": [
    "for i in range(preds.shape[0]):\n",
    "    preds[i] = apply_morphology(preds[i])\n",
    "print(f\"Predictions shape: {preds.shape}\")"
   ]
  },
  {
   "cell_type": "markdown",
   "id": "d0381fbe",
   "metadata": {
    "papermill": {
     "duration": 0.349253,
     "end_time": "2024-12-14T17:04:14.196598",
     "exception": false,
     "start_time": "2024-12-14T17:04:13.847345",
     "status": "completed"
    },
    "tags": []
   },
   "source": [
    "### Creating final file for submission"
   ]
  },
  {
   "cell_type": "markdown",
   "id": "a5bad848",
   "metadata": {
    "papermill": {
     "duration": 0.353846,
     "end_time": "2024-12-14T17:04:14.940573",
     "exception": false,
     "start_time": "2024-12-14T17:04:14.586727",
     "status": "completed"
    },
    "tags": []
   },
   "source": [
    "This piece of code converts the output of the model with the format specified on the competition website."
   ]
  },
  {
   "cell_type": "code",
   "execution_count": 22,
   "id": "b355a939",
   "metadata": {
    "execution": {
     "iopub.execute_input": "2024-12-14T17:04:15.682947Z",
     "iopub.status.busy": "2024-12-14T17:04:15.682391Z",
     "iopub.status.idle": "2024-12-14T17:04:38.781673Z",
     "shell.execute_reply": "2024-12-14T17:04:38.780764Z"
    },
    "papermill": {
     "duration": 23.49506,
     "end_time": "2024-12-14T17:04:38.783488",
     "exception": false,
     "start_time": "2024-12-14T17:04:15.288428",
     "status": "completed"
    },
    "tags": []
   },
   "outputs": [
    {
     "name": "stdout",
     "output_type": "stream",
     "text": [
      "ZIP file created: submission_241214_170312.zip\n"
     ]
    }
   ],
   "source": [
    "import zipfile\n",
    "\n",
    "def y_to_df(y) -> pd.DataFrame:\n",
    "    \"\"\"Converts segmentation predictions into a DataFrame format for Kaggle.\"\"\"\n",
    "    n_samples = len(y)\n",
    "    y_flat = y.reshape(n_samples, -1)\n",
    "    df = pd.DataFrame(y_flat)\n",
    "    df[\"id\"] = np.arange(n_samples)\n",
    "    cols = [\"id\"] + [col for col in df.columns if col != \"id\"]\n",
    "    return df[cols]\n",
    "\n",
    "timestep_str = model_filename.replace(\"model_\", \"\").replace(\".keras\", \"\")\n",
    "submission_filename = f\"submission_{timestep_str}.csv\"\n",
    "zip_filename = submission_filename.replace(\".csv\", \".zip\")\n",
    "submission_df = y_to_df(preds)\n",
    "with zipfile.ZipFile(zip_filename, 'w', zipfile.ZIP_DEFLATED) as zipf:\n",
    "    with zipf.open(submission_filename, 'w') as csvfile:\n",
    "        csvfile.write(submission_df.to_csv(index=False).encode('utf-8'))\n",
    "\n",
    "print(f\"ZIP file created: {zip_filename}\")"
   ]
  }
 ],
 "metadata": {
  "kaggle": {
   "accelerator": "nvidiaTeslaT4",
   "dataSources": [
    {
     "datasetId": 6236010,
     "sourceId": 10108728,
     "sourceType": "datasetVersion"
    },
    {
     "datasetId": 6243931,
     "sourceId": 10183020,
     "sourceType": "datasetVersion"
    }
   ],
   "dockerImageVersionId": 30805,
   "isGpuEnabled": true,
   "isInternetEnabled": true,
   "language": "python",
   "sourceType": "notebook"
  },
  "kernelspec": {
   "display_name": "Python 3",
   "language": "python",
   "name": "python3"
  },
  "language_info": {
   "codemirror_mode": {
    "name": "ipython",
    "version": 3
   },
   "file_extension": ".py",
   "mimetype": "text/x-python",
   "name": "python",
   "nbconvert_exporter": "python",
   "pygments_lexer": "ipython3",
   "version": "3.10.14"
  },
  "papermill": {
   "default_parameters": {},
   "duration": 2211.860446,
   "end_time": "2024-12-14T17:04:42.738422",
   "environment_variables": {},
   "exception": null,
   "input_path": "__notebook__.ipynb",
   "output_path": "__notebook__.ipynb",
   "parameters": {},
   "start_time": "2024-12-14T16:27:50.877976",
   "version": "2.6.0"
  }
 },
 "nbformat": 4,
 "nbformat_minor": 5
}
